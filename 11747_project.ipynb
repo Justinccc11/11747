{
  "nbformat": 4,
  "nbformat_minor": 0,
  "metadata": {
    "colab": {
      "name": "11747_project.ipynb",
      "provenance": []
    },
    "kernelspec": {
      "name": "python3",
      "display_name": "Python 3"
    },
    "language_info": {
      "name": "python"
    },
    "accelerator": "GPU"
  },
  "cells": [
    {
      "cell_type": "code",
      "metadata": {
        "colab": {
          "base_uri": "https://localhost:8080/"
        },
        "id": "iUxVaZ0ZFKdU",
        "outputId": "9a9a8675-8e4f-4c02-f869-b92e8a0befac"
      },
      "source": [
        "!pip install datasets\n",
        "\n",
        "# Make sure that we have a recent version of pyarrow in the session before we continue - otherwise reboot Colab to activate it\n",
        "import pyarrow\n",
        "if int(pyarrow.__version__.split('.')[1]) < 16 and int(pyarrow.__version__.split('.')[0]) == 0:\n",
        "    import os\n",
        "    os.kill(os.getpid(), 9)"
      ],
      "execution_count": null,
      "outputs": [
        {
          "output_type": "stream",
          "text": [
            "Collecting datasets\n",
            "\u001b[?25l  Downloading https://files.pythonhosted.org/packages/54/90/43b396481a8298c6010afb93b3c1e71d4ba6f8c10797a7da8eb005e45081/datasets-1.5.0-py3-none-any.whl (192kB)\n",
            "\r\u001b[K     |█▊                              | 10kB 23.4MB/s eta 0:00:01\r\u001b[K     |███▍                            | 20kB 27.2MB/s eta 0:00:01\r\u001b[K     |█████                           | 30kB 21.9MB/s eta 0:00:01\r\u001b[K     |██████▉                         | 40kB 25.3MB/s eta 0:00:01\r\u001b[K     |████████▌                       | 51kB 24.5MB/s eta 0:00:01\r\u001b[K     |██████████▏                     | 61kB 27.1MB/s eta 0:00:01\r\u001b[K     |████████████                    | 71kB 18.2MB/s eta 0:00:01\r\u001b[K     |█████████████▋                  | 81kB 19.6MB/s eta 0:00:01\r\u001b[K     |███████████████▎                | 92kB 18.4MB/s eta 0:00:01\r\u001b[K     |█████████████████               | 102kB 18.5MB/s eta 0:00:01\r\u001b[K     |██████████████████▊             | 112kB 18.5MB/s eta 0:00:01\r\u001b[K     |████████████████████▍           | 122kB 18.5MB/s eta 0:00:01\r\u001b[K     |██████████████████████▏         | 133kB 18.5MB/s eta 0:00:01\r\u001b[K     |███████████████████████▉        | 143kB 18.5MB/s eta 0:00:01\r\u001b[K     |█████████████████████████▌      | 153kB 18.5MB/s eta 0:00:01\r\u001b[K     |███████████████████████████▎    | 163kB 18.5MB/s eta 0:00:01\r\u001b[K     |█████████████████████████████   | 174kB 18.5MB/s eta 0:00:01\r\u001b[K     |██████████████████████████████▋ | 184kB 18.5MB/s eta 0:00:01\r\u001b[K     |████████████████████████████████| 194kB 18.5MB/s \n",
            "\u001b[?25hRequirement already satisfied: dill in /usr/local/lib/python3.7/dist-packages (from datasets) (0.3.3)\n",
            "Requirement already satisfied: multiprocess in /usr/local/lib/python3.7/dist-packages (from datasets) (0.70.11.1)\n",
            "Requirement already satisfied: importlib-metadata; python_version < \"3.8\" in /usr/local/lib/python3.7/dist-packages (from datasets) (3.8.1)\n",
            "Collecting huggingface-hub<0.1.0\n",
            "  Downloading https://files.pythonhosted.org/packages/a1/88/7b1e45720ecf59c6c6737ff332f41c955963090a18e72acbcbeac6b25e86/huggingface_hub-0.0.8-py3-none-any.whl\n",
            "Requirement already satisfied: requests>=2.19.0 in /usr/local/lib/python3.7/dist-packages (from datasets) (2.23.0)\n",
            "Requirement already satisfied: pandas in /usr/local/lib/python3.7/dist-packages (from datasets) (1.1.5)\n",
            "Collecting xxhash\n",
            "\u001b[?25l  Downloading https://files.pythonhosted.org/packages/e7/27/1c0b37c53a7852f1c190ba5039404d27b3ae96a55f48203a74259f8213c9/xxhash-2.0.0-cp37-cp37m-manylinux2010_x86_64.whl (243kB)\n",
            "\u001b[K     |████████████████████████████████| 245kB 51.2MB/s \n",
            "\u001b[?25hCollecting fsspec\n",
            "\u001b[?25l  Downloading https://files.pythonhosted.org/packages/62/11/f7689b996f85e45f718745c899f6747ee5edb4878cadac0a41ab146828fa/fsspec-0.9.0-py3-none-any.whl (107kB)\n",
            "\u001b[K     |████████████████████████████████| 112kB 55.1MB/s \n",
            "\u001b[?25hRequirement already satisfied: tqdm<4.50.0,>=4.27 in /usr/local/lib/python3.7/dist-packages (from datasets) (4.41.1)\n",
            "Requirement already satisfied: numpy>=1.17 in /usr/local/lib/python3.7/dist-packages (from datasets) (1.19.5)\n",
            "Requirement already satisfied: pyarrow>=0.17.1 in /usr/local/lib/python3.7/dist-packages (from datasets) (3.0.0)\n",
            "Requirement already satisfied: zipp>=0.5 in /usr/local/lib/python3.7/dist-packages (from importlib-metadata; python_version < \"3.8\"->datasets) (3.4.1)\n",
            "Requirement already satisfied: typing-extensions>=3.6.4; python_version < \"3.8\" in /usr/local/lib/python3.7/dist-packages (from importlib-metadata; python_version < \"3.8\"->datasets) (3.7.4.3)\n",
            "Requirement already satisfied: filelock in /usr/local/lib/python3.7/dist-packages (from huggingface-hub<0.1.0->datasets) (3.0.12)\n",
            "Requirement already satisfied: urllib3!=1.25.0,!=1.25.1,<1.26,>=1.21.1 in /usr/local/lib/python3.7/dist-packages (from requests>=2.19.0->datasets) (1.24.3)\n",
            "Requirement already satisfied: idna<3,>=2.5 in /usr/local/lib/python3.7/dist-packages (from requests>=2.19.0->datasets) (2.10)\n",
            "Requirement already satisfied: certifi>=2017.4.17 in /usr/local/lib/python3.7/dist-packages (from requests>=2.19.0->datasets) (2020.12.5)\n",
            "Requirement already satisfied: chardet<4,>=3.0.2 in /usr/local/lib/python3.7/dist-packages (from requests>=2.19.0->datasets) (3.0.4)\n",
            "Requirement already satisfied: pytz>=2017.2 in /usr/local/lib/python3.7/dist-packages (from pandas->datasets) (2018.9)\n",
            "Requirement already satisfied: python-dateutil>=2.7.3 in /usr/local/lib/python3.7/dist-packages (from pandas->datasets) (2.8.1)\n",
            "Requirement already satisfied: six>=1.5 in /usr/local/lib/python3.7/dist-packages (from python-dateutil>=2.7.3->pandas->datasets) (1.15.0)\n",
            "Installing collected packages: huggingface-hub, xxhash, fsspec, datasets\n",
            "Successfully installed datasets-1.5.0 fsspec-0.9.0 huggingface-hub-0.0.8 xxhash-2.0.0\n"
          ],
          "name": "stdout"
        }
      ]
    },
    {
      "cell_type": "code",
      "metadata": {
        "id": "rADqeOvxE2Ha"
      },
      "source": [
        "!pip install nlp"
      ],
      "execution_count": null,
      "outputs": []
    },
    {
      "cell_type": "code",
      "metadata": {
        "id": "A9r3QwJ8FU0g"
      },
      "source": [
        "from datasets import list_datasets, list_metrics, load_dataset, load_metric\n",
        "\n",
        "from pprint import pprint\n",
        "import os\n",
        "import sys\n",
        "import json\n",
        "import tensorflow as tf # Yes, we are going to play with Tensorflow 2!\n",
        "import numpy as np # linear algebra\n",
        "import pandas as pd # data processing, CSV file I/O (e.g. pd.read_csv)\n",
        "import matplotlib.pyplot as plt\n",
        "import absl # For using flags without tf.compat.v1.flags.Flag\n",
        "import datetime"
      ],
      "execution_count": null,
      "outputs": []
    },
    {
      "cell_type": "code",
      "metadata": {
        "colab": {
          "base_uri": "https://localhost:8080/",
          "height": 1000
        },
        "id": "xFBTiOXcF2q-",
        "outputId": "fadd0fde-d4bc-4b85-b1e2-0b0dd5bc0d25"
      },
      "source": [
        "pip install apache_beam"
      ],
      "execution_count": null,
      "outputs": [
        {
          "output_type": "stream",
          "text": [
            "Collecting apache_beam\n",
            "\u001b[?25l  Downloading https://files.pythonhosted.org/packages/e1/e7/d6e5a3786d9a037a38af966bf154bcd6cb3cbea2edffda00cf6c417cc9a2/apache_beam-2.28.0-cp37-cp37m-manylinux2010_x86_64.whl (9.0MB)\n",
            "\u001b[K     |████████████████████████████████| 9.0MB 17.8MB/s \n",
            "\u001b[?25hCollecting future<1.0.0,>=0.18.2\n",
            "\u001b[?25l  Downloading https://files.pythonhosted.org/packages/45/0b/38b06fd9b92dc2b68d58b75f900e97884c45bedd2ff83203d933cf5851c9/future-0.18.2.tar.gz (829kB)\n",
            "\u001b[K     |████████████████████████████████| 829kB 49.9MB/s \n",
            "\u001b[?25hRequirement already satisfied: oauth2client<5,>=2.0.1 in /usr/local/lib/python3.7/dist-packages (from apache_beam) (4.1.3)\n",
            "Collecting avro-python3!=1.9.2,<1.10.0,>=1.8.1\n",
            "  Downloading https://files.pythonhosted.org/packages/5a/80/acd1455bea0a9fcdc60a748a97dcbb3ff624726fb90987a0fc1c19e7a5a5/avro-python3-1.9.2.1.tar.gz\n",
            "Collecting requests<3.0.0,>=2.24.0\n",
            "\u001b[?25l  Downloading https://files.pythonhosted.org/packages/29/c1/24814557f1d22c56d50280771a17307e6bf87b70727d975fd6b2ce6b014a/requests-2.25.1-py2.py3-none-any.whl (61kB)\n",
            "\u001b[K     |████████████████████████████████| 61kB 9.5MB/s \n",
            "\u001b[?25hRequirement already satisfied: crcmod<2.0,>=1.7 in /usr/local/lib/python3.7/dist-packages (from apache_beam) (1.7)\n",
            "Requirement already satisfied: pymongo<4.0.0,>=3.8.0 in /usr/local/lib/python3.7/dist-packages (from apache_beam) (3.11.3)\n",
            "Requirement already satisfied: pydot<2,>=1.2.0 in /usr/local/lib/python3.7/dist-packages (from apache_beam) (1.3.0)\n",
            "Requirement already satisfied: python-dateutil<3,>=2.8.0 in /usr/local/lib/python3.7/dist-packages (from apache_beam) (2.8.1)\n",
            "Collecting pyarrow<3.0.0,>=0.15.1\n",
            "\u001b[?25l  Downloading https://files.pythonhosted.org/packages/2e/8d/c002e27767595f22aa09ed0d364327922f673d12b36526c967a2bf6b2ed7/pyarrow-2.0.0-cp37-cp37m-manylinux2014_x86_64.whl (17.7MB)\n",
            "\u001b[K     |████████████████████████████████| 17.7MB 154kB/s \n",
            "\u001b[?25hRequirement already satisfied: httplib2<0.18.0,>=0.8 in /usr/local/lib/python3.7/dist-packages (from apache_beam) (0.17.4)\n",
            "Requirement already satisfied: protobuf<4,>=3.12.2 in /usr/local/lib/python3.7/dist-packages (from apache_beam) (3.12.4)\n",
            "Collecting fastavro<2,>=0.21.4\n",
            "\u001b[?25l  Downloading https://files.pythonhosted.org/packages/c5/c7/9ef9fda5e178aa5f5cda00c0d7505749506c540f9caf876d23c6cf915bf9/fastavro-1.3.5-cp37-cp37m-manylinux2014_x86_64.whl (2.2MB)\n",
            "\u001b[K     |████████████████████████████████| 2.2MB 53.7MB/s \n",
            "\u001b[?25hRequirement already satisfied: typing-extensions<3.8.0,>=3.7.0 in /usr/local/lib/python3.7/dist-packages (from apache_beam) (3.7.4.3)\n",
            "Requirement already satisfied: grpcio<2,>=1.29.0 in /usr/local/lib/python3.7/dist-packages (from apache_beam) (1.32.0)\n",
            "Collecting hdfs<3.0.0,>=2.1.0\n",
            "  Downloading https://files.pythonhosted.org/packages/08/f7/4c3fad73123a24d7394b6f40d1ec9c1cbf2e921cfea1797216ffd0a51fb1/hdfs-2.6.0-py3-none-any.whl\n",
            "Requirement already satisfied: numpy<1.20.0,>=1.14.3 in /usr/local/lib/python3.7/dist-packages (from apache_beam) (1.19.5)\n",
            "Requirement already satisfied: pytz>=2018.3 in /usr/local/lib/python3.7/dist-packages (from apache_beam) (2018.9)\n",
            "Collecting dill<0.3.2,>=0.3.1.1\n",
            "\u001b[?25l  Downloading https://files.pythonhosted.org/packages/c7/11/345f3173809cea7f1a193bfbf02403fff250a3360e0e118a1630985e547d/dill-0.3.1.1.tar.gz (151kB)\n",
            "\u001b[K     |████████████████████████████████| 153kB 59.4MB/s \n",
            "\u001b[?25hCollecting mock<3.0.0,>=1.0.1\n",
            "\u001b[?25l  Downloading https://files.pythonhosted.org/packages/e6/35/f187bdf23be87092bd0f1200d43d23076cee4d0dec109f195173fd3ebc79/mock-2.0.0-py2.py3-none-any.whl (56kB)\n",
            "\u001b[K     |████████████████████████████████| 61kB 8.9MB/s \n",
            "\u001b[?25hRequirement already satisfied: six>=1.6.1 in /usr/local/lib/python3.7/dist-packages (from oauth2client<5,>=2.0.1->apache_beam) (1.15.0)\n",
            "Requirement already satisfied: pyasn1>=0.1.7 in /usr/local/lib/python3.7/dist-packages (from oauth2client<5,>=2.0.1->apache_beam) (0.4.8)\n",
            "Requirement already satisfied: pyasn1-modules>=0.0.5 in /usr/local/lib/python3.7/dist-packages (from oauth2client<5,>=2.0.1->apache_beam) (0.2.8)\n",
            "Requirement already satisfied: rsa>=3.1.4 in /usr/local/lib/python3.7/dist-packages (from oauth2client<5,>=2.0.1->apache_beam) (4.7.2)\n",
            "Requirement already satisfied: certifi>=2017.4.17 in /usr/local/lib/python3.7/dist-packages (from requests<3.0.0,>=2.24.0->apache_beam) (2020.12.5)\n",
            "Requirement already satisfied: idna<3,>=2.5 in /usr/local/lib/python3.7/dist-packages (from requests<3.0.0,>=2.24.0->apache_beam) (2.10)\n",
            "Requirement already satisfied: chardet<5,>=3.0.2 in /usr/local/lib/python3.7/dist-packages (from requests<3.0.0,>=2.24.0->apache_beam) (3.0.4)\n",
            "Requirement already satisfied: urllib3<1.27,>=1.21.1 in /usr/local/lib/python3.7/dist-packages (from requests<3.0.0,>=2.24.0->apache_beam) (1.24.3)\n",
            "Requirement already satisfied: pyparsing>=2.1.4 in /usr/local/lib/python3.7/dist-packages (from pydot<2,>=1.2.0->apache_beam) (2.4.7)\n",
            "Requirement already satisfied: setuptools in /usr/local/lib/python3.7/dist-packages (from protobuf<4,>=3.12.2->apache_beam) (54.2.0)\n",
            "Requirement already satisfied: docopt in /usr/local/lib/python3.7/dist-packages (from hdfs<3.0.0,>=2.1.0->apache_beam) (0.6.2)\n",
            "Collecting pbr>=0.11\n",
            "\u001b[?25l  Downloading https://files.pythonhosted.org/packages/fb/48/69046506f6ac61c1eaa9a0d42d22d54673b69e176d30ca98e3f61513e980/pbr-5.5.1-py2.py3-none-any.whl (106kB)\n",
            "\u001b[K     |████████████████████████████████| 112kB 54.0MB/s \n",
            "\u001b[?25hBuilding wheels for collected packages: future, avro-python3, dill\n",
            "  Building wheel for future (setup.py) ... \u001b[?25l\u001b[?25hdone\n",
            "  Created wheel for future: filename=future-0.18.2-cp37-none-any.whl size=491058 sha256=6781828afd1603cdccd83fd04c3450aff13d82f3294756f60adc1dca9ee79e69\n",
            "  Stored in directory: /root/.cache/pip/wheels/8b/99/a0/81daf51dcd359a9377b110a8a886b3895921802d2fc1b2397e\n",
            "  Building wheel for avro-python3 (setup.py) ... \u001b[?25l\u001b[?25hdone\n",
            "  Created wheel for avro-python3: filename=avro_python3-1.9.2.1-cp37-none-any.whl size=43516 sha256=f888a75a68f2eaa5ed089f82ca65c56a3988d47b4c11deb169e4be99757ab4b4\n",
            "  Stored in directory: /root/.cache/pip/wheels/5a/d3/be/86620c9dd3fca68986c33b9c616510289fc0abb81ec9aa70bd\n",
            "  Building wheel for dill (setup.py) ... \u001b[?25l\u001b[?25hdone\n",
            "  Created wheel for dill: filename=dill-0.3.1.1-cp37-none-any.whl size=78532 sha256=d7b73bb1b10e79cfb74f9e9140d1985b8719791c1066fdeb64925e673e343891\n",
            "  Stored in directory: /root/.cache/pip/wheels/59/b1/91/f02e76c732915c4015ab4010f3015469866c1eb9b14058d8e7\n",
            "Successfully built future avro-python3 dill\n",
            "\u001b[31mERROR: multiprocess 0.70.11.1 has requirement dill>=0.3.3, but you'll have dill 0.3.1.1 which is incompatible.\u001b[0m\n",
            "\u001b[31mERROR: google-colab 1.0.0 has requirement requests~=2.23.0, but you'll have requests 2.25.1 which is incompatible.\u001b[0m\n",
            "\u001b[31mERROR: datascience 0.10.6 has requirement folium==0.2.1, but you'll have folium 0.8.3 which is incompatible.\u001b[0m\n",
            "Installing collected packages: future, avro-python3, requests, pyarrow, fastavro, hdfs, dill, pbr, mock, apache-beam\n",
            "  Found existing installation: future 0.16.0\n",
            "    Uninstalling future-0.16.0:\n",
            "      Successfully uninstalled future-0.16.0\n",
            "  Found existing installation: requests 2.23.0\n",
            "    Uninstalling requests-2.23.0:\n",
            "      Successfully uninstalled requests-2.23.0\n",
            "  Found existing installation: pyarrow 3.0.0\n",
            "    Uninstalling pyarrow-3.0.0:\n",
            "      Successfully uninstalled pyarrow-3.0.0\n",
            "  Found existing installation: dill 0.3.3\n",
            "    Uninstalling dill-0.3.3:\n",
            "      Successfully uninstalled dill-0.3.3\n",
            "Successfully installed apache-beam-2.28.0 avro-python3-1.9.2.1 dill-0.3.1.1 fastavro-1.3.5 future-0.18.2 hdfs-2.6.0 mock-2.0.0 pbr-5.5.1 pyarrow-2.0.0 requests-2.25.1\n"
          ],
          "name": "stdout"
        },
        {
          "output_type": "display_data",
          "data": {
            "application/vnd.colab-display-data+json": {
              "pip_warning": {
                "packages": [
                  "dill",
                  "pyarrow",
                  "requests"
                ]
              }
            }
          },
          "metadata": {
            "tags": []
          }
        }
      ]
    },
    {
      "cell_type": "code",
      "metadata": {
        "colab": {
          "base_uri": "https://localhost:8080/",
          "height": 1000
        },
        "id": "FTroS6yJP77B",
        "outputId": "ef604676-da45-407d-a2cb-88e203c63f2f"
      },
      "source": [
        "pip install tensorflow==1.15.0"
      ],
      "execution_count": 19,
      "outputs": [
        {
          "output_type": "stream",
          "text": [
            "Collecting tensorflow==1.15.0\n",
            "\u001b[?25l  Downloading https://files.pythonhosted.org/packages/92/2b/e3af15221da9ff323521565fa3324b0d7c7c5b1d7a8ca66984c8d59cb0ce/tensorflow-1.15.0-cp37-cp37m-manylinux2010_x86_64.whl (412.3MB)\n",
            "\u001b[K     |████████████████████████████████| 412.3MB 42kB/s \n",
            "\u001b[?25hRequirement already satisfied: protobuf>=3.6.1 in /usr/local/lib/python3.7/dist-packages (from tensorflow==1.15.0) (3.12.4)\n",
            "Requirement already satisfied: astor>=0.6.0 in /usr/local/lib/python3.7/dist-packages (from tensorflow==1.15.0) (0.8.1)\n",
            "Collecting keras-applications>=1.0.8\n",
            "\u001b[?25l  Downloading https://files.pythonhosted.org/packages/71/e3/19762fdfc62877ae9102edf6342d71b28fbfd9dea3d2f96a882ce099b03f/Keras_Applications-1.0.8-py3-none-any.whl (50kB)\n",
            "\u001b[K     |████████████████████████████████| 51kB 8.5MB/s \n",
            "\u001b[?25hCollecting gast==0.2.2\n",
            "  Downloading https://files.pythonhosted.org/packages/4e/35/11749bf99b2d4e3cceb4d55ca22590b0d7c2c62b9de38ac4a4a7f4687421/gast-0.2.2.tar.gz\n",
            "Collecting tensorboard<1.16.0,>=1.15.0\n",
            "\u001b[?25l  Downloading https://files.pythonhosted.org/packages/1e/e9/d3d747a97f7188f48aa5eda486907f3b345cd409f0a0850468ba867db246/tensorboard-1.15.0-py3-none-any.whl (3.8MB)\n",
            "\u001b[K     |████████████████████████████████| 3.8MB 42.3MB/s \n",
            "\u001b[?25hRequirement already satisfied: keras-preprocessing>=1.0.5 in /usr/local/lib/python3.7/dist-packages (from tensorflow==1.15.0) (1.1.2)\n",
            "Collecting tensorflow-estimator==1.15.1\n",
            "\u001b[?25l  Downloading https://files.pythonhosted.org/packages/de/62/2ee9cd74c9fa2fa450877847ba560b260f5d0fb70ee0595203082dafcc9d/tensorflow_estimator-1.15.1-py2.py3-none-any.whl (503kB)\n",
            "\u001b[K     |████████████████████████████████| 512kB 52.4MB/s \n",
            "\u001b[?25hRequirement already satisfied: grpcio>=1.8.6 in /usr/local/lib/python3.7/dist-packages (from tensorflow==1.15.0) (1.32.0)\n",
            "Requirement already satisfied: google-pasta>=0.1.6 in /usr/local/lib/python3.7/dist-packages (from tensorflow==1.15.0) (0.2.0)\n",
            "Requirement already satisfied: absl-py>=0.7.0 in /usr/local/lib/python3.7/dist-packages (from tensorflow==1.15.0) (0.12.0)\n",
            "Requirement already satisfied: termcolor>=1.1.0 in /usr/local/lib/python3.7/dist-packages (from tensorflow==1.15.0) (1.1.0)\n",
            "Requirement already satisfied: wrapt>=1.11.1 in /usr/local/lib/python3.7/dist-packages (from tensorflow==1.15.0) (1.12.1)\n",
            "Requirement already satisfied: wheel>=0.26 in /usr/local/lib/python3.7/dist-packages (from tensorflow==1.15.0) (0.36.2)\n",
            "Requirement already satisfied: opt-einsum>=2.3.2 in /usr/local/lib/python3.7/dist-packages (from tensorflow==1.15.0) (3.3.0)\n",
            "Requirement already satisfied: numpy<2.0,>=1.16.0 in /usr/local/lib/python3.7/dist-packages (from tensorflow==1.15.0) (1.19.5)\n",
            "Requirement already satisfied: six>=1.10.0 in /usr/local/lib/python3.7/dist-packages (from tensorflow==1.15.0) (1.15.0)\n",
            "Requirement already satisfied: setuptools in /usr/local/lib/python3.7/dist-packages (from protobuf>=3.6.1->tensorflow==1.15.0) (54.2.0)\n",
            "Requirement already satisfied: h5py in /usr/local/lib/python3.7/dist-packages (from keras-applications>=1.0.8->tensorflow==1.15.0) (2.10.0)\n",
            "Requirement already satisfied: werkzeug>=0.11.15 in /usr/local/lib/python3.7/dist-packages (from tensorboard<1.16.0,>=1.15.0->tensorflow==1.15.0) (1.0.1)\n",
            "Requirement already satisfied: markdown>=2.6.8 in /usr/local/lib/python3.7/dist-packages (from tensorboard<1.16.0,>=1.15.0->tensorflow==1.15.0) (3.3.4)\n",
            "Requirement already satisfied: importlib-metadata; python_version < \"3.8\" in /usr/local/lib/python3.7/dist-packages (from markdown>=2.6.8->tensorboard<1.16.0,>=1.15.0->tensorflow==1.15.0) (3.8.1)\n",
            "Requirement already satisfied: typing-extensions>=3.6.4; python_version < \"3.8\" in /usr/local/lib/python3.7/dist-packages (from importlib-metadata; python_version < \"3.8\"->markdown>=2.6.8->tensorboard<1.16.0,>=1.15.0->tensorflow==1.15.0) (3.7.4.3)\n",
            "Requirement already satisfied: zipp>=0.5 in /usr/local/lib/python3.7/dist-packages (from importlib-metadata; python_version < \"3.8\"->markdown>=2.6.8->tensorboard<1.16.0,>=1.15.0->tensorflow==1.15.0) (3.4.1)\n",
            "Building wheels for collected packages: gast\n",
            "  Building wheel for gast (setup.py) ... \u001b[?25l\u001b[?25hdone\n",
            "  Created wheel for gast: filename=gast-0.2.2-cp37-none-any.whl size=7540 sha256=0957919349a4b0a60056320873b079533025b70038c8bfe2f4d59c8065f9d00a\n",
            "  Stored in directory: /root/.cache/pip/wheels/5c/2e/7e/a1d4d4fcebe6c381f378ce7743a3ced3699feb89bcfbdadadd\n",
            "Successfully built gast\n",
            "\u001b[31mERROR: tensorflow-probability 0.12.1 has requirement gast>=0.3.2, but you'll have gast 0.2.2 which is incompatible.\u001b[0m\n",
            "Installing collected packages: keras-applications, gast, tensorboard, tensorflow-estimator, tensorflow\n",
            "  Found existing installation: gast 0.3.3\n",
            "    Uninstalling gast-0.3.3:\n",
            "      Successfully uninstalled gast-0.3.3\n",
            "  Found existing installation: tensorboard 2.4.1\n",
            "    Uninstalling tensorboard-2.4.1:\n",
            "      Successfully uninstalled tensorboard-2.4.1\n",
            "  Found existing installation: tensorflow-estimator 2.4.0\n",
            "    Uninstalling tensorflow-estimator-2.4.0:\n",
            "      Successfully uninstalled tensorflow-estimator-2.4.0\n",
            "  Found existing installation: tensorflow 2.4.1\n",
            "    Uninstalling tensorflow-2.4.1:\n",
            "      Successfully uninstalled tensorflow-2.4.1\n",
            "Successfully installed gast-0.2.2 keras-applications-1.0.8 tensorboard-1.15.0 tensorflow-1.15.0 tensorflow-estimator-1.15.1\n"
          ],
          "name": "stdout"
        },
        {
          "output_type": "display_data",
          "data": {
            "application/vnd.colab-display-data+json": {
              "pip_warning": {
                "packages": [
                  "gast",
                  "tensorboard",
                  "tensorflow"
                ]
              }
            }
          },
          "metadata": {
            "tags": []
          }
        }
      ]
    },
    {
      "cell_type": "code",
      "metadata": {
        "colab": {
          "base_uri": "https://localhost:8080/"
        },
        "id": "kG670z0kdqK5",
        "outputId": "58d71dc7-b9a8-4cb3-fb47-9fdb2fde2617"
      },
      "source": [
        "from google.colab import drive\n",
        "\n",
        "drive.mount(\"/content/gdrive\")"
      ],
      "execution_count": 5,
      "outputs": [
        {
          "output_type": "stream",
          "text": [
            "Mounted at /content/gdrive\n"
          ],
          "name": "stdout"
        }
      ]
    },
    {
      "cell_type": "code",
      "metadata": {
        "colab": {
          "base_uri": "https://localhost:8080/"
        },
        "id": "sVIY8183fZk7",
        "outputId": "5dd17d76-e391-4ce6-afbd-25cfc02a4def"
      },
      "source": [
        "%cd /content/gdrive/MyDrive/11747 project"
      ],
      "execution_count": 11,
      "outputs": [
        {
          "output_type": "stream",
          "text": [
            "/content/gdrive/MyDrive/11747 project\n"
          ],
          "name": "stdout"
        }
      ]
    },
    {
      "cell_type": "code",
      "metadata": {
        "colab": {
          "base_uri": "https://localhost:8080/"
        },
        "id": "iy6cQlzvfiLY",
        "outputId": "e71b6e1e-3035-448e-c985-f863ecd208ac"
      },
      "source": [
        "%ls"
      ],
      "execution_count": 12,
      "outputs": [
        {
          "output_type": "stream",
          "text": [
            "v1.0_sample_nq-train-sample.jsonl\n",
            "v1.0_sample_nq-train-sample.jsonl.gz\n",
            "v1.0-simplified_nq-dev-all.jsonl.gz\n",
            "v1.0-simplified_simplified-nq-train.jsonl.gz\n"
          ],
          "name": "stdout"
        }
      ]
    },
    {
      "cell_type": "code",
      "metadata": {
        "colab": {
          "base_uri": "https://localhost:8080/",
          "height": 1000
        },
        "id": "QOsAe8fLfvU6",
        "outputId": "b1381941-bec3-444a-8956-010a39c1cebb"
      },
      "source": [
        "!pip install tensorflow==2.0\n",
        "!pip install tensorflow_hub\n",
        "!pip install bert-for-tf2\n",
        "!pip install sentencepiece"
      ],
      "execution_count": 17,
      "outputs": [
        {
          "output_type": "stream",
          "text": [
            "Collecting tensorflow==2.0\n",
            "\u001b[?25l  Downloading https://files.pythonhosted.org/packages/2a/5c/f1d66de5dde6f3ff528f6ea1fd0757a0e594d17debb3ec7f82daa967ea9a/tensorflow-2.0.0-cp37-cp37m-manylinux2010_x86_64.whl (86.3MB)\n",
            "\u001b[K     |████████████████████████████████| 86.3MB 36kB/s \n",
            "\u001b[?25hCollecting keras-applications>=1.0.8\n",
            "\u001b[?25l  Downloading https://files.pythonhosted.org/packages/71/e3/19762fdfc62877ae9102edf6342d71b28fbfd9dea3d2f96a882ce099b03f/Keras_Applications-1.0.8-py3-none-any.whl (50kB)\n",
            "\u001b[K     |████████████████████████████████| 51kB 8.0MB/s \n",
            "\u001b[?25hRequirement already satisfied: protobuf>=3.6.1 in /usr/local/lib/python3.7/dist-packages (from tensorflow==2.0) (3.12.4)\n",
            "Requirement already satisfied: six>=1.10.0 in /usr/local/lib/python3.7/dist-packages (from tensorflow==2.0) (1.15.0)\n",
            "Requirement already satisfied: google-pasta>=0.1.6 in /usr/local/lib/python3.7/dist-packages (from tensorflow==2.0) (0.2.0)\n",
            "Requirement already satisfied: grpcio>=1.8.6 in /usr/local/lib/python3.7/dist-packages (from tensorflow==2.0) (1.32.0)\n",
            "Requirement already satisfied: termcolor>=1.1.0 in /usr/local/lib/python3.7/dist-packages (from tensorflow==2.0) (1.1.0)\n",
            "Collecting gast==0.2.2\n",
            "  Downloading https://files.pythonhosted.org/packages/4e/35/11749bf99b2d4e3cceb4d55ca22590b0d7c2c62b9de38ac4a4a7f4687421/gast-0.2.2.tar.gz\n",
            "Requirement already satisfied: wrapt>=1.11.1 in /usr/local/lib/python3.7/dist-packages (from tensorflow==2.0) (1.12.1)\n",
            "Collecting tensorflow-estimator<2.1.0,>=2.0.0\n",
            "\u001b[?25l  Downloading https://files.pythonhosted.org/packages/fc/08/8b927337b7019c374719145d1dceba21a8bb909b93b1ad6f8fb7d22c1ca1/tensorflow_estimator-2.0.1-py2.py3-none-any.whl (449kB)\n",
            "\u001b[K     |████████████████████████████████| 450kB 44.4MB/s \n",
            "\u001b[?25hRequirement already satisfied: astor>=0.6.0 in /usr/local/lib/python3.7/dist-packages (from tensorflow==2.0) (0.8.1)\n",
            "Requirement already satisfied: wheel>=0.26 in /usr/local/lib/python3.7/dist-packages (from tensorflow==2.0) (0.36.2)\n",
            "Requirement already satisfied: opt-einsum>=2.3.2 in /usr/local/lib/python3.7/dist-packages (from tensorflow==2.0) (3.3.0)\n",
            "Requirement already satisfied: numpy<2.0,>=1.16.0 in /usr/local/lib/python3.7/dist-packages (from tensorflow==2.0) (1.19.5)\n",
            "Collecting tensorboard<2.1.0,>=2.0.0\n",
            "\u001b[?25l  Downloading https://files.pythonhosted.org/packages/76/54/99b9d5d52d5cb732f099baaaf7740403e83fe6b0cedde940fabd2b13d75a/tensorboard-2.0.2-py3-none-any.whl (3.8MB)\n",
            "\u001b[K     |████████████████████████████████| 3.8MB 56.2MB/s \n",
            "\u001b[?25hRequirement already satisfied: keras-preprocessing>=1.0.5 in /usr/local/lib/python3.7/dist-packages (from tensorflow==2.0) (1.1.2)\n",
            "Requirement already satisfied: absl-py>=0.7.0 in /usr/local/lib/python3.7/dist-packages (from tensorflow==2.0) (0.12.0)\n",
            "Requirement already satisfied: h5py in /usr/local/lib/python3.7/dist-packages (from keras-applications>=1.0.8->tensorflow==2.0) (2.10.0)\n",
            "Requirement already satisfied: setuptools in /usr/local/lib/python3.7/dist-packages (from protobuf>=3.6.1->tensorflow==2.0) (54.2.0)\n",
            "Requirement already satisfied: requests<3,>=2.21.0 in /usr/local/lib/python3.7/dist-packages (from tensorboard<2.1.0,>=2.0.0->tensorflow==2.0) (2.23.0)\n",
            "Requirement already satisfied: markdown>=2.6.8 in /usr/local/lib/python3.7/dist-packages (from tensorboard<2.1.0,>=2.0.0->tensorflow==2.0) (3.3.4)\n",
            "Requirement already satisfied: werkzeug>=0.11.15 in /usr/local/lib/python3.7/dist-packages (from tensorboard<2.1.0,>=2.0.0->tensorflow==2.0) (1.0.1)\n",
            "Requirement already satisfied: google-auth-oauthlib<0.5,>=0.4.1 in /usr/local/lib/python3.7/dist-packages (from tensorboard<2.1.0,>=2.0.0->tensorflow==2.0) (0.4.3)\n",
            "Requirement already satisfied: google-auth<2,>=1.6.3 in /usr/local/lib/python3.7/dist-packages (from tensorboard<2.1.0,>=2.0.0->tensorflow==2.0) (1.28.0)\n",
            "Requirement already satisfied: certifi>=2017.4.17 in /usr/local/lib/python3.7/dist-packages (from requests<3,>=2.21.0->tensorboard<2.1.0,>=2.0.0->tensorflow==2.0) (2020.12.5)\n",
            "Requirement already satisfied: idna<3,>=2.5 in /usr/local/lib/python3.7/dist-packages (from requests<3,>=2.21.0->tensorboard<2.1.0,>=2.0.0->tensorflow==2.0) (2.10)\n",
            "Requirement already satisfied: chardet<4,>=3.0.2 in /usr/local/lib/python3.7/dist-packages (from requests<3,>=2.21.0->tensorboard<2.1.0,>=2.0.0->tensorflow==2.0) (3.0.4)\n",
            "Requirement already satisfied: urllib3!=1.25.0,!=1.25.1,<1.26,>=1.21.1 in /usr/local/lib/python3.7/dist-packages (from requests<3,>=2.21.0->tensorboard<2.1.0,>=2.0.0->tensorflow==2.0) (1.24.3)\n",
            "Requirement already satisfied: importlib-metadata; python_version < \"3.8\" in /usr/local/lib/python3.7/dist-packages (from markdown>=2.6.8->tensorboard<2.1.0,>=2.0.0->tensorflow==2.0) (3.8.1)\n",
            "Requirement already satisfied: requests-oauthlib>=0.7.0 in /usr/local/lib/python3.7/dist-packages (from google-auth-oauthlib<0.5,>=0.4.1->tensorboard<2.1.0,>=2.0.0->tensorflow==2.0) (1.3.0)\n",
            "Requirement already satisfied: rsa<5,>=3.1.4; python_version >= \"3.6\" in /usr/local/lib/python3.7/dist-packages (from google-auth<2,>=1.6.3->tensorboard<2.1.0,>=2.0.0->tensorflow==2.0) (4.7.2)\n",
            "Requirement already satisfied: pyasn1-modules>=0.2.1 in /usr/local/lib/python3.7/dist-packages (from google-auth<2,>=1.6.3->tensorboard<2.1.0,>=2.0.0->tensorflow==2.0) (0.2.8)\n",
            "Requirement already satisfied: cachetools<5.0,>=2.0.0 in /usr/local/lib/python3.7/dist-packages (from google-auth<2,>=1.6.3->tensorboard<2.1.0,>=2.0.0->tensorflow==2.0) (4.2.1)\n",
            "Requirement already satisfied: zipp>=0.5 in /usr/local/lib/python3.7/dist-packages (from importlib-metadata; python_version < \"3.8\"->markdown>=2.6.8->tensorboard<2.1.0,>=2.0.0->tensorflow==2.0) (3.4.1)\n",
            "Requirement already satisfied: typing-extensions>=3.6.4; python_version < \"3.8\" in /usr/local/lib/python3.7/dist-packages (from importlib-metadata; python_version < \"3.8\"->markdown>=2.6.8->tensorboard<2.1.0,>=2.0.0->tensorflow==2.0) (3.7.4.3)\n",
            "Requirement already satisfied: oauthlib>=3.0.0 in /usr/local/lib/python3.7/dist-packages (from requests-oauthlib>=0.7.0->google-auth-oauthlib<0.5,>=0.4.1->tensorboard<2.1.0,>=2.0.0->tensorflow==2.0) (3.1.0)\n",
            "Requirement already satisfied: pyasn1>=0.1.3 in /usr/local/lib/python3.7/dist-packages (from rsa<5,>=3.1.4; python_version >= \"3.6\"->google-auth<2,>=1.6.3->tensorboard<2.1.0,>=2.0.0->tensorflow==2.0) (0.4.8)\n",
            "Building wheels for collected packages: gast\n",
            "  Building wheel for gast (setup.py) ... \u001b[?25l\u001b[?25hdone\n",
            "  Created wheel for gast: filename=gast-0.2.2-cp37-none-any.whl size=7540 sha256=0ecd9b1ee0890c62b3fac6e2e6de90b9eaf7219354c6c4f78ac45592f90abef4\n",
            "  Stored in directory: /root/.cache/pip/wheels/5c/2e/7e/a1d4d4fcebe6c381f378ce7743a3ced3699feb89bcfbdadadd\n",
            "Successfully built gast\n",
            "\u001b[31mERROR: tensorflow-probability 0.12.1 has requirement gast>=0.3.2, but you'll have gast 0.2.2 which is incompatible.\u001b[0m\n",
            "Installing collected packages: keras-applications, gast, tensorflow-estimator, tensorboard, tensorflow\n",
            "  Found existing installation: gast 0.3.3\n",
            "    Uninstalling gast-0.3.3:\n",
            "      Successfully uninstalled gast-0.3.3\n",
            "  Found existing installation: tensorflow-estimator 2.4.0\n",
            "    Uninstalling tensorflow-estimator-2.4.0:\n",
            "      Successfully uninstalled tensorflow-estimator-2.4.0\n",
            "  Found existing installation: tensorboard 2.4.1\n",
            "    Uninstalling tensorboard-2.4.1:\n",
            "      Successfully uninstalled tensorboard-2.4.1\n",
            "  Found existing installation: tensorflow 2.4.1\n",
            "    Uninstalling tensorflow-2.4.1:\n",
            "      Successfully uninstalled tensorflow-2.4.1\n",
            "Successfully installed gast-0.2.2 keras-applications-1.0.8 tensorboard-2.0.2 tensorflow-2.0.0 tensorflow-estimator-2.0.1\n",
            "Requirement already satisfied: tensorflow_hub in /usr/local/lib/python3.7/dist-packages (0.11.0)\n",
            "Requirement already satisfied: protobuf>=3.8.0 in /usr/local/lib/python3.7/dist-packages (from tensorflow_hub) (3.12.4)\n",
            "Requirement already satisfied: numpy>=1.12.0 in /usr/local/lib/python3.7/dist-packages (from tensorflow_hub) (1.19.5)\n",
            "Requirement already satisfied: setuptools in /usr/local/lib/python3.7/dist-packages (from protobuf>=3.8.0->tensorflow_hub) (54.2.0)\n",
            "Requirement already satisfied: six>=1.9 in /usr/local/lib/python3.7/dist-packages (from protobuf>=3.8.0->tensorflow_hub) (1.15.0)\n",
            "Collecting bert-for-tf2\n",
            "\u001b[?25l  Downloading https://files.pythonhosted.org/packages/a5/a1/acb891630749c56901e770a34d6bac8a509a367dd74a05daf7306952e910/bert-for-tf2-0.14.9.tar.gz (41kB)\n",
            "\u001b[K     |████████████████████████████████| 51kB 7.1MB/s \n",
            "\u001b[?25hCollecting py-params>=0.9.6\n",
            "  Downloading https://files.pythonhosted.org/packages/aa/e0/4f663d8abf83c8084b75b995bd2ab3a9512ebc5b97206fde38cef906ab07/py-params-0.10.2.tar.gz\n",
            "Collecting params-flow>=0.8.0\n",
            "  Downloading https://files.pythonhosted.org/packages/a9/95/ff49f5ebd501f142a6f0aaf42bcfd1c192dc54909d1d9eb84ab031d46056/params-flow-0.8.2.tar.gz\n",
            "Requirement already satisfied: numpy in /usr/local/lib/python3.7/dist-packages (from params-flow>=0.8.0->bert-for-tf2) (1.19.5)\n",
            "Requirement already satisfied: tqdm in /usr/local/lib/python3.7/dist-packages (from params-flow>=0.8.0->bert-for-tf2) (4.41.1)\n",
            "Building wheels for collected packages: bert-for-tf2, py-params, params-flow\n",
            "  Building wheel for bert-for-tf2 (setup.py) ... \u001b[?25l\u001b[?25hdone\n",
            "  Created wheel for bert-for-tf2: filename=bert_for_tf2-0.14.9-cp37-none-any.whl size=30535 sha256=18f07c21f5ed831c4a81a95bca9a118ef22b045f6373e1f050cad6a55dbb5da4\n",
            "  Stored in directory: /root/.cache/pip/wheels/a1/04/ee/347bd9f5b821b637c76411d280271a857aece00358896a230f\n",
            "  Building wheel for py-params (setup.py) ... \u001b[?25l\u001b[?25hdone\n",
            "  Created wheel for py-params: filename=py_params-0.10.2-cp37-none-any.whl size=7912 sha256=76c3761480bc9c04d941815dc84c59d292e2eb1d176ab58f0c0e87ceec6400f8\n",
            "  Stored in directory: /root/.cache/pip/wheels/d0/4a/70/ff12450229ff1955abf01f365051d4faae1c20aef53ab4cf09\n",
            "  Building wheel for params-flow (setup.py) ... \u001b[?25l\u001b[?25hdone\n",
            "  Created wheel for params-flow: filename=params_flow-0.8.2-cp37-none-any.whl size=19472 sha256=02c95af26af48a599d8b9e5f9a3f04264028f63b7a26aed77465230092e10839\n",
            "  Stored in directory: /root/.cache/pip/wheels/08/c8/7f/81c86b9ff2b86e2c477e3914175be03e679e596067dc630c06\n",
            "Successfully built bert-for-tf2 py-params params-flow\n",
            "Installing collected packages: py-params, params-flow, bert-for-tf2\n",
            "Successfully installed bert-for-tf2-0.14.9 params-flow-0.8.2 py-params-0.10.2\n"
          ],
          "name": "stdout"
        },
        {
          "output_type": "display_data",
          "data": {
            "application/vnd.colab-display-data+json": {
              "pip_warning": {
                "packages": [
                  "bert"
                ]
              }
            }
          },
          "metadata": {
            "tags": []
          }
        },
        {
          "output_type": "stream",
          "text": [
            "Collecting sentencepiece\n",
            "\u001b[?25l  Downloading https://files.pythonhosted.org/packages/f5/99/e0808cb947ba10f575839c43e8fafc9cc44e4a7a2c8f79c60db48220a577/sentencepiece-0.1.95-cp37-cp37m-manylinux2014_x86_64.whl (1.2MB)\n",
            "\r\u001b[K     |▎                               | 10kB 24.4MB/s eta 0:00:01\r\u001b[K     |▌                               | 20kB 31.1MB/s eta 0:00:01\r\u001b[K     |▉                               | 30kB 22.2MB/s eta 0:00:01\r\u001b[K     |█                               | 40kB 25.7MB/s eta 0:00:01\r\u001b[K     |█▍                              | 51kB 18.4MB/s eta 0:00:01\r\u001b[K     |█▋                              | 61kB 16.9MB/s eta 0:00:01\r\u001b[K     |██                              | 71kB 18.5MB/s eta 0:00:01\r\u001b[K     |██▏                             | 81kB 18.3MB/s eta 0:00:01\r\u001b[K     |██▌                             | 92kB 16.5MB/s eta 0:00:01\r\u001b[K     |██▊                             | 102kB 17.8MB/s eta 0:00:01\r\u001b[K     |███                             | 112kB 17.8MB/s eta 0:00:01\r\u001b[K     |███▎                            | 122kB 17.8MB/s eta 0:00:01\r\u001b[K     |███▌                            | 133kB 17.8MB/s eta 0:00:01\r\u001b[K     |███▉                            | 143kB 17.8MB/s eta 0:00:01\r\u001b[K     |████                            | 153kB 17.8MB/s eta 0:00:01\r\u001b[K     |████▍                           | 163kB 17.8MB/s eta 0:00:01\r\u001b[K     |████▋                           | 174kB 17.8MB/s eta 0:00:01\r\u001b[K     |█████                           | 184kB 17.8MB/s eta 0:00:01\r\u001b[K     |█████▏                          | 194kB 17.8MB/s eta 0:00:01\r\u001b[K     |█████▌                          | 204kB 17.8MB/s eta 0:00:01\r\u001b[K     |█████▊                          | 215kB 17.8MB/s eta 0:00:01\r\u001b[K     |██████                          | 225kB 17.8MB/s eta 0:00:01\r\u001b[K     |██████▎                         | 235kB 17.8MB/s eta 0:00:01\r\u001b[K     |██████▌                         | 245kB 17.8MB/s eta 0:00:01\r\u001b[K     |██████▉                         | 256kB 17.8MB/s eta 0:00:01\r\u001b[K     |███████                         | 266kB 17.8MB/s eta 0:00:01\r\u001b[K     |███████▍                        | 276kB 17.8MB/s eta 0:00:01\r\u001b[K     |███████▋                        | 286kB 17.8MB/s eta 0:00:01\r\u001b[K     |████████                        | 296kB 17.8MB/s eta 0:00:01\r\u001b[K     |████████▏                       | 307kB 17.8MB/s eta 0:00:01\r\u001b[K     |████████▍                       | 317kB 17.8MB/s eta 0:00:01\r\u001b[K     |████████▊                       | 327kB 17.8MB/s eta 0:00:01\r\u001b[K     |█████████                       | 337kB 17.8MB/s eta 0:00:01\r\u001b[K     |█████████▎                      | 348kB 17.8MB/s eta 0:00:01\r\u001b[K     |█████████▌                      | 358kB 17.8MB/s eta 0:00:01\r\u001b[K     |█████████▉                      | 368kB 17.8MB/s eta 0:00:01\r\u001b[K     |██████████                      | 378kB 17.8MB/s eta 0:00:01\r\u001b[K     |██████████▍                     | 389kB 17.8MB/s eta 0:00:01\r\u001b[K     |██████████▋                     | 399kB 17.8MB/s eta 0:00:01\r\u001b[K     |███████████                     | 409kB 17.8MB/s eta 0:00:01\r\u001b[K     |███████████▏                    | 419kB 17.8MB/s eta 0:00:01\r\u001b[K     |███████████▍                    | 430kB 17.8MB/s eta 0:00:01\r\u001b[K     |███████████▊                    | 440kB 17.8MB/s eta 0:00:01\r\u001b[K     |████████████                    | 450kB 17.8MB/s eta 0:00:01\r\u001b[K     |████████████▎                   | 460kB 17.8MB/s eta 0:00:01\r\u001b[K     |████████████▌                   | 471kB 17.8MB/s eta 0:00:01\r\u001b[K     |████████████▉                   | 481kB 17.8MB/s eta 0:00:01\r\u001b[K     |█████████████                   | 491kB 17.8MB/s eta 0:00:01\r\u001b[K     |█████████████▍                  | 501kB 17.8MB/s eta 0:00:01\r\u001b[K     |█████████████▋                  | 512kB 17.8MB/s eta 0:00:01\r\u001b[K     |█████████████▉                  | 522kB 17.8MB/s eta 0:00:01\r\u001b[K     |██████████████▏                 | 532kB 17.8MB/s eta 0:00:01\r\u001b[K     |██████████████▍                 | 542kB 17.8MB/s eta 0:00:01\r\u001b[K     |██████████████▊                 | 552kB 17.8MB/s eta 0:00:01\r\u001b[K     |███████████████                 | 563kB 17.8MB/s eta 0:00:01\r\u001b[K     |███████████████▎                | 573kB 17.8MB/s eta 0:00:01\r\u001b[K     |███████████████▌                | 583kB 17.8MB/s eta 0:00:01\r\u001b[K     |███████████████▉                | 593kB 17.8MB/s eta 0:00:01\r\u001b[K     |████████████████                | 604kB 17.8MB/s eta 0:00:01\r\u001b[K     |████████████████▍               | 614kB 17.8MB/s eta 0:00:01\r\u001b[K     |████████████████▋               | 624kB 17.8MB/s eta 0:00:01\r\u001b[K     |████████████████▉               | 634kB 17.8MB/s eta 0:00:01\r\u001b[K     |█████████████████▏              | 645kB 17.8MB/s eta 0:00:01\r\u001b[K     |█████████████████▍              | 655kB 17.8MB/s eta 0:00:01\r\u001b[K     |█████████████████▊              | 665kB 17.8MB/s eta 0:00:01\r\u001b[K     |██████████████████              | 675kB 17.8MB/s eta 0:00:01\r\u001b[K     |██████████████████▎             | 686kB 17.8MB/s eta 0:00:01\r\u001b[K     |██████████████████▌             | 696kB 17.8MB/s eta 0:00:01\r\u001b[K     |██████████████████▉             | 706kB 17.8MB/s eta 0:00:01\r\u001b[K     |███████████████████             | 716kB 17.8MB/s eta 0:00:01\r\u001b[K     |███████████████████▎            | 727kB 17.8MB/s eta 0:00:01\r\u001b[K     |███████████████████▋            | 737kB 17.8MB/s eta 0:00:01\r\u001b[K     |███████████████████▉            | 747kB 17.8MB/s eta 0:00:01\r\u001b[K     |████████████████████▏           | 757kB 17.8MB/s eta 0:00:01\r\u001b[K     |████████████████████▍           | 768kB 17.8MB/s eta 0:00:01\r\u001b[K     |████████████████████▊           | 778kB 17.8MB/s eta 0:00:01\r\u001b[K     |█████████████████████           | 788kB 17.8MB/s eta 0:00:01\r\u001b[K     |█████████████████████▎          | 798kB 17.8MB/s eta 0:00:01\r\u001b[K     |█████████████████████▌          | 808kB 17.8MB/s eta 0:00:01\r\u001b[K     |█████████████████████▉          | 819kB 17.8MB/s eta 0:00:01\r\u001b[K     |██████████████████████          | 829kB 17.8MB/s eta 0:00:01\r\u001b[K     |██████████████████████▎         | 839kB 17.8MB/s eta 0:00:01\r\u001b[K     |██████████████████████▋         | 849kB 17.8MB/s eta 0:00:01\r\u001b[K     |██████████████████████▉         | 860kB 17.8MB/s eta 0:00:01\r\u001b[K     |███████████████████████▏        | 870kB 17.8MB/s eta 0:00:01\r\u001b[K     |███████████████████████▍        | 880kB 17.8MB/s eta 0:00:01\r\u001b[K     |███████████████████████▊        | 890kB 17.8MB/s eta 0:00:01\r\u001b[K     |████████████████████████        | 901kB 17.8MB/s eta 0:00:01\r\u001b[K     |████████████████████████▎       | 911kB 17.8MB/s eta 0:00:01\r\u001b[K     |████████████████████████▌       | 921kB 17.8MB/s eta 0:00:01\r\u001b[K     |████████████████████████▊       | 931kB 17.8MB/s eta 0:00:01\r\u001b[K     |█████████████████████████       | 942kB 17.8MB/s eta 0:00:01\r\u001b[K     |█████████████████████████▎      | 952kB 17.8MB/s eta 0:00:01\r\u001b[K     |█████████████████████████▋      | 962kB 17.8MB/s eta 0:00:01\r\u001b[K     |█████████████████████████▉      | 972kB 17.8MB/s eta 0:00:01\r\u001b[K     |██████████████████████████▏     | 983kB 17.8MB/s eta 0:00:01\r\u001b[K     |██████████████████████████▍     | 993kB 17.8MB/s eta 0:00:01\r\u001b[K     |██████████████████████████▊     | 1.0MB 17.8MB/s eta 0:00:01\r\u001b[K     |███████████████████████████     | 1.0MB 17.8MB/s eta 0:00:01\r\u001b[K     |███████████████████████████▎    | 1.0MB 17.8MB/s eta 0:00:01\r\u001b[K     |███████████████████████████▌    | 1.0MB 17.8MB/s eta 0:00:01\r\u001b[K     |███████████████████████████▊    | 1.0MB 17.8MB/s eta 0:00:01\r\u001b[K     |████████████████████████████    | 1.1MB 17.8MB/s eta 0:00:01\r\u001b[K     |████████████████████████████▎   | 1.1MB 17.8MB/s eta 0:00:01\r\u001b[K     |████████████████████████████▋   | 1.1MB 17.8MB/s eta 0:00:01\r\u001b[K     |████████████████████████████▉   | 1.1MB 17.8MB/s eta 0:00:01\r\u001b[K     |█████████████████████████████▏  | 1.1MB 17.8MB/s eta 0:00:01\r\u001b[K     |█████████████████████████████▍  | 1.1MB 17.8MB/s eta 0:00:01\r\u001b[K     |█████████████████████████████▊  | 1.1MB 17.8MB/s eta 0:00:01\r\u001b[K     |██████████████████████████████  | 1.1MB 17.8MB/s eta 0:00:01\r\u001b[K     |██████████████████████████████▏ | 1.1MB 17.8MB/s eta 0:00:01\r\u001b[K     |██████████████████████████████▌ | 1.1MB 17.8MB/s eta 0:00:01\r\u001b[K     |██████████████████████████████▊ | 1.2MB 17.8MB/s eta 0:00:01\r\u001b[K     |███████████████████████████████ | 1.2MB 17.8MB/s eta 0:00:01\r\u001b[K     |███████████████████████████████▎| 1.2MB 17.8MB/s eta 0:00:01\r\u001b[K     |███████████████████████████████▋| 1.2MB 17.8MB/s eta 0:00:01\r\u001b[K     |███████████████████████████████▉| 1.2MB 17.8MB/s eta 0:00:01\r\u001b[K     |████████████████████████████████| 1.2MB 17.8MB/s \n",
            "\u001b[?25hInstalling collected packages: sentencepiece\n",
            "Successfully installed sentencepiece-0.1.95\n"
          ],
          "name": "stdout"
        }
      ]
    },
    {
      "cell_type": "code",
      "metadata": {
        "colab": {
          "base_uri": "https://localhost:8080/"
        },
        "id": "dOK3lhSVgwO4",
        "outputId": "6cb8af11-2180-4757-bbf1-7571bc413471"
      },
      "source": [
        "!pip install jsonlines"
      ],
      "execution_count": 23,
      "outputs": [
        {
          "output_type": "stream",
          "text": [
            "Collecting jsonlines\n",
            "  Downloading https://files.pythonhosted.org/packages/d4/58/06f430ff7607a2929f80f07bfd820acbc508a4e977542fefcc522cde9dff/jsonlines-2.0.0-py3-none-any.whl\n",
            "Installing collected packages: jsonlines\n",
            "Successfully installed jsonlines-2.0.0\n"
          ],
          "name": "stdout"
        }
      ]
    },
    {
      "cell_type": "code",
      "metadata": {
        "id": "iN5p4SrUFKML"
      },
      "source": [
        "# from bert import run_classifier\n",
        "# from bert import optimization\n",
        "import bert\n",
        "from bert import tokenization\n",
        "import tensorflow as tf\n",
        "import tensorflow_hub as hub\n",
        "import numpy as np\n",
        "import hashlib\n",
        "import glob\n",
        "import os\n",
        "from tensorflow.python.ops import math_ops\n",
        "from collections import Counter\n",
        "\n",
        "from tensorflow.python.keras.metrics import accuracy\n",
        "\n",
        "\n",
        "%matplotlib inline\n",
        "\n",
        "\n",
        "BERT_MODEL_HUB = \"https://tfhub.dev/google/bert_uncased_L-12_H-768_A-12/1\""
      ],
      "execution_count": 2,
      "outputs": []
    },
    {
      "cell_type": "code",
      "metadata": {
        "colab": {
          "base_uri": "https://localhost:8080/"
        },
        "id": "COCzobyrnxTB",
        "outputId": "079bf9a9-5058-479f-992a-29f41f168dae"
      },
      "source": [
        "%cd gdrive/MyDrive"
      ],
      "execution_count": 14,
      "outputs": [
        {
          "output_type": "stream",
          "text": [
            "[Errno 2] No such file or directory: 'gdrive/MyDrive'\n",
            "/content/gdrive\n"
          ],
          "name": "stdout"
        }
      ]
    },
    {
      "cell_type": "code",
      "metadata": {
        "colab": {
          "base_uri": "https://localhost:8080/"
        },
        "id": "YZ2e66gon0Gb",
        "outputId": "a2c8461b-743f-411e-a4d7-72c74b1acd43"
      },
      "source": [
        "%cd MyDrive/"
      ],
      "execution_count": 17,
      "outputs": [
        {
          "output_type": "stream",
          "text": [
            "/content/gdrive/MyDrive\n"
          ],
          "name": "stdout"
        }
      ]
    },
    {
      "cell_type": "code",
      "metadata": {
        "id": "uLZmYQZioGki"
      },
      "source": [
        "%cd 11747 project"
      ],
      "execution_count": null,
      "outputs": []
    },
    {
      "cell_type": "code",
      "metadata": {
        "colab": {
          "base_uri": "https://localhost:8080/"
        },
        "id": "tmUAan3zoMbC",
        "outputId": "7803d28b-2e3e-44b4-8d3e-5862a7640cda"
      },
      "source": [
        "%ls"
      ],
      "execution_count": 21,
      "outputs": [
        {
          "output_type": "stream",
          "text": [
            " v1.0_sample_nq-train-sample.jsonl\n",
            " v1.0_sample_nq-train-sample.jsonl.gz\n",
            " v1.0-simplified_nq-dev-all.jsonl.gz\n",
            "'v1.0-simplified_simplified-nq-train (1).jsonl'\n",
            " v1.0-simplified_simplified-nq-train.jsonl\n",
            " v1.0-simplified_simplified-nq-train.jsonl.gz\n"
          ],
          "name": "stdout"
        }
      ]
    },
    {
      "cell_type": "code",
      "metadata": {
        "colab": {
          "base_uri": "https://localhost:8080/"
        },
        "id": "-UVwrpU3gdHt",
        "outputId": "25bbc498-1af7-4ec3-f824-3548717094d7"
      },
      "source": [
        "%ls"
      ],
      "execution_count": 36,
      "outputs": [
        {
          "output_type": "stream",
          "text": [
            " {single_line.json}\n",
            " v1.0_sample_nq-train-sample.jsonl\n",
            " v1.0_sample_nq-train-sample.jsonl.gz\n",
            " v1.0-simplified_nq-dev-all.jsonl.gz\n",
            "'v1.0-simplified_simplified-nq-train (1).jsonl'\n",
            " v1.0-simplified_simplified-nq-train.jsonl\n",
            " v1.0-simplified_simplified-nq-train.jsonl.gz\n"
          ],
          "name": "stdout"
        }
      ]
    },
    {
      "cell_type": "markdown",
      "metadata": {
        "id": "zjcyUEOKrM9F"
      },
      "source": [
        ""
      ]
    },
    {
      "cell_type": "code",
      "metadata": {
        "id": "Y4W8Haw0sCnB"
      },
      "source": [
        "dataset_file = \"/content/gdrive/MyDrive/11747_project/v1.0-simplified_simplified-nq-train.jsonl\""
      ],
      "execution_count": 58,
      "outputs": []
    },
    {
      "cell_type": "code",
      "metadata": {
        "colab": {
          "base_uri": "https://localhost:8080/"
        },
        "id": "DuyDgw5mtCXq",
        "outputId": "d83fccbe-334d-415d-d67d-375401aad091"
      },
      "source": [
        "!du -h {dataset_file}"
      ],
      "execution_count": 59,
      "outputs": [
        {
          "output_type": "stream",
          "text": [
            "13G\t/content/gdrive/MyDrive/11747_project/v1.0-simplified_simplified-nq-train.jsonl\n"
          ],
          "name": "stdout"
        }
      ]
    },
    {
      "cell_type": "code",
      "metadata": {
        "id": "zKggcNQutcEU"
      },
      "source": [
        "import json\n",
        "from pathlib import Path"
      ],
      "execution_count": 60,
      "outputs": []
    },
    {
      "cell_type": "code",
      "metadata": {
        "colab": {
          "base_uri": "https://localhost:8080/"
        },
        "id": "RDKWBVOVtIb_",
        "outputId": "10565cec-5293-4e75-d751-9d9cdcbe8020"
      },
      "source": [
        "path = Path('/content/gdrive/MyDrive/11747_project')\n",
        "assert path.exists()\n",
        "print(path/'single_line.json')"
      ],
      "execution_count": 61,
      "outputs": [
        {
          "output_type": "stream",
          "text": [
            "/content/gdrive/MyDrive/11747_project/single_line.json\n"
          ],
          "name": "stdout"
        }
      ]
    },
    {
      "cell_type": "code",
      "metadata": {
        "colab": {
          "base_uri": "https://localhost:8080/"
        },
        "id": "lcSH_9pCu_ta",
        "outputId": "ffb5aac6-7567-45d7-f9db-a1158ffa43c8"
      },
      "source": [
        "!ls -la {path}"
      ],
      "execution_count": 21,
      "outputs": [
        {
          "output_type": "stream",
          "text": [
            "total 35736850\n",
            "drwx------ 2 root root        4096 Apr 12 01:37  .ipynb_checkpoints\n",
            "-rw------- 1 root root           0 Apr 12 01:27  single_line.json\n",
            "-rw------- 1 root root   182693918 Mar 30 01:12  v1.0_sample_nq-train-sample.jsonl\n",
            "-rw------- 1 root root    27092378 Mar 30 01:12  v1.0_sample_nq-train-sample.jsonl.gz\n",
            "-rw------- 1 root root  1068038975 Apr 12 00:19  v1.0-simplified_nq-dev-all.jsonl.gz\n",
            "-rw------- 1 root root 17454394481 Apr 11 23:16 'v1.0-simplified_simplified-nq-train (1).jsonl'\n",
            "-rw------- 1 root root 13146488832 Apr 12 00:49  v1.0-simplified_simplified-nq-train.jsonl\n",
            "-rw------- 1 root root  4715820286 Apr 11 23:13  v1.0-simplified_simplified-nq-train.jsonl.gz\n"
          ],
          "name": "stdout"
        }
      ]
    },
    {
      "cell_type": "code",
      "metadata": {
        "colab": {
          "base_uri": "https://localhost:8080/"
        },
        "id": "_p-b-VsztnnS",
        "outputId": "68fa5647-a5de-4e92-ae53-cd32ceaa4bbb"
      },
      "source": [
        "!cd '/content/gdrive/MyDrive/11747_project'"
      ],
      "execution_count": 62,
      "outputs": [
        {
          "output_type": "stream",
          "text": [
            "/content/gdrive/MyDrive/11747 project\n"
          ],
          "name": "stdout"
        }
      ]
    },
    {
      "cell_type": "code",
      "metadata": {
        "colab": {
          "base_uri": "https://localhost:8080/",
          "height": 35
        },
        "id": "9mw_R7upz5V9",
        "outputId": "119926a8-acb6-4ae0-c7cd-c9b9162369ef"
      },
      "source": [
        "dataset_file"
      ],
      "execution_count": 63,
      "outputs": [
        {
          "output_type": "execute_result",
          "data": {
            "application/vnd.google.colaboratory.intrinsic+json": {
              "type": "string"
            },
            "text/plain": [
              "'/content/gdrive/MyDrive/11747_project/v1.0-simplified_simplified-nq-train.jsonl'"
            ]
          },
          "metadata": {
            "tags": []
          },
          "execution_count": 63
        }
      ]
    },
    {
      "cell_type": "code",
      "metadata": {
        "id": "teL-ciwmtmFU"
      },
      "source": [
        "!head -n 1 {dataset_file} > {'single_line.json'}"
      ],
      "execution_count": 64,
      "outputs": []
    },
    {
      "cell_type": "code",
      "metadata": {
        "id": "Tu2f7ILatXHi"
      },
      "source": [
        "with open(path/'single_line.json') as f:\n",
        "    line = f.readline()"
      ],
      "execution_count": 65,
      "outputs": []
    },
    {
      "cell_type": "code",
      "metadata": {
        "id": "cl6CdVlHtgFD"
      },
      "source": [
        "line_dict = json.loads(line)"
      ],
      "execution_count": 66,
      "outputs": []
    },
    {
      "cell_type": "code",
      "metadata": {
        "colab": {
          "base_uri": "https://localhost:8080/"
        },
        "id": "GS3qr6gJ0ALv",
        "outputId": "b02bb98e-0b4b-4b10-96df-feae163a5dde"
      },
      "source": [
        "line_dict.keys()"
      ],
      "execution_count": 67,
      "outputs": [
        {
          "output_type": "execute_result",
          "data": {
            "text/plain": [
              "dict_keys(['document_text', 'long_answer_candidates', 'question_text', 'annotations', 'document_url', 'example_id'])"
            ]
          },
          "metadata": {
            "tags": []
          },
          "execution_count": 67
        }
      ]
    },
    {
      "cell_type": "code",
      "metadata": {
        "colab": {
          "base_uri": "https://localhost:8080/",
          "height": 35
        },
        "id": "lLCH6vhF1Spk",
        "outputId": "947cd093-54f1-405b-97dd-eb232cf9eae7"
      },
      "source": [
        "line_dict['question_text']"
      ],
      "execution_count": 69,
      "outputs": [
        {
          "output_type": "execute_result",
          "data": {
            "application/vnd.google.colaboratory.intrinsic+json": {
              "type": "string"
            },
            "text/plain": [
              "'which is the most common use of opt-in e-mail marketing'"
            ]
          },
          "metadata": {
            "tags": []
          },
          "execution_count": 69
        }
      ]
    },
    {
      "cell_type": "code",
      "metadata": {
        "colab": {
          "base_uri": "https://localhost:8080/"
        },
        "id": "WaxfhE9H4Jfx",
        "outputId": "262841a5-5b1c-4501-a29d-447b174e4ef5"
      },
      "source": [
        "line_dict['annotations']"
      ],
      "execution_count": 70,
      "outputs": [
        {
          "output_type": "execute_result",
          "data": {
            "text/plain": [
              "[{'annotation_id': 593165450220027640,\n",
              "  'long_answer': {'candidate_index': 54,\n",
              "   'end_token': 2019,\n",
              "   'start_token': 1952},\n",
              "  'short_answers': [{'end_token': 1969, 'start_token': 1960}],\n",
              "  'yes_no_answer': 'NONE'}]"
            ]
          },
          "metadata": {
            "tags": []
          },
          "execution_count": 70
        }
      ]
    },
    {
      "cell_type": "code",
      "metadata": {
        "id": "B7RN9i9_0B9_"
      },
      "source": [
        "AMOUNT_SENTENCES = 1\n",
        "\n",
        "def shorten_context(context, answer):\n",
        "    start_pos = context.find(answer)\n",
        "    end_pos = context.find(answer) + len(answer)\n",
        "    sentence_start = 0\n",
        "    start_counter = 0\n",
        "    for i in range(start_pos, -1, -1):\n",
        "        if context[i] == '.':\n",
        "            start_counter += 1\n",
        "            if start_counter >= AMOUNT_SENTENCES:\n",
        "                sentence_start = i + 1\n",
        "                break\n",
        "    sentence_end = len(context)\n",
        "    end_counter = 0\n",
        "    for i in range(end_pos + 1, sentence_end):\n",
        "        if context[i] == '.':\n",
        "            end_counter += 1\n",
        "            if end_counter >= AMOUNT_SENTENCES:\n",
        "                sentence_end = i\n",
        "                break\n",
        "    return context[sentence_start: sentence_end].strip()"
      ],
      "execution_count": 47,
      "outputs": []
    },
    {
      "cell_type": "code",
      "metadata": {
        "id": "-ML9_Dp81G8L"
      },
      "source": [
        "def create_sentence(array):\n",
        "#     res = \"\"\n",
        "#     for s in reversed(array):\n",
        "#         res =  (\" \" if len(s) > 1 or (s[0] not in string.punctuation or s[0] in ['(', ')', '-']) else \"\") + s + res\n",
        "    sentence = \"\"\n",
        "    for s in array:\n",
        "        sentence += s + \" \"\n",
        "    return sentence.strip()"
      ],
      "execution_count": 48,
      "outputs": []
    },
    {
      "cell_type": "code",
      "metadata": {
        "id": "nYQEPrUa1LHp"
      },
      "source": [
        "def extract_short_answers(line_dict):\n",
        "    answer_set = set([])\n",
        "    question = line_dict['question_text'] + '?'\n",
        "    context = create_sentence([t['token'] for t in line_dict['document_tokens'] if not t['html_token']])\n",
        "    for anno in line_dict['annotations']:\n",
        "        for sa in anno['short_answers']:\n",
        "            tokens = [t for t in line_dict['document_tokens'][sa['start_token']:sa['end_token']] if not t['html_token']]\n",
        "            answer = create_sentence([t['token'] for t in tokens])\n",
        "            answer_set.add(answer)\n",
        "    final_answers = []\n",
        "    for a in answer_set:\n",
        "        if context.find(a) > -1:\n",
        "            short_context = shorten_context(context, a)\n",
        "            if short_context.find(a) == -1:\n",
        "                continue\n",
        "            final_answers.append((question, a, {'answer_start': short_context.find(a), 'answer_end': short_context.find(a) + len(a)}, short_context))\n",
        "    return final_answers"
      ],
      "execution_count": 49,
      "outputs": []
    },
    {
      "cell_type": "code",
      "metadata": {
        "id": "qXchJRHl2yWn"
      },
      "source": [
        "\n",
        "def navigate_data(full_data):\n",
        "    answer_ds = []\n",
        "    for i, l in enumerate(full_data):\n",
        "        json_data = json.loads(l)\n",
        "        for extracted in extract_short_answers(json_data):\n",
        "            if len(extracted) > 0:\n",
        "                answer_ds.append(extracted)\n",
        "    return [a for a in answer_ds if len(a[1]) > 0]"
      ],
      "execution_count": 51,
      "outputs": []
    },
    {
      "cell_type": "code",
      "metadata": {
        "id": "6gJXzd0B20e_"
      },
      "source": [
        "def check_ds(answer_ds):\n",
        "    count_not_found = []\n",
        "    for i, a in enumerate(answer_ds):\n",
        "        if a[2]['answer_start'] < 0:\n",
        "            count_not_found.append((i, a))\n",
        "        \n",
        "    assert len(count_not_found) == 0"
      ],
      "execution_count": 52,
      "outputs": []
    },
    {
      "cell_type": "code",
      "metadata": {
        "colab": {
          "base_uri": "https://localhost:8080/"
        },
        "id": "wMO7OcE925Cu",
        "outputId": "d71dd317-2d87-4b8a-a474-414d4690b3fd"
      },
      "source": [
        "full_data = []\n",
        "answer_datasets = []\n",
        "\n",
        "with open(\"v1.0_sample_nq-train-sample.jsonl\") as f:\n",
        "    full_data = f.readlines()\n",
        "    answer_ds = navigate_data(full_data)\n",
        "    check_ds(answer_ds)        \n",
        "    print(f'Extracted {len(answer_ds)} records out of {len(full_data)}')\n",
        "    answer_datasets += answer_ds"
      ],
      "execution_count": 54,
      "outputs": [
        {
          "output_type": "stream",
          "text": [
            "Extracted 72 records out of 200\n"
          ],
          "name": "stdout"
        }
      ]
    },
    {
      "cell_type": "code",
      "metadata": {
        "colab": {
          "base_uri": "https://localhost:8080/"
        },
        "id": "D2h7TiU03I9o",
        "outputId": "109f4708-f2fe-4040-ffe8-c5e4af1fc4e0"
      },
      "source": [
        "answer_datasets"
      ],
      "execution_count": 55,
      "outputs": [
        {
          "output_type": "execute_result",
          "data": {
            "text/plain": [
              "[('when is the last episode of season 8 of the walking dead?',\n",
              "  'March 18 , 2018',\n",
              "  {'answer_end': 208, 'answer_start': 193},\n",
              "  \"109 10 `` The Lost and the Plunderers '' TBA TBA March 4 , 2018 ( 2018 - 03 - 04 ) TBD 110 11 `` Dead or Alive Or '' TBA TBA March 11 , 2018 ( 2018 - 03 - 11 ) TBD 111 12 `` The Key '' TBA TBA March 18 , 2018 ( 2018 - 03 - 18 ) TBD Release ( edit ) The first trailer for the season was released on July 21 , 2017 , at San Diego Comic - Con\"),\n",
              " ('in greek mythology who was the goddess of spring growth?',\n",
              "  \"Persephone ( / pərˈsɛfəni / ; Greek : Περσεφόνη ) , also called Kore ( / ˈkɔːriː / ; `` the maiden '' )\",\n",
              "  {'answer_end': 1540, 'answer_start': 1437},\n",
              "  \"Part of a series on Ancient Greek religion Features ( show ) Greek mythology Ancient Greek philosophy Hellenistic philosophy Ancient Greek religion Polytheism Henosis Monism Pantheism Orthopraxy Godheads ( show ) Olympians Aphrodite Apollo Ares Artemis Athena Demeter Dionysus Hades Hephaestus Hera Hermes Hestia Poseidon Zeus Primordial deities Aether Aion Ananke Chaos Chronos Erebus Eros Gaia Hemera Nyx Phanes Pontus Thalassa Tartarus Uranus Lesser deities Alpheus Amphitrite Asclepius Bia Circe Deimos Eileithyia Enyo Eos Eris Harmonia Hebe Hecate Helios Heracles Iris Kratos Leto Metis Momus Morpheus Nemesis Nike Pan Persephone Phantasos Phobos Proteus Scamander Selene Thanatos Thetis Triton Zelus Ethics ( show ) Arete Hubris Xenia Ethic of reciprocity Practices ( show ) Amphidromia Animal sacrifice Funeral practices Greek hero cult Hieros gamos Iatromantis Libations Oracles Pharmakos Temples Votive offerings Festivals Daphnephoria Dionysia Dionysian Mysteries Eleusinian Mysteries Panathenaic Games Panhellenic Games ( Isthmian Nemean Olympic Pythian ) Thesmophoria Sacred places ( show ) Eleusis Delphi Delos Dodona Mount Olympus Olympia Texts ( show ) Argonautica Bibliotheca Corpus Hermeticum Delphic maxims Dionysiaca Epic Cycle Homeric Hymns Iliad Odyssey Orphic Hymns Theogony Works and Days History ( show ) Mycenaean gods Decline of Hellenistic polytheism Julian restoration Hellenismos portal In Greek mythology , Persephone ( / pərˈsɛfəni / ; Greek : Περσεφόνη ) , also called Kore ( / ˈkɔːriː / ; `` the maiden '' ) , is the daughter of Zeus and Demeter and is the queen of the underworld\"),\n",
              " ('what is the name of the most important jewish text?',\n",
              "  'the Shulchan Aruch',\n",
              "  {'answer_end': 146, 'answer_start': 128},\n",
              "  ') Over time , as practices develop , codes of Jewish law are written that are based on the responsa ; the most important code , the Shulchan Aruch , largely determines Orthodox religious practice today'),\n",
              " (\"what is the name of spain's most famous soccer team?\",\n",
              "  'Real Madrid',\n",
              "  {'answer_end': 97, 'answer_start': 86},\n",
              "  \"Football in Spain - wikipedia Football in Spain Football in Spain Santiago Bernabeu , Real Madrid 's Stadium\"),\n",
              " ('when was the first robot used in surgery?',\n",
              "  '1983',\n",
              "  {'answer_end': 142, 'answer_start': 138},\n",
              "  'History ( edit ) The first robot to assist in surgery was the Arthrobot , which was developed and used for the first time in Vancouver in 1983'),\n",
              " (\"who sings the song i don't care i love it?\",\n",
              "  'Icona Pop and Charli XCX',\n",
              "  {'answer_end': 51, 'answer_start': 27},\n",
              "  \"The song went on to become Icona Pop and Charli XCX 's first US hit , peaking at number seven on the Billboard Hot 100 and was certified double - platinum by the Recording Industry Association of America , denoting over 2 million copies sold in the United States\"),\n",
              " ('who are uncle owen and aunt beru related to?',\n",
              "  'Padmé Amidala',\n",
              "  {'answer_end': 15, 'answer_start': 2},\n",
              "  '3 Padmé Amidala 2'),\n",
              " ('who are uncle owen and aunt beru related to?',\n",
              "  'Shmi',\n",
              "  {'answer_end': 6, 'answer_start': 2},\n",
              "  '1 Shmi Skywalker - Lars 2'),\n",
              " ('who are uncle owen and aunt beru related to?',\n",
              "  'Anakin',\n",
              "  {'answer_end': 42, 'answer_start': 36},\n",
              "  'Vader , in his previous identity as Anakin Skywalker , is a lead character in the prequel film trilogy'),\n",
              " ('where is zimbabwe located in the world map?',\n",
              "  'in southern Africa , between the Zambezi and Limpopo Rivers , bordered by South Africa , Botswana , Zambia and Mozambique',\n",
              "  {'answer_end': 222, 'answer_start': 101},\n",
              "  'Zimbabwe ( / zɪmˈbɑːbweɪ / ) , officially the Republic of Zimbabwe , is a landlocked country located in southern Africa , between the Zambezi and Limpopo Rivers , bordered by South Africa , Botswana , Zambia and Mozambique'),\n",
              " ('100 acres is equal to how many hectares?',\n",
              "  '1 square hectometre ( hm )',\n",
              "  {'answer_end': 313, 'answer_start': 287},\n",
              "  'Hectare - wikipedia Hectare Jump to : navigation , search Hectare Unit system non-SI metric system Unit of Area Symbol ha In SI base units : 1 ha = 10 m The hectare ( / ˈhɛktɛər , - tɑːr / ; SI symbol : ha ) is an SI accepted metric system unit of area equal to 100 ares ( 10,000 m ) or 1 square hectometre ( hm ) and primarily used in the measurement of land as a metric replacement for the imperial acre'),\n",
              " ('where was donovan mitchell picked in the draft?',\n",
              "  '13th',\n",
              "  {'answer_end': 192, 'answer_start': 188},\n",
              "  '91 m ) Listed weight 215 lb ( 98 kg ) Career information High school Brewster Academy ( Wolfeboro , New Hampshire ) College Louisville ( 2015 -- 2017 ) NBA draft 2017 / Round : 1 / Pick : 13th overall Selected by the Denver Nuggets Playing career 2017 -- present Career history 2017 -- present Utah Jazz Career highlights and awards NBA All - Rookie First Team ( 2018 ) NBA Slam Dunk Contest champion ( 2018 ) First - team All - ACC ( 2017 ) Stats at NBA'),\n",
              " ('where did the beatles final live performance take place?',\n",
              "  \"the roof of the headquarters of the band 's multimedia corporation Apple Corps at 3 Savile Row\",\n",
              "  {'answer_end': 245, 'answer_start': 151},\n",
              "  \"On 30 January 1969 , the band , with keyboardist Billy Preston , surprised a central London office and fashion district with an impromptu concert from the roof of the headquarters of the band 's multimedia corporation Apple Corps at 3 Savile Row\"),\n",
              " ('who is the president of costa rica 2017?',\n",
              "  'Luis Guillermo Solís Rivera',\n",
              "  {'answer_end': 645, 'answer_start': 618},\n",
              "  \"Luis Guillermo Solís 47th President of Costa Rica Incumbent Assumed office 8 May 2014 Preceded by Laura Chinchilla First Vice President Helio Fallas Venegas Second Vice President Ana Helena Chacón Echeverría Personal details ( 1958 - 04 - 25 ) 25 April 1958 ( age 59 ) San José , Costa Rica Political party National Liberation Party ( Before 2005 ) Citizens ' Action Party ( 2009 -- present ) Spouse ( s ) Nancy Richards ( 1987 -- 2006 ) Domestic partner Mercedes Peñas Domingo ( 2006 -- Present ) Children 6 ( 5 with Richards ) Alma mater University of Costa Rica Tulane University University of Michigan , Ann Arbor Luis Guillermo Solís Rivera ( born 25 April 1958 ) is a Costa Rican politician who has been President of Costa Rica since 2014\"),\n",
              " ('when did power rangers tv show come out?',\n",
              "  'August 28 , 1993',\n",
              "  {'answer_end': 90, 'answer_start': 74},\n",
              "  'The first Power Rangers entry , Mighty Morphin Power Rangers , debuted on August 28 , 1993 , and helped launch the Fox Kids programming block of the 1990s , during which it catapulted into popular culture along with a line of action figures and other toys by Bandai'),\n",
              " ('how many beverly hills cops movies are there?',\n",
              "  'three',\n",
              "  {'answer_end': 120, 'answer_start': 115},\n",
              "  \"Murphy , Reinhold , and Gil Hill , who plays Axel 's boss , Inspector Todd , are the only actors who appear in all three films\"),\n",
              " (\"who holds the most women's wimbledon titles?\",\n",
              "  'Martina Navratilova',\n",
              "  {'answer_end': 145, 'answer_start': 126},\n",
              "  'html Most titles Amateur era 7 : Dorothea Lambert Chambers ( challenge round ) 8 : Helen Wills Moody ( regular ) Open era 9 : Martina Navratilova Most consecutive titles Amateur era 3 : Lottie Dod Suzanne Lenglen ( challenge round ) 4 : Helen Wills Moody ( regular ) Open era 6 : Martina Navratilova Current champion Angelique Kerber ( 1st singles title ) The Championships , Wimbledon is an annual tennis tournament first contested in 1877 and played on outdoor grass courts at the All England Lawn Tennis and Croquet Club ( AELTC ) in the Wimbledon suburb of London , United Kingdom'),\n",
              " ('where does jinx you owe me a coke come from?',\n",
              "  \"Jinx is a children 's game with varying rules and penalties that occur when two people unintentionally speak the same word or phrase simultaneously\",\n",
              "  {'answer_end': 241, 'answer_start': 94},\n",
              "  \"Jinx ( Children 's game ) - wikipedia Jinx ( Children 's game ) Jump to : navigation , search Jinx is a children 's game with varying rules and penalties that occur when two people unintentionally speak the same word or phrase simultaneously\"),\n",
              " ('where does the last name hickey come from?',\n",
              "  'Irish origin',\n",
              "  {'answer_end': 122, 'answer_start': 110},\n",
              "  'Hickey ( surname ) - wikipedia Hickey ( surname ) Jump to : navigation , search Hickey is a common surname of Irish origin'),\n",
              " ('where is the greatest royal rumble taking place?',\n",
              "  'Jeddah , Saudi Arabia',\n",
              "  {'answer_end': 424, 'answer_start': 403},\n",
              "  \"WWE Greatest Royal Rumble - Wikipedia WWE Greatest Royal Rumble Jump to : navigation , search Greatest Royal Rumble Promotional poster featuring various WWE wrestlers Theme song ( s ) `` When Legends Rise '' by Godsmack Information Promotion WWE Brand ( s ) Raw SmackDown Sponsor ( s ) Saudi General Sports Authority Date April 27 , 2018 Attendance 60,000 Venue King Abdullah International Stadium City Jeddah , Saudi Arabia WWE Network event chronology WrestleMania 34 Greatest Royal Rumble Backlash ( 2018 ) Greatest Royal Rumble was a professional wrestling pay - per - view event and WWE Network event promoted by WWE for their Raw and SmackDown brands\"),\n",
              " ('who sang my name is tallulah in bugsy malone?',\n",
              "  \"Louise `` Liberty '' Williams\",\n",
              "  {'answer_end': 215, 'answer_start': 186},\n",
              "  \"The track listing is : `` Bugsy Malone '' -- Paul Williams `` Fat Sam 's Grand Slam '' -- Paul Williams `` Tomorrow '' `` Bad Guys '' `` I 'm Feeling Fine '' `` My Name Is Tallulah '' - Louise `` Liberty '' Williams `` So You Wanna Be a Boxer ? '' `` Ordinary Fool '' `` Down and Out '' `` You Give a Little Love '' -- Paul Williams A cast recording of the National Youth Music Theatre stage version of Bugsy Malone was released in 1998\"),\n",
              " (\"what is andy's sisters name in toy story?\",\n",
              "  'Molly',\n",
              "  {'answer_end': 7, 'answer_start': 2},\n",
              "  '3 Molly Davis 4'),\n",
              " ('who sings with shaggy on it wasn me?',\n",
              "  'English - Jamaican singer Rikrok',\n",
              "  {'answer_end': 62, 'answer_start': 30},\n",
              "  'The song features vocals from English - Jamaican singer Rikrok'),\n",
              " ('what is the largest catholic high school in america?',\n",
              "  'St. Francis Preparatory School',\n",
              "  {'answer_end': 35, 'answer_start': 5},\n",
              "  'org/ St. Francis Preparatory School , commonly known as St'),\n",
              " ('who established the peoples republic of china in 1949?',\n",
              "  'Mao Zedong',\n",
              "  {'answer_end': 1192, 'answer_start': 1182},\n",
              "  \"1046 -- 256 BCE Western Zhou Eastern Zhou Spring and Autumn Warring States IMPERIAL Qin dynasty 221 -- 206 BCE Han dynasty 206 BCE -- 220 CE Western Han Xin dynasty Eastern Han Three Kingdoms 220 -- 280 Wei , Shu and Wu Jin dynasty 265 -- 420 Western Jin Eastern Jin Sixteen Kingdoms Northern and Southern dynasties 420 -- 589 Sui dynasty 581 -- 618 Tang dynasty 618 -- 907 ( Second Zhou dynasty 690 -- 705 ) Five Dynasties and Ten Kingdoms 907 -- 960 Liao dynasty 907 -- 1125 Song dynasty 960 -- 1279 Northern Song Western Xia Southern Song Jin Yuan dynasty 1271 -- 1368 Ming dynasty 1368 -- 1644 Qing dynasty 1644 -- 1912 MODERN Republic of China 1912 -- 1949 People 's Republic of China 1949 -- present Related articles Chinese historiography Timeline of Chinese history Dynasties in Chinese history Linguistic history Art history Economic history Education history Science and technology history Legal history Media history Military history Naval history view talk The history of the People 's Republic of China details the history of mainland China since October 1 , 1949 , when , after a near complete victory by the Chinese Communist Party ( CCP ) in the Chinese Civil War , Mao Zedong proclaimed the People 's Republic of China ( PRC ) from atop Tiananmen\"),\n",
              " ('who sang take that look off your face?',\n",
              "  'Marti Webb',\n",
              "  {'answer_end': 155, 'answer_start': 145},\n",
              "  \"Take that Look Off Your Face - Wikipedia Take that Look Off Your Face Jump to : navigation , search `` Take That Look Off Your Face '' Single by Marti Webb from the album Tell Me on a Sunday B - side `` Sheldon Bloom '' Released January 1980 Format 7 '' single Recorded 1979 Genre Pop , MOR , Theatrical Length 3 : 27 Label Polydor Songwriter ( s ) Andrew Lloyd Webber , Don Black Producer ( s ) Andrew Lloyd Webber Marti Webb singles chronology `` D - Darling '' ( 1973 ) `` Take That Look Off Your Face '' ( 1980 ) `` Tell Me on a Sunday '' ( 1980 ) `` D - Darling '' ( 1973 ) `` Take That Look Off Your Face '' ( 1980 ) `` Tell Me on a Sunday '' ( 1980 ) `` Take That Look Off Your Face '' is the title of a hit song by musical theatre composer Andrew Lloyd Webber\"),\n",
              " ('who plays percy in the lost city of z?',\n",
              "  'Charlie Hunnam',\n",
              "  {'answer_end': 57, 'answer_start': 43},\n",
              "  'James Gray directed the film , which stars Charlie Hunnam as Fawcett and was released in April 2017'),\n",
              " ('who plays the first lady on house of cards?',\n",
              "  'Joanna C. Going',\n",
              "  {'answer_end': 15, 'answer_start': 0},\n",
              "  'Joanna C. Going ( 1963 - 07 - 22 ) July 22 , 1963 ( age 54 ) Washington , DC'),\n",
              " ('who owns st andrews golf course in scotland?',\n",
              "  'The St Andrews Links Trust',\n",
              "  {'answer_end': 49, 'answer_start': 23},\n",
              "  'It is held in trust by The St Andrews Links Trust under an act of Parliament'),\n",
              " ('which city and state hosts the annual college world series?',\n",
              "  'Omaha , Nebraska',\n",
              "  {'answer_end': 251, 'answer_start': 235},\n",
              "  'College World Series First played 1947 Most recently played 2017 Current champions Florida ( 1st title ) Current runners - up LSU Most titles USC ( 12 ) The College World Series , or CWS , is an annual June baseball tournament held in Omaha , Nebraska'),\n",
              " ('who is ted talking about in how i met your mother?',\n",
              "  'Tracy McConnell',\n",
              "  {'answer_end': 131, 'answer_start': 116},\n",
              "  \"The Mother ( How I Met Your Mother ) - wikipedia The Mother ( How I Met Your Mother ) Jump to : navigation , search Tracy McConnell How I Met Your Mother character The Mother appearing in `` The Locket '' First appearance `` Lucky Penny ( unseen ) '' `` Something New '' ( seen ) Last appearance `` Last Forever '' Created by Carter Bays Craig Thomas Portrayed by Cristin Milioti Information Aliases The Mother Gender Female Spouse ( s ) Ted Mosby Significant other ( s ) Max ( deceased former boyfriend ) Louis ( ex-boyfriend ) Children Penny Mosby ( daughter , born in 2015 , played by Lyndsy Fonseca ) Luke Mosby ( son , born in 2017 , played by David Henrie ) Nationality American Tracy McConnell , better known as `` The Mother '' , is the title character from the CBS television sitcom How I Met Your Mother\"),\n",
              " (\"when does grey's anatomy season 14 premiere?\",\n",
              "  'September 28 , 2017',\n",
              "  {'answer_end': 80, 'answer_start': 61},\n",
              "  \"of episodes 12 Release Original network ABC Original release September 28 , 2017 ( 2017 - 09 - 28 ) -- present Season chronology ← Previous Season 13 List of Grey 's Anatomy episodes The fourteenth season of the American television medical drama Grey 's Anatomy was ordered on February 10 , 2017 , by American Broadcasting Company ( ABC ) , and premiered on September 28 , 2017 with a special two - hour premiere\"),\n",
              " ('the partial pressure of carbon dioxide in arterial blood is approximately?',\n",
              "  'at sea level ( 765 mmHg ) in arterial blood is between 35 mmHg and 45 mmHg',\n",
              "  {'answer_end': 155, 'answer_start': 81},\n",
              "  'Arterial blood carbon dioxide tension P CO -- Partial pressure of carbon dioxide at sea level ( 765 mmHg ) in arterial blood is between 35 mmHg and 45 mmHg'),\n",
              " (\"what was uncle jesse's original last name on full house?\",\n",
              "  'Cochran',\n",
              "  {'answer_end': 768, 'answer_start': 761},\n",
              "  \"Tanner Candace Cameron Bure Main Stephanie Tanner Jodie Sweetin Main Michelle Tanner Mary - Kate & Ashley Olsen Recurring Main Rebecca Donaldson Katsopolis Lori Loughlin Recurring Main Recurring Kimmy Gibbler Andrea Barber Recurring Main Steve Hale Scott Weinger Guest Main Guest Recurring Main Nicky and Alex Katsopolis Blake and Dylan Tuomy - Wilhoit Recurring Main Guest Jackson Fuller Michael Campion Main Max Fuller Elias Harger Main Ramona Gibbler Soni Nicole Bringas Main Tommy Fuller Dashiell & Fox Messitt Main Fernando Hernandez - Guerrero - Fernandez - Guerrero Juan Pablo Di Pace Recurring Main Matt Harmon John Brotherton Recurring Main Lola Wong Ashley Liao Recurring Main Guest Jimmy Gibbler Adam Hagenbuch Recurring Main Note Jump up ^ `` Jesse Cochran '' during season one Jump up ^ Daniel and Kevin Renteria ( as babies ) ^ Note 1 : Scott Weinger , John Brotherton , Ashley Liao and Adam Hagenbuch are credited after the opening credits and only for the episodes in which they appear\"),\n",
              " ('who pays the judgements on the judge mathis show?',\n",
              "  'Greg Mathis',\n",
              "  {'answer_end': 62, 'answer_start': 51},\n",
              "  'For the eponymous arbiter of this court show , see Greg Mathis'),\n",
              " ('who made up the elf on the shelf?',\n",
              "  'Chanda Bell',\n",
              "  {'answer_end': 163, 'answer_start': 152},\n",
              "  \"The Elf on the Shelf - wikipedia The Elf on the Shelf Jump to : navigation , search The Elf on the Shelf : A Christmas Tradition Author Carol Aebersold Chanda Bell Illustrator Coë Steinwart Language English Genre Picture book Publisher CCA and B Publishing Publication date 2005 Published in English 2005 ISBN 978 - 0 - 9769907 - 9 - 6 The Elf on the Shelf : A Christmas Tradition is a 2005 children 's picture book , written by Carol Aebersold and her daughter Chanda Bell , and illustrated by Coë Steinwart\"),\n",
              " ('who warned concord that the british were coming?',\n",
              "  'Samuel Prescott',\n",
              "  {'answer_end': 15, 'answer_start': 0},\n",
              "  'Samuel Prescott - wikipedia Samuel Prescott For other people named Samuel Prescott , see Samuel Prescott ( disambiguation )'),\n",
              " ('who lasted the longest on alone season 2?',\n",
              "  'David McIntyre',\n",
              "  {'answer_end': 14, 'answer_start': 0},\n",
              "  'David McIntyre 50 Male Kentwood , Michigan United States Winner - 66 days Larry Roberts 44 Male Rush City , Minnesota United States 64 days Jose Martinez Amoedo 45 Male Santa Pola , Valencia Spain 59 days Nicole Apelian 45 Female Portland , Oregon United States 57 days Justin Vititoe 35 Male Augusta , Georgia United States 35 days Randy Champagne 28 Male Flagstaff , Arizona & Boulder , Utah United States 21 days Mike Lowe 55 Male Lewis , Colorado United States 21 days Tracy Wilson 44 Female Aiken , South Carolina United States 8 days Mary Kate Green 36 Female Homer , Alaska United States 7 days ( medically evacuated ) Desmond White 37 Male Coolidge , Arizona United States ~ 5 hours Season 3 ( edit ) The third season premiered on December 8 , 2016'),\n",
              " ('where is the us military base in japan?',\n",
              "  'Yokota Air Base , Fussa , Western Tokyo',\n",
              "  {'answer_end': 54, 'answer_start': 15},\n",
              "  ') Headquarters Yokota Air Base , Fussa , Western Tokyo Nickname ( s ) USFJ The United States Forces Japan ( USFJ ) ( 在 日 米 軍 , Zainichi Beigun ) is an active subordinate unified command of the United States Indo - Pacific Command ( USINDOPACOM )'),\n",
              " ('who determines the size of the supreme court?',\n",
              "  'Congress',\n",
              "  {'answer_end': 709, 'answer_start': 701},\n",
              "  \"Roberts Since September 29 , 2005 This article is part of the series on the United States Supreme Court The Court Decisions Procedure History Court Building Current membership Chief Justice John Roberts Associate Justices Anthony Kennedy Clarence Thomas Ruth Bader Ginsburg Stephen Breyer Samuel Alito Sonia Sotomayor Elena Kagan Neil Gorsuch Retired Associate Justices John Paul Stevens Sandra Day O'Connor David Souter All members List of all members by court by seat by time in office by education Succession Timeline List of Chief Justices List of Associate Justices Specialty lists All nominations Unsuccessful nominations Nominations late in presidency Court demographics Justices who served in Congress Ideological leanings of justices Court functionaries Clerks Reporter of Decisions Supreme Court Police Other countries Law Portal The Supreme Court of the United States is the highest federal court of the United States\"),\n",
              " ('who is the actor that plays lucifer on tv?',\n",
              "  'Thomas John Ellis',\n",
              "  {'answer_end': 119, 'answer_start': 102},\n",
              "  'Tom Ellis ( actor ) - wikipedia Tom Ellis ( actor ) Tom Ellis Tom Ellis at 2015 San Diego Comic - Con Thomas John Ellis ( 1978 - 11 - 17 ) 17 November 1978 ( age 39 ) Cardiff , Wales Residence Los Angeles , California , U'),\n",
              " ('who designed the national coat of arms of south africa?',\n",
              "  'Iaan Bekker',\n",
              "  {'answer_end': 11, 'answer_start': 0},\n",
              "  \"Iaan Bekker 's design was chosen\"),\n",
              " ('when does model code of conduct come into force?',\n",
              "  'immediately on announcement of the election schedule by the commission',\n",
              "  {'answer_end': 113, 'answer_start': 43},\n",
              "  'The Model Code of Conduct comes into force immediately on announcement of the election schedule by the commission for the need of ensuring free and fair elections'),\n",
              " ('when did now thats what i call music come out?',\n",
              "  '28 November 1983',\n",
              "  {'answer_end': 218, 'answer_start': 202},\n",
              "  \"For more information , see Now That 's What I Call Music ! ( disambiguation ) and Now That 's What I Call Music ! discography Now That 's What I Call Music Compilation album by various artists Released 28 November 1983 Length 1 : 55 : 00 Label Virgin / EMI Series chronology Now That 's What I Call Music ( 1983 ) Now That 's What I Call Music II ( 1984 ) Now That 's What I Call Music ( also simply titled Now or Now 1 ) is the first album from the popular Now ! series that was released in the United Kingdom on 28 November 1983\"),\n",
              " ('where is the 2018 grey cup being played?',\n",
              "  'The Brick Field at Commonwealth Stadium in Edmonton , Alberta',\n",
              "  {'answer_end': 99, 'answer_start': 38},\n",
              "  'The game is scheduled to be played at The Brick Field at Commonwealth Stadium in Edmonton , Alberta on Sunday , November 25 , 2018'),\n",
              " ('where did the band bastille get their name?',\n",
              "  'Bastille Day',\n",
              "  {'answer_end': 46, 'answer_start': 34},\n",
              "  \"The name of the band derives from Bastille Day , which is celebrated on 14 July , the date of Smith 's birthday\"),\n",
              " ('where is arkansas river located on a map?',\n",
              "  'The Arkansas River flows through Colorado , Kansas , Oklahoma , and Arkansas , and its watershed also drains parts of Texas , New Mexico and Missouri .',\n",
              "  {'answer_end': 274, 'answer_start': 123},\n",
              "  '3 ) - average 40,517 cu ft / s ( 1,147 m / s ) - max 683,000 cu ft / s ( 19,340 m / s ) - min 1,207 cu ft / s ( 34 m / s ) The Arkansas River flows through Colorado , Kansas , Oklahoma , and Arkansas , and its watershed also drains parts of Texas , New Mexico and Missouri . The Arkansas River is a major tributary of the Mississippi River'),\n",
              " ('who plays nicholas in the princess diaries 2?',\n",
              "  'Chris Pine',\n",
              "  {'answer_end': 465, 'answer_start': 455},\n",
              "  'The Princess Diaries 2 : Royal Engagement - wikipedia The Princess Diaries 2 : Royal Engagement Jump to : navigation , search The Princess Diaries 2 : Royal Engagement Theatrical release poster Directed by Garry Marshall Produced by Whitney Houston Debra Martin Chase Screenplay by Shonda Rhimes Story by Shonda Rhimes Gina Wendkos Based on Characters by Meg Cabot Starring Julie Andrews Anne Hathaway Heather Matarazzo John Rhys - Davies Héctor Elizondo Chris Pine Music by John Debney Cinematography Charles Minsky Edited by Bruce Green Production companies Walt Disney Pictures ShondaLand Martin Chase Productions Distributed by Buena Vista Pictures Release date August 11 , 2004 ( 2004 - 08 - 11 ) Running time 113 minutes Country United States Language English Budget $40 million Box office $134'),\n",
              " ('the p-wave phase of an electrocardiogram (ecg) represents?',\n",
              "  'atrial depolarization',\n",
              "  {'answer_end': 164, 'answer_start': 143},\n",
              "  'P wave ( electrocardiography ) - wikipedia P wave ( electrocardiography ) Normal P wave , shown in darker red The P wave in the ECG represents atrial depolarization , which results in atrial contraction , or atrial systole'),\n",
              " ('when did star trek the next generation first air?',\n",
              "  'September 28 , 1987',\n",
              "  {'answer_end': 48, 'answer_start': 29},\n",
              "  '1 Blu - ray Original release September 28 , 1987 ( 1987 - 09 - 28 ) -- May 23 , 1994 ( 1994 - 05 - 23 ) Chronology Preceded by Star Trek : The Animated Series Followed by Star Trek : Deep Space Nine Related shows Star Trek TV series External links Star Trek : The Next Generation at StarTrek'),\n",
              " ('who sang the most wonderful summer of my life?',\n",
              "  'Jackie Ward',\n",
              "  {'answer_end': 85, 'answer_start': 74},\n",
              "  \"( January 2018 ) Robin Ward Birth name Jacqueline McDonnell Also known as Jackie Ward 1941 ( age 76 -- 77 ) Hawaii , USA Genres Pop , TV theme songs , Movie songs , Advertising Occupation ( s ) Singer Instruments Voice Years active 1954 -- 1979 Labels Dot Records Associated acts Partridge Family , Ray Conniff Singers , Ron Hicklin Singers Jackie Ward ( born Jacqueline McDonnell , 1941 ) , better known as Robin Ward , is an American singer , regarded as a `` one - hit wonder '' of 1963 million - selling song `` Wonderful Summer ''\"),\n",
              " ('how many oscars did on golden pond win?',\n",
              "  'three',\n",
              "  {'answer_end': 97, 'answer_start': 92},\n",
              "  'The film received ten nominations at the 54th Academy Awards including Best Picture and won three : Best Actor ( Fonda ) , Best Actress ( Hepburn ) and Best Adapted Screenplay ( Thompson )'),\n",
              " (\"who won season 4 of america's got talent?\",\n",
              "  'Kevin Skinner',\n",
              "  {'answer_end': 271, 'answer_start': 258},\n",
              "  \"America 's Got Talent ( season 4 ) - wikipedia America 's Got Talent ( season 4 ) America 's Got Talent Season 4 Broadcast from June 23 -- September 16 , 2009 Judges Piers Morgan Sharon Osbourne David Hasselhoff Host ( s ) Nick Cannon Broadcaster NBC Winner Kevin Skinner Kevin Skinner Origin Mayfield , Kentucky Genre ( s ) Country music Runner - up Bárbara Padilla Chronology ◀ 2009 ▶ The fourth season of America 's Got Talent , an American television reality show talent competition , premiered on the NBC network on June 23 , 2009\"),\n",
              " ('how many episodes on queen of the south season 1?',\n",
              "  '13',\n",
              "  {'answer_end': 101, 'answer_start': 99},\n",
              "  'Episodes ( edit ) Series overview ( edit ) Season Episodes Originally aired First aired Last aired 13 June 23 , 2016 ( 2016 - 06 - 23 ) September 15 , 2016 ( 2016 - 09 - 15 ) 13 June 8 , 2017 ( 2017 - 06 - 08 ) August 31 , 2017 ( 2017 - 08 - 31 ) Season 1 ( 2016 ) ( edit ) No'),\n",
              " ('who is the existing prime minister of pakistan?',\n",
              "  'Imran Khan',\n",
              "  {'answer_end': 576, 'answer_start': 566},\n",
              "  'List of Prime ministers of Pakistan - Wikipedia List of Prime ministers of Pakistan Flag of the Prime Minister of Pakistan Pakistan This article is part of a series on the politics and government of Pakistan Constitution ( show ) Previous constitutions : 1956 1962 1973 Annex ( written 1949 , incorporated 1985 ) Amendments Law Government ( show ) President ( list ) : Arif Alvi Parliament Senate Chairman : Sadiq Sanjrani Deputy Chairman : Saleem Mandviwalla National Assembly Speaker : Asad Qaiser Deputy Speaker : Qasim Suri Executive : Prime Minister ( list ) : Imran Khan Federal Cabinet Federal Agencies Civil Service Judiciary Supreme Judicial Council Supreme Court Chief Justice Federal Shariat Court Supreme Appellate Court Gilgit - Baltistan Chief Justices Islamabad High Court Provincial High Courts Chief Court Gilgit - Baltistan District Courts Elections ( show ) Election Commission Electoral College Recent elections Presidential : 2018 2013 2008 General : 2018 2013 2008 Political parties Pakistan Tehreek - e-Insaf Pakistan Muslim League ( N ) Pakistan Peoples Party Administrative units ( show ) Provinces Balochistan Khyber Pakhtunkhwa Punjab Sindh Territories Islamabad Autonomous region Azad Kashmir Gilgit -- Baltistan Federalism ( show ) Azad Kashmir government President Prime Minister Legislative Assembly Provincial governments Governors Chief Ministers Provincial Assemblies Local government Divisions Districts Tehsils Union councils Foreign relations ( show ) China - Pakistan relations India -- Pakistan relations Pakistan United States relations Kashmir conflict Embassies Other countries Atlas The Prime Minister of Pakistan ( Urdu : وزِیرِ اعظم \\u202c \\u200e -- Wazīr - ē Aʿẓam , Urdu pronunciation : ( ʋəˈziːr - ˌeː ˈɑː'),\n",
              " ('who is known as the father of texas?',\n",
              "  'Stephen Fuller Austin',\n",
              "  {'answer_end': 80, 'answer_start': 59},\n",
              "  \"Austin Jump to : navigation , search This article is about Stephen Fuller Austin , the `` Father of Texas ''\"),\n",
              " ('what is the orange stuff on my sushi?',\n",
              "  'tobiko',\n",
              "  {'answer_end': 23, 'answer_start': 17},\n",
              "  'For comparison , tobiko is larger than masago ( capelin roe ) , but smaller than ikura ( salmon roe )'),\n",
              " ('when did nsw last won a state of origin series?',\n",
              "  '2018',\n",
              "  {'answer_end': 110, 'answer_start': 106},\n",
              "  'State of Origin series - wikipedia State of Origin series State of Origin Current season or competition : 2018 State of Origin series Sport Rugby league Instituted 1982 Inaugural season 1980 Number of teams Country Australia ( ARLC ) Shield Holders New South Wales ( 2018 ) Website Official State of Origin website Broadcast partner Nine Network Related competitions City vs Country Origin Super League Tri-series The State of Origin series is the annual best - of - three rugby league football match series between two Australian state representative sides , the New South Wales Blues and the Queensland Maroons'),\n",
              " ('when does life is strange before the storm part 2?',\n",
              "  'October 2017',\n",
              "  {'answer_end': 579, 'answer_start': 567},\n",
              "  'Life is Strange : Before the Storm - Wikipedia Life is Strange : Before the Storm Jump to : navigation , search Life Is Strange : Before the Storm Developer ( s ) Deck Nine Publisher ( s ) Square Enix Director ( s ) Webb Pickersgill Chris Floyd Producer ( s ) David Lawrence Hein Zoe Brown Designer ( s ) William Beacham Programmer ( s ) Mark Lyons Danielle Cheah Artist ( s ) Andrew Weatherl Writer ( s ) Zak Garriss Composer ( s ) Daughter Engine Unity Platform ( s ) Microsoft Windows PlayStation 4 Xbox One Release Episode 1 WW : 31 August 2017 Episode 2 WW : 19 October 2017 Episode 3 WW : 20 December 2017 Genre ( s ) Graphic adventure Mode ( s ) Single - player Life Is Strange : Before the Storm is an episodic graphic adventure video game developed by Deck Nine and published by Square Enix'),\n",
              " ('where is sodom and gomorrah located in the bible?',\n",
              "  'on the Jordan River plain in the southern region of the land of Canaan',\n",
              "  {'answer_end': 193, 'answer_start': 123},\n",
              "  \"These five cities , also known as the `` cities of the plain '' ( from Genesis in the Authorized Version ) , were situated on the Jordan River plain in the southern region of the land of Canaan\"),\n",
              " ('when did the xbox 360 slim come out?',\n",
              "  'in 2010',\n",
              "  {'answer_end': 80, 'answer_start': 73},\n",
              "  'Microsoft released two redesigned models of the console : the Xbox 360 S in 2010 , and the Xbox 360 E in 2013'),\n",
              " ('who spread the theory that one is a product of the mind and body?',\n",
              "  'René Descartes',\n",
              "  {'answer_end': 180, 'answer_start': 166},\n",
              "  'Dualism is seen even in the Eastern tradition , in the Sankhya and Yoga schools of Hindu philosophy , and Plato , but its entry into Western philosophy was thanks to René Descartes in the 17th century'),\n",
              " ('how many goals scored ronaldo in his career?',\n",
              "  'over 670',\n",
              "  {'answer_end': 22, 'answer_start': 14},\n",
              "  'He has scored over 670 senior career goals for club and country'),\n",
              " ('who played tess on touched by an angel?',\n",
              "  'Delloreese Patricia Early ( July 6 , 1931 -- November 19 , 2017 ) , known professionally as Della Reese',\n",
              "  {'answer_end': 107, 'answer_start': 4},\n",
              "  'com Delloreese Patricia Early ( July 6 , 1931 -- November 19 , 2017 ) , known professionally as Della Reese , was an American jazz and gospel singer , actress , and ordained minister whose career spanned seven decades'),\n",
              " ('when did the hornets move to new orleans?',\n",
              "  '2002 -- 03 season',\n",
              "  {'answer_end': 81, 'answer_start': 64},\n",
              "  'The Pelicans were established as the New Orleans Hornets in the 2002 -- 03 season when then - owner of the Charlotte Hornets , George Shinn , relocated the franchise to New Orleans'),\n",
              " ('fish appeared in the fossil record during the?',\n",
              "  'the Cambrian explosion',\n",
              "  {'answer_end': 681, 'answer_start': 659},\n",
              "  'Evolution of fish - wikipedia Evolution of fish Jump to : navigation , search Fish Fossil range : Mid Cambrian -- Recent PreЄ Є Pg The Devonian period 419 -- 359 Ma ( Age of Fishes ) saw the development of early sharks , armoured placoderms and various lobe - finned fishes including the tetrapod transitional species Scientific classification Kingdom : Animalia Phylum : Chordata ( unranked ) Craniata Included groups Jawless fish † Armoured fish † Spiny sharks Cartilaginous fish Bony fish Ray - finned fish Lobe - finned fish Cladistically included but traditionally excluded groups Tetrapods The evolution of fish began about 530 million years ago during the Cambrian explosion'),\n",
              " ('who died from the band faith no more?',\n",
              "  'singer Chuck Mosley',\n",
              "  {'answer_end': 88, 'answer_start': 69},\n",
              "  \"'' In August 2016 , the band performed two concerts with former lead singer Chuck Mosley to celebrate the reissue of their debut album We Care a Lot\"),\n",
              " ('who signed the gun control act of 1968?',\n",
              "  'President Lyndon B. Johnson',\n",
              "  {'answer_end': 198, 'answer_start': 171},\n",
              "  '3633 ) Reported by the joint conference committee on October 10 , 1968 ; agreed to by the House on October 10 , 1968 ( 161 - 129 ) and by the Senate on Signed into law by President Lyndon B. Johnson on October 22 , 1968 Major amendments Firearm Owners Protection Act Firearm legal topics of the United States of America Amendment II Assault weapon Assault weapons legislation Bump stocks Bureau of Alcohol , Tobacco , Firearms and Explosives ( ATF ) Brady Handgun Violence Prevention Act Campus carry in the U'),\n",
              " ('where do frankenstein and the monster first meet?',\n",
              "  'the mountains',\n",
              "  {'answer_end': 63, 'answer_start': 50},\n",
              "  'Ravaged by grief and guilt , Victor retreats into the mountains'),\n",
              " ('the human tendency to mimic other people’s behavior is an example of?',\n",
              "  'Mirroring',\n",
              "  {'answer_end': 9, 'answer_start': 0},\n",
              "  'Mirroring ( psychology ) - wikipedia Mirroring ( psychology ) This article needs additional citations for verification'),\n",
              " ('when does season five of the killing come out?',\n",
              "  'a fourth season consisting of six episodes to conclude the series',\n",
              "  {'answer_end': 183, 'answer_start': 118},\n",
              "  'The Killing was again cancelled by AMC in September 2013 , but Netflix announced in November 2013 that it had ordered a fourth season consisting of six episodes to conclude the series'),\n",
              " ('how is the head of the church of england?',\n",
              "  'the monarch is the supreme governor',\n",
              "  {'answer_end': 101, 'answer_start': 66},\n",
              "  'The Archbishop of Canterbury is the most senior cleric , although the monarch is the supreme governor')]"
            ]
          },
          "metadata": {
            "tags": []
          },
          "execution_count": 55
        }
      ]
    },
    {
      "cell_type": "code",
      "metadata": {
        "id": "GCf-hfzt3N7a"
      },
      "source": [
        "\n",
        "import pickle\n",
        "\n",
        "pickle.dump(answer_datasets, open( \"answers.pkl\", \"wb\" ) )"
      ],
      "execution_count": 56,
      "outputs": []
    },
    {
      "cell_type": "code",
      "metadata": {
        "colab": {
          "base_uri": "https://localhost:8080/"
        },
        "id": "OHLgJozy3UVb",
        "outputId": "bcbacf9d-54c9-413b-dbb9-e18215abcaf7"
      },
      "source": [
        "!du -h answers.pkl"
      ],
      "execution_count": 57,
      "outputs": [
        {
          "output_type": "stream",
          "text": [
            "34K\tanswers.pkl\n"
          ],
          "name": "stdout"
        }
      ]
    },
    {
      "cell_type": "code",
      "metadata": {
        "id": "BFGlFfqK3Wqk"
      },
      "source": [
        ""
      ],
      "execution_count": null,
      "outputs": []
    }
  ]
}