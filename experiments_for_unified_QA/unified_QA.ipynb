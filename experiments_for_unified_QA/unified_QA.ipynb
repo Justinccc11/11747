{
  "nbformat": 4,
  "nbformat_minor": 0,
  "metadata": {
    "colab": {
      "name": "unified_QA.ipynb",
      "provenance": [],
      "collapsed_sections": []
    },
    "kernelspec": {
      "name": "python3",
      "display_name": "Python 3"
    },
    "language_info": {
      "name": "python"
    },
    "widgets": {
      "application/vnd.jupyter.widget-state+json": {
        "e7195b3b10204c0db778d55c3006c035": {
          "model_module": "@jupyter-widgets/controls",
          "model_name": "HBoxModel",
          "state": {
            "_view_name": "HBoxView",
            "_dom_classes": [],
            "_model_name": "HBoxModel",
            "_view_module": "@jupyter-widgets/controls",
            "_model_module_version": "1.5.0",
            "_view_count": null,
            "_view_module_version": "1.5.0",
            "box_style": "",
            "layout": "IPY_MODEL_110286852bf74ab58783cb96f49b3fd1",
            "_model_module": "@jupyter-widgets/controls",
            "children": [
              "IPY_MODEL_2dc779229034418db671ffa0bf7914e9",
              "IPY_MODEL_e075e34ea62945d891c91b500c3823a4"
            ]
          }
        },
        "110286852bf74ab58783cb96f49b3fd1": {
          "model_module": "@jupyter-widgets/base",
          "model_name": "LayoutModel",
          "state": {
            "_view_name": "LayoutView",
            "grid_template_rows": null,
            "right": null,
            "justify_content": null,
            "_view_module": "@jupyter-widgets/base",
            "overflow": null,
            "_model_module_version": "1.2.0",
            "_view_count": null,
            "flex_flow": null,
            "width": null,
            "min_width": null,
            "border": null,
            "align_items": null,
            "bottom": null,
            "_model_module": "@jupyter-widgets/base",
            "top": null,
            "grid_column": null,
            "overflow_y": null,
            "overflow_x": null,
            "grid_auto_flow": null,
            "grid_area": null,
            "grid_template_columns": null,
            "flex": null,
            "_model_name": "LayoutModel",
            "justify_items": null,
            "grid_row": null,
            "max_height": null,
            "align_content": null,
            "visibility": null,
            "align_self": null,
            "height": null,
            "min_height": null,
            "padding": null,
            "grid_auto_rows": null,
            "grid_gap": null,
            "max_width": null,
            "order": null,
            "_view_module_version": "1.2.0",
            "grid_template_areas": null,
            "object_position": null,
            "object_fit": null,
            "grid_auto_columns": null,
            "margin": null,
            "display": null,
            "left": null
          }
        },
        "2dc779229034418db671ffa0bf7914e9": {
          "model_module": "@jupyter-widgets/controls",
          "model_name": "FloatProgressModel",
          "state": {
            "_view_name": "ProgressView",
            "style": "IPY_MODEL_e11bb4f311854a37ade707a8b3592f63",
            "_dom_classes": [],
            "description": "Downloading: 100%",
            "_model_name": "FloatProgressModel",
            "bar_style": "success",
            "max": 898822,
            "_view_module": "@jupyter-widgets/controls",
            "_model_module_version": "1.5.0",
            "value": 898822,
            "_view_count": null,
            "_view_module_version": "1.5.0",
            "orientation": "horizontal",
            "min": 0,
            "description_tooltip": null,
            "_model_module": "@jupyter-widgets/controls",
            "layout": "IPY_MODEL_ad7e57164d3f4824afab22594d2128ee"
          }
        },
        "e075e34ea62945d891c91b500c3823a4": {
          "model_module": "@jupyter-widgets/controls",
          "model_name": "HTMLModel",
          "state": {
            "_view_name": "HTMLView",
            "style": "IPY_MODEL_6a2c94f175154077be49ce5af22965e6",
            "_dom_classes": [],
            "description": "",
            "_model_name": "HTMLModel",
            "placeholder": "​",
            "_view_module": "@jupyter-widgets/controls",
            "_model_module_version": "1.5.0",
            "value": " 899k/899k [00:01&lt;00:00, 653kB/s]",
            "_view_count": null,
            "_view_module_version": "1.5.0",
            "description_tooltip": null,
            "_model_module": "@jupyter-widgets/controls",
            "layout": "IPY_MODEL_6821012e6d5f41fb99cb37a672256f6b"
          }
        },
        "e11bb4f311854a37ade707a8b3592f63": {
          "model_module": "@jupyter-widgets/controls",
          "model_name": "ProgressStyleModel",
          "state": {
            "_view_name": "StyleView",
            "_model_name": "ProgressStyleModel",
            "description_width": "initial",
            "_view_module": "@jupyter-widgets/base",
            "_model_module_version": "1.5.0",
            "_view_count": null,
            "_view_module_version": "1.2.0",
            "bar_color": null,
            "_model_module": "@jupyter-widgets/controls"
          }
        },
        "ad7e57164d3f4824afab22594d2128ee": {
          "model_module": "@jupyter-widgets/base",
          "model_name": "LayoutModel",
          "state": {
            "_view_name": "LayoutView",
            "grid_template_rows": null,
            "right": null,
            "justify_content": null,
            "_view_module": "@jupyter-widgets/base",
            "overflow": null,
            "_model_module_version": "1.2.0",
            "_view_count": null,
            "flex_flow": null,
            "width": null,
            "min_width": null,
            "border": null,
            "align_items": null,
            "bottom": null,
            "_model_module": "@jupyter-widgets/base",
            "top": null,
            "grid_column": null,
            "overflow_y": null,
            "overflow_x": null,
            "grid_auto_flow": null,
            "grid_area": null,
            "grid_template_columns": null,
            "flex": null,
            "_model_name": "LayoutModel",
            "justify_items": null,
            "grid_row": null,
            "max_height": null,
            "align_content": null,
            "visibility": null,
            "align_self": null,
            "height": null,
            "min_height": null,
            "padding": null,
            "grid_auto_rows": null,
            "grid_gap": null,
            "max_width": null,
            "order": null,
            "_view_module_version": "1.2.0",
            "grid_template_areas": null,
            "object_position": null,
            "object_fit": null,
            "grid_auto_columns": null,
            "margin": null,
            "display": null,
            "left": null
          }
        },
        "6a2c94f175154077be49ce5af22965e6": {
          "model_module": "@jupyter-widgets/controls",
          "model_name": "DescriptionStyleModel",
          "state": {
            "_view_name": "StyleView",
            "_model_name": "DescriptionStyleModel",
            "description_width": "",
            "_view_module": "@jupyter-widgets/base",
            "_model_module_version": "1.5.0",
            "_view_count": null,
            "_view_module_version": "1.2.0",
            "_model_module": "@jupyter-widgets/controls"
          }
        },
        "6821012e6d5f41fb99cb37a672256f6b": {
          "model_module": "@jupyter-widgets/base",
          "model_name": "LayoutModel",
          "state": {
            "_view_name": "LayoutView",
            "grid_template_rows": null,
            "right": null,
            "justify_content": null,
            "_view_module": "@jupyter-widgets/base",
            "overflow": null,
            "_model_module_version": "1.2.0",
            "_view_count": null,
            "flex_flow": null,
            "width": null,
            "min_width": null,
            "border": null,
            "align_items": null,
            "bottom": null,
            "_model_module": "@jupyter-widgets/base",
            "top": null,
            "grid_column": null,
            "overflow_y": null,
            "overflow_x": null,
            "grid_auto_flow": null,
            "grid_area": null,
            "grid_template_columns": null,
            "flex": null,
            "_model_name": "LayoutModel",
            "justify_items": null,
            "grid_row": null,
            "max_height": null,
            "align_content": null,
            "visibility": null,
            "align_self": null,
            "height": null,
            "min_height": null,
            "padding": null,
            "grid_auto_rows": null,
            "grid_gap": null,
            "max_width": null,
            "order": null,
            "_view_module_version": "1.2.0",
            "grid_template_areas": null,
            "object_position": null,
            "object_fit": null,
            "grid_auto_columns": null,
            "margin": null,
            "display": null,
            "left": null
          }
        },
        "08dc2d24a0c740df966455379fbdbf50": {
          "model_module": "@jupyter-widgets/controls",
          "model_name": "HBoxModel",
          "state": {
            "_view_name": "HBoxView",
            "_dom_classes": [],
            "_model_name": "HBoxModel",
            "_view_module": "@jupyter-widgets/controls",
            "_model_module_version": "1.5.0",
            "_view_count": null,
            "_view_module_version": "1.5.0",
            "box_style": "",
            "layout": "IPY_MODEL_e079e4076f9e4ca3bd1392979c6c5be2",
            "_model_module": "@jupyter-widgets/controls",
            "children": [
              "IPY_MODEL_c4cbaa3c590b40db97ea050b0ec0a8c1",
              "IPY_MODEL_29ed56a6c5fc48c08fed56d1bd70a77c"
            ]
          }
        },
        "e079e4076f9e4ca3bd1392979c6c5be2": {
          "model_module": "@jupyter-widgets/base",
          "model_name": "LayoutModel",
          "state": {
            "_view_name": "LayoutView",
            "grid_template_rows": null,
            "right": null,
            "justify_content": null,
            "_view_module": "@jupyter-widgets/base",
            "overflow": null,
            "_model_module_version": "1.2.0",
            "_view_count": null,
            "flex_flow": null,
            "width": null,
            "min_width": null,
            "border": null,
            "align_items": null,
            "bottom": null,
            "_model_module": "@jupyter-widgets/base",
            "top": null,
            "grid_column": null,
            "overflow_y": null,
            "overflow_x": null,
            "grid_auto_flow": null,
            "grid_area": null,
            "grid_template_columns": null,
            "flex": null,
            "_model_name": "LayoutModel",
            "justify_items": null,
            "grid_row": null,
            "max_height": null,
            "align_content": null,
            "visibility": null,
            "align_self": null,
            "height": null,
            "min_height": null,
            "padding": null,
            "grid_auto_rows": null,
            "grid_gap": null,
            "max_width": null,
            "order": null,
            "_view_module_version": "1.2.0",
            "grid_template_areas": null,
            "object_position": null,
            "object_fit": null,
            "grid_auto_columns": null,
            "margin": null,
            "display": null,
            "left": null
          }
        },
        "c4cbaa3c590b40db97ea050b0ec0a8c1": {
          "model_module": "@jupyter-widgets/controls",
          "model_name": "FloatProgressModel",
          "state": {
            "_view_name": "ProgressView",
            "style": "IPY_MODEL_f42827b4c8a941d5ab2b30c8ca18f80c",
            "_dom_classes": [],
            "description": "Downloading: 100%",
            "_model_name": "FloatProgressModel",
            "bar_style": "success",
            "max": 456318,
            "_view_module": "@jupyter-widgets/controls",
            "_model_module_version": "1.5.0",
            "value": 456318,
            "_view_count": null,
            "_view_module_version": "1.5.0",
            "orientation": "horizontal",
            "min": 0,
            "description_tooltip": null,
            "_model_module": "@jupyter-widgets/controls",
            "layout": "IPY_MODEL_0b9e31178b6446c597f727706fa1f157"
          }
        },
        "29ed56a6c5fc48c08fed56d1bd70a77c": {
          "model_module": "@jupyter-widgets/controls",
          "model_name": "HTMLModel",
          "state": {
            "_view_name": "HTMLView",
            "style": "IPY_MODEL_48af5d3e949d49ddb12ae3b7d61de74f",
            "_dom_classes": [],
            "description": "",
            "_model_name": "HTMLModel",
            "placeholder": "​",
            "_view_module": "@jupyter-widgets/controls",
            "_model_module_version": "1.5.0",
            "value": " 456k/456k [00:00&lt;00:00, 557kB/s]",
            "_view_count": null,
            "_view_module_version": "1.5.0",
            "description_tooltip": null,
            "_model_module": "@jupyter-widgets/controls",
            "layout": "IPY_MODEL_01cfdb5d7d164f9bac434dc430c16150"
          }
        },
        "f42827b4c8a941d5ab2b30c8ca18f80c": {
          "model_module": "@jupyter-widgets/controls",
          "model_name": "ProgressStyleModel",
          "state": {
            "_view_name": "StyleView",
            "_model_name": "ProgressStyleModel",
            "description_width": "initial",
            "_view_module": "@jupyter-widgets/base",
            "_model_module_version": "1.5.0",
            "_view_count": null,
            "_view_module_version": "1.2.0",
            "bar_color": null,
            "_model_module": "@jupyter-widgets/controls"
          }
        },
        "0b9e31178b6446c597f727706fa1f157": {
          "model_module": "@jupyter-widgets/base",
          "model_name": "LayoutModel",
          "state": {
            "_view_name": "LayoutView",
            "grid_template_rows": null,
            "right": null,
            "justify_content": null,
            "_view_module": "@jupyter-widgets/base",
            "overflow": null,
            "_model_module_version": "1.2.0",
            "_view_count": null,
            "flex_flow": null,
            "width": null,
            "min_width": null,
            "border": null,
            "align_items": null,
            "bottom": null,
            "_model_module": "@jupyter-widgets/base",
            "top": null,
            "grid_column": null,
            "overflow_y": null,
            "overflow_x": null,
            "grid_auto_flow": null,
            "grid_area": null,
            "grid_template_columns": null,
            "flex": null,
            "_model_name": "LayoutModel",
            "justify_items": null,
            "grid_row": null,
            "max_height": null,
            "align_content": null,
            "visibility": null,
            "align_self": null,
            "height": null,
            "min_height": null,
            "padding": null,
            "grid_auto_rows": null,
            "grid_gap": null,
            "max_width": null,
            "order": null,
            "_view_module_version": "1.2.0",
            "grid_template_areas": null,
            "object_position": null,
            "object_fit": null,
            "grid_auto_columns": null,
            "margin": null,
            "display": null,
            "left": null
          }
        },
        "48af5d3e949d49ddb12ae3b7d61de74f": {
          "model_module": "@jupyter-widgets/controls",
          "model_name": "DescriptionStyleModel",
          "state": {
            "_view_name": "StyleView",
            "_model_name": "DescriptionStyleModel",
            "description_width": "",
            "_view_module": "@jupyter-widgets/base",
            "_model_module_version": "1.5.0",
            "_view_count": null,
            "_view_module_version": "1.2.0",
            "_model_module": "@jupyter-widgets/controls"
          }
        },
        "01cfdb5d7d164f9bac434dc430c16150": {
          "model_module": "@jupyter-widgets/base",
          "model_name": "LayoutModel",
          "state": {
            "_view_name": "LayoutView",
            "grid_template_rows": null,
            "right": null,
            "justify_content": null,
            "_view_module": "@jupyter-widgets/base",
            "overflow": null,
            "_model_module_version": "1.2.0",
            "_view_count": null,
            "flex_flow": null,
            "width": null,
            "min_width": null,
            "border": null,
            "align_items": null,
            "bottom": null,
            "_model_module": "@jupyter-widgets/base",
            "top": null,
            "grid_column": null,
            "overflow_y": null,
            "overflow_x": null,
            "grid_auto_flow": null,
            "grid_area": null,
            "grid_template_columns": null,
            "flex": null,
            "_model_name": "LayoutModel",
            "justify_items": null,
            "grid_row": null,
            "max_height": null,
            "align_content": null,
            "visibility": null,
            "align_self": null,
            "height": null,
            "min_height": null,
            "padding": null,
            "grid_auto_rows": null,
            "grid_gap": null,
            "max_width": null,
            "order": null,
            "_view_module_version": "1.2.0",
            "grid_template_areas": null,
            "object_position": null,
            "object_fit": null,
            "grid_auto_columns": null,
            "margin": null,
            "display": null,
            "left": null
          }
        },
        "ef7b610a03b34be98115342cba5ba47c": {
          "model_module": "@jupyter-widgets/controls",
          "model_name": "HBoxModel",
          "state": {
            "_view_name": "HBoxView",
            "_dom_classes": [],
            "_model_name": "HBoxModel",
            "_view_module": "@jupyter-widgets/controls",
            "_model_module_version": "1.5.0",
            "_view_count": null,
            "_view_module_version": "1.5.0",
            "box_style": "",
            "layout": "IPY_MODEL_8e074aff946d4b2b8c22da4adc284194",
            "_model_module": "@jupyter-widgets/controls",
            "children": [
              "IPY_MODEL_de6714775c884b529789cd56696b2da4",
              "IPY_MODEL_621955f471444fd4ba6fd022bf9e3943"
            ]
          }
        },
        "8e074aff946d4b2b8c22da4adc284194": {
          "model_module": "@jupyter-widgets/base",
          "model_name": "LayoutModel",
          "state": {
            "_view_name": "LayoutView",
            "grid_template_rows": null,
            "right": null,
            "justify_content": null,
            "_view_module": "@jupyter-widgets/base",
            "overflow": null,
            "_model_module_version": "1.2.0",
            "_view_count": null,
            "flex_flow": null,
            "width": null,
            "min_width": null,
            "border": null,
            "align_items": null,
            "bottom": null,
            "_model_module": "@jupyter-widgets/base",
            "top": null,
            "grid_column": null,
            "overflow_y": null,
            "overflow_x": null,
            "grid_auto_flow": null,
            "grid_area": null,
            "grid_template_columns": null,
            "flex": null,
            "_model_name": "LayoutModel",
            "justify_items": null,
            "grid_row": null,
            "max_height": null,
            "align_content": null,
            "visibility": null,
            "align_self": null,
            "height": null,
            "min_height": null,
            "padding": null,
            "grid_auto_rows": null,
            "grid_gap": null,
            "max_width": null,
            "order": null,
            "_view_module_version": "1.2.0",
            "grid_template_areas": null,
            "object_position": null,
            "object_fit": null,
            "grid_auto_columns": null,
            "margin": null,
            "display": null,
            "left": null
          }
        },
        "de6714775c884b529789cd56696b2da4": {
          "model_module": "@jupyter-widgets/controls",
          "model_name": "FloatProgressModel",
          "state": {
            "_view_name": "ProgressView",
            "style": "IPY_MODEL_834e6ce71fbb45b4b0d0abb25ba73fee",
            "_dom_classes": [],
            "description": "Downloading: 100%",
            "_model_name": "FloatProgressModel",
            "bar_style": "success",
            "max": 26,
            "_view_module": "@jupyter-widgets/controls",
            "_model_module_version": "1.5.0",
            "value": 26,
            "_view_count": null,
            "_view_module_version": "1.5.0",
            "orientation": "horizontal",
            "min": 0,
            "description_tooltip": null,
            "_model_module": "@jupyter-widgets/controls",
            "layout": "IPY_MODEL_4b248ae769764d2b95058bf30085a9de"
          }
        },
        "621955f471444fd4ba6fd022bf9e3943": {
          "model_module": "@jupyter-widgets/controls",
          "model_name": "HTMLModel",
          "state": {
            "_view_name": "HTMLView",
            "style": "IPY_MODEL_455e058c0a4044f29fb18079b75ebf89",
            "_dom_classes": [],
            "description": "",
            "_model_name": "HTMLModel",
            "placeholder": "​",
            "_view_module": "@jupyter-widgets/controls",
            "_model_module_version": "1.5.0",
            "value": " 26.0/26.0 [00:00&lt;00:00, 340B/s]",
            "_view_count": null,
            "_view_module_version": "1.5.0",
            "description_tooltip": null,
            "_model_module": "@jupyter-widgets/controls",
            "layout": "IPY_MODEL_47a0e31fe52b4011a7080196abd45d44"
          }
        },
        "834e6ce71fbb45b4b0d0abb25ba73fee": {
          "model_module": "@jupyter-widgets/controls",
          "model_name": "ProgressStyleModel",
          "state": {
            "_view_name": "StyleView",
            "_model_name": "ProgressStyleModel",
            "description_width": "initial",
            "_view_module": "@jupyter-widgets/base",
            "_model_module_version": "1.5.0",
            "_view_count": null,
            "_view_module_version": "1.2.0",
            "bar_color": null,
            "_model_module": "@jupyter-widgets/controls"
          }
        },
        "4b248ae769764d2b95058bf30085a9de": {
          "model_module": "@jupyter-widgets/base",
          "model_name": "LayoutModel",
          "state": {
            "_view_name": "LayoutView",
            "grid_template_rows": null,
            "right": null,
            "justify_content": null,
            "_view_module": "@jupyter-widgets/base",
            "overflow": null,
            "_model_module_version": "1.2.0",
            "_view_count": null,
            "flex_flow": null,
            "width": null,
            "min_width": null,
            "border": null,
            "align_items": null,
            "bottom": null,
            "_model_module": "@jupyter-widgets/base",
            "top": null,
            "grid_column": null,
            "overflow_y": null,
            "overflow_x": null,
            "grid_auto_flow": null,
            "grid_area": null,
            "grid_template_columns": null,
            "flex": null,
            "_model_name": "LayoutModel",
            "justify_items": null,
            "grid_row": null,
            "max_height": null,
            "align_content": null,
            "visibility": null,
            "align_self": null,
            "height": null,
            "min_height": null,
            "padding": null,
            "grid_auto_rows": null,
            "grid_gap": null,
            "max_width": null,
            "order": null,
            "_view_module_version": "1.2.0",
            "grid_template_areas": null,
            "object_position": null,
            "object_fit": null,
            "grid_auto_columns": null,
            "margin": null,
            "display": null,
            "left": null
          }
        },
        "455e058c0a4044f29fb18079b75ebf89": {
          "model_module": "@jupyter-widgets/controls",
          "model_name": "DescriptionStyleModel",
          "state": {
            "_view_name": "StyleView",
            "_model_name": "DescriptionStyleModel",
            "description_width": "",
            "_view_module": "@jupyter-widgets/base",
            "_model_module_version": "1.5.0",
            "_view_count": null,
            "_view_module_version": "1.2.0",
            "_model_module": "@jupyter-widgets/controls"
          }
        },
        "47a0e31fe52b4011a7080196abd45d44": {
          "model_module": "@jupyter-widgets/base",
          "model_name": "LayoutModel",
          "state": {
            "_view_name": "LayoutView",
            "grid_template_rows": null,
            "right": null,
            "justify_content": null,
            "_view_module": "@jupyter-widgets/base",
            "overflow": null,
            "_model_module_version": "1.2.0",
            "_view_count": null,
            "flex_flow": null,
            "width": null,
            "min_width": null,
            "border": null,
            "align_items": null,
            "bottom": null,
            "_model_module": "@jupyter-widgets/base",
            "top": null,
            "grid_column": null,
            "overflow_y": null,
            "overflow_x": null,
            "grid_auto_flow": null,
            "grid_area": null,
            "grid_template_columns": null,
            "flex": null,
            "_model_name": "LayoutModel",
            "justify_items": null,
            "grid_row": null,
            "max_height": null,
            "align_content": null,
            "visibility": null,
            "align_self": null,
            "height": null,
            "min_height": null,
            "padding": null,
            "grid_auto_rows": null,
            "grid_gap": null,
            "max_width": null,
            "order": null,
            "_view_module_version": "1.2.0",
            "grid_template_areas": null,
            "object_position": null,
            "object_fit": null,
            "grid_auto_columns": null,
            "margin": null,
            "display": null,
            "left": null
          }
        },
        "a25f3e9fd34047809dcfe4d09c58615b": {
          "model_module": "@jupyter-widgets/controls",
          "model_name": "HBoxModel",
          "state": {
            "_view_name": "HBoxView",
            "_dom_classes": [],
            "_model_name": "HBoxModel",
            "_view_module": "@jupyter-widgets/controls",
            "_model_module_version": "1.5.0",
            "_view_count": null,
            "_view_module_version": "1.5.0",
            "box_style": "",
            "layout": "IPY_MODEL_1eab327346984eb18c7337eb13a74743",
            "_model_module": "@jupyter-widgets/controls",
            "children": [
              "IPY_MODEL_9790b8f8779343eda5bb9d9cb570d66b",
              "IPY_MODEL_7e88b9b0d6e944bc9f39053df2a65f91"
            ]
          }
        },
        "1eab327346984eb18c7337eb13a74743": {
          "model_module": "@jupyter-widgets/base",
          "model_name": "LayoutModel",
          "state": {
            "_view_name": "LayoutView",
            "grid_template_rows": null,
            "right": null,
            "justify_content": null,
            "_view_module": "@jupyter-widgets/base",
            "overflow": null,
            "_model_module_version": "1.2.0",
            "_view_count": null,
            "flex_flow": null,
            "width": null,
            "min_width": null,
            "border": null,
            "align_items": null,
            "bottom": null,
            "_model_module": "@jupyter-widgets/base",
            "top": null,
            "grid_column": null,
            "overflow_y": null,
            "overflow_x": null,
            "grid_auto_flow": null,
            "grid_area": null,
            "grid_template_columns": null,
            "flex": null,
            "_model_name": "LayoutModel",
            "justify_items": null,
            "grid_row": null,
            "max_height": null,
            "align_content": null,
            "visibility": null,
            "align_self": null,
            "height": null,
            "min_height": null,
            "padding": null,
            "grid_auto_rows": null,
            "grid_gap": null,
            "max_width": null,
            "order": null,
            "_view_module_version": "1.2.0",
            "grid_template_areas": null,
            "object_position": null,
            "object_fit": null,
            "grid_auto_columns": null,
            "margin": null,
            "display": null,
            "left": null
          }
        },
        "9790b8f8779343eda5bb9d9cb570d66b": {
          "model_module": "@jupyter-widgets/controls",
          "model_name": "FloatProgressModel",
          "state": {
            "_view_name": "ProgressView",
            "style": "IPY_MODEL_2b19ca5c96a54178a47be75c7ce3d694",
            "_dom_classes": [],
            "description": "Downloading: 100%",
            "_model_name": "FloatProgressModel",
            "bar_style": "success",
            "max": 1525,
            "_view_module": "@jupyter-widgets/controls",
            "_model_module_version": "1.5.0",
            "value": 1525,
            "_view_count": null,
            "_view_module_version": "1.5.0",
            "orientation": "horizontal",
            "min": 0,
            "description_tooltip": null,
            "_model_module": "@jupyter-widgets/controls",
            "layout": "IPY_MODEL_70a161e7a6e64b5d851351843cec324e"
          }
        },
        "7e88b9b0d6e944bc9f39053df2a65f91": {
          "model_module": "@jupyter-widgets/controls",
          "model_name": "HTMLModel",
          "state": {
            "_view_name": "HTMLView",
            "style": "IPY_MODEL_7c09e892d0c54822be2c9d462212b593",
            "_dom_classes": [],
            "description": "",
            "_model_name": "HTMLModel",
            "placeholder": "​",
            "_view_module": "@jupyter-widgets/controls",
            "_model_module_version": "1.5.0",
            "value": " 1.52k/1.52k [00:00&lt;00:00, 2.27kB/s]",
            "_view_count": null,
            "_view_module_version": "1.5.0",
            "description_tooltip": null,
            "_model_module": "@jupyter-widgets/controls",
            "layout": "IPY_MODEL_1e7fc76a4c5148bab0924d83cb753c94"
          }
        },
        "2b19ca5c96a54178a47be75c7ce3d694": {
          "model_module": "@jupyter-widgets/controls",
          "model_name": "ProgressStyleModel",
          "state": {
            "_view_name": "StyleView",
            "_model_name": "ProgressStyleModel",
            "description_width": "initial",
            "_view_module": "@jupyter-widgets/base",
            "_model_module_version": "1.5.0",
            "_view_count": null,
            "_view_module_version": "1.2.0",
            "bar_color": null,
            "_model_module": "@jupyter-widgets/controls"
          }
        },
        "70a161e7a6e64b5d851351843cec324e": {
          "model_module": "@jupyter-widgets/base",
          "model_name": "LayoutModel",
          "state": {
            "_view_name": "LayoutView",
            "grid_template_rows": null,
            "right": null,
            "justify_content": null,
            "_view_module": "@jupyter-widgets/base",
            "overflow": null,
            "_model_module_version": "1.2.0",
            "_view_count": null,
            "flex_flow": null,
            "width": null,
            "min_width": null,
            "border": null,
            "align_items": null,
            "bottom": null,
            "_model_module": "@jupyter-widgets/base",
            "top": null,
            "grid_column": null,
            "overflow_y": null,
            "overflow_x": null,
            "grid_auto_flow": null,
            "grid_area": null,
            "grid_template_columns": null,
            "flex": null,
            "_model_name": "LayoutModel",
            "justify_items": null,
            "grid_row": null,
            "max_height": null,
            "align_content": null,
            "visibility": null,
            "align_self": null,
            "height": null,
            "min_height": null,
            "padding": null,
            "grid_auto_rows": null,
            "grid_gap": null,
            "max_width": null,
            "order": null,
            "_view_module_version": "1.2.0",
            "grid_template_areas": null,
            "object_position": null,
            "object_fit": null,
            "grid_auto_columns": null,
            "margin": null,
            "display": null,
            "left": null
          }
        },
        "7c09e892d0c54822be2c9d462212b593": {
          "model_module": "@jupyter-widgets/controls",
          "model_name": "DescriptionStyleModel",
          "state": {
            "_view_name": "StyleView",
            "_model_name": "DescriptionStyleModel",
            "description_width": "",
            "_view_module": "@jupyter-widgets/base",
            "_model_module_version": "1.5.0",
            "_view_count": null,
            "_view_module_version": "1.2.0",
            "_model_module": "@jupyter-widgets/controls"
          }
        },
        "1e7fc76a4c5148bab0924d83cb753c94": {
          "model_module": "@jupyter-widgets/base",
          "model_name": "LayoutModel",
          "state": {
            "_view_name": "LayoutView",
            "grid_template_rows": null,
            "right": null,
            "justify_content": null,
            "_view_module": "@jupyter-widgets/base",
            "overflow": null,
            "_model_module_version": "1.2.0",
            "_view_count": null,
            "flex_flow": null,
            "width": null,
            "min_width": null,
            "border": null,
            "align_items": null,
            "bottom": null,
            "_model_module": "@jupyter-widgets/base",
            "top": null,
            "grid_column": null,
            "overflow_y": null,
            "overflow_x": null,
            "grid_auto_flow": null,
            "grid_area": null,
            "grid_template_columns": null,
            "flex": null,
            "_model_name": "LayoutModel",
            "justify_items": null,
            "grid_row": null,
            "max_height": null,
            "align_content": null,
            "visibility": null,
            "align_self": null,
            "height": null,
            "min_height": null,
            "padding": null,
            "grid_auto_rows": null,
            "grid_gap": null,
            "max_width": null,
            "order": null,
            "_view_module_version": "1.2.0",
            "grid_template_areas": null,
            "object_position": null,
            "object_fit": null,
            "grid_auto_columns": null,
            "margin": null,
            "display": null,
            "left": null
          }
        },
        "bca1abc0636f4cbd97bdd4370fd70ded": {
          "model_module": "@jupyter-widgets/controls",
          "model_name": "HBoxModel",
          "state": {
            "_view_name": "HBoxView",
            "_dom_classes": [],
            "_model_name": "HBoxModel",
            "_view_module": "@jupyter-widgets/controls",
            "_model_module_version": "1.5.0",
            "_view_count": null,
            "_view_module_version": "1.5.0",
            "box_style": "",
            "layout": "IPY_MODEL_32e3b1c5007d4a7585080901d251f02f",
            "_model_module": "@jupyter-widgets/controls",
            "children": [
              "IPY_MODEL_e0a6064d6f034aa5947dcee2b537847a",
              "IPY_MODEL_7d44a0d1714b42249b7e472516f77d0a"
            ]
          }
        },
        "32e3b1c5007d4a7585080901d251f02f": {
          "model_module": "@jupyter-widgets/base",
          "model_name": "LayoutModel",
          "state": {
            "_view_name": "LayoutView",
            "grid_template_rows": null,
            "right": null,
            "justify_content": null,
            "_view_module": "@jupyter-widgets/base",
            "overflow": null,
            "_model_module_version": "1.2.0",
            "_view_count": null,
            "flex_flow": null,
            "width": null,
            "min_width": null,
            "border": null,
            "align_items": null,
            "bottom": null,
            "_model_module": "@jupyter-widgets/base",
            "top": null,
            "grid_column": null,
            "overflow_y": null,
            "overflow_x": null,
            "grid_auto_flow": null,
            "grid_area": null,
            "grid_template_columns": null,
            "flex": null,
            "_model_name": "LayoutModel",
            "justify_items": null,
            "grid_row": null,
            "max_height": null,
            "align_content": null,
            "visibility": null,
            "align_self": null,
            "height": null,
            "min_height": null,
            "padding": null,
            "grid_auto_rows": null,
            "grid_gap": null,
            "max_width": null,
            "order": null,
            "_view_module_version": "1.2.0",
            "grid_template_areas": null,
            "object_position": null,
            "object_fit": null,
            "grid_auto_columns": null,
            "margin": null,
            "display": null,
            "left": null
          }
        },
        "e0a6064d6f034aa5947dcee2b537847a": {
          "model_module": "@jupyter-widgets/controls",
          "model_name": "FloatProgressModel",
          "state": {
            "_view_name": "ProgressView",
            "style": "IPY_MODEL_7c127b3d3bc24fceb02fde5a4c0345d5",
            "_dom_classes": [],
            "description": "Downloading: 100%",
            "_model_name": "FloatProgressModel",
            "bar_style": "success",
            "max": 1018571383,
            "_view_module": "@jupyter-widgets/controls",
            "_model_module_version": "1.5.0",
            "value": 1018571383,
            "_view_count": null,
            "_view_module_version": "1.5.0",
            "orientation": "horizontal",
            "min": 0,
            "description_tooltip": null,
            "_model_module": "@jupyter-widgets/controls",
            "layout": "IPY_MODEL_e35a4116dcaf43acb2b69a6b708e8374"
          }
        },
        "7d44a0d1714b42249b7e472516f77d0a": {
          "model_module": "@jupyter-widgets/controls",
          "model_name": "HTMLModel",
          "state": {
            "_view_name": "HTMLView",
            "style": "IPY_MODEL_e6508d2ab3dd4be3a4bfc711076bf2d1",
            "_dom_classes": [],
            "description": "",
            "_model_name": "HTMLModel",
            "placeholder": "​",
            "_view_module": "@jupyter-widgets/controls",
            "_model_module_version": "1.5.0",
            "value": " 1.02G/1.02G [00:21&lt;00:00, 46.6MB/s]",
            "_view_count": null,
            "_view_module_version": "1.5.0",
            "description_tooltip": null,
            "_model_module": "@jupyter-widgets/controls",
            "layout": "IPY_MODEL_13847d4283c84d8d8017cff8f2d6a1af"
          }
        },
        "7c127b3d3bc24fceb02fde5a4c0345d5": {
          "model_module": "@jupyter-widgets/controls",
          "model_name": "ProgressStyleModel",
          "state": {
            "_view_name": "StyleView",
            "_model_name": "ProgressStyleModel",
            "description_width": "initial",
            "_view_module": "@jupyter-widgets/base",
            "_model_module_version": "1.5.0",
            "_view_count": null,
            "_view_module_version": "1.2.0",
            "bar_color": null,
            "_model_module": "@jupyter-widgets/controls"
          }
        },
        "e35a4116dcaf43acb2b69a6b708e8374": {
          "model_module": "@jupyter-widgets/base",
          "model_name": "LayoutModel",
          "state": {
            "_view_name": "LayoutView",
            "grid_template_rows": null,
            "right": null,
            "justify_content": null,
            "_view_module": "@jupyter-widgets/base",
            "overflow": null,
            "_model_module_version": "1.2.0",
            "_view_count": null,
            "flex_flow": null,
            "width": null,
            "min_width": null,
            "border": null,
            "align_items": null,
            "bottom": null,
            "_model_module": "@jupyter-widgets/base",
            "top": null,
            "grid_column": null,
            "overflow_y": null,
            "overflow_x": null,
            "grid_auto_flow": null,
            "grid_area": null,
            "grid_template_columns": null,
            "flex": null,
            "_model_name": "LayoutModel",
            "justify_items": null,
            "grid_row": null,
            "max_height": null,
            "align_content": null,
            "visibility": null,
            "align_self": null,
            "height": null,
            "min_height": null,
            "padding": null,
            "grid_auto_rows": null,
            "grid_gap": null,
            "max_width": null,
            "order": null,
            "_view_module_version": "1.2.0",
            "grid_template_areas": null,
            "object_position": null,
            "object_fit": null,
            "grid_auto_columns": null,
            "margin": null,
            "display": null,
            "left": null
          }
        },
        "e6508d2ab3dd4be3a4bfc711076bf2d1": {
          "model_module": "@jupyter-widgets/controls",
          "model_name": "DescriptionStyleModel",
          "state": {
            "_view_name": "StyleView",
            "_model_name": "DescriptionStyleModel",
            "description_width": "",
            "_view_module": "@jupyter-widgets/base",
            "_model_module_version": "1.5.0",
            "_view_count": null,
            "_view_module_version": "1.2.0",
            "_model_module": "@jupyter-widgets/controls"
          }
        },
        "13847d4283c84d8d8017cff8f2d6a1af": {
          "model_module": "@jupyter-widgets/base",
          "model_name": "LayoutModel",
          "state": {
            "_view_name": "LayoutView",
            "grid_template_rows": null,
            "right": null,
            "justify_content": null,
            "_view_module": "@jupyter-widgets/base",
            "overflow": null,
            "_model_module_version": "1.2.0",
            "_view_count": null,
            "flex_flow": null,
            "width": null,
            "min_width": null,
            "border": null,
            "align_items": null,
            "bottom": null,
            "_model_module": "@jupyter-widgets/base",
            "top": null,
            "grid_column": null,
            "overflow_y": null,
            "overflow_x": null,
            "grid_auto_flow": null,
            "grid_area": null,
            "grid_template_columns": null,
            "flex": null,
            "_model_name": "LayoutModel",
            "justify_items": null,
            "grid_row": null,
            "max_height": null,
            "align_content": null,
            "visibility": null,
            "align_self": null,
            "height": null,
            "min_height": null,
            "padding": null,
            "grid_auto_rows": null,
            "grid_gap": null,
            "max_width": null,
            "order": null,
            "_view_module_version": "1.2.0",
            "grid_template_areas": null,
            "object_position": null,
            "object_fit": null,
            "grid_auto_columns": null,
            "margin": null,
            "display": null,
            "left": null
          }
        }
      }
    },
    "accelerator": "GPU"
  },
  "cells": [
    {
      "cell_type": "code",
      "metadata": {
        "colab": {
          "base_uri": "https://localhost:8080/"
        },
        "id": "90KgHF6XkOw9",
        "outputId": "ce277959-5557-4827-87f8-822d631b6036"
      },
      "source": [
        "!pip install torch==1.1.0\n",
        "!pip install git+https://github.com/huggingface/transformers.git@7b75aa9fa55bee577e2c7403301ed31103125a35"
      ],
      "execution_count": 1,
      "outputs": [
        {
          "output_type": "stream",
          "text": [
            "Collecting torch==1.1.0\n",
            "\u001b[?25l  Downloading https://files.pythonhosted.org/packages/ac/23/a4b5c189dd624411ec84613b717594a00480282b949e3448d189c4aa4e47/torch-1.1.0-cp37-cp37m-manylinux1_x86_64.whl (676.9MB)\n",
            "\u001b[K     |████████████████████████████████| 676.9MB 27kB/s \n",
            "\u001b[?25hRequirement already satisfied: numpy in /usr/local/lib/python3.7/dist-packages (from torch==1.1.0) (1.19.5)\n",
            "\u001b[31mERROR: torchvision 0.9.1+cu101 has requirement torch==1.8.1, but you'll have torch 1.1.0 which is incompatible.\u001b[0m\n",
            "\u001b[31mERROR: torchtext 0.9.1 has requirement torch==1.8.1, but you'll have torch 1.1.0 which is incompatible.\u001b[0m\n",
            "Installing collected packages: torch\n",
            "  Found existing installation: torch 1.8.1+cu101\n",
            "    Uninstalling torch-1.8.1+cu101:\n",
            "      Successfully uninstalled torch-1.8.1+cu101\n",
            "Successfully installed torch-1.1.0\n",
            "Collecting git+https://github.com/huggingface/transformers.git@7b75aa9fa55bee577e2c7403301ed31103125a35\n",
            "  Cloning https://github.com/huggingface/transformers.git (to revision 7b75aa9fa55bee577e2c7403301ed31103125a35) to /tmp/pip-req-build-5w3qrvcu\n",
            "  Running command git clone -q https://github.com/huggingface/transformers.git /tmp/pip-req-build-5w3qrvcu\n",
            "  Running command git checkout -q 7b75aa9fa55bee577e2c7403301ed31103125a35\n",
            "Requirement already satisfied: numpy in /usr/local/lib/python3.7/dist-packages (from transformers==2.9.0) (1.19.5)\n",
            "Collecting tokenizers==0.7.0\n",
            "\u001b[?25l  Downloading https://files.pythonhosted.org/packages/ea/59/bb06dd5ca53547d523422d32735585493e0103c992a52a97ba3aa3be33bf/tokenizers-0.7.0-cp37-cp37m-manylinux1_x86_64.whl (5.6MB)\n",
            "\u001b[K     |████████████████████████████████| 5.6MB 4.6MB/s \n",
            "\u001b[?25hRequirement already satisfied: filelock in /usr/local/lib/python3.7/dist-packages (from transformers==2.9.0) (3.0.12)\n",
            "Requirement already satisfied: requests in /usr/local/lib/python3.7/dist-packages (from transformers==2.9.0) (2.23.0)\n",
            "Requirement already satisfied: tqdm>=4.27 in /usr/local/lib/python3.7/dist-packages (from transformers==2.9.0) (4.41.1)\n",
            "Requirement already satisfied: regex!=2019.12.17 in /usr/local/lib/python3.7/dist-packages (from transformers==2.9.0) (2019.12.20)\n",
            "Collecting sentencepiece\n",
            "\u001b[?25l  Downloading https://files.pythonhosted.org/packages/f5/99/e0808cb947ba10f575839c43e8fafc9cc44e4a7a2c8f79c60db48220a577/sentencepiece-0.1.95-cp37-cp37m-manylinux2014_x86_64.whl (1.2MB)\n",
            "\u001b[K     |████████████████████████████████| 1.2MB 52.3MB/s \n",
            "\u001b[?25hCollecting sacremoses\n",
            "\u001b[?25l  Downloading https://files.pythonhosted.org/packages/08/cd/342e584ee544d044fb573ae697404ce22ede086c9e87ce5960772084cad0/sacremoses-0.0.44.tar.gz (862kB)\n",
            "\u001b[K     |████████████████████████████████| 870kB 55.8MB/s \n",
            "\u001b[?25hRequirement already satisfied: urllib3!=1.25.0,!=1.25.1,<1.26,>=1.21.1 in /usr/local/lib/python3.7/dist-packages (from requests->transformers==2.9.0) (1.24.3)\n",
            "Requirement already satisfied: chardet<4,>=3.0.2 in /usr/local/lib/python3.7/dist-packages (from requests->transformers==2.9.0) (3.0.4)\n",
            "Requirement already satisfied: certifi>=2017.4.17 in /usr/local/lib/python3.7/dist-packages (from requests->transformers==2.9.0) (2020.12.5)\n",
            "Requirement already satisfied: idna<3,>=2.5 in /usr/local/lib/python3.7/dist-packages (from requests->transformers==2.9.0) (2.10)\n",
            "Requirement already satisfied: six in /usr/local/lib/python3.7/dist-packages (from sacremoses->transformers==2.9.0) (1.15.0)\n",
            "Requirement already satisfied: click in /usr/local/lib/python3.7/dist-packages (from sacremoses->transformers==2.9.0) (7.1.2)\n",
            "Requirement already satisfied: joblib in /usr/local/lib/python3.7/dist-packages (from sacremoses->transformers==2.9.0) (1.0.1)\n",
            "Building wheels for collected packages: transformers, sacremoses\n",
            "  Building wheel for transformers (setup.py) ... \u001b[?25l\u001b[?25hdone\n",
            "  Created wheel for transformers: filename=transformers-2.9.0-cp37-none-any.whl size=629467 sha256=611f2dac1de42806e4d8c306d58bcb140d7fabf3f85234bffe7f0408fa55c2cb\n",
            "  Stored in directory: /tmp/pip-ephem-wheel-cache-75_lxulj/wheels/71/0b/39/026896171289d3790c31aa990a7bdd069083f026019f7c1c85\n",
            "  Building wheel for sacremoses (setup.py) ... \u001b[?25l\u001b[?25hdone\n",
            "  Created wheel for sacremoses: filename=sacremoses-0.0.44-cp37-none-any.whl size=886084 sha256=274d167b490bf13529c2f3ebf37e16b5e38c7e26d42f85210697985a2f7cdbe5\n",
            "  Stored in directory: /root/.cache/pip/wheels/3e/fb/c0/13ab4d63d537658f448366744654323077c4d90069b6512f3c\n",
            "Successfully built transformers sacremoses\n",
            "Installing collected packages: tokenizers, sentencepiece, sacremoses, transformers\n",
            "Successfully installed sacremoses-0.0.44 sentencepiece-0.1.95 tokenizers-0.7.0 transformers-2.9.0\n"
          ],
          "name": "stdout"
        }
      ]
    },
    {
      "cell_type": "code",
      "metadata": {
        "colab": {
          "base_uri": "https://localhost:8080/"
        },
        "id": "hGUkMDujkUtz",
        "outputId": "5b82d534-2014-4f55-e4f9-837939a237b0"
      },
      "source": [
        "!git clone https://github.com/allenai/unifiedqa.git"
      ],
      "execution_count": 2,
      "outputs": [
        {
          "output_type": "stream",
          "text": [
            "Cloning into 'unifiedqa'...\n",
            "remote: Enumerating objects: 196, done.\u001b[K\n",
            "remote: Total 196 (delta 0), reused 0 (delta 0), pack-reused 196\u001b[K\n",
            "Receiving objects: 100% (196/196), 28.80 MiB | 23.80 MiB/s, done.\n",
            "Resolving deltas: 100% (77/77), done.\n"
          ],
          "name": "stdout"
        }
      ]
    },
    {
      "cell_type": "code",
      "metadata": {
        "colab": {
          "base_uri": "https://localhost:8080/"
        },
        "id": "6f9VpBzck5ap",
        "outputId": "08710b2a-87e7-4abd-dd9a-abff86773af0"
      },
      "source": [
        "%cd unifiedqa/"
      ],
      "execution_count": 3,
      "outputs": [
        {
          "output_type": "stream",
          "text": [
            "/content/unifiedqa\n"
          ],
          "name": "stdout"
        }
      ]
    },
    {
      "cell_type": "code",
      "metadata": {
        "colab": {
          "base_uri": "https://localhost:8080/"
        },
        "id": "xxnbvmI2uuBK",
        "outputId": "b2006fee-ce3d-4916-b945-957ea1c04874"
      },
      "source": [
        "%cd bart/"
      ],
      "execution_count": 4,
      "outputs": [
        {
          "output_type": "stream",
          "text": [
            "/content/unifiedqa/bart\n"
          ],
          "name": "stdout"
        }
      ]
    },
    {
      "cell_type": "code",
      "metadata": {
        "colab": {
          "base_uri": "https://localhost:8080/"
        },
        "id": "XcKHt4M0k8wP",
        "outputId": "cbb61513-ef89-43c1-9c50-56288777d1f7"
      },
      "source": [
        "ls"
      ],
      "execution_count": 5,
      "outputs": [
        {
          "output_type": "stream",
          "text": [
            "bart.py  data.py            README.md  unified_data.py\n",
            "\u001b[0m\u001b[01;32mcli.py\u001b[0m*  \u001b[01;32mdownload_data.sh\u001b[0m*  run.py\n"
          ],
          "name": "stdout"
        }
      ]
    },
    {
      "cell_type": "code",
      "metadata": {
        "colab": {
          "base_uri": "https://localhost:8080/"
        },
        "id": "AeGQOSHLk9Pw",
        "outputId": "2d6fdc18-0a30-4711-e98c-702bb5ec4c47"
      },
      "source": [
        "!chmod +x download_data.sh; ./download_data.sh"
      ],
      "execution_count": 6,
      "outputs": [
        {
          "output_type": "stream",
          "text": [
            "--2021-04-16 05:36:50--  https://storage.googleapis.com/danielk-files/data/qasc/train.tsv\n",
            "Resolving storage.googleapis.com (storage.googleapis.com)... 108.177.125.128, 74.125.23.128, 74.125.204.128, ...\n",
            "Connecting to storage.googleapis.com (storage.googleapis.com)|108.177.125.128|:443... connected.\n",
            "HTTP request sent, awaiting response... 200 OK\n",
            "Length: 1508588 (1.4M) [application/octet-stream]\n",
            "Saving to: ‘data/qasc/train.tsv’\n",
            "\n",
            "data/qasc/train.tsv 100%[===================>]   1.44M  --.-KB/s    in 0.01s   \n",
            "\n",
            "2021-04-16 05:36:52 (141 MB/s) - ‘data/qasc/train.tsv’ saved [1508588/1508588]\n",
            "\n",
            "--2021-04-16 05:36:52--  https://storage.googleapis.com/danielk-files/data/qasc/dev.tsv\n",
            "Resolving storage.googleapis.com (storage.googleapis.com)... 64.233.188.128, 64.233.189.128, 108.177.97.128, ...\n",
            "Connecting to storage.googleapis.com (storage.googleapis.com)|64.233.188.128|:443... connected.\n",
            "HTTP request sent, awaiting response... 200 OK\n",
            "Length: 175037 (171K) [application/octet-stream]\n",
            "Saving to: ‘data/qasc/dev.tsv’\n",
            "\n",
            "data/qasc/dev.tsv   100%[===================>] 170.93K  --.-KB/s    in 0.003s  \n",
            "\n",
            "2021-04-16 05:36:53 (57.8 MB/s) - ‘data/qasc/dev.tsv’ saved [175037/175037]\n",
            "\n",
            "--2021-04-16 05:36:53--  https://storage.googleapis.com/danielk-files/data/qasc/test.tsv\n",
            "Resolving storage.googleapis.com (storage.googleapis.com)... 108.177.125.128, 74.125.23.128, 74.125.204.128, ...\n",
            "Connecting to storage.googleapis.com (storage.googleapis.com)|108.177.125.128|:443... connected.\n",
            "HTTP request sent, awaiting response... 200 OK\n",
            "Length: 155707 (152K) [application/octet-stream]\n",
            "Saving to: ‘data/qasc/test.tsv’\n",
            "\n",
            "data/qasc/test.tsv  100%[===================>] 152.06K  --.-KB/s    in 0.001s  \n",
            "\n",
            "2021-04-16 05:36:53 (155 MB/s) - ‘data/qasc/test.tsv’ saved [155707/155707]\n",
            "\n",
            "--2021-04-16 05:36:53--  https://storage.googleapis.com/danielk-files/data/qasc_with_ir/train.tsv\n",
            "Resolving storage.googleapis.com (storage.googleapis.com)... 74.125.204.128, 64.233.188.128, 64.233.189.128, ...\n",
            "Connecting to storage.googleapis.com (storage.googleapis.com)|74.125.204.128|:443... connected.\n",
            "HTTP request sent, awaiting response... 200 OK\n",
            "Length: 14475823 (14M) [application/octet-stream]\n",
            "Saving to: ‘data/qasc_with_ir/train.tsv’\n",
            "\n",
            "data/qasc_with_ir/t 100%[===================>]  13.80M  11.8MB/s    in 1.2s    \n",
            "\n",
            "2021-04-16 05:36:55 (11.8 MB/s) - ‘data/qasc_with_ir/train.tsv’ saved [14475823/14475823]\n",
            "\n",
            "--2021-04-16 05:36:55--  https://storage.googleapis.com/danielk-files/data/qasc_with_ir/dev.tsv\n",
            "Resolving storage.googleapis.com (storage.googleapis.com)... 108.177.125.128, 74.125.204.128, 64.233.188.128, ...\n",
            "Connecting to storage.googleapis.com (storage.googleapis.com)|108.177.125.128|:443... connected.\n",
            "HTTP request sent, awaiting response... 200 OK\n",
            "Length: 1667870 (1.6M) [application/octet-stream]\n",
            "Saving to: ‘data/qasc_with_ir/dev.tsv’\n",
            "\n",
            "data/qasc_with_ir/d 100%[===================>]   1.59M  --.-KB/s    in 0.01s   \n",
            "\n",
            "2021-04-16 05:36:56 (159 MB/s) - ‘data/qasc_with_ir/dev.tsv’ saved [1667870/1667870]\n",
            "\n",
            "--2021-04-16 05:36:56--  https://storage.googleapis.com/danielk-files/data/qasc_with_ir/test.tsv\n",
            "Resolving storage.googleapis.com (storage.googleapis.com)... 64.233.188.128, 64.233.189.128, 108.177.97.128, ...\n",
            "Connecting to storage.googleapis.com (storage.googleapis.com)|64.233.188.128|:443... connected.\n",
            "HTTP request sent, awaiting response... 200 OK\n",
            "Length: 1633972 (1.6M) [application/octet-stream]\n",
            "Saving to: ‘data/qasc_with_ir/test.tsv’\n",
            "\n",
            "data/qasc_with_ir/t 100%[===================>]   1.56M  --.-KB/s    in 0.05s   \n",
            "\n",
            "2021-04-16 05:36:58 (33.5 MB/s) - ‘data/qasc_with_ir/test.tsv’ saved [1633972/1633972]\n",
            "\n",
            "--2021-04-16 05:36:58--  https://storage.googleapis.com/danielk-files/data/commonseseqa/train.tsv\n",
            "Resolving storage.googleapis.com (storage.googleapis.com)... 108.177.125.128, 74.125.204.128, 64.233.188.128, ...\n",
            "Connecting to storage.googleapis.com (storage.googleapis.com)|108.177.125.128|:443... connected.\n",
            "HTTP request sent, awaiting response... 404 Not Found\n",
            "2021-04-16 05:36:58 ERROR 404: Not Found.\n",
            "\n",
            "--2021-04-16 05:36:58--  https://storage.googleapis.com/danielk-files/data/commonseseqa/dev.tsv\n",
            "Resolving storage.googleapis.com (storage.googleapis.com)... 108.177.125.128, 74.125.204.128, 64.233.188.128, ...\n",
            "Connecting to storage.googleapis.com (storage.googleapis.com)|108.177.125.128|:443... connected.\n",
            "HTTP request sent, awaiting response... 404 Not Found\n",
            "2021-04-16 05:36:59 ERROR 404: Not Found.\n",
            "\n",
            "--2021-04-16 05:36:59--  https://storage.googleapis.com/danielk-files/data/commonseseqa/test.tsv\n",
            "Resolving storage.googleapis.com (storage.googleapis.com)... 108.177.125.128, 74.125.23.128, 74.125.204.128, ...\n",
            "Connecting to storage.googleapis.com (storage.googleapis.com)|108.177.125.128|:443... connected.\n",
            "HTTP request sent, awaiting response... 404 Not Found\n",
            "2021-04-16 05:36:59 ERROR 404: Not Found.\n",
            "\n",
            "--2021-04-16 05:36:59--  https://storage.googleapis.com/danielk-files/data/openbookqa_with_ir/train.tsv\n",
            "Resolving storage.googleapis.com (storage.googleapis.com)... 74.125.204.128, 64.233.187.128, 64.233.188.128, ...\n",
            "Connecting to storage.googleapis.com (storage.googleapis.com)|74.125.204.128|:443... connected.\n",
            "HTTP request sent, awaiting response... 200 OK\n",
            "Length: 5296356 (5.1M) [application/octet-stream]\n",
            "Saving to: ‘data/openbookqa_with_ir/train.tsv’\n",
            "\n",
            "data/openbookqa_wit 100%[===================>]   5.05M  11.8MB/s    in 0.4s    \n",
            "\n",
            "2021-04-16 05:37:00 (11.8 MB/s) - ‘data/openbookqa_with_ir/train.tsv’ saved [5296356/5296356]\n",
            "\n",
            "--2021-04-16 05:37:00--  https://storage.googleapis.com/danielk-files/data/openbookqa_with_ir/dev.tsv\n",
            "Resolving storage.googleapis.com (storage.googleapis.com)... 74.125.204.128, 64.233.187.128, 64.233.188.128, ...\n",
            "Connecting to storage.googleapis.com (storage.googleapis.com)|74.125.204.128|:443... connected.\n",
            "HTTP request sent, awaiting response... 200 OK\n",
            "Length: 546098 (533K) [application/octet-stream]\n",
            "Saving to: ‘data/openbookqa_with_ir/dev.tsv’\n",
            "\n",
            "data/openbookqa_wit 100%[===================>] 533.30K  --.-KB/s    in 0.006s  \n",
            "\n",
            "2021-04-16 05:37:00 (84.1 MB/s) - ‘data/openbookqa_with_ir/dev.tsv’ saved [546098/546098]\n",
            "\n",
            "--2021-04-16 05:37:00--  https://storage.googleapis.com/danielk-files/data/openbookqa_with_ir/test.tsv\n",
            "Resolving storage.googleapis.com (storage.googleapis.com)... 108.177.125.128, 74.125.23.128, 74.125.204.128, ...\n",
            "Connecting to storage.googleapis.com (storage.googleapis.com)|108.177.125.128|:443... connected.\n",
            "HTTP request sent, awaiting response... 200 OK\n",
            "Length: 530507 (518K) [application/octet-stream]\n",
            "Saving to: ‘data/openbookqa_with_ir/test.tsv’\n",
            "\n",
            "data/openbookqa_wit 100%[===================>] 518.07K  --.-KB/s    in 0.005s  \n",
            "\n",
            "2021-04-16 05:37:02 (112 MB/s) - ‘data/openbookqa_with_ir/test.tsv’ saved [530507/530507]\n",
            "\n",
            "--2021-04-16 05:37:02--  https://storage.googleapis.com/danielk-files/data/arc_hard_with_ir/train.tsv\n",
            "Resolving storage.googleapis.com (storage.googleapis.com)... 74.125.204.128, 64.233.188.128, 64.233.189.128, ...\n",
            "Connecting to storage.googleapis.com (storage.googleapis.com)|74.125.204.128|:443... connected.\n",
            "HTTP request sent, awaiting response... 200 OK\n",
            "Length: 1584218 (1.5M) [application/octet-stream]\n",
            "Saving to: ‘data/arc_hard_with_ir/train.tsv’\n",
            "\n",
            "data/arc_hard_with_ 100%[===================>]   1.51M  --.-KB/s    in 0.01s   \n",
            "\n",
            "2021-04-16 05:37:03 (145 MB/s) - ‘data/arc_hard_with_ir/train.tsv’ saved [1584218/1584218]\n",
            "\n",
            "--2021-04-16 05:37:03--  https://storage.googleapis.com/danielk-files/data/arc_hard_with_ir/dev.tsv\n",
            "Resolving storage.googleapis.com (storage.googleapis.com)... 74.125.204.128, 64.233.188.128, 64.233.189.128, ...\n",
            "Connecting to storage.googleapis.com (storage.googleapis.com)|74.125.204.128|:443... connected.\n",
            "HTTP request sent, awaiting response... 200 OK\n",
            "Length: 432935 (423K) [application/octet-stream]\n",
            "Saving to: ‘data/arc_hard_with_ir/dev.tsv’\n",
            "\n",
            "data/arc_hard_with_ 100%[===================>] 422.79K  --.-KB/s    in 0.004s  \n",
            "\n",
            "2021-04-16 05:37:04 (110 MB/s) - ‘data/arc_hard_with_ir/dev.tsv’ saved [432935/432935]\n",
            "\n",
            "--2021-04-16 05:37:04--  https://storage.googleapis.com/danielk-files/data/arc_hard_with_ir/test.tsv\n",
            "Resolving storage.googleapis.com (storage.googleapis.com)... 74.125.204.128, 64.233.188.128, 64.233.189.128, ...\n",
            "Connecting to storage.googleapis.com (storage.googleapis.com)|74.125.204.128|:443... connected.\n",
            "HTTP request sent, awaiting response... 200 OK\n",
            "Length: 1683285 (1.6M) [application/octet-stream]\n",
            "Saving to: ‘data/arc_hard_with_ir/test.tsv’\n",
            "\n",
            "data/arc_hard_with_ 100%[===================>]   1.60M  --.-KB/s    in 0.01s   \n",
            "\n",
            "2021-04-16 05:37:05 (160 MB/s) - ‘data/arc_hard_with_ir/test.tsv’ saved [1683285/1683285]\n",
            "\n",
            "--2021-04-16 05:37:05--  https://storage.googleapis.com/danielk-files/data/arc_easy_with_ir/train.tsv\n",
            "Resolving storage.googleapis.com (storage.googleapis.com)... 108.177.125.128, 74.125.23.128, 74.125.204.128, ...\n",
            "Connecting to storage.googleapis.com (storage.googleapis.com)|108.177.125.128|:443... connected.\n",
            "HTTP request sent, awaiting response... 200 OK\n",
            "Length: 3173435 (3.0M) [application/octet-stream]\n",
            "Saving to: ‘data/arc_easy_with_ir/train.tsv’\n",
            "\n",
            "data/arc_easy_with_ 100%[===================>]   3.03M  --.-KB/s    in 0.02s   \n",
            "\n",
            "2021-04-16 05:37:05 (181 MB/s) - ‘data/arc_easy_with_ir/train.tsv’ saved [3173435/3173435]\n",
            "\n",
            "--2021-04-16 05:37:05--  https://storage.googleapis.com/danielk-files/data/arc_easy_with_ir/dev.tsv\n",
            "Resolving storage.googleapis.com (storage.googleapis.com)... 74.125.204.128, 64.233.187.128, 64.233.188.128, ...\n",
            "Connecting to storage.googleapis.com (storage.googleapis.com)|74.125.204.128|:443... connected.\n",
            "HTTP request sent, awaiting response... 200 OK\n",
            "Length: 798318 (780K) [application/octet-stream]\n",
            "Saving to: ‘data/arc_easy_with_ir/dev.tsv’\n",
            "\n",
            "data/arc_easy_with_ 100%[===================>] 779.61K  --.-KB/s    in 0.007s  \n",
            "\n",
            "2021-04-16 05:37:06 (104 MB/s) - ‘data/arc_easy_with_ir/dev.tsv’ saved [798318/798318]\n",
            "\n",
            "--2021-04-16 05:37:06--  https://storage.googleapis.com/danielk-files/data/arc_easy_with_ir/test.tsv\n",
            "Resolving storage.googleapis.com (storage.googleapis.com)... 108.177.125.128, 74.125.23.128, 74.125.204.128, ...\n",
            "Connecting to storage.googleapis.com (storage.googleapis.com)|108.177.125.128|:443... connected.\n",
            "HTTP request sent, awaiting response... 200 OK\n",
            "Length: 3364063 (3.2M) [application/octet-stream]\n",
            "Saving to: ‘data/arc_easy_with_ir/test.tsv’\n",
            "\n",
            "data/arc_easy_with_ 100%[===================>]   3.21M  --.-KB/s    in 0.03s   \n",
            "\n",
            "2021-04-16 05:37:07 (101 MB/s) - ‘data/arc_easy_with_ir/test.tsv’ saved [3364063/3364063]\n",
            "\n",
            "--2021-04-16 05:37:07--  https://storage.googleapis.com/danielk-files/data/winogrande_xl/train.tsv\n",
            "Resolving storage.googleapis.com (storage.googleapis.com)... 108.177.97.128, 108.177.125.128, 74.125.23.128, ...\n",
            "Connecting to storage.googleapis.com (storage.googleapis.com)|108.177.97.128|:443... connected.\n",
            "HTTP request sent, awaiting response... 200 OK\n",
            "Length: 5469219 (5.2M) [application/octet-stream]\n",
            "Saving to: ‘data/winogrande_xl/train.tsv’\n",
            "\n",
            "data/winogrande_xl/ 100%[===================>]   5.22M  15.1MB/s    in 0.3s    \n",
            "\n",
            "2021-04-16 05:37:08 (15.1 MB/s) - ‘data/winogrande_xl/train.tsv’ saved [5469219/5469219]\n",
            "\n",
            "--2021-04-16 05:37:08--  https://storage.googleapis.com/danielk-files/data/winogrande_xl/dev.tsv\n",
            "Resolving storage.googleapis.com (storage.googleapis.com)... 74.125.204.128, 64.233.187.128, 64.233.188.128, ...\n",
            "Connecting to storage.googleapis.com (storage.googleapis.com)|74.125.204.128|:443... connected.\n",
            "HTTP request sent, awaiting response... 200 OK\n",
            "Length: 172901 (169K) [application/octet-stream]\n",
            "Saving to: ‘data/winogrande_xl/dev.tsv’\n",
            "\n",
            "data/winogrande_xl/ 100%[===================>] 168.85K  --.-KB/s    in 0.001s  \n",
            "\n",
            "2021-04-16 05:37:09 (140 MB/s) - ‘data/winogrande_xl/dev.tsv’ saved [172901/172901]\n",
            "\n",
            "--2021-04-16 05:37:09--  https://storage.googleapis.com/danielk-files/data/winogrande_xl/test.tsv\n",
            "Resolving storage.googleapis.com (storage.googleapis.com)... 74.125.204.128, 64.233.187.128, 64.233.188.128, ...\n",
            "Connecting to storage.googleapis.com (storage.googleapis.com)|74.125.204.128|:443... connected.\n",
            "HTTP request sent, awaiting response... 200 OK\n",
            "Length: 231167 (226K) [application/octet-stream]\n",
            "Saving to: ‘data/winogrande_xl/test.tsv’\n",
            "\n",
            "data/winogrande_xl/ 100%[===================>] 225.75K  --.-KB/s    in 0.001s  \n",
            "\n",
            "2021-04-16 05:37:10 (148 MB/s) - ‘data/winogrande_xl/test.tsv’ saved [231167/231167]\n",
            "\n",
            "--2021-04-16 05:37:10--  https://storage.googleapis.com/danielk-files/data/physical_iqa/train.tsv\n",
            "Resolving storage.googleapis.com (storage.googleapis.com)... 74.125.204.128, 64.233.187.128, 64.233.188.128, ...\n",
            "Connecting to storage.googleapis.com (storage.googleapis.com)|74.125.204.128|:443... connected.\n",
            "HTTP request sent, awaiting response... 200 OK\n",
            "Length: 5659262 (5.4M) [application/octet-stream]\n",
            "Saving to: ‘data/physical_iqa/train.tsv’\n",
            "\n",
            "data/physical_iqa/t 100%[===================>]   5.40M  12.3MB/s    in 0.4s    \n",
            "\n",
            "2021-04-16 05:37:11 (12.3 MB/s) - ‘data/physical_iqa/train.tsv’ saved [5659262/5659262]\n",
            "\n",
            "--2021-04-16 05:37:11--  https://storage.googleapis.com/danielk-files/data/physical_iqa/dev.tsv\n",
            "Resolving storage.googleapis.com (storage.googleapis.com)... 74.125.204.128, 64.233.187.128, 64.233.188.128, ...\n",
            "Connecting to storage.googleapis.com (storage.googleapis.com)|74.125.204.128|:443... connected.\n",
            "HTTP request sent, awaiting response... 200 OK\n",
            "Length: 639383 (624K) [application/octet-stream]\n",
            "Saving to: ‘data/physical_iqa/dev.tsv’\n",
            "\n",
            "data/physical_iqa/d 100%[===================>] 624.40K  --.-KB/s    in 0.005s  \n",
            "\n",
            "2021-04-16 05:37:12 (131 MB/s) - ‘data/physical_iqa/dev.tsv’ saved [639383/639383]\n",
            "\n",
            "--2021-04-16 05:37:12--  https://storage.googleapis.com/danielk-files/data/physical_iqa/test.tsv\n",
            "Resolving storage.googleapis.com (storage.googleapis.com)... 108.177.97.128, 108.177.125.128, 74.125.23.128, ...\n",
            "Connecting to storage.googleapis.com (storage.googleapis.com)|108.177.97.128|:443... connected.\n",
            "HTTP request sent, awaiting response... 404 Not Found\n",
            "2021-04-16 05:37:12 ERROR 404: Not Found.\n",
            "\n",
            "--2021-04-16 05:37:12--  https://storage.googleapis.com/danielk-files/data/social_iqa/train.tsv\n",
            "Resolving storage.googleapis.com (storage.googleapis.com)... 74.125.204.128, 64.233.187.128, 64.233.188.128, ...\n",
            "Connecting to storage.googleapis.com (storage.googleapis.com)|74.125.204.128|:443... connected.\n",
            "HTTP request sent, awaiting response... 200 OK\n",
            "Length: 7006402 (6.7M) [application/octet-stream]\n",
            "Saving to: ‘data/social_iqa/train.tsv’\n",
            "\n",
            "data/social_iqa/tra 100%[===================>]   6.68M  11.7MB/s    in 0.6s    \n",
            "\n",
            "2021-04-16 05:37:14 (11.7 MB/s) - ‘data/social_iqa/train.tsv’ saved [7006402/7006402]\n",
            "\n",
            "--2021-04-16 05:37:14--  https://storage.googleapis.com/danielk-files/data/social_iqa/dev.tsv\n",
            "Resolving storage.googleapis.com (storage.googleapis.com)... 74.125.204.128, 64.233.187.128, 64.233.188.128, ...\n",
            "Connecting to storage.googleapis.com (storage.googleapis.com)|74.125.204.128|:443... connected.\n",
            "HTTP request sent, awaiting response... 200 OK\n",
            "Length: 413163 (403K) [application/octet-stream]\n",
            "Saving to: ‘data/social_iqa/dev.tsv’\n",
            "\n",
            "data/social_iqa/dev 100%[===================>] 403.48K  --.-KB/s    in 0.003s  \n",
            "\n",
            "2021-04-16 05:37:14 (130 MB/s) - ‘data/social_iqa/dev.tsv’ saved [413163/413163]\n",
            "\n",
            "--2021-04-16 05:37:14--  https://storage.googleapis.com/danielk-files/data/social_iqa/test.tsv\n",
            "Resolving storage.googleapis.com (storage.googleapis.com)... 74.125.204.128, 64.233.188.128, 64.233.189.128, ...\n",
            "Connecting to storage.googleapis.com (storage.googleapis.com)|74.125.204.128|:443... connected.\n",
            "HTTP request sent, awaiting response... 404 Not Found\n",
            "2021-04-16 05:37:15 ERROR 404: Not Found.\n",
            "\n",
            "--2021-04-16 05:37:15--  https://storage.googleapis.com/danielk-files/data/ropes/train.tsv\n",
            "Resolving storage.googleapis.com (storage.googleapis.com)... 74.125.204.128, 64.233.188.128, 64.233.189.128, ...\n",
            "Connecting to storage.googleapis.com (storage.googleapis.com)|74.125.204.128|:443... connected.\n",
            "HTTP request sent, awaiting response... 200 OK\n",
            "Length: 11941665 (11M) [application/octet-stream]\n",
            "Saving to: ‘data/ropes/train.tsv’\n",
            "\n",
            "data/ropes/train.ts 100%[===================>]  11.39M  20.2MB/s    in 0.6s    \n",
            "\n",
            "2021-04-16 05:37:16 (20.2 MB/s) - ‘data/ropes/train.tsv’ saved [11941665/11941665]\n",
            "\n",
            "--2021-04-16 05:37:16--  https://storage.googleapis.com/danielk-files/data/ropes/dev.tsv\n",
            "Resolving storage.googleapis.com (storage.googleapis.com)... 74.125.204.128, 64.233.188.128, 64.233.189.128, ...\n",
            "Connecting to storage.googleapis.com (storage.googleapis.com)|74.125.204.128|:443... connected.\n",
            "HTTP request sent, awaiting response... 200 OK\n",
            "Length: 1599806 (1.5M) [application/octet-stream]\n",
            "Saving to: ‘data/ropes/dev.tsv’\n",
            "\n",
            "data/ropes/dev.tsv  100%[===================>]   1.53M  --.-KB/s    in 0.009s  \n",
            "\n",
            "2021-04-16 05:37:17 (177 MB/s) - ‘data/ropes/dev.tsv’ saved [1599806/1599806]\n",
            "\n",
            "--2021-04-16 05:37:17--  https://storage.googleapis.com/danielk-files/data/ropes/test.tsv\n",
            "Resolving storage.googleapis.com (storage.googleapis.com)... 64.233.188.128, 64.233.189.128, 108.177.97.128, ...\n",
            "Connecting to storage.googleapis.com (storage.googleapis.com)|64.233.188.128|:443... connected.\n",
            "HTTP request sent, awaiting response... 404 Not Found\n",
            "2021-04-16 05:37:17 ERROR 404: Not Found.\n",
            "\n",
            "--2021-04-16 05:37:17--  https://storage.googleapis.com/danielk-files/data/natural_questions_with_dpr_para/train.tsv\n",
            "Resolving storage.googleapis.com (storage.googleapis.com)... 64.233.188.128, 64.233.189.128, 108.177.97.128, ...\n",
            "Connecting to storage.googleapis.com (storage.googleapis.com)|64.233.188.128|:443... connected.\n",
            "HTTP request sent, awaiting response... 200 OK\n",
            "Length: 301385853 (287M) [application/octet-stream]\n",
            "Saving to: ‘data/natural_questions_with_dpr_para/train.tsv’\n",
            "\n",
            "data/natural_questi 100%[===================>] 287.42M  28.5MB/s    in 10s     \n",
            "\n",
            "2021-04-16 05:37:29 (28.5 MB/s) - ‘data/natural_questions_with_dpr_para/train.tsv’ saved [301385853/301385853]\n",
            "\n",
            "--2021-04-16 05:37:29--  https://storage.googleapis.com/danielk-files/data/natural_questions_with_dpr_para/dev.tsv\n",
            "Resolving storage.googleapis.com (storage.googleapis.com)... 74.125.204.128, 64.233.187.128, 64.233.188.128, ...\n",
            "Connecting to storage.googleapis.com (storage.googleapis.com)|74.125.204.128|:443... connected.\n",
            "HTTP request sent, awaiting response... 200 OK\n",
            "Length: 33341658 (32M) [application/octet-stream]\n",
            "Saving to: ‘data/natural_questions_with_dpr_para/dev.tsv’\n",
            "\n",
            "data/natural_questi 100%[===================>]  31.80M  64.8MB/s    in 0.5s    \n",
            "\n",
            "2021-04-16 05:37:30 (64.8 MB/s) - ‘data/natural_questions_with_dpr_para/dev.tsv’ saved [33341658/33341658]\n",
            "\n",
            "--2021-04-16 05:37:30--  https://storage.googleapis.com/danielk-files/data/natural_questions_with_dpr_para/test.tsv\n",
            "Resolving storage.googleapis.com (storage.googleapis.com)... 74.125.204.128, 64.233.187.128, 64.233.188.128, ...\n",
            "Connecting to storage.googleapis.com (storage.googleapis.com)|74.125.204.128|:443... connected.\n",
            "HTTP request sent, awaiting response... 200 OK\n",
            "Length: 20466115 (20M) [text/tab-separated-values]\n",
            "Saving to: ‘data/natural_questions_with_dpr_para/test.tsv’\n",
            "\n",
            "data/natural_questi 100%[===================>]  19.52M  15.5MB/s    in 1.3s    \n",
            "\n",
            "2021-04-16 05:37:32 (15.5 MB/s) - ‘data/natural_questions_with_dpr_para/test.tsv’ saved [20466115/20466115]\n",
            "\n"
          ],
          "name": "stdout"
        }
      ]
    },
    {
      "cell_type": "code",
      "metadata": {
        "colab": {
          "base_uri": "https://localhost:8080/"
        },
        "id": "jx5FHXcNlD9f",
        "outputId": "3f98b8a3-f169-4b03-e13f-b0b321fadcc5"
      },
      "source": [
        "from google.colab import drive\n",
        "drive.mount('/content/drive')"
      ],
      "execution_count": 7,
      "outputs": [
        {
          "output_type": "stream",
          "text": [
            "Mounted at /content/drive\n"
          ],
          "name": "stdout"
        }
      ]
    },
    {
      "cell_type": "code",
      "metadata": {
        "id": "tbW1UnVtQXOb"
      },
      "source": [
        ""
      ],
      "execution_count": null,
      "outputs": []
    },
    {
      "cell_type": "code",
      "metadata": {
        "colab": {
          "base_uri": "https://localhost:8080/"
        },
        "id": "a4zL4tb8QSwk",
        "outputId": "25e31486-8937-4358-88fe-fb2d48c6ef6f"
      },
      "source": [
        ""
      ],
      "execution_count": null,
      "outputs": [
        {
          "output_type": "stream",
          "text": [
            "cp: cannot create directory '/content/drive/unifiedqa': Operation not supported\n"
          ],
          "name": "stdout"
        }
      ]
    },
    {
      "cell_type": "code",
      "metadata": {
        "colab": {
          "base_uri": "https://localhost:8080/"
        },
        "id": "XsgfABRLvAoq",
        "outputId": "6a3d7a51-c717-4008-ea09-327101c7f878"
      },
      "source": [
        "ls"
      ],
      "execution_count": null,
      "outputs": [
        {
          "output_type": "stream",
          "text": [
            "bart.py  \u001b[0m\u001b[01;34mdata\u001b[0m/    \u001b[01;32mdownload_data.sh\u001b[0m*  run.py\n",
            "\u001b[01;32mcli.py\u001b[0m*  data.py  README.md          unified_data.py\n"
          ],
          "name": "stdout"
        }
      ]
    },
    {
      "cell_type": "code",
      "metadata": {
        "id": "5jkfhvw3tR8h",
        "colab": {
          "base_uri": "https://localhost:8080/"
        },
        "outputId": "894b4263-7201-4c3a-fb18-22e3eb9f1b9d"
      },
      "source": [
        "!unzip /content/drive/MyDrive/unifiedQA-bart.zip"
      ],
      "execution_count": null,
      "outputs": [
        {
          "output_type": "stream",
          "text": [
            "Archive:  /content/drive/MyDrive/unifiedQA-bart.zip\n",
            "   creating: unifiedQA-cased/\n",
            "  inflating: unifiedQA-cased/best-model.pt  \n",
            "   creating: unifiedQA-uncased/\n",
            "  inflating: unifiedQA-uncased/best-model.pt  \n"
          ],
          "name": "stdout"
        }
      ]
    },
    {
      "cell_type": "code",
      "metadata": {
        "id": "tF-qKpv2tkkO",
        "colab": {
          "base_uri": "https://localhost:8080/",
          "height": 296,
          "referenced_widgets": [
            "e7195b3b10204c0db778d55c3006c035",
            "110286852bf74ab58783cb96f49b3fd1",
            "2dc779229034418db671ffa0bf7914e9",
            "e075e34ea62945d891c91b500c3823a4",
            "e11bb4f311854a37ade707a8b3592f63",
            "ad7e57164d3f4824afab22594d2128ee",
            "6a2c94f175154077be49ce5af22965e6",
            "6821012e6d5f41fb99cb37a672256f6b",
            "08dc2d24a0c740df966455379fbdbf50",
            "e079e4076f9e4ca3bd1392979c6c5be2",
            "c4cbaa3c590b40db97ea050b0ec0a8c1",
            "29ed56a6c5fc48c08fed56d1bd70a77c",
            "f42827b4c8a941d5ab2b30c8ca18f80c",
            "0b9e31178b6446c597f727706fa1f157",
            "48af5d3e949d49ddb12ae3b7d61de74f",
            "01cfdb5d7d164f9bac434dc430c16150",
            "ef7b610a03b34be98115342cba5ba47c",
            "8e074aff946d4b2b8c22da4adc284194",
            "de6714775c884b529789cd56696b2da4",
            "621955f471444fd4ba6fd022bf9e3943",
            "834e6ce71fbb45b4b0d0abb25ba73fee",
            "4b248ae769764d2b95058bf30085a9de",
            "455e058c0a4044f29fb18079b75ebf89",
            "47a0e31fe52b4011a7080196abd45d44",
            "a25f3e9fd34047809dcfe4d09c58615b",
            "1eab327346984eb18c7337eb13a74743",
            "9790b8f8779343eda5bb9d9cb570d66b",
            "7e88b9b0d6e944bc9f39053df2a65f91",
            "2b19ca5c96a54178a47be75c7ce3d694",
            "70a161e7a6e64b5d851351843cec324e",
            "7c09e892d0c54822be2c9d462212b593",
            "1e7fc76a4c5148bab0924d83cb753c94",
            "bca1abc0636f4cbd97bdd4370fd70ded",
            "32e3b1c5007d4a7585080901d251f02f",
            "e0a6064d6f034aa5947dcee2b537847a",
            "7d44a0d1714b42249b7e472516f77d0a",
            "7c127b3d3bc24fceb02fde5a4c0345d5",
            "e35a4116dcaf43acb2b69a6b708e8374",
            "e6508d2ab3dd4be3a4bfc711076bf2d1",
            "13847d4283c84d8d8017cff8f2d6a1af"
          ]
        },
        "outputId": "41bd2f80-ff30-4a10-a55d-edc86304d530"
      },
      "source": [
        "import torch\n",
        "from transformers import BartTokenizer\n",
        "from bart import MyBart\n",
        "\n",
        "base_model = \"facebook/bart-large\"\n",
        "unifiedqa_path = \"unifiedQA-uncased/best-model.pt\" # path to the downloaded checkpoint\n",
        "\n",
        "tokenizer = BartTokenizer.from_pretrained(base_model)\n",
        "model = MyBart.from_pretrained(base_model, state_dict=torch.load(unifiedqa_path))\n",
        "model.eval()\n",
        "\n",
        "x = model.generate_from_string(\"Which is best conductor? \\\\n (A) iron (B) feather\", tokenizer=tokenizer)\n",
        "print (x)\n",
        "\n",
        "x = model.generate_from_string(\"What is the sum of 3 and 5? \\\\n (A) 8 (B) 3 (C) 5 (D) 10\", tokenizer=tokenizer)\n",
        "print (x)"
      ],
      "execution_count": null,
      "outputs": [
        {
          "output_type": "display_data",
          "data": {
            "application/vnd.jupyter.widget-view+json": {
              "model_id": "e7195b3b10204c0db778d55c3006c035",
              "version_minor": 0,
              "version_major": 2
            },
            "text/plain": [
              "HBox(children=(FloatProgress(value=0.0, description='Downloading', max=898822.0, style=ProgressStyle(descripti…"
            ]
          },
          "metadata": {
            "tags": []
          }
        },
        {
          "output_type": "stream",
          "text": [
            "\n"
          ],
          "name": "stdout"
        },
        {
          "output_type": "display_data",
          "data": {
            "application/vnd.jupyter.widget-view+json": {
              "model_id": "08dc2d24a0c740df966455379fbdbf50",
              "version_minor": 0,
              "version_major": 2
            },
            "text/plain": [
              "HBox(children=(FloatProgress(value=0.0, description='Downloading', max=456318.0, style=ProgressStyle(descripti…"
            ]
          },
          "metadata": {
            "tags": []
          }
        },
        {
          "output_type": "stream",
          "text": [
            "\n"
          ],
          "name": "stdout"
        },
        {
          "output_type": "display_data",
          "data": {
            "application/vnd.jupyter.widget-view+json": {
              "model_id": "ef7b610a03b34be98115342cba5ba47c",
              "version_minor": 0,
              "version_major": 2
            },
            "text/plain": [
              "HBox(children=(FloatProgress(value=0.0, description='Downloading', max=26.0, style=ProgressStyle(description_w…"
            ]
          },
          "metadata": {
            "tags": []
          }
        },
        {
          "output_type": "stream",
          "text": [
            "\n"
          ],
          "name": "stdout"
        },
        {
          "output_type": "display_data",
          "data": {
            "application/vnd.jupyter.widget-view+json": {
              "model_id": "a25f3e9fd34047809dcfe4d09c58615b",
              "version_minor": 0,
              "version_major": 2
            },
            "text/plain": [
              "HBox(children=(FloatProgress(value=0.0, description='Downloading', max=1525.0, style=ProgressStyle(description…"
            ]
          },
          "metadata": {
            "tags": []
          }
        },
        {
          "output_type": "stream",
          "text": [
            "\n"
          ],
          "name": "stdout"
        },
        {
          "output_type": "display_data",
          "data": {
            "application/vnd.jupyter.widget-view+json": {
              "model_id": "bca1abc0636f4cbd97bdd4370fd70ded",
              "version_minor": 0,
              "version_major": 2
            },
            "text/plain": [
              "HBox(children=(FloatProgress(value=0.0, description='Downloading', max=1018571383.0, style=ProgressStyle(descr…"
            ]
          },
          "metadata": {
            "tags": []
          }
        },
        {
          "output_type": "stream",
          "text": [
            "\n",
            "['iron']\n",
            "['10']\n"
          ],
          "name": "stdout"
        }
      ]
    },
    {
      "cell_type": "code",
      "metadata": {
        "colab": {
          "base_uri": "https://localhost:8080/"
        },
        "id": "9lxE8BOMws5m",
        "outputId": "2ba12cdd-8d78-4261-ef1a-3cdc6ac9bd1f"
      },
      "source": [
        "ls"
      ],
      "execution_count": null,
      "outputs": [
        {
          "output_type": "stream",
          "text": [
            "bart.py  \u001b[0m\u001b[01;34mdata\u001b[0m/    \u001b[01;32mdownload_data.sh\u001b[0m*  \u001b[01;34m__pycache__\u001b[0m/  run.py\n",
            "\u001b[01;32mcli.py\u001b[0m*  data.py  \u001b[01;34mout\u001b[0m/               README.md     unified_data.py\n"
          ],
          "name": "stdout"
        }
      ]
    },
    {
      "cell_type": "code",
      "metadata": {
        "colab": {
          "base_uri": "https://localhost:8080/"
        },
        "id": "xvVnvqgAv4Zo",
        "outputId": "a2b0953c-d4c4-443c-8fa7-7c931eed387b"
      },
      "source": [
        "!python cli.py --do_train --output_dir /content/drive/MyDrive/out/natural_questions_with_dpr_para_unifiedqa/new_ufa_model/ \\\n",
        "    --checkpoint /content/drive/MyDrive/out/natural_questions_with_dpr_para_unifiedqa/best-model.pt\\\n",
        "    --train_file data/natural_questions_with_dpr_para/train.tsv \\\n",
        "    --predict_file data/natural_questions_with_dpr_para/dev.tsv \\\n",
        "    --train_batch_size 4\\\n",
        "    --predict_batch_size 4\\\n",
        "    --num_train_epochs 3 \\\n",
        "    --append_another_bos --do_lowercase"
      ],
      "execution_count": null,
      "outputs": [
        {
          "output_type": "stream",
          "text": [
            "2021-04-16 05:39:56.354130: I tensorflow/stream_executor/platform/default/dso_loader.cc:49] Successfully opened dynamic library libcudart.so.11.0\n",
            "04/16/2021 05:39:58 - INFO - __main__ - Namespace(adam_epsilon=1e-08, append_another_bos=True, checkpoint='/content/drive/MyDrive/out/natural_questions_with_dpr_para_unifiedqa/best-model.pt', checkpoint_step=0, debug=False, do_lowercase=True, do_predict=False, do_train=True, eval_period=2000, gradient_accumulation_steps=1, is_unifiedqa=False, learning_rate=1e-05, max_grad_norm=1.0, max_input_length=512, max_output_length=100, num_beams=4, num_train_epochs=3.0, output_dir='/content/drive/MyDrive/out/natural_questions_with_dpr_para_unifiedqa/new_ufa_model/', predict_batch_size=4, predict_file='data/natural_questions_with_dpr_para/dev.tsv', prefix='', seed=42, skip_inference=False, train_batch_size=4, train_file='data/natural_questions_with_dpr_para/train.tsv', verbose=False, wait_step=10, warmup_proportion=0.01, warmup_steps=0, weight_decay=0.0)\n",
            "04/16/2021 05:39:58 - INFO - __main__ - /content/drive/MyDrive/out/natural_questions_with_dpr_para_unifiedqa/new_ufa_model/\n",
            "04/16/2021 05:39:58 - INFO - __main__ - Using 1 gpus\n",
            "04/16/2021 05:39:59 - INFO - filelock - Lock 139641795952592 acquired on /root/.cache/torch/transformers/1ae1f5b6e2b22b25ccc04c000bb79ca847aa226d0761536b011cf7e5868f0655.ef00af9e673c7160b4d41cfda1f48c5f4cba57d5142754525572a846a1ab1b9b.lock\n",
            "04/16/2021 05:39:59 - INFO - transformers.file_utils - https://s3.amazonaws.com/models.huggingface.co/bert/roberta-large-vocab.json not found in cache or force_download set to True, downloading to /root/.cache/torch/transformers/tmpbb2iyfyo\n",
            "Downloading: 100% 899k/899k [00:01<00:00, 838kB/s]\n",
            "04/16/2021 05:40:01 - INFO - transformers.file_utils - storing https://s3.amazonaws.com/models.huggingface.co/bert/roberta-large-vocab.json in cache at /root/.cache/torch/transformers/1ae1f5b6e2b22b25ccc04c000bb79ca847aa226d0761536b011cf7e5868f0655.ef00af9e673c7160b4d41cfda1f48c5f4cba57d5142754525572a846a1ab1b9b\n",
            "04/16/2021 05:40:01 - INFO - transformers.file_utils - creating metadata file for /root/.cache/torch/transformers/1ae1f5b6e2b22b25ccc04c000bb79ca847aa226d0761536b011cf7e5868f0655.ef00af9e673c7160b4d41cfda1f48c5f4cba57d5142754525572a846a1ab1b9b\n",
            "04/16/2021 05:40:01 - INFO - filelock - Lock 139641795952592 released on /root/.cache/torch/transformers/1ae1f5b6e2b22b25ccc04c000bb79ca847aa226d0761536b011cf7e5868f0655.ef00af9e673c7160b4d41cfda1f48c5f4cba57d5142754525572a846a1ab1b9b.lock\n",
            "04/16/2021 05:40:02 - INFO - filelock - Lock 139641657945744 acquired on /root/.cache/torch/transformers/f8f83199a6270d582d6245dc100e99c4155de81c9745c6248077018fe01abcfb.70bec105b4158ed9a1747fea67a43f5dee97855c64d62b6ec3742f4cfdb5feda.lock\n",
            "04/16/2021 05:40:02 - INFO - transformers.file_utils - https://s3.amazonaws.com/models.huggingface.co/bert/roberta-large-merges.txt not found in cache or force_download set to True, downloading to /root/.cache/torch/transformers/tmp4li96plq\n",
            "Downloading: 100% 456k/456k [00:00<00:00, 510kB/s]\n",
            "04/16/2021 05:40:03 - INFO - transformers.file_utils - storing https://s3.amazonaws.com/models.huggingface.co/bert/roberta-large-merges.txt in cache at /root/.cache/torch/transformers/f8f83199a6270d582d6245dc100e99c4155de81c9745c6248077018fe01abcfb.70bec105b4158ed9a1747fea67a43f5dee97855c64d62b6ec3742f4cfdb5feda\n",
            "04/16/2021 05:40:03 - INFO - transformers.file_utils - creating metadata file for /root/.cache/torch/transformers/f8f83199a6270d582d6245dc100e99c4155de81c9745c6248077018fe01abcfb.70bec105b4158ed9a1747fea67a43f5dee97855c64d62b6ec3742f4cfdb5feda\n",
            "04/16/2021 05:40:03 - INFO - filelock - Lock 139641657945744 released on /root/.cache/torch/transformers/f8f83199a6270d582d6245dc100e99c4155de81c9745c6248077018fe01abcfb.70bec105b4158ed9a1747fea67a43f5dee97855c64d62b6ec3742f4cfdb5feda.lock\n",
            "04/16/2021 05:40:03 - INFO - transformers.tokenization_utils - loading file https://s3.amazonaws.com/models.huggingface.co/bert/roberta-large-vocab.json from cache at /root/.cache/torch/transformers/1ae1f5b6e2b22b25ccc04c000bb79ca847aa226d0761536b011cf7e5868f0655.ef00af9e673c7160b4d41cfda1f48c5f4cba57d5142754525572a846a1ab1b9b\n",
            "04/16/2021 05:40:03 - INFO - transformers.tokenization_utils - loading file https://s3.amazonaws.com/models.huggingface.co/bert/roberta-large-merges.txt from cache at /root/.cache/torch/transformers/f8f83199a6270d582d6245dc100e99c4155de81c9745c6248077018fe01abcfb.70bec105b4158ed9a1747fea67a43f5dee97855c64d62b6ec3742f4cfdb5feda\n",
            "Start tokenizing...\n",
            "04/16/2021 05:40:42 - INFO - __main__ - Loaded 10693 examples from dev data\n",
            "Start tokenizing...\n",
            "04/16/2021 05:46:01 - INFO - __main__ - Loaded 96676 examples from train data\n",
            "04/16/2021 05:46:34 - INFO - filelock - Lock 139641525903568 acquired on /root/.cache/torch/transformers/7f6632e580b7d9fd4f611dd96dab877cccfc319867b53b8b72fddca7fd64de5c.8b65d3b9a47e96c1909d807f7e7f41dd1ed95092b139965be7b914aa4fb5fd08.lock\n",
            "04/16/2021 05:46:34 - INFO - transformers.file_utils - https://s3.amazonaws.com/models.huggingface.co/bert/facebook/bart-large/config.json not found in cache or force_download set to True, downloading to /root/.cache/torch/transformers/tmpv6epj1u5\n",
            "Downloading: 100% 1.52k/1.52k [00:00<00:00, 1.28MB/s]\n",
            "04/16/2021 05:46:35 - INFO - transformers.file_utils - storing https://s3.amazonaws.com/models.huggingface.co/bert/facebook/bart-large/config.json in cache at /root/.cache/torch/transformers/7f6632e580b7d9fd4f611dd96dab877cccfc319867b53b8b72fddca7fd64de5c.8b65d3b9a47e96c1909d807f7e7f41dd1ed95092b139965be7b914aa4fb5fd08\n",
            "04/16/2021 05:46:35 - INFO - transformers.file_utils - creating metadata file for /root/.cache/torch/transformers/7f6632e580b7d9fd4f611dd96dab877cccfc319867b53b8b72fddca7fd64de5c.8b65d3b9a47e96c1909d807f7e7f41dd1ed95092b139965be7b914aa4fb5fd08\n",
            "04/16/2021 05:46:35 - INFO - filelock - Lock 139641525903568 released on /root/.cache/torch/transformers/7f6632e580b7d9fd4f611dd96dab877cccfc319867b53b8b72fddca7fd64de5c.8b65d3b9a47e96c1909d807f7e7f41dd1ed95092b139965be7b914aa4fb5fd08.lock\n",
            "04/16/2021 05:46:35 - INFO - transformers.configuration_utils - loading configuration file https://s3.amazonaws.com/models.huggingface.co/bert/facebook/bart-large/config.json from cache at /root/.cache/torch/transformers/7f6632e580b7d9fd4f611dd96dab877cccfc319867b53b8b72fddca7fd64de5c.8b65d3b9a47e96c1909d807f7e7f41dd1ed95092b139965be7b914aa4fb5fd08\n",
            "04/16/2021 05:46:35 - INFO - transformers.configuration_utils - Model config BartConfig {\n",
            "  \"activation_dropout\": 0.1,\n",
            "  \"activation_function\": \"gelu\",\n",
            "  \"add_bias_logits\": false,\n",
            "  \"add_final_layer_norm\": false,\n",
            "  \"architectures\": [\n",
            "    \"BartModel\",\n",
            "    \"BartForConditionalGeneration\",\n",
            "    \"BartForSequenceClassification\"\n",
            "  ],\n",
            "  \"attention_dropout\": 0.1,\n",
            "  \"bos_token_id\": 0,\n",
            "  \"classif_dropout\": 0.0,\n",
            "  \"d_model\": 1024,\n",
            "  \"decoder_attention_heads\": 16,\n",
            "  \"decoder_ffn_dim\": 4096,\n",
            "  \"decoder_layerdrop\": 0.0,\n",
            "  \"decoder_layers\": 12,\n",
            "  \"decoder_start_token_id\": 2,\n",
            "  \"dropout\": 0.1,\n",
            "  \"early_stopping\": true,\n",
            "  \"encoder_attention_heads\": 16,\n",
            "  \"encoder_ffn_dim\": 4096,\n",
            "  \"encoder_layerdrop\": 0.0,\n",
            "  \"encoder_layers\": 12,\n",
            "  \"eos_token_id\": 2,\n",
            "  \"id2label\": {\n",
            "    \"0\": \"LABEL_0\",\n",
            "    \"1\": \"LABEL_1\",\n",
            "    \"2\": \"LABEL_2\"\n",
            "  },\n",
            "  \"init_std\": 0.02,\n",
            "  \"is_encoder_decoder\": true,\n",
            "  \"label2id\": {\n",
            "    \"LABEL_0\": 0,\n",
            "    \"LABEL_1\": 1,\n",
            "    \"LABEL_2\": 2\n",
            "  },\n",
            "  \"max_position_embeddings\": 1024,\n",
            "  \"model_type\": \"bart\",\n",
            "  \"no_repeat_ngram_size\": 3,\n",
            "  \"normalize_before\": false,\n",
            "  \"normalize_embedding\": true,\n",
            "  \"num_beams\": 4,\n",
            "  \"num_hidden_layers\": 12,\n",
            "  \"pad_token_id\": 1,\n",
            "  \"scale_embedding\": false,\n",
            "  \"static_position_embeddings\": false,\n",
            "  \"task_specific_params\": {\n",
            "    \"summarization\": {\n",
            "      \"length_penalty\": 1.0,\n",
            "      \"max_length\": 128,\n",
            "      \"min_length\": 12,\n",
            "      \"num_beams\": 4\n",
            "    },\n",
            "    \"summarization_cnn\": {\n",
            "      \"length_penalty\": 2.0,\n",
            "      \"max_length\": 142,\n",
            "      \"min_length\": 56,\n",
            "      \"num_beams\": 4\n",
            "    },\n",
            "    \"summarization_xsum\": {\n",
            "      \"length_penalty\": 1.0,\n",
            "      \"max_length\": 62,\n",
            "      \"min_length\": 11,\n",
            "      \"num_beams\": 6\n",
            "    }\n",
            "  },\n",
            "  \"vocab_size\": 50265\n",
            "}\n",
            "\n",
            "04/16/2021 05:46:35 - INFO - filelock - Lock 139641531702992 acquired on /root/.cache/torch/transformers/2e7cae41bb1dd1f18e498ff4ff0ea85f7e9bc2b637439e2d95c485c5d5bdd579.5442efe9b99297b6484ff9378cc5af7f47a37d305cbec072c44eb329873e4fe6.lock\n",
            "04/16/2021 05:46:35 - INFO - transformers.file_utils - https://cdn.huggingface.co/facebook/bart-large/pytorch_model.bin not found in cache or force_download set to True, downloading to /root/.cache/torch/transformers/tmp6sp0_fel\n",
            "Downloading: 100% 1.02G/1.02G [00:57<00:00, 17.8MB/s]\n",
            "04/16/2021 05:47:33 - INFO - transformers.file_utils - storing https://cdn.huggingface.co/facebook/bart-large/pytorch_model.bin in cache at /root/.cache/torch/transformers/2e7cae41bb1dd1f18e498ff4ff0ea85f7e9bc2b637439e2d95c485c5d5bdd579.5442efe9b99297b6484ff9378cc5af7f47a37d305cbec072c44eb329873e4fe6\n",
            "04/16/2021 05:47:33 - INFO - transformers.file_utils - creating metadata file for /root/.cache/torch/transformers/2e7cae41bb1dd1f18e498ff4ff0ea85f7e9bc2b637439e2d95c485c5d5bdd579.5442efe9b99297b6484ff9378cc5af7f47a37d305cbec072c44eb329873e4fe6\n",
            "04/16/2021 05:47:33 - INFO - filelock - Lock 139641531702992 released on /root/.cache/torch/transformers/2e7cae41bb1dd1f18e498ff4ff0ea85f7e9bc2b637439e2d95c485c5d5bdd579.5442efe9b99297b6484ff9378cc5af7f47a37d305cbec072c44eb329873e4fe6.lock\n",
            "04/16/2021 05:47:33 - INFO - transformers.modeling_utils - loading weights file https://cdn.huggingface.co/facebook/bart-large/pytorch_model.bin from cache at /root/.cache/torch/transformers/2e7cae41bb1dd1f18e498ff4ff0ea85f7e9bc2b637439e2d95c485c5d5bdd579.5442efe9b99297b6484ff9378cc5af7f47a37d305cbec072c44eb329873e4fe6\n",
            "04/16/2021 05:47:49 - INFO - __main__ - Starting training!\n",
            "/usr/local/lib/python3.7/dist-packages/torch/nn/_reduction.py:46: UserWarning: size_average and reduce args will be deprecated, please use reduction='none' instead.\n",
            "  warnings.warn(warning.format(ret))\n",
            "04/16/2021 06:29:52 - INFO - __main__ - Step 2000 Train loss 18.65 EM 31.24% on epoch=0\n",
            "04/16/2021 06:30:02 - INFO - __main__ - Saving model with best EM: -100.00% -> 31.24% on epoch=0, global_step=2000\n",
            "04/16/2021 07:11:33 - INFO - __main__ - Step 4000 Train loss 18.82 EM 32.44% on epoch=0\n",
            "04/16/2021 07:11:47 - INFO - __main__ - Saving model with best EM: 31.24% -> 32.44% on epoch=0, global_step=4000\n",
            "04/16/2021 07:53:25 - INFO - __main__ - Step 6000 Train loss 18.06 EM 32.08% on epoch=0\n",
            "04/16/2021 08:35:26 - INFO - __main__ - Step 8000 Train loss 18.15 EM 32.91% on epoch=0\n",
            "04/16/2021 08:35:40 - INFO - __main__ - Saving model with best EM: 32.44% -> 32.91% on epoch=0, global_step=8000\n",
            "04/16/2021 09:17:24 - INFO - __main__ - Step 10000 Train loss 18.12 EM 32.77% on epoch=0\n",
            "04/16/2021 09:58:57 - INFO - __main__ - Step 12000 Train loss 17.55 EM 32.70% on epoch=0\n",
            "04/16/2021 10:40:24 - INFO - __main__ - Step 14000 Train loss 17.44 EM 33.24% on epoch=0\n",
            "04/16/2021 10:40:37 - INFO - __main__ - Saving model with best EM: 32.91% -> 33.24% on epoch=0, global_step=14000\n",
            "04/16/2021 11:22:10 - INFO - __main__ - Step 16000 Train loss 17.76 EM 32.73% on epoch=0\n",
            "04/16/2021 12:04:02 - INFO - __main__ - Step 18000 Train loss 17.62 EM 33.23% on epoch=0\n",
            "04/16/2021 12:45:56 - INFO - __main__ - Step 20000 Train loss 17.40 EM 32.98% on epoch=0\n",
            "04/16/2021 13:28:02 - INFO - __main__ - Step 22000 Train loss 17.54 EM 33.07% on epoch=0\n",
            "04/16/2021 14:10:07 - INFO - __main__ - Step 24000 Train loss 17.79 EM 33.00% on epoch=0\n",
            "04/16/2021 14:52:23 - INFO - __main__ - Step 26000 Train loss 13.51 EM 33.26% on epoch=1\n",
            "04/16/2021 14:52:36 - INFO - __main__ - Saving model with best EM: 33.24% -> 33.26% on epoch=1, global_step=26000\n",
            "04/16/2021 15:34:37 - INFO - __main__ - Step 28000 Train loss 13.11 EM 33.77% on epoch=1\n",
            "04/16/2021 15:34:52 - INFO - __main__ - Saving model with best EM: 33.26% -> 33.77% on epoch=1, global_step=28000\n",
            "04/16/2021 16:16:49 - INFO - __main__ - Step 30000 Train loss 13.28 EM 33.25% on epoch=1\n",
            "04/16/2021 16:58:46 - INFO - __main__ - Step 32000 Train loss 15.10 EM 33.66% on epoch=1\n"
          ],
          "name": "stdout"
        }
      ]
    },
    {
      "cell_type": "code",
      "metadata": {
        "colab": {
          "base_uri": "https://localhost:8080/"
        },
        "id": "AuLwPSOXxS3t",
        "outputId": "d30c815f-cae5-4a4a-de94-6f6d80fda47b"
      },
      "source": [
        "!nvidia-smi -L"
      ],
      "execution_count": null,
      "outputs": [
        {
          "output_type": "stream",
          "text": [
            "GPU 0: Tesla P100-PCIE-16GB (UUID: GPU-d733c102-b1c4-7b8f-9afd-bba02c13c100)\n"
          ],
          "name": "stdout"
        }
      ]
    },
    {
      "cell_type": "code",
      "metadata": {
        "id": "5Gok6eqaMipk",
        "colab": {
          "base_uri": "https://localhost:8080/"
        },
        "outputId": "c25c5eb6-bf4d-446f-e1f8-b3c357db7b6c"
      },
      "source": [
        "ls"
      ],
      "execution_count": null,
      "outputs": [
        {
          "output_type": "stream",
          "text": [
            "bart.py  data.py            \u001b[0m\u001b[01;34m__pycache__\u001b[0m/  unified_data.py\n",
            "\u001b[01;32mcli.py\u001b[0m*  \u001b[01;32mdownload_data.sh\u001b[0m*  README.md     \u001b[01;34munifiedQA-cased\u001b[0m/\n",
            "\u001b[01;34mdata\u001b[0m/    \u001b[01;34mout\u001b[0m/               run.py        \u001b[01;34munifiedQA-uncased\u001b[0m/\n"
          ],
          "name": "stdout"
        }
      ]
    },
    {
      "cell_type": "code",
      "metadata": {
        "id": "pBtjIQjAlijg"
      },
      "source": [
        "!cp -r out /content/drive/MyDrive/"
      ],
      "execution_count": null,
      "outputs": []
    },
    {
      "cell_type": "code",
      "metadata": {
        "colab": {
          "base_uri": "https://localhost:8080/"
        },
        "id": "XDItk8oGluuX",
        "outputId": "91015bab-44e3-470d-9fb3-df8405e71442"
      },
      "source": [
        "!python cli.py --do_predict --output_dir out/natural_questions_with_dpr_para_unifiedqa \\\n",
        "    --predict_file data/natural_questions_with_dpr_para/dev.tsv \\\n",
        "    --predict_batch_size 16\\\n",
        "    --append_another_bos"
      ],
      "execution_count": null,
      "outputs": [
        {
          "output_type": "stream",
          "text": [
            "2021-04-15 22:14:29.458868: I tensorflow/stream_executor/platform/default/dso_loader.cc:49] Successfully opened dynamic library libcudart.so.11.0\n",
            "Output directory () already exists and is not empty.\n",
            "04/15/2021 22:14:31 - INFO - __main__ - Namespace(adam_epsilon=1e-08, append_another_bos=True, checkpoint=None, checkpoint_step=0, debug=False, do_lowercase=False, do_predict=True, do_train=False, eval_period=2000, gradient_accumulation_steps=1, is_unifiedqa=False, learning_rate=1e-05, max_grad_norm=1.0, max_input_length=512, max_output_length=100, num_beams=4, num_train_epochs=10000.0, output_dir='out/natural_questions_with_dpr_para_unifiedqa', predict_batch_size=16, predict_file='data/natural_questions_with_dpr_para/dev.tsv', prefix='', seed=42, skip_inference=False, train_batch_size=40, train_file='data/train.tsv', verbose=False, wait_step=10, warmup_proportion=0.01, warmup_steps=0, weight_decay=0.0)\n",
            "04/15/2021 22:14:31 - INFO - __main__ - out/natural_questions_with_dpr_para_unifiedqa\n",
            "04/15/2021 22:14:31 - INFO - __main__ - Using 1 gpus\n",
            "04/15/2021 22:14:31 - INFO - transformers.tokenization_utils - loading file https://s3.amazonaws.com/models.huggingface.co/bert/roberta-large-vocab.json from cache at /root/.cache/torch/transformers/1ae1f5b6e2b22b25ccc04c000bb79ca847aa226d0761536b011cf7e5868f0655.ef00af9e673c7160b4d41cfda1f48c5f4cba57d5142754525572a846a1ab1b9b\n",
            "04/15/2021 22:14:31 - INFO - transformers.tokenization_utils - loading file https://s3.amazonaws.com/models.huggingface.co/bert/roberta-large-merges.txt from cache at /root/.cache/torch/transformers/f8f83199a6270d582d6245dc100e99c4155de81c9745c6248077018fe01abcfb.70bec105b4158ed9a1747fea67a43f5dee97855c64d62b6ec3742f4cfdb5feda\n",
            "04/15/2021 22:14:31 - INFO - __main__ - Loading pre-tokenized data from data/natural_questions_with_dpr_para/dev-xbos-BartTokenized.json\n",
            "04/15/2021 22:14:33 - INFO - __main__ - Loaded 10693 examples from dev data\n",
            "04/15/2021 22:14:34 - INFO - transformers.configuration_utils - loading configuration file https://s3.amazonaws.com/models.huggingface.co/bert/facebook/bart-large/config.json from cache at /root/.cache/torch/transformers/7f6632e580b7d9fd4f611dd96dab877cccfc319867b53b8b72fddca7fd64de5c.8b65d3b9a47e96c1909d807f7e7f41dd1ed95092b139965be7b914aa4fb5fd08\n",
            "04/15/2021 22:14:34 - INFO - transformers.configuration_utils - Model config BartConfig {\n",
            "  \"activation_dropout\": 0.1,\n",
            "  \"activation_function\": \"gelu\",\n",
            "  \"add_bias_logits\": false,\n",
            "  \"add_final_layer_norm\": false,\n",
            "  \"architectures\": [\n",
            "    \"BartModel\",\n",
            "    \"BartForConditionalGeneration\",\n",
            "    \"BartForSequenceClassification\"\n",
            "  ],\n",
            "  \"attention_dropout\": 0.1,\n",
            "  \"bos_token_id\": 0,\n",
            "  \"classif_dropout\": 0.0,\n",
            "  \"d_model\": 1024,\n",
            "  \"decoder_attention_heads\": 16,\n",
            "  \"decoder_ffn_dim\": 4096,\n",
            "  \"decoder_layerdrop\": 0.0,\n",
            "  \"decoder_layers\": 12,\n",
            "  \"decoder_start_token_id\": 2,\n",
            "  \"dropout\": 0.1,\n",
            "  \"early_stopping\": true,\n",
            "  \"encoder_attention_heads\": 16,\n",
            "  \"encoder_ffn_dim\": 4096,\n",
            "  \"encoder_layerdrop\": 0.0,\n",
            "  \"encoder_layers\": 12,\n",
            "  \"eos_token_id\": 2,\n",
            "  \"id2label\": {\n",
            "    \"0\": \"LABEL_0\",\n",
            "    \"1\": \"LABEL_1\",\n",
            "    \"2\": \"LABEL_2\"\n",
            "  },\n",
            "  \"init_std\": 0.02,\n",
            "  \"is_encoder_decoder\": true,\n",
            "  \"label2id\": {\n",
            "    \"LABEL_0\": 0,\n",
            "    \"LABEL_1\": 1,\n",
            "    \"LABEL_2\": 2\n",
            "  },\n",
            "  \"max_position_embeddings\": 1024,\n",
            "  \"model_type\": \"bart\",\n",
            "  \"no_repeat_ngram_size\": 3,\n",
            "  \"normalize_before\": false,\n",
            "  \"normalize_embedding\": true,\n",
            "  \"num_beams\": 4,\n",
            "  \"num_hidden_layers\": 12,\n",
            "  \"pad_token_id\": 1,\n",
            "  \"scale_embedding\": false,\n",
            "  \"static_position_embeddings\": false,\n",
            "  \"task_specific_params\": {\n",
            "    \"summarization\": {\n",
            "      \"length_penalty\": 1.0,\n",
            "      \"max_length\": 128,\n",
            "      \"min_length\": 12,\n",
            "      \"num_beams\": 4\n",
            "    },\n",
            "    \"summarization_cnn\": {\n",
            "      \"length_penalty\": 2.0,\n",
            "      \"max_length\": 142,\n",
            "      \"min_length\": 56,\n",
            "      \"num_beams\": 4\n",
            "    },\n",
            "    \"summarization_xsum\": {\n",
            "      \"length_penalty\": 1.0,\n",
            "      \"max_length\": 62,\n",
            "      \"min_length\": 11,\n",
            "      \"num_beams\": 6\n",
            "    }\n",
            "  },\n",
            "  \"vocab_size\": 50265\n",
            "}\n",
            "\n",
            "04/15/2021 22:14:35 - INFO - transformers.modeling_utils - loading weights file https://cdn.huggingface.co/facebook/bart-large/pytorch_model.bin from cache at /root/.cache/torch/transformers/2e7cae41bb1dd1f18e498ff4ff0ea85f7e9bc2b637439e2d95c485c5d5bdd579.5442efe9b99297b6484ff9378cc5af7f47a37d305cbec072c44eb329873e4fe6\n",
            "04/15/2021 22:14:43 - INFO - __main__ - Loading checkpoint from out/natural_questions_with_dpr_para_unifiedqa/best-model.pt\n",
            "04/15/2021 22:35:02 - INFO - __main__ - Saved prediction in out/natural_questions_with_dpr_para_unifiedqa/predictions.json\n",
            "04/15/2021 22:35:02 - INFO - __main__ - EM on dev data: 33.21\n"
          ],
          "name": "stdout"
        }
      ]
    },
    {
      "cell_type": "code",
      "metadata": {
        "colab": {
          "base_uri": "https://localhost:8080/"
        },
        "id": "MnwB0i_QmDo9",
        "outputId": "1c9e947d-079f-4431-c3d5-8a79e4a5f734"
      },
      "source": [
        "cd /content/unifiedqa/bart/data/natural_questions_with_dpr_para/"
      ],
      "execution_count": null,
      "outputs": [
        {
          "output_type": "stream",
          "text": [
            "/content/unifiedqa/bart/data/natural_questions_with_dpr_para\n"
          ],
          "name": "stdout"
        }
      ]
    },
    {
      "cell_type": "code",
      "metadata": {
        "id": "o8XxhZFprXWB"
      },
      "source": [
        "infer_answers = []\n",
        "infer_questions = []\n",
        "infer_contexts = []\n",
        "with open('dev.tsv', 'rb') as inference_in:\n",
        "    lines = inference_in.readlines()\n",
        "    for i in range(len(lines)):\n",
        "        sep = str(lines[i]).split('\\\\n') \n",
        "        infer_questions.append(sep[0][2:-1])\n",
        "        infer_answers.append((sep[1].split('\\\\t')[-1]).lower())\n",
        "        infer_contexts.append(sep[1].split('\\\\t')[0])\n"
      ],
      "execution_count": null,
      "outputs": []
    },
    {
      "cell_type": "code",
      "metadata": {
        "colab": {
          "base_uri": "https://localhost:8080/"
        },
        "id": "a64tQAQ_rZqD",
        "outputId": "739a1b60-1bc9-4971-b46c-fde0c4a937b3"
      },
      "source": [
        "cd /content/unifiedqa/bart/unifiedqa/bart/out/natural_questions_with_dpr_para_unifiedqa"
      ],
      "execution_count": null,
      "outputs": [
        {
          "output_type": "stream",
          "text": [
            "/content/unifiedqa/bart/unifiedqa/bart/out/natural_questions_with_dpr_para_unifiedqa\n"
          ],
          "name": "stdout"
        }
      ]
    },
    {
      "cell_type": "code",
      "metadata": {
        "colab": {
          "base_uri": "https://localhost:8080/"
        },
        "id": "EL5-Brs7re1Y",
        "outputId": "67ee55e8-9d04-42de-df24-2b3471be2731"
      },
      "source": [
        "ls"
      ],
      "execution_count": null,
      "outputs": [
        {
          "output_type": "stream",
          "text": [
            "best-model.pt  eval_log.txt  log.txt  predictions.json\n"
          ],
          "name": "stdout"
        }
      ]
    },
    {
      "cell_type": "code",
      "metadata": {
        "colab": {
          "base_uri": "https://localhost:8080/"
        },
        "id": "nyNZwJXxrgEc",
        "outputId": "7e76fd1e-1833-4538-e3d2-9ac7e7f0dca2"
      },
      "source": [
        "import json\n",
        "with open(\"predictions.json\", 'rb') as m_out:\n",
        "    pred = json.load(m_out)\n",
        "\n",
        "print(pred)"
      ],
      "execution_count": null,
      "outputs": [
        {
          "output_type": "stream",
          "text": [
            "['reba mcentire', '68', 'saint lawrence river', 'october 11, 2018', 'r', 'marcy rylan', 'roy raymond', '2006', 'charles cornwallis', 'jewel records', 'sauron', 'close to the poles', 'march 4, 1913', 'queen hippolyta', 'paul', 'the rib cage', 'the rib cage', 'the rib cage', 'the rib cage', 'the rib cage', 'the rib cage', 'jim steinman', 'epididymis', 'september 1977', '1970s', 'peyton manning', 'june 20, 2017', 'kani', '4 october 1957', '38', 'july 15, 2017', '20 october 2018', 'the solicitor general', 'urchins', 'phil bardsley', 'vertebrates', 'palace of fontainebleau', 'palace of fontainebleau', 'palace of fontainebleau', 'palace of fontainebleau', 'andy griffith', 'brazil', 'walmart', 'walmart', 'billy steinberg', 'mikasa', 'artax', 'antonio meucci', 'cece drake', 'cece drake', 'blair', 'foxborough, massachusetts', 'ari lehman', 'the steelers', 'joey scarbury', 'sonny bono', 'west indies', 'hugo weaving', 'roger federer', 'nine', 'auston matthews', 'auston matthews', 'auston matthews', 'auston matthews', 'auston matthews', 'auston matthews', 'auston matthews', 'auston matthews', 'auston matthews', 'neil gorsuch', 'eoghan mcdermott', 'june 6, 2017', '2001', 'mildred j. hill', '2008', 'estelle harris', 'roger miller', 'jennifer saunders', 'command - line', 'command - line', 'command - line', 'command - line', 'command - line', 'alexandra breckenridge', 'june 21, 2010', 'neon', 'thomas rowe price jr.', 'linsey godfrey', 'december 22, 2017', 'jean alexander', 'phillip paley', 'boris karloff', 'democratic', 'melanie', 'tom thibodeau', 'dylan sprouse', 'michael manning', '1 corinthians 13', '15 march 1950', 'sean miller', 'suzanne siegel', 'gregg sulkin', 'the leaf', 'bill gates', 'milos forman', 'steven weber', 'lady antebellum', 'dallas cowboys', 'phoenix mills limited', '713', 'keith urban', 'keith urban', '2018', 'james dornan', 'yorkshire', '1941', 'january 1982', 'january 1999', 'the rest cure', 'may 28, 2018', 'the early 2nd century', '5,100', 'october 3, 2017', 'tamaki', 'june 5, 2017', '26', 'faber college', \"sandra day o'connor\", 'tina charles', '2012 -- 13', 'times square', 'u.s. government', 'gene autry', 'parallelogram', 'nesselrode', 'heme iron', 'emily osment', 'seawater', 'december 15, 1791', 'massachusetts', 'abhimanyu', 'thames water', 'thames water', 'us $1.1 billion', 'august 14, 2017', 'sir donald bradman', 'breckenridge', 'milton', 'milton', 'petrarch', 'dante hoagland', 'constance towers', '8', 'dave johnson', 'the lungs', 'perseverance of the saints', '1994', 'mid-17th century', '16 days', 'the south lawn', 'the challenger deep', 'the humans', '2018', 'jerry seinfeld', 'july 1, 2018', 'france', 'horseshoe arch', 'horseshoe arch', 'rob brydon', 'rob brydon', 'rob brydon', 'rob brydon', 'rob brydon', 'rob brydon', 'rob brydon', 'rob brydon', '1271 -- 1279', '3 march 2018', 'pete seeger', '1966', 'the inability to pay', 'melbourne cricket ground', 'melbourne cricket ground', 'melbourne cricket ground', 'melbourne cricket ground', 'melbourne cricket ground', 'ruth bader ginsburg', 'article i, section 2', 'july 1, 2018', 'parsons', '9', 'betsy palmer', '1845', 'spring awakening', 'about two years', 'about two years', 'about two years', 'about two years', '1908', 'columbus', '1934', '1934', '82', 'may 15, 2017', 'june 29, 2018', '1918', 'electroencephalography', 'endoneurium', 'american league', 'manoel felciano', 'charles, prince of wales', 'charles, prince of wales', 'charles, prince of wales', 'electromagnetic radiation', 'electromagnetic radiation', 'electromagnetic radiation', 'jimmy matthews', 'methane', 'methane', 'methane', 'internal energy', 'union infantry', 'union infantry', 'july 20, 2018', 'the vice president of india', 'cedar falls, iowa', 'martin short', '6', 'ross', 'randy newman', 'six', 'other allied nations', '20', 'nfl', 'denver broncos', 'mount crazy horse', '1993', 'kathy steinberg', 'seven', 'wicked witch', 'otha hayes', 'the new england patriots', 'bill nighy', 'rosaline', 'bridget driscoll', 'king fahd international airport', 'goto', 'pharaoh khufu', '2004', 'wigan athletic', 'wigan athletic', 'wigan athletic', 'each mericarp', '1918', 'emily blunt', 'emily blunt', 'emily blunt', 'emily blunt', 'about 10,000 years ago', 'hoy lindsey', 'cameron menzies', 'the western front', '8 march 2018', 'synoptic gospels', 'metis followers', '1836 and 1839', '2004', 'michael jackson', 'great adventure', 'musa acuminata', 'baghdad', 'baghdad', 'baghdad', 'noomi rapace', 'mary eileen mcdonnell', 'middle carboniferous', 'jeff gordon', 'nick lazzarini', '2018', 'lori', 'the english channel', '10 million', 'italy', 'italy', 'mud rocks', '2006', 'neutron stars', 'don diamont', 'the washington wizards', '1938', 'frankie sullivan', 'frankie sullivan', 'wisdom', 'wisdom', 'wisdom', 'ranjit singh', 'oklahoma sooners', 'oklahoma sooners', 'vince carter', '2014', 'season 30', 'season 30', 'frank sinatra', '20', 'jack hobbs', 'manchester united', 'ananias', 'eighth season', 'harold switzer', '1958', 'sir harry johnston', 'mid-1950s', 'virginia company of london', 'jesse nager', '1838', 'october 24, 1972', 'emma stone', 'probation officer', '32', 'vassar clements', 'april 2, 2018', 'the eastern standard time zone', '31 may 2009', 'june 15, 2018', 'journal des debats', 'santa monica', 'vayntrub', 'october 21, 2017', 'january 12, 2018', 'tom felton', 'mexico', 'congress', 'jacob', 'december 20, 2017', 'hans zimmer', 'hans zimmer', 'near belize city', 'duke', 'more than 70,000', 'minnesota vikings', 'minnesota vikings', 'june 2, 2018', 'first prize', 'fifth season', 'one dance', 'mark lenard', '2017', '1754', 'russia', 'anthony hope', 'william thomas sadler', 'godwin obaseki', 'july 10, 1754', '4 march 1973', 'teddy bishop', 'teddy bishop', 'teddy bishop', 'teddy bishop', 'martin guptill', 'james egan', 'collingwood', 'molly gordon', 'john roberts', 'supreme court', 'supreme court', 'supreme court', 'supreme court', 'supreme court', 'subscapularis muscle', 'subscapularis muscle', 'subscapularis muscle', 'subscapularis muscle', 'roman peace', 'ambica charan majumdar', 'pawhuska, oklahoma', 'pawhuska, oklahoma', 'majandra delfino', 'anglican', 'flintshire', 'flintshire', 'flintshire', 'flintshire', 'flintshire', 'flintshire', 'flintshire', 'flintshire', 'upper surface of the tongue', '2004', '2005', '17 august 2001', '2', 'barry gibb', 'march 3, 1931', 'hans christian gram', '1978', 'may 31, 2018', 'hebrew', '1973', 'andy whitfield', 'andy whitfield', 'justin bieber', 'maharashtra', 'october 2004', 'cytosol', 'amr corporation', 'walton family', 'june 1944', 'bindi irwin', 'bindi irwin', '2018', 'alexander graham bell', 'hugo munsterberg', 'miklo', 'john adams', 'utopia island', 'baker', 'piano man', 'between 300 and 200 bc', 'september 4, 476', 'december 6, 1865', 'dulquer salmaan', 'tyler hubbard', 'tyler hubbard', 'tyler hubbard', 'tyler hubbard', 'emma watson', 'lascelles stephens', 'uma thurman', 'lokoja in nigeria', '1972', '1982', 'golf', 'golf', 'golf', 'golf', 'golf', 'golf', 'golf', 'les twins', 'les twins', 'les twins', 'les twins', 'henry viii', '14 june', 'wesley crusher', 'dan mullen', 'sanjay leela bhansali', 'august 24, 2017', '32', 'the east india company', '22', 'white', 'joywave', 'joywave', 'joywave', 'joywave', 'joywave', '446', 'nonpartisan elections', 'sequel', 'charles martel', 'charles laughton', 'the colonial government', 'roger federer', 'west central colorado', 'may 6, 1957', 'germany', 'germany', 'germany', 'damon albarn', 'medulla oblongata', 'yoanna house', '2002', 'jesus', 'james corden', 'james corden', 'james corden', 'james corden', 'james corden', 'the states', 'august 24, 2015', 'milwaukee', 'milwaukee', 'milwaukee', 'milwaukee', 'milwaukee', 'milwaukee', 'russia', '1960', '1931', 'vice president', 'vice president', '2017', '1939', '13', 'august, 2016', 'san francisco 49ers', 'the undertaker', 'tuberculosis', 'charles, prince of wales', 'carter', 'andy serkis', 'libertas', 'nutrition', 'disarm', 'disarm', 'disarm', '1982', '1885', 'multiple stage bicycle race', 'the beastie boys', 'natalie dormer', 'natalie hemby', 'natalie hemby', 'natalie hemby', 'natalie hemby', 'stealers wheel', '12th', '1896', 'wayne rooney', 'united kingdom', '11', '2', 'indian oil corporation', 'sunday, 2 september', 'sunday, 2 september', 'danny heater', '21 july 2007', '€ 450 million', 'beijing', '16', 'daenerys', 'daenerys', 'congress', 'emmitt smith', 'the flash', 'imprisonment', 'ipad ( 2017 )', 'walnut grove', '1995', 'daylight saving time', 'chicago cubs', 'tucker', 'the district of columbia', 'rhett butler', 'july 24, 2009', '2018', '18.0. 311', '8', '40', 'reginald e.h. dyer', 'october 12, 2017', 'women', 'august 2009', 'tympanum', '1969', 'october 12, 2017', 'rick moranis', 'gut flora', 'led zeppelin', '2019', 'south carolina', 'august 6, 1996', 'october 12, 1892', 'france', 'france', 'shani wallis', 'non-federal public sources', 'manny curtis', 'manny curtis', 'manny curtis', '4,000', 'jamestown, virginia', 'the dividend per share', 'jigsaw', 'ten', 'june 17, 2018', 'ozarks of missouri', 'kevin hart', 'manchester united', 'chris rock', 'season 8', 'alison mulvaney', 'middle island', 'tokio myers', 'callum woodhouse', 'australia', 'australia', 'bob paisley', 'bob paisley', 'bob paisley', 'paul laurence dunbar', '2', 'james mason', 'james mason', 'james mason', '363', 'june 24, 2003', 'mabel king', \"the world's end\", \"the world's end\", 'maria grever', 'maria grever', 'tribune media', 'tribune media', 'tribune media', 'tribune media', '15 september 1916', 'simple', 'simple', 'us $100,000', 'orlando magic', 'real madrid', 'real madrid', 'cathy dennis', 'cathy dennis', 'judith anderson', 'roman bernard atwood', 'lori lieberman', 'pennsatucky', 'national park service', '1911', 'mark mcgwire', 'march 1971', 'bluff, arkansas', 'the arrows', 'france', '8,571 at the 2010 census', '1955', 'heathrow airport', 'seattle mariners', 'seattle mariners', 'pete the pup', 'no. 88 chevrolet camaro', 'no. 88 chevrolet camaro', 'midway city', 'hawaii', 'one57', 'botany bay', 'kobe bryant', 'june 12, 2009', 'crook brothers', '646', '1963', '1813', 'justin henry', 'jio tv', 'october 24', 'diego maradona', 'diego maradona', 'burl ives', 'joe penny', 'asteroid impacts', 'sinoatrial node', 'tracey elizabeth bregman', 'iron alloy', 'beijing', 'john derek', '13', 'justin hartley', 'october 29, 2017', 'marbury v. madison', 'kuomintang ( kmt )', 'kuomintang ( kmt )', 'the bank', 'india joy eisley', 'virat kohli', 'the giants', 'ring finger', '64 minutes', 'mya', 'august 28, 2018', 'silento', 'march 7, 2013', 'jonathan ross', \"lin'an\", '1976', 'four through', 'nigeria', 'nigeria', 'nigeria', 'nigeria', 'nigeria', 'nigeria', 'nigeria', 'nigeria', '1976', '2003', 'sixth', 'guillermo stabile', 'victor espinoza', 'j. michael finley', 'lennon', 'lennon', 'brazil', 'sustainers ( 7 % )', 'miroslav klose', '2001', 'car', 'eddie murphy', 'ari lehman', 'dacre montgomery', '2018', 'meghan trainor', 'meghan trainor', 'the hippocampus', 'stephen curry', 'paul doumer', 'the route 91 harvest music festival', 'tony orlando', 'luigi creatore', 'luigi creatore', 'luigi creatore', 'guwahati', 'callan mcauliffe', '2013', 'federal republic', 'federal republic', 'federal republic', 'july 4, 1776', 'tommy mccairns of notts county', 'june 1', 'billie lourd', '$400,000 annual', 'ck nayudu', 'the stanley hotel', 'michael mcdowell', '1994', 'east pakistan', 'lena headey', 'denis leary', 'dillon francis', 'hemanga biswas', 'kayzie rogers', 'laxative', 'dazed and confused', 'marissa cooper', '1862', 'frank welker', 'september 13, 2017', 'hudson county', 'prime minister', 'news channel', 'mind over murder', 'om puri', 'lebron james', '17 months', 'solar energy', 'postcentral gyrus', 'brian hyland', 'kim il - sung', 'crowded house', 'bring it on', 'tucker', 'great white', 'sza', 'zachary john quinto', 'kpotun idris', 'manifest destiny', 'mike curb', 'transitional epithelium', 'the vikings', 'jackie deshannon', '10.3. 3', 'sbc', 'italian', 'offshore of brest', 'daniel radcliffe', 'lacey turner', 'luke bryan', 'january 11, 2018', 'big & rich', 'sylar', '1894', 'michel gill', '1958', 'april 2, 2018', 'bob dylan', 'sledgehammer games', 'to the moon and back', '1929', '13', 'carol channing', 'bone marrow', 'dan aykroyd', '1966', '2.9 %', 'christopher marlowe', 'south korea', 'jonathan melvoin', 'donald trump', 'brittany cherry', 'sunny suljic', 'fungal', 'katherine heigl', 'france', 'endocrine gland', 'telemundo', 'telemundo', 'water vapor', 'alex ferguson', 'kelli giddish', 'david keith', 'barack obama', 'march', 'carole king', 'london studios', 'london studios', 'london studios', 'ray allen', 'mercy', 'the dallas cowboys', '1988', 'heather ripley', '5.5 %', 'fifth amendment', 'jason lee', 'fiji', 'new world stages', 'january 2012', 'january 16, 1992', 'savings institutions', 'roger federer', 'uverworld', 'vasundhara raje', 'holliday grainger', 'april 11, 2018', 'terry jacks', 'terry jacks', '1922', 'september 8, 2017', 'karnataka', 'cristela alonzo', 'lily aldrin', 'bioprosthesis', 'sami gayle', 'velocity sensors', 'velocity sensors', 'wallace shawn', 'german', 'randy meisner', 'september 22, 2016', '42', 'late 1977', 'uncertain', 'uncertain', 'green', 'green', 'john stewart', '15 september 1916', 'nicolaus zinzendorf', 'joseph merrick', 'oil', 'oil', 'oil', 'oil', 'alley mills', '1983', 'eric stonestreet', 'greg maddux', 'leon ames', 'howard hesseman', 'elinor', 'tony arata', 'october 27, 1998', 'idris elba', '16.0. 17134', 'kentucky derby', 'nick robinson', '220 -- 206 bc', 'after me, the flood', 'opis', 'gene kelly', 'gene kelly', 'gene kelly', 'gene kelly', '2012', 'five', 'laura williams', '2002', 'tony pulis', 'los angeles dodgers', 'third place', 'wayne brady', 'mohan lal sukhadia', 'phil collins', 'melissa etheridge', 'page 932', 'telkom', 'dol jatra', 'dol jatra', 'natasha kaplinsky', 'natasha kaplinsky', '1 -- 2 weeks', 'march 27, 2018', 'medusozoa', 'transfer of securities', 'the capital city', 'front - wheel drive', 'jason marsden', 'kathy bates', 'the virginia plan', 'coal', 'scarlett johansson', 'actual malice', 'annasophia robb', 'trevor philips', 'trevor philips', 'trevor philips', 'january 9, 2018', 'illinois', '1983', 'antimeridian', 'brazil', '2006', 'himachal pradesh', 'michigan', '629,000', 'february 13, 2015', 'atticus', 'atticus', 'general edward pakenham', '229', 'electoral college', 'ricotta', 'geothermal power plant svartsengi', 'june 13, 2014', 'july 1965', 'luzhniki stadium', 'ancient sanskrit', 'tom ellis', 'ryder', 'petr čech', 'maloof family', '1963', 'lateral part of the ankle - joint', 'lateral part of the ankle - joint', 'chicago cubs', 'new york', 'bhisham sahni', 'mike henry', 'cher', 'amelia', '1980', 'the empire state building', '18 march 1766', '2015', 'scheduled preventive maintenance', 'scheduled preventive maintenance', 'scheduled preventive maintenance', 'union', 'ted simonett', 'nicole kidman', '678 - 999 - 8212', 'the cover page', '1740', '2013', '1863', 'kenny johnson', 'mohammad hamid ansari', '2013', 'may 30, 2003', 'xenia deli', 'durable means of transport', 'kelly le brock', 'north korea', '13', 'sophia jane myles', 'january 2, 2015', 'brother - in - law', 'port authority', 'port authority', '26 april 1986', 'megan charpentier', 'megan charpentier', 'megan charpentier', 'megan charpentier', 'mark james', 'mark james', 'bayern munich', '2013', 'the ventures', 'william laws calley jr.', 'ice', 'indirect financial transfers', 'chevrolet', 'joe markley', 'liver damage', '2011', 'multitype', 'lee thomas miller', 'lee thomas miller', 'lee thomas miller', 'haiti', 'haiti', 'haiti', '1716', 'selby baqwa', 'walchand college of engineering', 'roy orbison', 'roy orbison', 'red hood', 'penicillin', 'penicillin', 'penicillin', 'exodus', 'exodus', 'atp', 'atp', 'atp', 'atp', 'atp', 'atp', 'october 18, 1961', 'seven', '12.5', 'nelson muntz', 'trixie mattel', 'the jordanaires', 'a two - thirds vote', 'wood', 'wood', 'wood', 'wood', 'albert pujols', 'meerkat', 'kyrie irving', 'lisa robin kelly', '17, 504', 'bailee madison', 'iowa state', 'iowa state', 'iowa state', 'iowa state', 'surat', 'august 21, 2017', '1887', 'water wheel', 'great britain', 'thou shalt not kill', 'september 6, 2018', 'andrea parker', 'ken curtis', 'dani carbonell', 'neil patrick harris', '435', '2017', 'thor : ragnarok', 'dean winters', 'kyle newacheck', 'kyle newacheck', 'kyle newacheck', 'kyle newacheck', 'kyle newacheck', 'kyle newacheck', 'kyle newacheck', 'kyle newacheck', 'frederic chopin', 'mark james', 'japan', 'japan', 'japan', 'rosie', 'glucose', 'los angeles', '48', 'jose corazon de jesus', 'june 30, 1971', 'ten', 'boeing south carolina', 'jensen ackles', 'japan', 'linda mccartney', 'linda mccartney', 'susan bennett', 'loosely based', 'john f. kennedy', 'december 22, 2017', 'nick kroll', 'india', '2010', '2010', '2010', '2010', '2010', '$ 347,400', '6', 'chaka khan', 'united states', 'randy newman', 'eric garcetti', 'presidential representative democratic republic', '936', '106', 'antimeridian', 'june 1922', 'historical fiction', '53', 'kelly stables', 'alfred hershey', 'kevin briggs', 'kevin briggs', 'kevin briggs', 'kevin briggs', 'kevin briggs', 'kevin briggs', 'corporate or government bonds', 'june 14, 1954', '1990', 'engineered controls', 'france and its colonies', 'jacob frey', 'jerry leiber', 'seven', '31 may 2009', 'iceland', 'july 13, 2018', 'joe dimaggio', '1966', 'march 13, 2018', 'seven', 'vloggers', 'office space', 'mariana trench', 'lee grinner pace', '100,000 years ago', 'the limo', 'barbara eden', 'the yajurveda', 'the yajurveda', 'the yajurveda', 'the yajurveda', 'navy beans', 'maya', '2001 -- 2014', 'sewage', 'northern indian ocean', 'bob saget', 'bob saget', 'brian griese', 'diane ray', 'brett jones', 'jay hawkins', '81', 'jacob zuma', \"macy's thanksgiving day\", 'patrick stewart', '62', 'loretta lynn', 'kristin kreuk', 'mongrel', '1996', 'christmas bush', 'british columbia', 'charlie puth', '3 july 2007', '$40,000', 'tom brady', 'the london eye', 'jeffrey garcía', 'young helper', 'young helper', '1971 holden kingswood', 'jenni baird', '20', '66,135 people', '116 minutes', '15 %', 'nishiyama onsen keiunkan', '1966', 'august 1966', 'april 22, 1990', 'paul walker iv', '2014', 'spot', 'constance shulman', 'june 22, 1980', 'suge knight', 'rudradaman i', 'chlorine gas', 'antarctica', 'antarctica', 'ron wasserman', 'hayden christensen', 'allie', 'dawn penn', 'dawn penn', 'dawn penn', 'dawn penn', '10,802', 'camden line', '7 bc', 'thomas crofton croker', 'kalani brooke hilliker', 'river wye', 'hanyu', 'blasphemy', 'september 28, 2018', '1933', 'eric carmen', '1987', '14 january 1960', 'elvin bishop', 'london', '1994', 'walk the moon', 'cattle industry', '2016', 'electoral college', 'tokyo', 'tokyo', 'ramadan', 'margaret ruth kidder', '2020', 'joni mitchell', 'the united states', 'rajendra prasad', 'france', 'the season finale', 'a suspect', 'beethoven', 'january 3, 1959', 'tim allen', 'four', 'oliver conant', 'french stewart', 'may 17, 1954', 'selena gomez', 'august 2, 2018', 'sacred fig', '20', '161', '16 january 1978', 'alaska', 'the holy land', '10.13. 5', 'romano - britons', 'martin okoth ochola', 'sake dean mahomed', 'the electoral college', 'paul zerdin', 'lesser antilles', 'thomas jefferson', 'zen and the art of motorcycle maintenance', 'grand duke', 'amsterdam', 'december 18, 1971', 'john quincy adams', 'his terminal liver disease', 'lou reed', 'argentina', 'argentina', 'pete rose', 'jeff bridges', 'jeff bridges', 'jeff bridges', 'jeff bridges', 'jeff bridges', 'jeff bridges', 'jeff bridges', 'jeff bridges', 'albert einstein', 'desert', 'in the south', 'sadashivrao bhau', 'gary oldman', '1972', '101', 'jerry bock', 'detroit, michigan', 'right - hand drive', 'hollywood historic trust', 'signature bake', 'signature bake', 'signature bake', 'signature bake', 'about 950 to 1240', 'geraint thomas', 'november 6, 2018', 'september 29, 2017', 'kelly', 'president dwight eisenhower', '4,726', 'the fray', '92', '1939', 'damien', 'laura dern', 'the march hare', 'paleolithic or palaeolithic', 'habitat destruction', 'evvie mckinney', 'james jamerson', 'james jamerson', 'donald bradman', 'abraham lincoln', 'liquor stores', 'randy newman', 'alberto testa', 'alberto testa', 'alberto testa', 'alberto testa', 'may 22, 2017', 'mean solar time', '1965', 'freak show', 'freak show', 'justin tyler berfield', 'november 10, 2017', 'tyra banks', 'tyra banks', 'tyra banks', 'tyra banks', '1707', 'dean miller', 'sting', '1984', 'baha men', 'carey mulligan', 'gary oldman', 'grace vanderwaal', 'tenth', 'hernando de soto', 'alex rodriguez', 'whiplash', 'october 2, 2016', 'at least $ 275 million', 'anandiben patel', 'the contours', 'lacey chabert', 'jay baruchel', 'laika', 'second season', 'wakanda', 'adam lanza', 'us $ 555,000', 'july 27, 2017', 'blood', 'italy', \"paige o'hara\", 'philip worth', 'tyrion lannister', '$2.75', 'todd bowles', 'c. 4000 bc', 'agrabah', 'tonsillolith', 'tonsillolith', '2,226 in 2014', 'λ', '1877', 'fewer than five hundred employees', 'kurain village', 'jenna marie ortega', 'ethiopia', 'ethiopia', 'ethiopia', 'ethiopia', 'baymax', 'sharad malhotra', 'sharad malhotra', '1978', 'roger federer', 'gravity', '8', '6', 'july 4, 1776', 'jerry greenfield', 'jerry greenfield', 'annika noelle', 'annika noelle', 'annika noelle', 'annika noelle', 'annika noelle', 'annika noelle', 'july 2011', '9461 billion kilometres', 'muhammad', '1971', 'spanish', 'toto', '13', '22', 'the 2003 model year', 'hills village middle school', '22 %', 'the summer months', 'lionel woodville', 'auditory cortex', 'italian red wine', 'every 28 january', 'in narrow contexts', 'cytosol', 'english', 'chris bisson', '9', 'wilt chamberlain', 'antoine augustin cournot', 'about 55 %', 'male', 'seahawks', 'mark l. young', 'us $8.7 billion', 'september 26, 2017', 'the 5th dimension', 'sidhu murmu', 'hanuman tegangga', 'the hajj', 'the himalayas', 'september 9, 2015', '1652', 'zurcaroh', 'zurcaroh', 'zurcaroh', 'zurcaroh', 'zurcaroh', 'alex ferguson', 'mtv', 'saint peter', 'sarah rose summers', 'joan cusack', 'anguillara sabazia', 'sergeant', 'the new england patriots', '1348', 'christina pearman', 'hoyt curtin', 'hoyt curtin', 'hoyt curtin', 'number one observatory circle', 'doctor nefarious', 'october 11, 2017', 'brooke shields', '2018', 'princeton university press', 'president', 'president', 'cleveland indians', 'jason segel', 'renton', '$200,000 per year', 'colorado river via the all - american canal', 'iraq', 'the goth chief', '10', '10', '7,724', 'robert oppenheimer', '1861', '1861', '1861', '1992', '1982', 'new england patriots', 'new england patriots', 'lionel messi', 'dakota johnson', 'dakota johnson', 'november 1777', 'april 24, 2018', 'alabama', 'dierks bentley', 'rank correlation coefficients', 'trent harmon', 'zaheer abbas', 'the animals', 'sony pictures animation', 'carol burnett', '2008', 'john wooden', 'congress', 'sunshine', 'pink', 'zendaya', '16,000 years ago', 'jack hamilton beeson', 'jack hamilton beeson', '12', 'antoine griezmann', 'rickey henderson', 'december 1972', 'titus welliver', 'morphine', 'joe cocker', 'jackie gleason', 'bertie felstead', 'kristen schaal', 'anderson, alabama', 'the wild brunch', 'vancouver', 'cumulus', 'melissa reese', 'japan', 'japan', 'japan', 'bob moses', '1992 -- 93', 'depolarization', 'lafayette', 'lafayette', 'lafayette', 'chicago cubs', 'mirko savone', 'mirko savone', 'sons of liberty', 'raw materials', 'nationals park', 'mastrantonio', 'freedom of speech', 'freedom of speech', 'freedom of speech', 'june 29, 2007', 'october 2011', 'hurricane katrina', 'soldering', '1954', 'walter raleigh', 'heather west', 'july 24, 2012', 'columbia plateau', 'samuel francis smith', 'j. michael finley', 'j. michael finley', '44', '1991', '1991', 'the duodenum', 'georgia', '1934', '1585', 'august 14, 2018', 'in southern wisconsin', 'in southern wisconsin', 'max weber', '1956', 'season two', 'streptococcus', 'dwight d. eisenhower', 'separation of powers', 'wapda', '2,700', 'metacarpal bones', 'rose royce', 'matt prater', 'gene raskin', 'western bulldogs', 'communist party of china', 'cawker city, kansas', 'march 13, 2018', 'western conference', 'london', 'melanie paxson', 'neil gorsuch', 'neil gorsuch', 'neil gorsuch', 'neil gorsuch', 'neil gorsuch', 'neil gorsuch', 'neil gorsuch', 'neil gorsuch', 'neil gorsuch', 'the upper house', '2006', 'brian thompson', 'cesar romero', 'ray allen', 'west coast', 'morarji desai', 'venturini motorsports', 'andrea riseborough', '1974', 'the coasters', '1976', 'pulmonary tuberculosis', 'the duchy of lancaster', 'jerry jones', 'cliff edwards', 'terry kiser', 'june 29, 2018', 'india', 'india', 'india', 'india', 'lady gaga', 'lady gaga', 'lady gaga', 'jane lynch', 'podiatric physician', '2018', 'in the end', 'socrates', 'french landscape garden', '1856', 'a storm of swords', 'loving someone', 'county of lancashire', 'over 90', 'eastern australia', 'aesop', 'valerie harper', 'namit shah', 'allied victory', 'september 7, 2016', 'confederates', '1996', 'madison nicole ziegler', 'welsh language', 'lyrics by tim rice', '2011', 'free', '1898', 'established a republic', 'established a republic', 'established a republic', 'established a republic', 'established a republic', 'established a republic', 'ari bahadur gurung', 'pert kelton', 'magnesium sulfate', '10cc', 'the georgia satellites', 'the georgia satellites', 'united states', '12', 'state court', 'state court', '107', 'sophie monk', 'linda hamilton', 'linda hamilton', 'linda hamilton', 'linda hamilton', 'linda hamilton', 'linda hamilton', 'linda hamilton', 'linda hamilton', 'linda hamilton', 'linda hamilton', 'johnny darrell', 'johnny darrell', 'johnny darrell', 'johnny darrell', 'johnny darrell', 'pewdiepie', 'kari vaananen', 'gary sandy', 'blake berris', 'william karel', 'john adams', 'the industrial revolution', 'the industrial revolution', 'dan', 'h. jon benjamin', 'jordan belfort', 'josh osborne', 'josh osborne', 'josh osborne', 'mid 1500s', '10', 'idina menzel', 'ancient athens', 'september 9, 2015', 'freddie highmore', 'october 12, 2017', 'western bulldogs', 'joe walsh', 'narendra modi', 'the early 20th century', 'delia smith', 'nerd', 'markham, ontario', 'january 26, 2018', 'lacks sensitivity and specificity', 'doug jones', 'south philadelphia', 'toronto', 'kim yo - jong', 'kim yo - jong', 'kim yo - jong', '1989', 'the stomach', 'mick jagger', 'mick jagger', 'gandhi', '1983', '387 or 390', \"galleria dell'accademia\", '7', '30', '1945', 'epidermis', 'no. 44', 'benjy', 'the jarmels', 'promiscuous', 'ignite me', 'keith carradine', 'west virginia', \"children's song\", 'yo! sushi', 'manchester united', 'meredith monroe', \"royce da 5'9\", 'thirty minutes', 'the executive residence', 'jinni', 'sarah mclachlan', 'university', 'guyana', 'the moldovan leu', 'russia', 'january 1, 1881', '1930s', 'open to all countries equally', '71,000', 'jim covert', 'jim covert', 'jim covert', 'jim covert', 'jim covert', 'jim covert', 'jim covert', 'jim covert', 'james arnold taylor', '1923', 'metropolitan police service', '1888', 'florence, arizona', 'paye', '1955', 'arlington county, virginia', 'richard attenborough', 'richard attenborough', 'richard attenborough', 'richard attenborough', 'richard attenborough', 'richard attenborough', 'richard attenborough', 'leavesden film studios', 'leavesden film studios', 'leavesden film studios', '7th century bc', 'collabro', 'korea strait', 'korea strait', 'kendra oyesanya', 'carol kane', '8', 'wally kurth', 'chemical bonds', 'channel 200', 'the broncos', 'jack nicklaus', 'allison janney', 'gilbert gottfried', 'five', 'iverson movie ranch', 'southeastern virginia', 'microbial biomass', '16th century', 'september 27, 2017', '13', 'hilary', \"lloyd's registered\", 'two', 'duffy', 'ray', '2012', 'moses thiessen', 'vice president', 'russ ballard', '2008', '2016', 'pyloric sphincter', '20 may 1883', 'bank of america stadium', '2017', '1999', '1859', 'april 1, 2012', 'united states', 'lindsey butterfield', 'about four million', 'the longest yard', 'howard jones', '1920', 'ten', '2018', 'live it up', 'litre', 'jack nicholson', 'owen hunt', '53', 'tom holland', 'aristotle', 'razia sultana', 'rabindranath tagore', 'bobby darin', 'northwestern india', 'northwestern india', 'northwestern india', 'northwestern india', 'northwestern india', 'northwestern india', 'amelia march heinle', 'george washington', 'august 25, 2013', 'synovial joint', 'greg stanton', 'greg stanton', 'greg stanton', 'greg stanton', 'greg stanton', 'greg stanton', 'greg stanton', 'greg stanton', 'tico wells', 'single', 'david thewlis', 'silent mutations', 'noel harrison', 'june foray', '1', 'kyle busch', 'perpendicular distance', 'andrew lloyd webber', 'molly dobbs', 'molly dobbs', '1996', 'emperor meiji', 'every autumn', 'chicken thigh meat', 'jane frances kaczmarek', 'ernst neubach', '2016', 'a mexican land grant', 'twelve', 'judy garland', 'craig perry', 'craig perry', '528 miles', 'john roberts', 'september 27, 2017', 'taylor swift', 'taylor swift', 'taylor swift', 'taylor swift', 'taylor swift', 'emmet', 'running like the wind', 'caesar', 'austria', 'aerosmith', 'april 4, 2018', 'indian river county', 'march 30, 2018', 'michael phelps', 'the celtics', 'neil sedaka', 'neil sedaka', 'channel 361', 'pino lella', '1848', 'charlie day', 'sean patrick astin', 'bianca kajlich', 'three', 'george lucas', 'george lucas', 'joshua dallas', 'jay baruchel', 'mikhail gorbachev', '1941', 'cher', 'cher', 'germany', 'september 13, 1996', \"musee d'orsay in paris\", 'achilles', 'patty hearst', 'sonny', 'the states', 'democrat doug jones', 'democrat doug jones', 'pete buttigieg', 'september 5, 2018', 'ms dhoni', 'holland taylor', 'roger federer', 'genevieve goings', 'john a. macdonald', 'john a. macdonald', 'rickey henderson', 'casino night', 'the high alps', '1999', 'congress', 'douglas adams', '1851', 'rashad jennings', 'jesse fuller', 'congress', '1994', 'becca kufrin', 'stanford university', 'the internet layer', 'italy', 'may 30, 2017', '13 august 1961', 'al martino', 'hamlet', 'joey king', 'sarvepalli radhakrishnan', 'sarvepalli radhakrishnan', 'sarvepalli radhakrishnan', 'jim', '1973', \"st john's wood\", 'harry chapin', 'christianity', 'john stuart mill', '1897', 'brad garrett', 'the', 'seth macfarlane', 'christianity', 'may 2011', 'nevada national security site', 'walmart', 'enumerated powers', 'enumerated powers', 'over 270', 'onerepublic', 'an estuary', 'gone with the wind', 'camilla luddington', 'donald trump', 'june 2018', 'geneva, switzerland', 'may 29, 2018', '2016', 'lionel messi', 'the dog', 'dan stevens', 'december 11, 1962', 'syed nabiullah', 'into a vein', 'february 15, 2018', 'mariora goschen', 'emily grace reaves', '1986', 'iata : jfk', 'iata : jfk', 'images', 'images', 'images', 'images', 'images', 'station code : sbc', 'aro', 'aro', 'may 17, 2011', '1965', '2017 -- 18', 'thomas jefferson', '1664', 'alexandra daddario', '2018', 'march 31, 2017', 'johnny desmond', 'christians', 'christians', '27 april 1994', 'the midwest', '6 february 1952', 'single municipal government', 'kevin kline', 'alec baldwin', 'approximately 120 days', 'alexander', 'lyrics by ex-king crimson member peter sinfield', 'lyrics by ex-king crimson member peter sinfield', 'darby slick', 'chris cornell', 'ponyboy curtis', 'rod stewart', 'percy sledge', 'aristarchus of samos', 'dan reynolds', '12', 'gal gadot', 'wilbur', 'plutarch', '13', 'june 14, 2002', 'mark selby', '1997', 'a gentile audience', 'a gentile audience', 'brad rutter', 'oscar isaac', 'april 17, 1861', '1966', 'atlanta falcons', 'malcolm arnold', 'metre', '21 of season 1', 'june 17, 1885', 'sean connery', 'paris saint - germain', 'darius perkins', 'renee coleman', 'april 18, 1780', 'packers', '11', 'not recommended', 'michael', '1978', 'womesh chandra bonnerjee', '1670', '1997', 'adult swim', 'radha mohan singh', 'brooks koepka', '49 cfr 71', 'chicago', 'chicago', 'chicago', 'chicago', 'chicago', 'patrick s. castagne', 'sinoatrial node', 'migos', 'migos', 'partial oxidation', 'dan stevens', 'spain', 'dr. harsh vardhan', 'peter anthony allen', 'over 390', 'potatoes', 'chevrolet impala', 'march 26, 2010', 'bilateral contracts', 'algeria', 'algeria', 'algeria', 'algeria', 'august 9, 2018', 'rajasthan', 'david lloyd george', 'david lloyd george', '1978', '1896', 'karen gillan', 'willem dafoe', 'north korea', '1982', 'rob davies', '1714', 'mike henry', '13', 'fifty days after pascha', 'internet explorer 11', 'seven', 'shumsher k. sheriff', '5.2', '1952', '275', '31 december 1687', 'jean', 'the middle ear', 'the american revolution', 'chinese', 'fifth season', 'the people', 'mikhail lomonosov', 'october 1, 1988', 'ancient athens', 'paul walker iv', '26', 'ions', '2019', 'the colonial government', 'march 7, 2018', '2018', 'united artists', 'united artists', 'current policies', 'wendy kilbourne', 'kurt cobain', 'kurt cobain', 'kurt cobain', 'early access', 'early access', 'early access', 'early access', '2', '5', 'paul reubens', 'timothy lee reid', 'the team', 'meat loaf', 'three', 'disneyland park', 'disneyland park', 'billy ray cyrus', 'klymaxx', 'stuart hamblen', 'roger waters', '1 march 1973', 'drew brees', 'tom petty', 'egypt', 'max weber', 'seattle metropolitan area', 'asexual reproduction', 'thomas robert malthus', 'membrane proteins', 'slightly less than 50 %', 'todd frazier', 'carrie fisher', 'paul simon', 'gemma arterton', '13', 'plasmolysis', 'the oracle arena', 'steve holland', 'homonyms', 'united states constitution', 'matt smith', 'lipid profile', '16', 'approximately 16,000', 'at vincy', '2003', '1990', 'texas coast', 'texas coast', 'about 6.2 billion', '11.4 years', 'dusty springfield', 'joe miller', '367,710', 'november 17, 2017', 'herbert baker', 'jason newsted', 'epistolary', 'moses', 'james milner', 'wales', 'zora neale hurston', 'oxycodone', 'black mountain, north carolina', 'black mountain, north carolina', 'stephen curry', 'mark lawson', 'greek dark ages', 'confederate', 'john cappelletti', 'april 27, 2018', '1981', 'naveen', 'kevin', 'kevin', 'kevin', 'kevin', '1874', 'january 31, 2017', 'hayley mills', 'hayley mills', 'continental crust', 'continental crust', 'hollywood, california', 'grantley adams international airport', 'nepal', 'short loin', '1971', 'pam tillis', 'azure', 'jason isaacs', '1990', 'october 1976', 'dan white', 'dan white', 'dan white', 'edmund gwenn', 'bill belichick', 'bill belichick', 'maratha empire', 'tara strong', 'matt lanter', 'first sunday in november', 'james pankow', 'john dalton', 'march 1, 2018', 'at least $123.8 trillion', 'season 5 premiere', 'pleurisy', 'kate chastain', 'kate chastain', 'kate chastain', 'kate chastain', 'kate chastain', 'india', 'ricky butcher', 'donald walker', 'lanka', 'david daker', 'izzie', 'izzie', 'carol sawyer', 'paracelsus', 'adam michael shankman', 'oakland -- alameda county coliseum', 'leopold', 'dave grohl', 'december 29, 1845', 'various writers', 'bill pertwee', 'ruth jones', 'henry fonda', 'henry fonda', \"moon's crescent\", 'battle of bunker hill', 'bob hoskins', 'stringer bell', 'the reunion panel', 'september 3, 2018', 'moose', 'lucy stone', 'lucy stone', 'lucy stone', 'libertas', 'conor mcgregor', 'tom schaar', 'confederate', 'a contracting officer', 'december 1, 1969', 'august 9, 2007', 'standardized testing', '2010', 'june 1979', 'october 1976', 'richard dormer', 'andy harris', 'august 2018', 'david jacob', 'heritage golf group', 'sebastopol', 'sebastopol', 'sebastopol', 'sebastopol', 'sebastopol', 'sebastopol', 'james andrew eric', 'james andrew eric', 'front wheel - drive', 'jaime elizabeth pressly', 'david alexander', '128', '12 april 1961', 'john roberts', 'kalyan singh', 'april 4, 2017', 'racial minorities', 'the book of genesis', 'june 18, 2010', 'jem finer', 'jem finer', 'katey sagal', '2001', 'december 20, 2012', 'james mill', '24', 'theresa may', 'crazy horse', 'crazy horse', 'crazy horse', 'crazy horse', 'dan stevens', 'anne ramsey', 'may 2000', 'two', 'elizabeth daily', 'over 680', 'hussain bisad', 'death', 'ariana grande', '51,627', 'dan stevens', 'dylan sprouse', 'dylan sprouse', 'pulse oximeters', 'june 1979', '25 september 1915', '1997', 'august 3, 1882', 'the american', 'continental shelf', '2008 to 2012', 'may 20, 2018', 'josef bican', 'chiasmus', 'willie d. davis', '211', '211', 'mallikarjun kharge', 'mojave desert', 'mojave desert', 'mojave desert', 'mojave desert', '435.56 sq feet', 'wilfrid laurier', '7.0 nougat', 'chicago', 'arthur meighen', 'lovely hoffman', 'lovely hoffman', 'lovely hoffman', 'lovely hoffman', 'honeybus', '13', 'four', 'brooklyn', 'brooklyn', 'brooklyn', 'three', 'john f. kennedy', 'tigris', 'tigris', 'tigris', 'tigris', '1930s', 'short - period', 'eastward', 'george clooney', 'serial comma', 'serial comma', 'serial comma', 'serial comma', 'karen sue trent', 'new mexico', 'prince', 'matthew montgomery barkley', 'ghana', 'march 13, 2018', '11', 'kevin garnett', 'kevin garnett', 'kevin garnett', 'blackie parrish', 'william henry gist', 'robert wadlow', 'alina zagitova', 'eric', 'rajeev shukla', 'neil young', 'fianna fail', 'april 5, 2017', 'thomas jefferson', 'jefferson davis', 'mesopotamia', 'jesse lingard', 'henry dodge', 'young adult mystery', 'biomedical and public health research', '2008', '2008', 'cassandra lynn scerbo', '1968', 'john roulstone', 'bart millard', 'royal albert hall', 'charles frederick worth', '2017', 'alabama', 'rodmond roblin', 'michael showalter', 'michael showalter', 'paul newman', '100', 'the dillards', 'josh turner', 'josh turner', 'moolah', 'juan sebastian elcano', 'wally johnson', 'cumberland river', 'to protect human life and health', 'articles of impeachment', 'ram nath kovind', 'isaac newton', 'the lungs', 'eighth season', 'season four', 'matty', '$3.98 billion', 'a multi-purpose arena', 'april 10, 1985', 'peter sarstedt', 'kurt browning', 'august 22, 2018', '1890s', 'outer silicate solid crust', 'chereene allen', 'february 13, 1996', '7th century bc', 'north carolina', 'fourteenth', 'september 27, 2018', 'the chicago bears', 'the chicago bears', 'abby', 'april 20, 2018', 'june 25', 'meiji', 'june 19, 2015', 'lacey', 'spermaceti', 'apathy', 'soman chainani', 'vatican city', 'anne hathaway', 'edward bulwer - lytton', '1960', 'middle tennessee', 'mac davis', 'andy bichel', 'over $14 billion', 'invasion!', 'd - 9', 'teddy altman', '8', 'charlestown, massachusetts', 'the embargo', 'tatya marisol ali', 'chad danforth', 'leon trotsky', 'denmark', 'heath ledger', 'five', 'barbara hamilton', 'june 29, 2009', '1998', 'tulsa, oklahoma', 'july 27, 2015', 'centre - right', 'about 3 %', '1950', 'june 4, 2018', 'michael chang', 'august 25, 2017', 'july 26, 1788', 'each autumn', 'silas', 'deb', 'six', 'august 17, 2018', 'confederate', '13 december 1977', 'kameron michaels', 'kameron michaels', 'kameron michaels', 'kameron michaels', 'cuneiform script', '2018', '2018', '2018', '2018', '2018', \"`` fame ''\", '26 november 1949', 'queenstown', 'queenstown', 'june 20, 2012', '2018', 'july 31, 2020', 'yale university', 'population density', 'union', 'meat loaf', '1957', 'souma', 'apeirogon', 'the topic of race relations', 'georgia groome', 'verkhoyansk', '2011', 'fiji', 'timon', 'jess walton', 'nuremberg trials', '1930s', 'wood', 'ray lewis', 'oil', 'estelle', '1848', '1997', 'vishrava', 'william sylvester', 'david gyasi', '7 december 1941', 'charles cornwallis', 'southeastern mexico', 'daniel goddard', 'the beatles', 'felicity jones', 'lynn cartwright', 'five', 'trakai island castle', 'october 1, 1943', 'howard hamlin', 'tyke', 'argentina', 'argentina', 'below the diaphragm', 'joan baxter', 'fossil fuels', '30', 'baldwin park, california', 'remove trade barriers', 'remove trade barriers', 'remove trade barriers', 'remove trade barriers', 'remove trade barriers', 'david spade', 'b.f. skinner', 'sir charles', 'may 19, 2016', 'eidetic memory', 'on january 6', 'kj apa', 'kj apa', 'august 28, 2014', 'october 16, 2015', 'ed smith stadium', 'the industrial revolution', 'scrolling', 'february 13, 2015', 'yamuna river', '16th century', 't.i', 'zoroastre', 'george harrison', 'rudolf virchow', 'jay - z', 'jay - z', 'jay - z', 'jay - z', 'jay - z', 'jay - z', 'jay - z', 'the infected', '1984', 'the beach boys', 'the name maastricht', \"o'connell\", 'bolt nut', 'her third pregnancy', 'melissa ferrick', 'southern california', 'eros', 'lauren woodland', 'lauren woodland', 'county mayo', 'county mayo', 'piz', '1974', 'golden chestnut', '21 august 2018', \"one's environment\", 'cleveland cavaliers', 'meryl streep', '5', 'dean andrews', '2010', 'roosevelt', 'sovereign country', '1708 vine street', 'atlantic city', 'chevy chase', '1923', 'january 31, 2011', 'october 9, 2002', 'ian gillan', '13 april 2018', 'abilene', 'dog', '13', 'ekiti state', '13', 'atp molecules', '2018', 'fifth planet from the sun', 'lionel messi', 'france', 'april 26, 2019', 'obadiah stane', 'higher than 7.3', 'trace adkins', 'bart millard', 'abu sufyan', 'joseph', 'eleven', 'october 1, 2017', 'b.n. rau', 'eponine', 'winston cigarettes', 'manages computer hardware', 'mick jagger', 'may 28, 2008', 'december 15, 1791', '2002', 'the red woman', 'on stranger tides', 'on stranger tides', 'on stranger tides', 'hiroshima', 'hiroshima', '2', 'babe ruth', 'july 2010', 'selena gomez', 'oakland, california', 'oakland, california', '70', 'gastric enzymes', 'gastric enzymes', 'gastric enzymes', 'gastric enzymes', 'during a stoppage in play', '74.04 %', '$25,000', 'bob rafelson', 'bob rafelson', 'bob rafelson', '2019', 'october 10, 2017', 'wilt chamberlain', 'chimborazo', 'united states', 'new york', 'the knee', 'macklemore', 'macklemore', 'macklemore', 'macklemore', 'macklemore', 'macklemore', 'macklemore', 'corinne russell', 'october 7, 2008', 'evanston, illinois', 'sam drucker', 'houston astros', 'houston astros', 'november 2006', 'proprietor', 'ned beatty', 'hylda queally', 'zecora', '7', 'annapolis', 'tom walker', 'kirsten dunst', 'german rock band scorpions', 'jackson brundage', 'candice brown', 'light', 'india', 'adrenal medulla', 'shane black', 'december 17, 1976', 'amy madigan', 'basic word processor', 'the cape cod hook', 'october 17, 2017', 'hip', 'hip', 'hip', 'detecting and indicating an electric current', 'mark s. inch', '$7.25 per hour', 'uttar pradesh', 'stan lee', '208', 'june 1, 2018', 'hallee hirsh', 'titanic', 'titanic', 'titanic', 'titanic', 'daniel isaac mcguffey', 'annual financial statement', 'july 1980', 'july 1980', '1976', 'endoplasmic reticulum', 'endoplasmic reticulum', 'rivers rutherford', 'rivers rutherford', 'invasor', 'about 1950', 'château de chillon', 'billy boyd', 'aristotle', '21', 'phil murphy', '2015 -- 16', '18', 'tyler florence', 'republic of china', 'republic of china', 'united states', 'john barry', '2015', '4 september 1939', 'harvard university', 'harvard university', 'harvard university', 'harvard university', 'harvard university', 'harvard university', 'harvard university', 'harvard university', 'between 1756 and 1763', 'the korean war', 'chris evans', 'leslie feist', 'july 20, 2018', '2011', 'the sixth season', 'jorge t. almonte', 'maddie ziegler', 'tiber', 'mother goose characters', 'opium', 'thinly sliced rib - eye', 'david cross', 'southeastern and mid-atlantic regions', '6 april 1978', 'mamata banerjee', 'los angeles', 'usain bolt', 'fargo', 'dana carvey', 'essential fatty acids', 'love & war', 'andrew houison', 'west of amesbury', 'jermaine fuller', '130', 'nedbank', 'nedbank', 'nedbank', 'nedbank', 'nedbank', 'garth brooks', 'michigan state', 'madison nicole ziegler', 'jacob moore', 'nuclear energy', 'a compact hatchback', '2011', 'eric clapton', '$59,089 in 2016', '2018', '1935', '10 january 1863', 'unnamed friend', 'demetri martin', 'demetri martin', 'demetri martin', 'l brands', 'the union garrison', '5', '1967', 'jax', 'mark collie', 'galileo galilei', '2006', '2015', 'caroline kennedy', 'august 1975', 'danny glover', 'thomas love peacock', 'dick armey', 'thomas doherty', 'chittagong', 'june 2019', 'rev. theodore hesburgh', 'cory monteith', 'eight', 'jesus', 'yogi adityanath', 'sir henry cooper', 'john lehr', 'german composer christian schneider', 'october 13, 2017', 'donald glover', 'may 15, 1765', 'congress', 'orlando, florida', 'the ventricles', 'evan peters', 'the late 1960s', 'the large intestine', 'alexander rybak', 'october 7, 2018', '1798', 'sharon case', 'alexis carrel', '1996', \"j'son\", 'lego', 'united states', 'atlantic ocean', 'atlantic ocean', 'katharine hepburn', 'katharine hepburn', 'katharine hepburn', 'katharine hepburn', 'katharine hepburn', 'katharine hepburn', '116 minutes', 'snapdragon 835', 'gene raskin', 'october 18, 1967', '7 june 1929', 'dave foley', 'erudite', 'vicki lawrence', 'the late 1990s', 'fakhruddin ali ahmed', 'the president of india', 'the president of india', 'the president of india', 'the president of india', 'the president of india', 'the president of india', 'the president of india', 'the president of india', 'nora', 'delorean dmc - 12', 'sid tepper', 'alexa bliss', 'thomas doherty', 'kazakhstan', '18', 'visa not required', '1998', 'jeff gordon', 'greek', 'roxette', '120 - 180', 'amanda marsh', 'carlos david valdes', 'natchez', 'natchez', '1980', 'satinder kumar saini', 'satinder kumar saini', 'satinder kumar saini', 'satinder kumar saini', 'soviet union', 'soviet union', '116 minutes', 'iris west', 'philadelphia, pennsylvania', 'uca', 'big & rich', 'fifth harmony', 'myron maclain', 'january 2009', 'oliver o. howard', 'allee willis', 'allee willis', 'allee willis', 'allee willis', 'allee willis', 'allee willis', 'allee willis', 'june 7, 2018', 'kehlani', 'audie leon murphy', 'audie leon murphy', 'audie leon murphy', '5', 'bob russell', 'bob russell', 'alabama crimson tide', '2017', '1605', 'alex ekwueme', '1 september', 'mona', 'edith piaf', 'new england patriots', 'nena', '3 september 1783', '6', 'egypt', 'jonathan harris', 'charles dana', 'charles dana', 'charles dana', 'charles dana', 'psychoactive', 'psychoactive', 'psychoactive', 'psychoactive', 'psychoactive', 'web services', 'aristotle', 'beatles for sale', 'cmt', 'congress', 'selena gomez', 'october 10, 2017', 'william conrad', 'houston cougars', '10', 'bundeswehr', 'brain haemorrhage', 'senusret', 'the gobi desert', 'the gobi desert', '1,029', 'march 1941', '63', 'bar', 'bar', '6', 'the east of eden', 'hasrat ali', 'hasrat ali', 'hasrat ali', 'hasrat ali', 'hasrat ali', 'hasrat ali', 'hasrat ali', 'hasrat ali', 'bianca taylor ryan', 'linus torvalds', 'centered on the core', 'bruce springsteen', 'viola', 'flavor flav', 'garbiñe muguruza', 'flag of chile', 'the killer', 'the killer', 'dr lexie grey', 'paul mccartney', 'vancouver', 'paula - mae weekes', 'joan hooley', 'joan hooley', 'on the las vegas strip', '1834', 'octavian', 'octavian', 'crystal r. fox', 'the inner mitochondrial membrane', 'steve kazee', '18', 'eric stonestreet', 'the wild beasts', 'sertoli cells', 'over 3.3 million', 'june 1917', '3 september 1953', 'four', 'gandiva', \"charlemagne's army\", 'october 17, 2017', 'the gap band', 'mexico', 'lauri hendler', 'john anglin', 'john anglin', 'john anglin', 'unknown', 'rose royce', 'nate thurmond', 'union of soviet republics', 'bettina bush', 'builders', 'builders', 'builders', 'builders', 'builders', 'builders', 'september 25, 2016', 'april 1917', 'belfast', 'john lennon', 'retrospective cost', 'davis richard cleveland', 'the vestibular system', '$35,223', 'harvard university', 'united states', 'clay belt', '35', 'two atp molecules', '11 august 1968', 'ahmad givens', 'lata mangeshkar', 'jawaharlal nehru', 'the striatum', 'cochin international airport', 'the himadri', 'great britain', 'great britain', 'february 22, 2000', 'geoffrey boycott', 'humpty dumpty', 'asteroid belt', 'paul dukas', 'the uterus', 'september 2007', 'matt leblanc', 'battle of antietam', 'president donald trump', 'president donald trump', 'president donald trump', 'president donald trump', 'president donald trump', 'completed in 1989', 'chatsworth, california', '2014', 'jourdan miller', '2017', 'inner core', '110', 'harlem riot of 1943', 'old norwegian', '1961', 'season two', 'flag day 1954', 'learning environment', 'learning environment', 'learning environment', 'peter greene', 'c. 1700 bce', 'jay hawkins', 'jay hawkins', 'ian alexander', 'august 2018', '. 303 calibre smle', '. 303 calibre smle', '. 303 calibre smle', 'july 20, 1969', '0.999', 'helen rachel slater', 'wilge river', 'ptolemy', '2003', '2003', 'chile', 'the boston area', 'mortgage', 'jordan masterson', 'darlene zschech', 'jeremy irons', 'jeremy irons', '8', '1988', '1902', 'acetylcholine', 'gurbir grewal', '1867', 'sebaceous glands', 'grace vanderwaal', 'kyle orlando massey', 'bruce wayne', '16', 'tammy townsend', 'denver dell pyle', 'will ferrell', 'may 5, 2017', 'long beach state', 'adrian rawlins', 'gregg henry', 'windsor', 'theatrical makeup', '1945', 'wells fargo center', 'april 20, 2018', '2007', '1946', 'new orleans', 'j.m. digman', 'jan. 1977', 'abraham lincoln', 'abraham lincoln', 'amanda seyfried', 'amanda seyfried', 'amanda seyfried', 'amanda seyfried', 'amanda seyfried', 'amanda seyfried', 'amanda seyfried', 'the chicago cubs', '1962', 'chuck bass', 'hbo', 'june 1935', 'cesar romero', 'three', 'june 7, 2018', 'las vegas sands corporation', 'norco', 'norco', 'norco', 'norco', 'norco', 'steve cropper', 'steve cropper', 'frank farian', 'sahal and suhayl', '42', 'seattle seahawks', 'guapo', 'beetlebum', 'glycosylation', '12', 'sigmund freud', '1978', 'elizabeth hamilton', 'elizabeth hamilton', 'chicago, illinois', '25', 'visakhapatnam', 'lady of the lake', 'the beatles', 'fedex', '2017', 'bumblebee', 'logan guleff', 'jerusalem', 'clara blandick', 'duke blue devils', 'the river thames', 'the river thames', 'nuclear force', 'nuclear force', 'albert von tilzer', 'albert von tilzer', 'pharrell williams', 'rupert holmes', 'lewis hamilton', 'evi mckinney', '1988', 'may 11, 2018', 'sher bahadur deuba', 'chairman of the joint chiefs of staff', 'march 13, 2018', 'peace', 'pope john paul', 'huey', 'huey', 'huey', 'huey', '1926', 'brooks koepka', '2001', 'from electron donors', '206 bc', 'october 22, 2017', 'april 14, 2017', 'second pharyngeal arch', 'the new england patriots', 'japan', 'august 21, 2017', 'the third sunday in july', 'lost ones', 'al kooper', 'july 13, 2018', 'the hindenburg', 'a quaint midwestern town', 'september 25, 2009', 'august 18, 2018', 'august 18, 2018', '18', 'hulk hogan', 'william francis kemmler', '26', 'august 14, 2017', '2018', 'harry', 'charles ellis schumer', 'houston astros', 'houston astros', 'salicin', '1965', 'helmet', 'apache junction in arizona', 'redox reaction', 'the middle of the bread', 'dina carroll', '$35 million', 'july 26, 2005', 'in lumbini', 'paul mccartney', 'paul mccartney', 'october 10, 2017', 'a little night music', 'elton john', 'elton john', 'the fifth amendment', 'valinor', 'william caslon', 'dean gerard winters', 'the city girls', 'tom ellis', 'ethel merman', 'direwolves', '2006', 'three 6 mafia', 'demetri martin', '1901', 'ad 367', 'late 2018', 'united states', 'kim raver', 'kyle', '8', 'ellen burstyn', 'ellen burstyn', 'ellen burstyn', 'ellen burstyn', 'ellen burstyn', 'ellen burstyn', 'ellen burstyn', 'equilateral triangle', 'equilateral triangle', 'equilateral triangle', 'framlingham castle', 'tuberous', 'anna paquin', 'episode 6', '28 years', 'laura carter', 'second slower', 'german noun', '1912', 'southern france', 'al', 'infosys', 'infosys', 'infosys', 'infosys', 'infosys', 'infosys', 'infosys', 'infosys', 'infosys', 'infosys', 'john fane', 'judy garland', 'manhattan', 'new kelp city', 'infected person', '2018', 'the vice president', 'august 2004', \"true o'brien\", 'elizabeth the second', 'september 27, 2018', 'west africa', 'mantle', 'don gorske', 'carrie underwood', 'market economy', 'chemotaxis', 'june 27, 2018', 'lana maria parrilla', 'september 2013', '1995 -- 1999', '1927', 'robbie coltrane', 'early 2019', 'amado carrillo fuentes', 'each of the states', 'daniel lissing', '2018', 'heartland', '1988', 'western asia', 'korea', '8', 'hu yitian', 'anders', 'muhammadu jibrilla bindow', 'alberta', 'the end of the 19th century', '25', '1981', 'jim halpert', 'johannesburg', 'joseph heller', 'carolina reaper', 'new york city', '2017', 'mobile, alabama', 'eric clapton', 'los angeles', 'selene', 'miss maudie', 'justin thomas', 'carl linnaeus', 'josef bican', 'tyler brennen', 'real madrid', 'milan mladenović', 'fictional hazzard county', 'september 24, 2015', 'live! bootleg', 'live! bootleg', 'expressionism', 'ewan harris', '1956', 'jefferson davis', 'matt damon', 'donny osmond', 'jean - georges prosper', '230 v', 'kehlani', '2050', '8', 'january 9, 2018', 'four', '1972', 'joanne wheatley', '1995', 'james lukanik', '1963', 'russia', 'late december', 'the lungs', 'james madison', 'ascona ( switzerland )', 'a book', 'mikveh', '1952', 'carol ann susi', 'fort carillon', 'united states', 'iwo jima', 'british empire', 'trevor upham', 'carmella', 'allison janney', \"beto o'rourke\", \"beto o'rourke\", 'pope celestine iv', 'seth green', 'stomach', '1971', 'october 9, 2018', 'tokyo', 'marconi', 'marconi', 'mass', 'colombia', 'john dingell', 'england', 'the reconstruction era', 'the eagles', 'tan son nhat international airport', 'the intestines', 'the relationship diremption', 'mike henry', 'indicating a cardiac arrest', 'john f. kennedy', 'pink', 'legnano', '2017 -- 18', 'howard mcnear', 'audra mcdonald', 'jesus', 'darius danesh', 'nicole kelly', 'june 1974', 'mother abbess', '1909', 'emily swallow', '2016 -- 17', 'state', 'organs', 'south korea', 'december 1972', 'pewdiepie', '2006', 'black 1970 dodge charger', '2028', 'may 25, 2018', 'joseph', 'peregrine white', 'ashoka of india', 'kashyyyk', 'robert conrad', 'robert conrad', 'harmanpreet kaur', 'individuals', 'individuals', 'individuals', 'individuals', 'princess aurora', 'herb alpert', 'september 2004', 'broke the monopoly', 'eric martsolf', 'season two', 'donald trump', 'every monday', 'macbeth', 'meteogroup', 'jennifer garner', 'about a', 'common differences', 'tilde', 'probation officer', 'the raven', 'benjamin john whitrow', 'sydney margaret penny', 'laura williams', 'laura williams', 'laura williams', 'laura williams', 'judgment', 'judgment', 'judgment', 'judgment', '1955', 'john goodman', 'gal gadot', 'alfre woodard', 'parliament of great britain', 'forensic mental health professionals', 'lamoids', 'twice upon a time', 'james pickens jr', 'july 25, 2017', 'kobe bryant', 'antimalarial drugs', 'the red sox', 'lilliput', 'ancient greece', '2005', 'eartha kitt', 'eartha kitt', 'eartha kitt', 'archimedes', 'juncherre', 'madison nicole ziegler', 'natalie fletcher', 'arkansas', 'casablanca', 'kanab, utah', 'kanab, utah', 'pink', 'harry jon benjamin', '1969', 'trixie mattel', 'greece', 'sunil chhetri', 'pancreas', 'm6 junction 3a', 'ken kesey', 'zambia', '18', '2006', 'mekhi phifer', 'mekhi phifer', 'mekhi phifer', '2005', 'january 7, 2017', 'major james mcfarlane', '1969', 'r.k. narayan', '2000', '2016', 'october 2017', 'kiki dee', 'kiki dee', 'boise, idaho', 'mariano rivera', 'mr. incredible', 'cleveland cavaliers', 'cleveland cavaliers', 'cleveland cavaliers', 'cleveland cavaliers', 'late 2018', 'icarus', 'johan yngvesson', 'johan yngvesson', 'dewayne blackwell', 'march 30, 2018', 'rose bowl', 'max charles', 'countryside near bethlehem', 'adverse possession', 'sarah gray rafferty', 'chemical energy', 'anthony trollope', '43,560 square feet', 'jessica walter', 'fossil fuels', 'alaska', 'july 11, 2013', 'carole bouquet', 'lake jackson', 'the president of india', 'september 28, 2018', 'sangeeta chauhan', 'mohamed salah', '8,622,698', 'john astin', 'manoj bohra', 'manoj bohra', 'ramin djawadi', '62', 'rené descartes', 'january 24, 2003', 'tariff of 1828', '1960', 'mark ruffalo', 'light rail', 'the elizabethan poor law', '1961', '116', 'near the equator', 'kim boutin', 'chloroplasts', 'september 10, 2018', 'kangchenjunga', 'shreyan bhattacharya', 'jennifer elise cox', 'sonny bono', 'willow sage hart', 'willow sage hart', 'willow sage hart', 'willow sage hart', 'willow sage hart', 'willow sage hart', 'willow sage hart', 'willow sage hart', 'willow sage hart', 'willow sage hart', 'president of india', '1966', 'jagannath mishra', 'united states attorney general', 'jon hopkins', 'jon hopkins', 'jon hopkins', 'jon hopkins', 'the early middle ages', 'vera farmiga', 'atlantic city', '29', 'waylon smithers', 'taichung', '1969', '18,354', 'electors', 'ellen barkin', 'lacey chabert', '1988', 'pectoralis major', 'the southern cross', 'dana carvey', 'william henry harrison', '2001', 'an architect', '2,811', 'october 11, 2017', 'edward rochester', 'prime meridian', '8', 'andreas forberger', 'andreas forberger', 'andreas forberger', 'andreas forberger', 'andreas forberger', '24', \"ethel `` edy '' proctor\", 'hans lippershey', 'zoroaster', 'president franklin d. roosevelt', 'the straits of mackinac', 'pyeongchang county', 'sugandha mishra', 'pk', 'a marble mask', 'santosh yadav', 'pyroxenes', 'ronnie lee gardner', 'randy newman', 'randy newman', 'drew ballinger', 'jenny bicks', 'jenny bicks', 'donald trump', 'donald trump', 'june 30, 2017', 'the operating system', 'an american tail', '2018', '2018', '2018', 'the grinch', 'the grinch', 'native americans', 'allan anthony donald', 'ron howard', 'kimbra', 'independence community college in kansas', 'july 8, 2017', 'x86 - 64', 'alpha', '1887', 'type inference', 'type inference', 'type inference', 'bradley cooper', '1993 -- 94', 'long island', 'america', '500 to 600 sq ft', 'h. jon benjamin', '$16.8 trillion', 'christopher ryan', 'holly sherwood', '1661', 'march 16, 2016', 'rice', 'florida', '1988', 'the last knight', 'first wednesday in february', 'march 15, 1965', '16', 'pam', 'university of alabama', 'sanjay phakey', 'the united states', 'jesse', 'desert', 'wales', 'ralph edwards', 'rice', 'rice', 'rice', 'basic theological differences', '13', '1966', 'transcription', 'october 2018', 'india', 'the tin woodman', 'formula _ 3', 'jim beck', 'jim beck', 'johannesburg metropolitan municipality', 'johannesburg metropolitan municipality', 'johannesburg metropolitan municipality', 'johannesburg metropolitan municipality', 'johannesburg metropolitan municipality', 'johannesburg metropolitan municipality', 'johannesburg metropolitan municipality', 'matthew vaughan', 'matthew vaughan', 'august 3, 2018', 'frank john gorshin', 'five', 'jabbawockeez', 'henry cavill', 'jake matthew lloyd', 'best actor', 'best actor', 'best actor', 'jesse', '2020', 'trey parker', '1999', 'may 1, 1999', 'ola vigen hattestad', 'giuseppe garibaldi', 'mexico', 'expiration', '2016', 'spring', '1964', '29', 'three', 'delta', '1918', 'the city girls', '1993 -- 94', 'buck moore', 'buck moore', '50 to 70 percent', 'topeka, kansas', '2018', 'the femur', 'belgium', 'jordan spieth', '11 december 1941', \"kevin j. o'connor\", 'nashville, tennessee', 'the colosseum', 'the colosseum', 'the colosseum', 'the colosseum', 'the colosseum', 'the colosseum', 'the colosseum', 'todd frazier', 'brazil', 'jordan spieth', 'jordan spieth', 'jordan spieth', 'jordan spieth', 'jordan spieth', 'jordan spieth', 'jordan spieth', 'music room', 'don schlitz', 'don schlitz', '2013', 'drava', 'joel edgerton', 'michael lembeck', 'robert knight morgan', 'lafayette', 'gemma', '1789', 'october 15, 1997', 'walmart home office', 'tipperary', '2007', 'darryl keen', 'crystal gayle', 'don henley', 'don henley', 'oakland athletics', 'oakland athletics', 'jazz', '23.9', 'winona ryder', '2000', 'alan shearer', '28.8 years', 'darci lynne farmer', '28,218', 'joe nichols', 'frank stephenson dillane', 'october 27, 2018', 'the warriors', 'alice vickery', 'equilateral', 'randy parton', 'herkimer county', 'national fascist party', 'war reparations', 'portmanteau', '1965', '1543', '1970', 'kiln', 'epic of gilgamesh', 'the 1960s', 'the speaker', 'superman tower of power', 'april 18, 2017', '1933', 'guiana space centre', 'late diastole', 'e.m. forster', 'sam cooke', 'lori anne loughlin', 'sona', '1951', 'may 1980', 'delta airlines', 'delta airlines', 'delta airlines', 'delta airlines', 'delta airlines', 'timpani', 'pentheus', 'jade bailey', 'jade bailey', 'jade bailey', 'jade bailey', 'jade bailey', 'jade bailey', 'jade bailey', 'tamar braxton', 'tamar braxton', 'tamar braxton', 'tamar braxton', 'dr. max goodwin', 'the neville brothers', 'south las vegas boulevard', 'october 11, 2017', 'new york city', 'new york city', 'new york city', 'new york city', 'the melodica', 'molecular clouds', 'molecular clouds', '27 september 2003', 'moliagul, victoria', 'the federal reserve', 'qian xuan', '260', 'the hitman', 'jean hagen', '7', 'cristiano ronaldo', 'john powell', 'september 2016', 'the contours', 'october 5, 2017', '12.0', 'the eagles', 'rat race', '238 minutes', 'northeastern africa', 'rice, california', '45th parallel', '45th parallel', 'dane william dehaan', 'boris gelfand', 'jordan christopher belfi', 'august 28, 2012', 'don porter', 'everyone controls rewind', 'elvis presley', 'endothelial cells', 'the patriots', 'ali tamposi', '48', 'minneapolis', '16 november 2001', '1983', '1971', '30 seconds', 'incumbent rick kriseman', 'season two', 'alabama crimson tide', 'alabama crimson tide', 'franz ferdinand of austria', 'wayne northrop', '1986', 'olympic athletes from russia', 'jeff huff', 'the denver broncos', 'the denver broncos', '1775', '1975', 'august 10, 2018', 'sachchidananda sinha', 'astoria, queens', 'astoria, queens', 'jaason simmons', 'genetic drift', 'andrew', '1951', 'anonymous', 'october 17, 2017', 'the shoulder', 'christopher lloyd', '32', 'vidura', 'may 2009', 'may 2009', 'new judge', 'lala amarnath', 'northwestern north america', 'northwestern north america', 'northwestern north america', 'northwestern north america', 'northwestern north america', 'northwestern north america', 'lord linlithgow', 'radamel falcao', 'july 2013', '1975', 'kristen wiig', 'maia emilia ninel morgenstern', '1948', '2018', 'anandiben patel', '480 bc', '1962', 'congress', '29 august 1949', 'windows 95', 'bobby rose', 'wendy richard', 'san francisco 49ers', 'san francisco 49ers', '550,000', 'kathryn newton', 'jesus', 'collabro', 'flag day 1954', 'a renaissance convention', '1998', 'dami im', '1991', '1991', '1991', 'hillary clinton', 'hillary clinton', '19 june 1829', 'aled jones', 'austria', 'new york', 'new york', 'new york', 'new york', '18', 'lebron james', 'taylor hicks', 'taylor hicks', 'taylor hicks', 'francisco rodriguez', '1949', 'gary oldman', 'ramirez', '1803', 'anita ward', 'emma thompson', 'croatia', 'teddy bishop', 'teddy bishop', 'teddy bishop', 'the wall of the uterus', 'drew brees', 'ted ray', 'ted ray', '790s', '2018', 'bhiwandi', 'switzerland', 'nik kershaw', '1848', '32', 'reginald pole', 'mayor jerome cavanagh', 'brooks koepka', '26 september 2017', 'arkham asylum', 'bailee madison', 'henri tajfel', 'january 13, 2018', '75 %', 'the bolsheviks', 'infantry soldier', 'fez', 'the esophagus', 'new york yankees', 'soviet union', 'soviet union', '6 : 00 a.m.', '83', 'ouagadougou', 'vaskania', '60 mph', '1997', 'allan octavian hume', 'allan octavian hume', 'allan octavian hume', 'march 30, 2018', '1998', '1998 -- 99', 'pigs', 'lee grinner pace', 'axis bank', 'shlach', 'shabana azmi', 'modern times', '42 years', 'toby buckland', 'john sullivan', \"`` the next one ''\", 'noah ringer', 'pat hingle', 'billy porter', 'billy porter', 'season five', '2018', 'buckwheat boyz', '2009', 'warwick davis', 'morena baccarin', 'penarth', 'manchester and marsden', 'manchester and marsden', '1981', 'before 800', '1600', 'jimmy matthews', 'infinity gauntlet', '669', 'george james webb', 'george james webb', 'friday', 'laurence olivier', 'the toyes', 'the toyes', '2018', 'justin paul', 'justin paul', '2002', 'september 13, 2017', 'thing one', 'thing one', 'skeletal muscle fibers', 'george jones', 'amelia march heinle', '14 august 1975', 'richard coles', 'mountain', 'eight', 'july 16, 2017', 'lin - manuel miranda', '1092', 'foreign heads of state', 'foreign heads of state', 'foreign heads of state', '1947', 'sigmund freud', 'maria grever', 'iata : iata', 'miroslav klose', 'cornelius brothers & sister', 'residues of vanillin', 'residues of vanillin', 'wgsv', 'the ninth amendment', 'bombeye', 'christine baranski', '29 august 1949', 'sloan wilson', 'provincetown harbor', 'huggins - stengel field', 'mikhail korniyenko', 'mikhail korniyenko', 'march 18, 2016', 'karyn parsons', 'northern virginia', '156', 'charleston', 'charleston', 'charleston', 'charleston', 'charleston', 'charleston', 'charleston', '1940s', 'afghanistan', 'liv', 'south carolina gamecocks', 'april 12, 1971', 'four seconds', 'illegitimi non carborundum', 'march 24', 'the bards', 'the computer ethics institute', 'bradley cooper', 'guy moon', 'guy moon', 'sam humphrey', 'sam manekshaw', 'vascular spasm', 'vascular spasm', 'vascular spasm', 'margaret hoard', 'mpeg video', 'the members of parliament', 'uruguay', 'wyoming, texas', 'four', 'dogos', 'dogos', '58', 'dr lexie grey', 'eight', 'rene laennec', 'rene laennec', 'rene laennec', 'central and eastern', 'jon cypher', 'the monkees', 'the active principle', 'the active principle', '1325', 'the beatles', 'nina dobrev', 'september 13, 1996', 'settle', 'jeanne calment of france', '1983', 'myer prinstein', 'mexico', 'the hillbenders', '10', 'donald trump', 'donald trump', 'joshua fardon', 'blink - 182', 'a patent office', 'montell jordan', 'four', '22', '13 october 1983', 'muhammadu buhari', 'transmission', 'styles', 'styles', 'styles', 'styles', 'styles', 'styles', 'abhinav bindra', 'october 1, 2017', 'dana carvey', 'channel 208', 'aviva centre', 'original jurisdiction', '1862', 'john quincy adams', 'thomas jefferson', 'mark eaton', 'loneliness', 'loneliness', '15', '8 minutes', 'the navigation acts', 'gettysburg address', 'derry, maine', 'mills james productions', 'april 1972', 'piyush goyal', 'frederick the great of prussia', 'taylor schilling', '17 january 1983', 'robert baratheon', '2009', 'josh taylor', 'josh taylor', 'josh taylor', 'josh taylor', 'josh taylor', 'josh taylor', 'josh taylor', 'josh taylor', 'january 1, 2018', '3 november 2017', 'portland trail blazers', '31 %', 'dan patrick', 'dan patrick', 'aphrodite', 'aphrodite', 'aphrodite', 'jim steinman', '11.2 km', '1995', 'her dog', 'usually in early march', '2022', 'plato', 'andy samberg', 'proximity to boise, idaho', 'the buckwheat boyz', '2016', '1984', 'body fluids', 'capulet', 'dirk benedict', 'richie sambora', 'richie sambora', 'richie sambora', 'china', 'patton oswalt', 'bertier', 'the browns', 'michael bruce curry', 'major general edward braddock', 'kilogram', 'paul ryan', 'j.b. kripalani', '1983', '1983', 'foramen ovale', 'foramen ovale', 'foramen ovale', 'foramen ovale', 'opps', 'elk', 'elk', 'elk', '1983', 'marigold', 'november 16, 2012', 'phase iv', '2022', 'neal merritt', 'june 2004', '116', 'gohar ayub khan', '2018', 'french stewart', 'australia', 'garrison, colorado', 'peter cullen', '1185', 'june 29, 2007', 'bastian baker', 'noah ringer', 'italy and salonika', 'italy and salonika', 'italy and salonika', 'italy and salonika', 'italy and salonika', 'italy and salonika', 'italy and salonika', 'italy and salonika', 'shelob', 'sparta, illinois', '140', '140', '140', 'sydney', '513 strikeouts', 'new york', 'princeton', 'merry clayton', 'tommy harper', '1990', '17 november 2017', 'new york giants', 'piney woods', 'beaumont', 'england', 'england', 'august 1914', '12 september', 'venkaiah naidu', 'twelfth longest', 'insulin shock therapy', 'early 1960', 'the court', 'hatshepsut', 'nine seasons', 'real madrid', 'real madrid', '4 may 2018', 'anais nin', 'law', 'may 28, 2013', 'february 2, 1848', 'leslie bricusse', 'leslie bricusse', 'alexa davies', 'alexa davies', 'alexa davies', 'alexa davies', 'fleetwood mac', 'fleetwood mac', '5,600 years b.p.', 'charlemagne', 'cohasset', 'kim carnes', 'julian raymond', 'julian raymond', 'john roberts', 'august 1978', 'wendy frazier', 'over 87 million', 'kenneth williams', 'lagaan', 'devendra fadnavis', 'nicole scherzinger', 'planning', 'bee boles', 'war', 'hurricane ivan', '1977', 'jason lewis', 'jeff brazier', 'jeff brazier', 'jeff brazier', 'jeff brazier', '8', 'edward bulwer - lytton', 'maurice', 'october 3, 2018', 'bait car', '2017', '1908', 'around 607', 'robin dunne', 'exodus', 'matthew 7 : 6', 'delta', '1,341,035', 'zooey deschanel', 'vancouver', 'dev patel', 'jeanne calment', 'left behind', '17 may 1928', 'magnetic flow meters', '1,000 baht', '2020', 'joan cusack', '22', 'december 29, 1845', 'the sphere', 'belgium', '24 march 1924', 'robert howard cobb', 'mid-sized or large family car', 'mid-sized or large family car', 'mid-sized or large family car', 'john lee hooker', 'arsène wenger', 'sean berdy', 'iraq', 'iraq', 'forest whitaker', 'dan stevens', 'germany', 'germany', 'laura pierson', 'kevin mckidd', '29', 'thelma', 'richard wagner', 'lindsey buckingham', 'lindsey buckingham', '2008 -- 09', 'five years', '1987', 'channel 169', 'mid-15th century', 'jacinda barrett', 'howard attfield', '1990', '1990', '1990', '1990', 'hollywood chamber of commerce', 'holt richter', 'violet chachki', '2018', 'chris hemsworth', 'the national sports center foundation', 'april 1, 2016', 'dolly parton', '1926', 'super bowl xliv', 'arizona diamondbacks', 'peter jones', 'john quincy adams', 'heinrich schutz', 'brad rutter', 'duncan norvelle', 'louis hynes', 'piye', 'magnus carlsen', 'alabama crimson tide', 'hoki', 'judicial review', 'three', '2002', 'eduardo jose padron', 'his grandparents', 'his grandparents', 'lynn redgrave', 'ross malinger', 'seann william scott', 'seann william scott', 'seann william scott', 'seann william scott', 'seann william scott', 'seann william scott', 'seann william scott', 'seann william scott', 'seann william scott', 'seann william scott', 'sean gunn', 'goat', 'toby', 'vithalbhai patel', 'ames mcnamara', 'sam neill', 'sam neill', 'sam neill', 'sam neill', 'sam neill', 'sam neill', 'sam neill', 'levi miller', 'david fielding', 'warren beatty', 'august 7, 2013', 'the patriots', 'herbert clark hoover', 'chandra wilson', 'december 1971', 'kaycee', 'bruce willis', 'bruce willis', 'bruce willis', 'bruce willis', 'bruce willis', 'bruce willis', 'bruce willis', 'bruce willis', 'bruce willis', 'genome', 'strength', 'robin williams', 'robin williams', 'robin williams', 'steve gadd', '13.5 %', 'kingdom of scotland', '2006', 'nails', 'zone improvement plan', 'french', 'moussa faki mahamat', 'alan jackson', 'the pittsburgh steelers', 'urine and goat milk', 'july 23, 2018', 'wilt chamberlain', 'pearson', 'gal gadot', 'may 29, 1851', 'october 31, 1994', 'australian labor party', 'australian labor party', 'australian labor party', 'alanna ubach', 'margaret brainard hamilton', '70 million people', '22', 'arya', 'billy ray cyrus', 'june 22, 1999', 'reba mcentire', 'firearm', '1,907', '13 december 1977', 'tom sawyer', 'the boston celtics', 'march 30, 1867', 'france', 'june 22, 2018', 'endothelial injury', 'david kelly', 'l lawliet', 'super bowl lii', 'peppard', 'los angeles', 'los angeles', 'los angeles', 'los angeles', '10 may 1940', 'march 8, 2018', 'metre', 'william boyett', '2018', 'org', '2015', 'opposite of the bow', 'love conquers all', 'cody', 'vice president andrew johnson', 'john william oates', 'neil armstrong', 'tom felton', 'george pataki', '13', '1995', '1995', '1995', 'paul the apostle', 'other religious communities', 'other religious communities', 'other religious communities', 'other religious communities', 'other religious communities', 'other religious communities', 'other religious communities', 'paul penzone', 'england', 'the rib section', 'jimmy wood', '342', 'dan castellaneta', 'thomas malory', 'ethan winters', 'doug jones', 'mexico city', 'mexico city', 'mexico city', 'michael rooker', 'los angeles, california', 'qatar', 'tilda swinton', 'gold standard', '6 april 1652', 'michael faraday', 'elizabeth tower', 'charlotte flair', 'drake', 'theodore roosevelt', 'january 10, 2018', '2018', 'the black sea', 'august 1949', 'wall of the uterus', 'alfre woodard', 'alfre woodard', 'alfre woodard', 'alfre woodard', 'alfre woodard', 'alfre woodard', 'alfre woodard', 'alfre woodard', 'august 3, 2018', 'britt robertson', 'khal drogo', 'carol ann susi', 'one of the accusers', 'one of the accusers', 'george harrison', 'indian architecture', 'judi bowker', 'january 8, 1815', 'radio', 'colman domingo', 'editors', '1850s', 'kailash satyarthi', 'melvyn hayes', '1986', 'sticky prices', 'zinc', '22', '1966', 'the white sox', 'alex ferguson', '1872', '911', 'nelson mandela', 'june 17, 2016', 'pete seeger', 'scarlett johansson', 'guy patterson', 'prince edward island', '1920', 'sharon martin', 'sharon martin', 'sharon martin', '20', '64.0', 'post alley under pike place market', 'lacey chabert', 'midwestern united states', 'daniel handler', '1919', 'stephen curry', 'daryl mosley', 'atticus shaffer', 'neeraj chopra', 'park hye - soo', 'jimmy douglas', 'february 4, 2016', 'qatar', '2017', 'betty aberlin', '18 may 1974', '18 may 1974', 'the new england patriots', 'the new england patriots', 'the new england patriots', 'the new england patriots', 'the new england patriots', 'the new england patriots', 'the new england patriots', 'hans christian ørsted', 'babe ruth', 'the three degrees', 'the three degrees', 'the three degrees', 'the three degrees', 'seattle supersonics', 'hermia', 'in the following episode', 'gulf of california', 'gulf of california', 'misophonia', 'sauron the dark lord', 'about 1500', 'treasure island', 'combustion', 'shankar', 'james hillman', 'traffic calming or aesthetics', 'traffic calming or aesthetics', 'network address translation', 'guo shutong', 'guo shutong', 'guo shutong', 'guo shutong', 'guo shutong', 'guo shutong', 'oral mucosa', 'nehwal', 'bourbon street', '1998', 'the oracle arena', 'two seasons', '1999', 'the bay of pigs', 'germany', 'germany', 'april 17, 2018', 'may 30, 2017', '1993', 'gayla peevey', 'sonarika bhadoria', 'felix hernandez', 'jenny', \"jules o'dwyer & matisse\", 'claire king', '16', 'leucippus', 'active stratovolcano', 'energy storage', '1955', '10', 'government agency', 'june 27, 2018', 'nakamura', 'nakamura', 'keith richards', '1957', 'five', 'minoru yamasaki', 'minoru yamasaki', '5 may 1973', 'ruble or rouble', 'ruble or rouble', '2017', 'sushma swaraj', 'jan jansky', 'barred spiral', 'richard deacon', 'meteorite', 'december 1, 1969', 'mutualistic', 'matt prater', 'josh helman', 'danica mckellar', 'danica mckellar', 'book of revelation', \"john o'sullivan\", 'alan merrill of the arrows', 'alan merrill of the arrows', 'alan merrill of the arrows', 'x', 'sonny', 'april 15, 2018', '18 -- 20', 'central railway zone', 'tornadoes', 'lori lieberman', 'hephaestus', '1875', 'mario lópez', 'march 4, 2018', 'james cawley', 'the alan parsons project', 'michelle tribble', 'neymar', 'flag day, 1954', '1,711', '17', 'thomas edison', 'every monday', 'july 17, 2012', 'caroline kennedy', 'daniel desario', 'fourteenth', 'march 4, 1789', 'mid november', 'may 27, 2016', 'melissa nkonda', \"auli'i cravalho\", 'shaheer sheikh', 'bad company', 'alex rodriguez', 'james newton howard', 'shared pairs', 'a fox', 'mexico altiplano', 'christina moore', 'joe davis', 'kane williamson', 'fictional camden county', 'margaret court', 'nidhhi agerwal', 'march 2016', 'april 2024', 'birmingham, alabama', 'emmitt smith', '1859', 'tru', 'jasmine stewart', 'waxahachie, texas', 'imac pro', 'mclaren international', 'january 9, 2018', 'bobby russell', '1958', 'plato', 'march 19, 2014', 'east asia', '5.5 miles', '2017', 'boris karloff', 'anita palacio', 'italy vittorio emanuele orlando', 'italy vittorio emanuele orlando', 'italy vittorio emanuele orlando', 'italy vittorio emanuele orlando', 'italy vittorio emanuele orlando', 'italy vittorio emanuele orlando', 'italy vittorio emanuele orlando', 'strategic petroleum reserve', 'matthew modine', 'karnataka', 'antidisestablishmentarianism', 'an unidentified individual', 'steve rushton', 'shia labeouf', 'shia labeouf', 'jon bernthal', 'sachin tendulkar', 'kim fields', '18.10', '25', 'paul simon', 'march 8 every year', 'nancy birtwhistle', 'quavo', '3rd', 'jean stapleton', 'jean stapleton', '2006', '31', 'margo cathleen harshman', 'bayern munich', 'the cw', 'babylon', '1 january 1973', 'toronto', '2018 -- 19', 'tyrion', 'april 30, 1996', 'dolph lundgren', 'leopold i', 'fantasy drama', 'fantasy drama', 'on the olympic peninsula', 'egypt', 'egypt', 'egypt', 'france', 'france', 'france', 'france', 'france', 'aja volkman', 'british rule', 'afghanistan', 'march 2, 2018', '2012', 'return of the jedi', 'kunwar singh', 'oliver stark', 'green bay packers', '21 april 1526', 'luminosity', 'ephesians 6', 'the book of genesis', 'neptune', 'vishwanathan anand', 'the italian renaissance', 'virgil tibbs', 'olympiastadion, berlin', 'george lópez', '29 july', '8', 'coagulation', 'milo ventimiglia', 'economic inequality', 'muhammad of ghor', 'united states', 'mitribah, kuwait', 'mitribah, kuwait', 'nebraska', 'nebraska', 'nebraska', 'nebraska', 'nebraska', 'nebraska', 'nebraska', 'nebraska', 'jeff bhasker', 'jeff bhasker', 'jeff bhasker', 'michael dunn', 'stoke city', 'stoke city', 'stoke city', '2006', 'david', 'judy', 'alternating current / direct current', 'wilt chamberlain', 'may 10, 2018', 'the ansonia firm', 'august 1958', 'schizophrenia', 'stevie wonder', 'los angeles lakers', 'nine', 'neal cassidy', 'new york yankees', 'jin boyang', 'douglas fairbanks', '5th century ad', 'national disaster management authority', 'seven', 'july 20', '13', '24 hours', 'video editing software', 'james mcclean', 'aloe blacc', 'linda marie mcmahon', 'nat wolff', 'mountbatten plan', 'season eight', 'barry bonds', '1945', 'october 14, 2007', 'october 17, 2016', 'december 2011', 'mariyappan thangavelu', 'bruce springsteen', 'goat', 'gross vehicle weight rating', 'bt group', 'corey burton', 'the start of the second season', 'after world war ii', 'cleveland browns', 'richard petty', 'rafael nadal', 'dark room', 'may 28, 2008', 'more than 2,800', '1699', 'myles garrett', '6 february 1952', 'treyarch', 'the flintstones', 'mean platelet volume', '15 - yard line', '2013', 'ben barnes', '12', 'india', '16', 'france', 'drew garrett', 'wasim akram', 'demetrius', 'ray bolger', 'ronaldo', '1854 until the mid-90s', 'jon bon jovi', 'iceland', 'lenín moreno', 'spurious relationship', 'robert de niro', 'robert de niro', '1986', 'january 25, 1994', 'johnny nash', 'leonardo da vinci', '1887', 'leto', '1945', 'daniel lissing', 'photographic printing', '1951', 'the directors', 'stefan -- boltzmann constant', 'auguste escoffier', 'ice hockey', '1904', 'june 2007', 'red dragon', 'red dragon', 'red dragon', 'battle creek sanitarium health food company', '2026', 'may 8, 2018', 'approximately 45,000', 'hillary clinton', 'dana patrick', 'rural florida', '2', 'fort worth', 'fort worth', 'fort worth', 'fort worth', 'fort worth', 'fort worth', 'fort worth', 'fort worth', 'fort worth', 'fort worth', 'lionel messi', 'cherry jones', 'cherry jones', 'april 2024', '1977', 'the revivalists', 'april 29, 2018', '2017', 'no way out', 'the placenta', 'heterozygous', 'jack butler yeats', 'lara flynn boyle', 'lara flynn boyle', 'jennifer saunders', 'metromedia square', 'monsters among us', 'usb 3.0', 'usb 3.0', 'early 2018', 'regina spektor', 'christian camargo', 'coleman', 'diahann carroll', 'anglo - saxon chronicle', '13', 'levantine', 'levantine', 'levantine', 'levantine', 'ronnie scott', 'ronnie scott', 'interphase', 'karl marx', '1991', '1991', '1991', '1991', '1991', 'lilyan tashman', 'the phantom', 'achilles', 'jackie gleason', '2018', '2010', 'aquaria', 'robert w. lafore', 'alice cooper', 'pakistan', 'pakistan', 'eric church', '2002', 'jean kalilani', '650', '1962', 'june 7, 2005', 'maurice white', 'the north', '1869', 'may 26, 2017', '1.5 times', 'brazil', 'brazil', '11 miles outside of homer', 'john b. watson', 'emery kelly', 'olympia', 'nicolas bechtel', 'wyoming', '0.3048 meters', 'adiz', 'air separation', 'interracial marriage', 'charlie day', '1964', '1964', 'united states', 'james augustus hicky', 'between 1895 and 1918', 'arctic', 'arctic', 'arctic', 'arctic', 'arctic', 'the united states', 'jimmy wood', 'over-reacting', 'amphibian', 'prince', 'september 12, 2017', '2006', 'seattle mariners', 'steven yeun', 'monks', 'walton county', 'jessica falkholt', 'kayavak', '1928', 'sedimentary rocks', '29,675', 'benjamin franklin', 'benjamin franklin', 'matron of honor', '2000', 'plymouth rock', '1960s', 'john green', '33', 'may 26, 2007', 'jacob', 'cerberus', 'portia de rossi', 'portia de rossi', '2012', '2,000 children under 16', 'amy', 'arsenal f.c.', 'arsenal f.c.', 'drew carey', 'drew carey', 'drew carey', 'drew carey', 'usd 4.6 billion', 'roald dahl', 'the president', 'the president', 'bradley cooper', 'mr. hastings', '174', 'carlton', 'carlton', 'emmanuel goldstein', 'november 7, 2017', '1920', '1920', 'mid-2061', 'matt lanter', 'charlie hallows', 'anthony rendon', 'barenaked ladies', 'donald bradman', '1516', 'justin long', 'strength', '30 days', '30 days', '30 days', 'pino donaggio', 'pino donaggio', 'pino donaggio', 'pino donaggio', '14 may 1948', 'throughout easter season', 'the tennis court oath', 'leon russell', 'leon russell', 'leon russell', 'bone marrow', 'bone marrow', 'pinellas county', '130', 'jesse plemons', '16', 'john sykes', '1037 -- 1063', 'hillsong worship', 'june 8, 2018', 'mexico', 'across ocean boulevard', 'wilt chamberlain', 'derek jeter', 'supporting the body', 'selena gomez', 'kate walsh', 'september 28, 2017', 'paul revere', 'march 27, 2018', 'the ganges river dolphin', 'john cena', 'one million', 'william christopher handy', 'diana ross', '$1,000', '5 january', 'two glands', 'glacial striations', '4,435 killed', '2018', 'mid-november', 'independence day', 'robert hooke', 'cleveland indians', 'michael marcus', 'nessa', 'gary oldman', 'mark chapman', 'stealers wheel', 'justice govind mathur', 'amy adams', 'jinkx monsoon', 'sonia sotomayor', 'sonia sotomayor', 'sonia sotomayor', 'sonia sotomayor', 'sonia sotomayor', 'sonia sotomayor', 'sonia sotomayor', '2008', 'bonnie gruesen', 'thomas grant gustin', 'north america', '100', 'lagos business school', 'april 2, 2018', '206 bc -- 220 ad', '206 bc -- 220 ad', 'nell tiger free', 'david bowie', 'florent cantin', 'stephen adam amell', 'gene bryant', 'transmits sensory information', 'rio mantaro', 'rio mantaro', 'bobby braddock', 'bobby braddock', 'october 31, 2018', 'william henry harrison', 'the godfather', 'september 2013', '87', 'gullane golf club', 'gullane golf club', 'gullane golf club', 'gullane golf club', 'gullane golf club', 'gullane golf club', 'gullane golf club', '1787', 'hardin bigelow', '1944 october', '28', 'm.n. roy', 'janice karman', 'prize fund', 'nominating the recipient', 'jiseul', 'arijit singh', 'arijit singh', 'arijit singh', '1998 -- 1999', 'alycia debnam - carey', 'ronald reagan', '11', 'cadbury', 'william smith', 'new zealand', 'washington -- reagan', 'samira wiley', '1975', '1935', 'september 20, 2017', 'highway of tears', 'true north', 'melakarta', 'melakarta', 'melakarta', '2 september 1945', 'mark brendanawicz', 'edward heath', 'jock', 'over 15 million', 'new england patriots', 'rafael nadal', '10 november 1775', 'silas weir mitchell', 'john peters humphrey', 'john peters humphrey', 'john peters humphrey', 'john peters humphrey', 'john peters humphrey', 'john peters humphrey', 'john peters humphrey', 'john peters humphrey', 'john peters humphrey', 'dean', 'during summer months', 'two campaigns', 'indra', 'carolyn sue jones', 'carolyn sue jones', 'french', 'united states', 'jakeem grant', 'vancouver', 'd major', '13', 'the teen angel', 'sophomore', '1944', 'may 18, 2018', 'the military budget', 'saltwater', 'malcolm arnold', 'march 1862', 'october 2, 2017', 'surrey, england', 'underwater kingdom', 'ohio', 'ohio', 'ohio', 'ohio', 'ohio', 'ohio', 'ohio', 'ohio', 'ohio', 'february 19, 1927', 'angela robinson', '120 v', 'cam brainard', 'maia mitchell', 'standards organizations', 'mrs. oldfield', 'january 12, 2018', 'representative democracy', 'rms titanic', 'clayton kershaw', 'april 4, 2017', 'abu', 'keith urban', 'southwest', 'the foot', 'plymouth, massachusetts', 'zarniwoop', 'junior officers', 'eddie', '1974', 'charles strouse', 'charles strouse', 'slavic languages', 'slavic languages', 'slavic languages', 'daniel r. russel', 'solomon linda', 'robert james anderson', 'michelle pfeiffer', '26 july 2018', 'rko studios in hollywood', 'joel courtney', 'mid-1950s', 'ant - man', 'august 2013', 'old tamil', 'old tamil', 'old tamil', 'old tamil', 'george tenet', 'loren bouchard', 'cole porter', 'lewis hamilton', 'uncuttable', 'october 14, 2018', '20 july 1969', 'approximately 1436', '8', 'ottoman empire', 'richard karn', 'sir ian mckellen', 'james garner', 'james garner', 'james garner', 'treaty of london', 'treaty of london', 'south korea', 'calgary, alberta', 'the cosmic ecstatic dancer', 'the wailers', 'july 16, 1993', 'january 1, 2018', 'joan osborne', 'jessi colter', 'ray noble', 'sunday', '23 january 2008', 'south america', 'south america', 'south america', 'eric harris', 'eric harris', 'international date line', 'international date line', '1982', 'dr. seuss', 'jonathan crombie', 'dallas', '2017', 'pennsylvania', 'holly knight', 'holly knight', 'june 15, 2018', 'freida pinto', '402', 'feist', 'feist', 'feist', 'sir arthur cotton', 'marriott international', 'miami heat', 'absolute monarchy', 'john sullivan', 'darcey bussell', 'charles dickens', 'ford fiesta', 'ford fiesta', 'sony pictures television', 'jacksons point, ontario', 'jacksons point, ontario', 'jacksons point, ontario', 'jacksons point, ontario', 'jacksons point, ontario', 'jacksons point, ontario', 'mark mcgwire', 'behind the pisa cathedral', 'nuclear family', 'executive branch', '5 pm', '10', '2019', 'ultraviolet radiation', 'agriculture', 'agriculture', 'agriculture', 'the isle of man', 'timothy james curry', 'candice brown', '2019', 'delaware river', '120 miles', 'times square', 'northern territory and western australia', 'the plebeians', 'boston, massachusetts', 'wang xuance', 'february 26, 2016', 'patrick henry', '2018', '1858', 'richard arkwright', 'constitutional convention', 'venezuela', 'pinewood studios', 'pinewood studios', 'pinewood studios', 'nolan ryan', 'count olaf', 'count olaf', 'the everly brothers', 'april 19, 1894', '1967', 'seafaring traders', 'seafaring traders', 'seafaring traders', 'a raccoon', 'h. jon benjamin', 'sarvesh', 'mark - paul gosselaar', 'september 5, 2017', 'howard ellsworth rollins', '1996', '10', '1804', 'january 1, 2018', 'sidney arodin', 'sidney arodin', 'richard neutra', 'delegates', 'brittany cherry', '2006', 'howie mandel', 'howie mandel', 'howie mandel', 'howie mandel', 'oahu, hawaii', 'proprietary', 'samsung galaxy tab s4', 'don adams', '1915', 'bishop of canterbury', 'pom klementieff', 'adrien brody', 'hathi', 'michigan state', 'all eligible citizens', 'two', 'samuel humes', 'samuel humes', 'mike naylor', 'mantle convection', '256 ( hardcover )', 'paul davis', 'agnetha faltskog', 'agnetha faltskog', 'albert stratton', 'james hunt', 'marvin gaye', 'marvin gaye', 'bob the drag queen', 'max verstappen', 'good magic', 'christy mathewson', 'ludwig goransson', 'the siegfried line', 'alan menken', '1884', '1', '1967', 'a particle detector', 'cristiano ronaldo', 'states', 'states', 'september 6, 2018', 'dublin, ireland', 'forum', '50', 'the beatles', 'marvin gaye', 'alabama crimson tide', 'april 5, 2018', 'star trek beyond', '1979', 'john stockton', 'darius mccrary', 'darius mccrary', 'raf bovingdon', 'british columbia', '420', 'the trickster', 'los angeles', 'carol ann susi', 'carol ann susi', 'john madden', '1972', 'peter davison', 'patpong in bangkok', 'august 25, 2006', 'the 1880s', 'the 1880s', 'october 3, 2001', 'december 2015', 'miroslav klose', 'lady antebellum', '1965', 'soviet', 'frank bank', 'super bowl li', 'paul ego', '10 september 1977', 'insects', 'orthostatic hypotension', 'orthostatic hypotension', 'frank loesser', 'may 19, 2017', 'october 11', 'mccarthy', '18', '6', 'june 8, 2010', '4', '6', 'early as 1951', '116 minutes', '2009', 'january 2015', 'black mountain, north carolina', 'wales', 'victory gardens', 'vishakhadatta', 'somerset', 'skyler gisondo', '2013', '1962', '13', 'torón', 'jackie robinson', 'petr čech', 'june to august', 'june to august', 'june to august', 'king louie', 'jiroemon kimura', 'gul mohammed', 'march 2, 2016', 'fred astaire', 'stefanie powers', '2018', 'evelyn', 'samuel francis smith', 'matthew settle', 'arun jaitley', 'manchester united', '2017', 'nick kroll', 'sam snead', 'abraham lincoln', 'pravin amre', 'florist', 'carson city, nevada', 'wilt chamberlain', 'hasbro', 'neil gorsuch', '1994', '3,861', 'waist', 'december 15, 2017', 'the land of oz', 'glass tiger', 'december 1921', 'annasophia robb', '1864', '1864', '1864', 'wally west', 'the medieval persian sufi poets', 'walt disney', 'october 19, 1999', 'sachchidananda sinha', 'sebastian cabot', '2019', 'the black eyed peas', 'the black eyed peas', 'piper perabo', 'mekhi phifer', 'neil armstrong', 'october 16, 2017', 'lizzy greene', 'channel 70', 'dallas frazier', 'open - air museum', 'freeemium mobile strategy', \"`` the one ''\", 'new york city', 'vietnam', 'seven', 'justice antony dominic', 'abraham lincoln', 'lori mckenna', 'lori mckenna', 'lori mckenna', 'bart millard', 'season two', 'amanda tapping', 'leo iv', 'leo iv', 'alysia reiner', 'clayne crawford', 'james rodriguez', '2018', '11 august 1823', 'horn of africa', 'the early 17th century', 'the series finale', 'qatar', 'oldham general hospital', 'yom teruah', 'yom teruah', 'algae', 'darlene cates', 'robert owen', 'mark mcgwire', 'belgium', 'shane warne', '1982', 'usually 12', 'volcanic hotspot', 'saloons', 'alan shearer', 'michael phelps', '1972', 'zachary taylor', '164', 'approximately 1600 bc', '2019', 'the yamato dynasty', '10', 'piper kerman', 'james patrick collins', 'the mother abbess', 'sparta, illinois', 'house of representatives', 'season three', 'chandler', 'chandler', 'dick van dyke', 'rob paulsen', 'the red vineyards', 'jim cummings', 'thomas edison', 'edward viii', 'jerrod carmichael', 'congress', 'team europe', '2001', 'double bond', 'alex delicata', 'edward jenner', 'hans conried', 'hans conried', 'phil heath', 'babyface', '30 days', '4.2 m', 'gerald william trainor', 'lyly', 'flowers', '23', 'r', 'kristopher marshall', 'july 2, 1964', 'the gateway arch', 'the beach boys', 'june 1787', 'denver, colorado', 'western australia', 'western australia', 'western australia', 'western australia', 'western australia', 'western australia', '2015 -- 16', 'rafael nadal', 'craig fuller', 'lionel messi', 'lionel messi', 'lionel messi', 'lionel messi', 'lionel messi', 'marie curie', 'november 10, 2017', 'juhu', 'sadie hawkins - style', '1931', 'the killdeer', 'march 5, 2008', 'berlin', 'american collegiate social fraternity', 'general issue', 'general issue', 'william devry', 'blockade', 'blockade', 'sam hunt', '4 february 2012', 'mike ditka', 'charmed', 'the united states air force', '13', 'durga keshar khanal', 'dick durbin', 'dick durbin', \"colin arthur o'donoghue\", '101', 'the lungs', 'emma stone', '1994', '552', 'dire straits', 'mighty morphin power rangers', 'the underclass', 'alexa bliss', 'toyah willcox', '2002', 'amitav ghosh', 'fleetwood mac', 'north dakota', 'mike stewart', 'mike stewart', 'february 10, 2017', 'bourbon whiskey', '1879', 'september 30, 2018', '1980', 'jon cryer', 'silver', 'cardi b', 'kobe bryant', 'god - gift', 'spider - man', 'derbyshire', 'michigan wolverines', 'galway', 'machel montano', 'through direct election', 'barbara rosenblat', 'sunday', 'burger king', 'seven', 'paris, france', 'james parkinson', 'hailee steinfeld', 'seabrook island', '7,349', 'china', 'august 2015', 'john roberts', 'saturn', 'lavell crawford', 'eric menyuk', '1998', 'bruce willis', 'kevin harvick', 'red ensign', '2018', 'lady gaga', 'seth macfarlane', '1982', 'carleigh fairchild', 'nick jonas', 'in season 3', '1812', '24', '2 december', \"sportsman's park\", \"sportsman's park\", \"sportsman's park\", 'bill', 'tuesday 7 june 1977', 'northern inuit dogs', 'young narcissus', 'noel clarke', 'noel clarke', 'december 1886', 'tokyo', 'scotty wiseman', 'mark lawson', 'the chief of staff', '26 june 1997', 'walter sullivan', '24 october 1945', 'jordan cila', 'will ferrell', 'the hobbit', '12 may 1967', 'turkey', 'brad rutter', 'ann peebles', 'portland, oregon', 'cheap trick', 'reo speedwagon', 'the 17th century', 'kevin garnett', 'corrosives', 'indira gandhi', 'arizona', 'arizona', 'arizona', 'colm feore', 'los angeles', 'czech', 'cell cycle', 'russia', '1956', 'mo', 'skin', 'skin', 'skin', '2018', 'larry miller', 'general education', 'june 28, 1870', 'lake itasca in northern minnesota', '18', 'ray allen', 'july 14, 2017', '4 may 1789', 'seminal vesicles', 'monsignor farrell high school', 'between oceanic plates', 'muscle strength', 'ryan white', 'the royal ballet', 'united kingdom', 'february 1692', 'dr. harsh vardhan', 'toby keith', 'august 6, 1965', 'aztec emperor cuauhtemoc', 'salma hayek', 'john lennon', 'brussels', 'molly', '4,726', '1969', 'the stomach', '1935', 'julie dawn', 'mina sundwall', 'tom', 'blue', 'blue', 'blue', 'blue', 'blue', 'sean connery', 'sean connery', 'sean connery', 'sean connery', 'sean connery', 'sean connery', 'qatar', 'minority whip', 'lisa diane whelchel', '1958', 'dallas mavericks', 'january 10, 2003', 'alex borstein', 'april 1, 2017', 'april 1, 2017', 'new york', 'red', 'red', 'jus soli', 'mark jackson', 'dalveer bhandari', 'liquor stores', 'trefoil', 'performance vehicle operations', 'kunwar singh', '2002', 'the offspring', 'may 9, 2016', 'kevin skinner', 'korkai', 'pope celestine iv', 'the boston celtics', 'six', '1994', 'the supreme court building', 'football league', 'the last airbender', 'liberty', 'liberty', 'liberty', 'captain & tennille', '1966', 'april in paris', 'yulia tymoshenko', '2016', 'rebecca ferguson', 'the conflict', '2018', 'lannister', 'oceania', '1965', '2013', 'the president', '1949', 'black', 'black', '2nd century', 'john denver', 'john denver', 'transform fault', 'eisenhower', 'august 14, 2018', 'rock around the clock', 'sofía of greece and denmark', 'miami heat', \"seven years'war\", 'sean connery', 'the hassles', '29 july 1954', 'honors degrees', '229 minutes', 'alex bain', '2013', 'brett young', 'joseph brackett', 'james madison', 'passerine birds', \"breed's hill\", 'maori war god', 'mary elizabeth ellis', 'july 12, 2018', 'minister of railways', 'constance wu', 'whale', 'carrie', 'joao fernandes lavrador', 'real madrid', 'middlesbrough', 'david duchovny', 'cell wall', '1999', 'saint ambrose', 'black mountain, north carolina', 'dusty springfield', 'mind stone', '21', 'british victory', 'mark lenard', 'hibbing, minnesota', 'sorrell booke', 'the louisiana purchase', 'carl linnaeus', 'kiki dee band', 'waimanalo', 'australia', 'an indigenous custom', 'nat turner', '2002', 'mahabharata', '1939', 'germany', '1 august 2018', 'tomer sisley', 'october 1, 2017', 'genus', 'coretta scott king', 'coretta scott king', 'coretta scott king', 'coretta scott king', 'swami vivekananda', '19', 'princeton', '1836', 'the rocky mountains', 'guillaume de machaut', 'christine michelle metz', 'noam kaniel', 'the stellar awards', 'denver broncos', 'lake tanganyika', '1859', 'terry v. ohio', 'the soviet union', 'october 1, 1968', 'missouri', 'the vagina', '10', 'b.j. thomas', 'fantasia barrino', 'berlin conference', '1988', 'summersville lake', 'anne rathdonnell', 'men at work', 'nerve cells', 'darrell hammond', 'darrell hammond', 'darrell hammond', 'darrell hammond', 'darrell hammond', '2', 'british overseas territory', 'forestry', 'forestry', 'forestry', 'forestry', 'tommy hunt', 'will power', 'north carolina', 'joni mitchell', 'glutamate', 'serena williams', '1988', 'kary mullis', 'stanley mcchrystal', 'paradise, nevada', '1923', 'january 23, 2018', 'sonny', 'anthony hopkins', '1998', 'nevada', 'nevada', 'nevada', 'nevada', 'lana maria parrilla', 'november 17, 2017', 'sohail rana', '13', '20 december 1812', 'liberty island', 'epidermis', 'epidermis', 'reduce weight', 'october 28, 1948', '21 years', 'lee greenwood', 'north carolina', 'bansi lal', '1947', 'joey scarbury', '1917', '2015', '2015', 'abraj al bait', 'uma thurman', 'the garhwal district', 'john barry', 'notre dame', 'saoirse ronan', 'charon', 'december 20, 2017', 'a great big world', 'johannesburg', 'a dwarf warrior', 'charles ray knight', 'paul simon', '1979', 'mackenzie christine foy', 'cloud gate', '2010', 'the fantastic four', 'jessica keegan', 'sir anand satyanand', '1931', 'janna bossier', 'cookbooks', 'lindsey buckingham', 'moretti', 'the usa', 'rollover', 'ananda samarakoon', '1984', 'aro', 'palace of whitehall', '1930', 'dania ramirez', 'gene lockhart', 'carlos santana', '1976', 'human immunodeficiency virus', '2011', '2017', 'mohsin khan', 'jon bernthal', 'jeffrey hunter', 'june 13, 2010', 'shaun white', 'sri lankan government', '1946', 'bill nighy', 'william bentinck', 'luke fickell', 'john lennon', 'john lennon', 'all moms and babies', 'all moms and babies', 'all moms and babies', 'all moms and babies', 'june 27, 2014', '9', 't.r. knight', 'janelle', 'south central region', 'stanley tucci', 'the white ferns', 'pantalaimon', '1947', 'the dead sea', 'carbon dioxide', '2018', 'dr. harsh vardhan', 'jean piaget', 'england', 'tony nwulu', 'tony nwulu', 'april 17, 1982', 'judges', 'july 26, 2000', 'matthew lillard', 'black pontiac trans am', 'colonial massachusetts', 'five', 'nok culture', '26 june 1997', 'jane hopper', 'michael wray', 'michael', 'a multi-party system', 'paula hawkins', 'pom klementieff', 'third largest', '65 mph', 'australia', '38', 'cat', 'galadriel', 'oklahoma city', 'february 16, 2018', 'big & rich', 'adam warlock', 'billy corgan', 'her own excrement', 'four - year', 'samantha burton', 'harry kane', '1961', '1998', 'claudette nevins', 'january 11, 2004', 'sam heughan', 'geraint thomas', 'tim hardin', 'october 1917', 'the beatles', 'clint walker', 'clint walker', 'clint walker', 'clint walker', 'clint walker', 'reputation', 'hound dog', 'spain', 'redness', 'redness', 'somerset house', 'june 2017', 'eric liddell', 'eric liddell', 'george orwell', '156', 'indefinitely', 'randall cunningham', 'jonas hanson', '1990', '585', 'pilot or flight dispatcher', 'pilot or flight dispatcher', 'glen ballard', 'glen ballard', 'the beatles', 'india', 'india', 'taraji p. henson', 'season 11', 'new york city', 'june 30, 2017', 'two consecutive terms', '32 scottish volunteers', 'a muezzin', 'key west, florida', 'vernee watson - johnson', 'vernee watson - johnson', 'the mosaic law', 'the mosaic law', 'july 2007', 'houston astros', 'black for endurance', 'black for endurance', 'black for endurance', 'black for endurance', 'black for endurance', 'hunter haley king', 'september 2006', 'tracy mcconnell', 'hector barbossa', 'jerry stiller', 'owen', 'saul', 'mutualism', 'mutualism', 'mutualism', 'june 21', 'mountain lion', 'will eisner', 'thyroglobulin', '120', 'april 25', 'jim croce', 'prosecutor', 'russia', 'kevin owens', 'sal stowers', 'charles matthew hunnam', 'december 30, 1948', 'financial asset', 'andy serkis', 'jarasandha', 'finding her strength', 'finding her strength', 'finding her strength', 'fun', 'staying alive', 'a-ha', 'john michael montgomery', 'march 11, 2017', 'sidi kaouki', 'sidi kaouki', 'sidi kaouki', 'sidi kaouki', 'william bruce mumford', 'frequency', 'frequency', 'frequency', 'frequency', 'frequency', 'frequency', 'frequency', 'frequency', '1800', '2019', 'seven', 'art parkinson', 'daniel lissing', '2018', 'june 28, 1968', 'sofitel new york hotel', 'france', 'mackenzie crook', 'conservation biology', 'lithosphere', 'during and after childbirth', 'during and after childbirth', 'during and after childbirth', 'may 10, 2018', '1900', '1951', 'united states declaration of independence', 'stream erosion', 'linear independence', '100 miles', 'john prine', 'john prine', 'pete rose', '1607', '2011', 'harry chapin', 'harry chapin', '73', 'the phantom of the opera', 'dr. pam', 'heather hemmens', 'seven', 'dying of old age', 'a volcanic arc', '60 skirted fleeces', 'splinter', 'splinter', 'splinter', 'splinter', 'june 1979', 'stealers wheel', 'people', 'general taxation system', 'may 25, 1977', 'lock martin', 'robert smigel', 'four', 'benzene', '0x3f8', 'three', 'carl william raisch', 'pride', 'pride', 'pride', 'pride', 'pride', 'pride', 'pride', 'fakhruddin ali ahmed', 'rock hill', '1794', 'february 1994', 'roughly 10,000 tonnes', '1964', '400', 'ralph fiennes', 'july 1865', 'january 15', '12 -- 14', 'tennessee', 'tennessee', 'joaquin phoenix', 'carrie underwood', 'the simpsons', '19 july 2017', 'herb brooks', 'liam mcintyre', '1907', 'silas weir mitchell', 'july 20, 2017', 'an autonomous constitutional authority', 'sacramento kings', 'lower freezing point', 'b. burgdorferi sensu lato', 'b. burgdorferi sensu lato', 'b. burgdorferi sensu lato', '1986', 'five', 'morten andersen', 'eukaryotic organisms', 'john billingsley', '1983', 'uefa super cup', 'uefa super cup', 'uefa super cup', 'early 20th century', 'matthew lillard', 'january 2012', 'six weeks', 'may 24, 2017', 'selena gomez', 'late 1968', 'stephen schnetzer', 'the tiwanaku', 'the tiwanaku', 'danny trejo', '1 million miles', 'queen elizabeth ii', '25', '648,224', 'antarctica', 'antarctica', 'vince clarke', '1955', 'nat wolff', '1984', 'january 3, 2018', 'amitav ghosh', 'rivers', 'roxette', 'beggars banquet', 'becky albertalli', 'october 7, 2014', 'j.n. kaul', '33629', '33629', '33629', 'unilever', 'muhammad iqbal', 'to make peace', 'oakland', 'la la land', 'plants and animals', 'plants and animals', 'plants and animals', 'plants and animals', 'ed carpenter racing', 'christopher daniel barnes', 'july 18, 2000', '6 august', 'red blood cells', 'cheryl ruth hines', '2016', 'cherry mash', 'michael jackson', 'canton, mississippi', 'canton, mississippi', '14', 'category 3', 'geoff hurst', 'jimmy dickens', 'barbara rosenblat', 'the skull spider', 'dan mintz', 'wilt chamberlain', '19 -- 25 march 2018', 'september 3, 2018', '1996', 'blackwater', 'barry bonds', 'new england patriots', '8 august 2016', 'congress', 'robert recorde', 'peter cullen', 'new characters', 'john james', 'john james', 'john james', 'various growers nationwide', 'om prakash rawat', 'august 18', 'about 480', 'calverton national cemetery', 'parker posey', 'parker posey', 'parker posey', 'parker posey', 'parker posey', 'parker posey', 'parker posey', 'parker posey', 'dondre whitfield', 'shirley hemphill', 'chaka demus', 'australian nursing', 'the bee gees', 'tracy lawrence', 'saban entertainment', 'wooden topsail schooner', 'wooden topsail schooner', 'bobby darin', 'caroline blakiston', 'otto herbert schmitt', 'season 6', '2018 -- 19', 'michael rooker', 'ilaiyaraaja', 'genetics', 'bass', 'bass', 'bass', 'bass', 'bass', 'howard keel', 'howard keel', 'howard keel', 'howard keel', 'howard keel', 'howard keel', 'howard keel', 'howard keel', 'howard keel', 'howard keel', 'howard keel', 'alladi krishnaswamy iyer', 'timothy olyphant', '6 december 1922', 'shape of you', 'danny huston', 'william bailey', 'william bailey', 'sooraj barjatya', 'the sahara', 'frank silver', 'frank silver', 'thomas dolby', '1988', '1858', '2001', 'the ashanti', 'kenny rogers', 'the rowan', '1999', 'hannah baker', 'daryl christine hannah', 'the united states', 'danica mckellar', 'congress', 'montreal canadiens', '2016', 'who moved my cheese inc', 'hulk hogan', \"people's bank of china\", 'rodger penzabene', 'rodger penzabene', 'rodger penzabene', 'april 2006', 'the metalimnion', 'go west', 'shepperton studios', 'pink floyd', 'japan', 'buddy holly', 'buddy holly', '31', 'k. barry sharpless', '1973 -- 74', 'rory mccann', 'nottingham prison', 'ray allen', 'linda perry', 'approximately 36,900', 'rajasthan', 'congress', 'b.j. novak', 'the bolsheviks', 'kenneth branagh', 'june lockhart', '2000', 'west indies', 'december 1, 2016', '1949', '2008', 'epsilon', 'june 29, 2007', 'june 3, 2018', 'joshua astray', 'angela lansbury', '15th', 'june 7, 2018', 'john anthony aniston', 'flag of mexico', 'flag of mexico', 'flag of mexico', 'flag of mexico', 'flag of mexico', 'flag of mexico', 'paganini', 'altrucell', '1971', 'shira', 'will smith', 'will smith', 'will smith', 'will smith', 'will smith', 'will smith', 'will smith', 'will smith', 'will smith', 'fiscal year 2015', '15', 'nicholas flamel', 'atlanta hawks', '1998', 'crawley, west sussex', 'college station', 'anderson - emmons', '1798', '1851', '7 may 1908', '7 may 1908', 'kara deidra mccullough', 'may 15, 2015', 'hookah', 'abraham lincoln', 'bridgit mendler', 'novak djokovic', 'march 8, 2019', 'ambrogio lorenzetti', 'million dollar baby', 'jamestown', 'the hezel family', '128', 'landau eugene murphy', 'july 1, 1971', '1990', 'manushi chhillar', 'july 17, 2018', '78421', 'the security council', 'gulf of mexico', 'a true hydrogen bomb', 'reel big fish', 'silicon', 'carlos david valdes', 'miguel cabrera', 'spanish', 'spanish', 'spanish', 'spanish', 'spanish', 'm16a4', 'six or seven years old', '79', 'proximal convoluted tubule', 'desalination', 'the intermembrane space', 'about 10,000 years ago', 'prometheus', 'prometheus', 'season finale', 'lenore', 'joe rosenthal', 'joe rosenthal', 'joe rosenthal', 'joe rosenthal', 'joe rosenthal', 'joe rosenthal', 'dick grayson', 'hayden weaver', 'hayden weaver', 'london', 'elizabeth campbell', '2022', 'eight', '2017', 'sting', 'gerald anthony', 'serous membrane', 'film', 'david deluise', '14 december 1972', 'paul kanack', 'paul kanack', 'paul kanack', 'paul kanack', 'qin shi huang', 'two', 'barry manilow', 'yousef abdelky', 'east asia', 'the liver', 'miltos yerolemou', 'four', 'lal krishna advani', 'mark clayton', 'jo hemming', '2006', 'air force armament museum', '1968', 'elvis presley', '1930', 'james roday', 'august 1, 2009', 'japan', 'lazaro cardenas', 'justice a.k mathur', 'carmen', 'roger federer', 'central london', 'indiana, indiana', '1992', 'a match made by god', 'katey sagal', '26', '31 may 2009', 'metre', 'barry bonds', 'dylan sprouse', '2018', 'rift valley', 'march 1, 1781', 'james simpson', 'james simpson', 'india', 'inspired by the tale cupid and psyche', 'inspired by the tale cupid and psyche', 'joe miller', 'limestone from indiana', 'marie osmond', 'bravo', 'biblical hebrew', 'brian dunkleman', 'brian dunkleman', 'on - base plus slugging', 'alicia keys', 'tulum, mexico', 'the third season', 'jane taylor', '31 december 1993', 'foreign intelligence surveillance act', 'river of life', 'price skimming', 'rama viii bridge', 'real madrid', 'gavin degraw', 'george l. kelling', 'george l. kelling', 'donald leroy lafontaine', 'blue', 'william mckinley', 'hugh jackman', 'theodore roosevelt', 'armageddon', 'josé palma', 'josé palma', 'afterhyperpolarization', 'peter shilton', 'the twins', 'a patent office', 'rhode island', 'rhode island', 'rhode island', '2017', 'christy turlington', 'christy turlington', 'christy turlington', 'christy turlington', 'christy turlington', 'tim dunigan', 'tim dunigan', '2011 -- 2012', 'lake baikal', 'lake baikal', 'donal logue', 'waterloo international station', 'estrogen production', '120', 'may 2000', 'nate thurmond', 'nate thurmond', 'nate thurmond', 'nate thurmond', 'virginia', 'carole king', 'suspension', 'dustin hoffman', 'stephen mcgann', 'third day', '10base5', 'the ark', 'may 10, 2018', 'norman eshley', 'november 13, 2017', 'april 2, 2009', 'jared s. gilmore', '1871', 'wilt chamberlain', 'alexander watt', 'the pope', 'the pope', 'pamela baird', 'andy serkis', '1990', 'harvey korman', 'larynx', 'larynx', 'larynx', 'frank bryce', 'the minister of defence', 'vanessa redgrave', '27 june 1967', '1930', 'ben driebergen', 'sean mark bean', 'july 8, 2016', 'maureen wroblewitz', 'justin whalin', 'gene bryant', 'the milwaukee brewers', 'four', 'queen elizabeth i', 'david mahlobo', 'david mahlobo', '10', 'rowan', 'john marshall harlan ii', 'california', '1937', 'mens rea', 'frances quinn', '25 %', '1988', 'seven', 'august 6, 2018', 'pewdiepie', '13', '5 march 1862', 'channel 211', 'british india', 'annie golden', 'january 9, 1909', 'september 26, 1983', 'chicago bears', 'chicago bears', 'october 1, 1949', 'welcome to earth - 2', 'ian gillan', 'about 53,000', '2020', 'jeff bergman', 'rafael nadal', 'alan shearer', 'the early 20th century', 'red blood cell distribution width', 'bob dylan', 'charlie chaplin', 'charlie chaplin', 'china', \"ben & jerry's homemade holdings inc\", 'testes', 'toussaint louverture', 'william powell', '89,000', 'eliza patricia dushku', '1899', 'itzhak perlman', 'gaumond', 'april 11, 1953', 'the republican party', 'john joseph haley jr', '169', 'st andrews links', 'plan', '1881', 'james', '9 september 2011', 'east german balloon', 'meryl streep', 'audrey meadows', 'sailing', '18', 'anime', 'chadwick aaron boseman', 'beijing', 'treaty of versailles', 'istanbul, turkey', 'tavares', 'tavares', 'neville chamberlain', 'samuel alito', 'samuel alito', 'samuel alito', 'samuel alito', 'samuel alito', 'samuel alito', 'samuel alito', 'samuel alito', 'samuel alito', 'toronto, ontario', '21', '1965', 'english law', 'english law', 'world war ii', 'george abela', 'central china', 'bud collyer', 'nettie fowler', 'nettie fowler', 'justin', 'justin', 'miami hurricanes', 'april 4, 2014', 'the isle of gulls', 'the isle of gulls', 'k.a. sengottaiyan', 'kristen bell', '21', 'samantha barks', 'henges', 'green bay packers', 'wilt chamberlain', 'william edward white', 'klaus badelt', '91', '1987', 'bud', 'gregor mendel', 'peter anthony allen', 'peter anthony allen', 'thom bell', 'thom bell', '31 october 1973', 'the torah', 'the united kingdom', 'midnight green', 'midnight green', 'midnight green', 'midnight green', 'mary jane croft', 'marcia anne cross', 'december 1, 2017', 'james strom thurmond', 'balzaroth', '2001', 'amanda leighton', 'amanda leighton', 'the chambers brothers', 'atlanta, georgia', '1967', '1 : 1', 'four years', '1916', 'georgia state panthers', 'georgia state panthers', 'ethiopia', 'see - threepio', '1918', '13', 'isaac watts', 'reese witherspoon', 'nick wilde', '2012 -- 13', 'haridwar', 'west caribbean sea', 'elizabeth mitchell', 'the roundhouse', 'harper', '2000', 'mike bryan', 'mike bryan', 'roger federer', 'captain marvel', 'kaushal manda', '200 nautical miles', 'jeremy shada', 'in the windup', '13', 'alec baldwin', 'may 28, 2008', 'third place', '25 october 1951', 'may 25, 1977', 'may 11, 2018', 'june 6, 2000', 'williams jr.', 'belgrade, yugoslavia', 'john carpenter', 'isle of man', 'june 15, 2018', 'february 20, 2017', 'reckless indifference', 'reckless indifference', 'carter burwell', 'carter burwell', 'gig harbor, washington', 'the pilot episode', 'louisville cardinals', 'september 15, 2017', 'republican governor', 'herbert spencer', 'shortly after birth', 'jonathan sadowski', 'admiral sunil lanba', 'white', 'mihrab', 'june 15, 2017', 'sir barton', 'november 10, 2017', 'caffa in the crimea', 'caffa in the crimea', 'caffa in the crimea', '6', '1994', 'barbara mandrell', 'chapter book', 'jeremy irons', 'jeremy irons', 'jeremy irons', 'jeremy irons', 'jeremy irons', 'jeremy irons', 'jeremy irons', 'jeremy irons', 'lemi berhanu hayle', 'harold wayne bishop', 'harold wayne bishop', 'january 7, 2019', 'euclid', '2001', 'keala settle', '2017', 'may 15, 2006', 'downtown haverhill, massachusetts', 'tonsillitis', 'family feud', '2017', 'october 19, 1781', 'evariste galois', '8', 'belgium', 'belgium', 'belgium', 'belgium', 'belgium', 'belgium', 'ron desantis', '0.9 second', 'early 1950s', 'article i', '1967', 'saint jude', '314', 'new zealand', '2000', 'anand patwardhan', 'anand patwardhan', 'koine greek', '1936', 'the inner mitochondrial membrane', 'the inner mitochondrial membrane', '18', 'lily tomlin', 'gastrointestinal tract', 'gastrointestinal tract', 'gastrointestinal tract', 'gastrointestinal tract', 'paul nicholas', 'the senate', 'the senate', 'medal of the great leader', 'dustin johnson', 'uterine contraction', 'september 7, 2018', '2008', 'aconcagua', 'jawaharlal nehru', '+ 64', 'jessica cauffiel', 'jessica cauffiel', 'jessica cauffiel', 'jessica cauffiel', 'bay lake, florida', 'lorraine mcintosh', 'early 2018', 'united nations', 'object language', 'jonas salk', '1961', 'ebbsfleet united', 'roberts scott', 'ed gillespie', 'ed gillespie', 'sting', 'family farms', 'mark lowry', 'much less stable', 'abel', 'sonny rollins', 'october 30, 2015', 'march 1862', '1964', 'e.h. shepard', 'drought', 'september 27', 'season six', 'the fifteenth', 'parksville, british columbia', 'haploid spores', 'saint cajetan', 'three', '28', 'tywin', 'jane fonda', '13 august 2015', 'dispersal mechanism', 'dispersal mechanism', 'dispersal mechanism', 'dispersal mechanism', 'dispersal mechanism', 'dispersal mechanism', 'september 28, 2017', 'kathryn hays', 'lg prada', 'matt mattox', 'windows 10', '1903', 'cell division', 'the beatles', 'fade', '2016 -- 17', 'bilbao, spain', 'august 15, 2014', 'lady gaga', 'ted neeley', '8', 'october 1854', 'les twins', 'tom drake', '2015', 'gusau', 'washington capitals', 'love', 'ian lavender', 'closed shop', 'october 31, 2017', 'sam cooke', 'iselin solheim', 'aristarchus', '1987', 'isaac', 'daniel hall', 'daniel hall', 'university', \"the philosopher's stone\", 'rome', 'cairn terrier', 'demi - leigh nel - peters', 'miami heat', 'peter parker', 'colonel harland sanders', 'john paul scott', 'drake & josh', 'medieval architecture', 'medieval architecture', 'medieval architecture', 'medieval architecture', 'lee greenwood', 'lee greenwood', 'lee greenwood', 'lee greenwood', 'lee greenwood', 'lee greenwood', 'lee greenwood', 'lee greenwood', 'liam mcintyre', 'right to freedom', 'bob saget', 'june 11, 2012', 'may 28, 2018', 'the books of samuel', 'october 1, 1993', 'june 20, 2017', 'physical', '100', 'snowman', 'robert romanus', 'bing crosby', 'hannah dakota fanning', 'franklin d. roosevelt', 'audrey ii', 'the allies', 'the allies', 'the allies', 'the allies', 'the allies', 'the allies', 'the allies', 'the allies', 'the allies', 'detroit lions', '$10.7 billion', 'peter grosz', 'garbiñe muguruza', 'central city', 'liver', 'donald trump', 'mario', 'march 1, 2018', 'nelson mandela', 'august 12, 2018', 'elijah', 'over 5,200', 'james franco', '19', 'hugh hanley', 'mark lester', 'blue', 'internal energy', 'saint john of the cross', 'alexander hamilton', 'alexander hamilton', 'alexander hamilton', 'alexander hamilton', 'from overwork', 'march 27, 2018', 'miroslav klose', 'the twin cities area', 'bradley cooper', '1969', 'grizzly', 'deadshot', '150,697,361', 'gellman', 'veni, vidi, vici', '1986', 'augustus prew', 'the allies', 'darwin', 'february 18, 1996', 'gonadotropes', 'regis philbin', '2011', 'the manhattans', 'british india', 'farmers', 'bailey', 'rainbow', 'daniel ortega', '22 july 1963', 'june 21, 2017', 'immanuel kant', 'douche', 'united states', 'alexandra hetherington breckenridge', 'american media inc.', 'peter capaldi', 'patrick henry', 'pet shop boys', 'indian high courts act of 1861', 'idina menzel', '1629', 'polypeptide', 'multinational force in iraq', 'multinational force in iraq', 'eminem', 'margaret brainard hamilton', 'july 16, 2017', '21 march', '21 march', 'the distant future', 'afraid of commitment', 'keegan connor tracy', 'cynthia lynn', 'compound', 'tiya sircar', '6 june 1944', 'menander i', '40', '1978', 'james weldon johnson', 'six', 'bobby sherman', 'archie jordan', 'italia ricci', 'howie mandel', 'howie mandel', 'howie mandel', 'howie mandel', 'august 15, 2017', '1958', 'thon maker', 'september 20, 2013', 'lebron james', '20 percent', 'stevie wonder', 'the state legislature', \"hawai'i island\", 'texas', 'october 23, 2012', 'the nucleus', '2015', 'september 2008', 'usa for africa', 'usa for africa', 'usa for africa', 'usa for africa', 'usa for africa', 'usa for africa', 'usa for africa', 'usa for africa', 'usa for africa', 'usa for africa', 'usa for africa', 'usa for africa', 'usa for africa', 'usa for africa', 'usa for africa', 'usa for africa', 'usa for africa', 'usa for africa', 'usa for africa', 'usa for africa', 'usa for africa', 'nominal gdp', '£ 18 million', 'yorkshire', 'gametogenesis', 'andi peters', 'titanic', 'jason barickman', 'alan winstanley', 'lou johnson', 'lou johnson', 'the animals', 'anna faris', 'justin timberlake', 'the secretary of defense', 'green day', 'dennen', '8', 'kandi burruss', 'j balvin', 'j balvin', \"`` one dance ''\", 'march 2, 1965', 'the beatles', 'april 10, 1997', 'ucla', '2018', 'holliday grainger', 'james arthur', '3.8 million square miles', 'the sixth season', 'barry nelson', 'scott', 'thirteenth', 'sunil dutt', 'deniz akdeniz', 'sanjay dutt', 'sanjay dutt', 'forty - eight', '1967', 'electromagnetic radiation', 'chromosome abnormality', 'patrick denham', 'drake', 'toronto raptors', 'the fourth', 'bo diddley', 'bo diddley', 'bo diddley', '1,800', 'the observer', '2 - 4 family', 'gladys knight', '1911', '13', 'noel fielding', '1967', 'december 19, 1997', 'jonathan breck', 'charlie thomas', 'robin williams', 'best original score', '1994', 'russell westbrook', 'george washington', '1983', 'june 3, 1880', 'leopold ii', 'agricultural and mechanical', 'agricultural and mechanical', 'eli maiman', 'eli maiman', 'eli maiman', 'the stono rebellion', 'one last ride', 'serbia', 'serbia', 'serbia', 'serbia', 'serbia', 'serbia', 'the challenger deep', \"roderic jean brind'amour\", '7.38 days', 'billy paul', '1942', 'uma thurman', 'february 23, 2018', 'sydney', 'john hancock', 'the panamanian government', 'charlie murphy', '1778', 'mary ainsworth', 'urban intensification', '1939', 'seth green', 'the sacrificial dance', 'milk', 'milk', 'milk', 'milk', 'milk', 'milk', 'muscle', 'september 27, 2017', 'the friends of distinction', 'will arnett', 'raymond wallace bolger', 'tahr', '10', '1993', 'san diego, california', 'san diego, california', 'san diego, california', 'san diego, california', 'beta decay', 'blood', 'western province', 'simla', 'jesse shatkin', 'jesse shatkin', 'jesse shatkin', 'midnight green', 'brittany beattie', 'january 26, 2018', '2011 -- 12', 'over 550', 'ancient athens', 'ancient athens', 'ancient athens', '18', 'prison warden', 'kevin kline', 'drake', 'thomas jefferson', 'thomas jefferson', 'thomas jefferson', 'thomas jefferson', '1994', 'jack stephen burton', 'april 1, 2018', 'june 25, 2018', 'burundi', 'improving safety standards', 'improving safety standards', 'improving safety standards', 'improving safety standards', 'improving safety standards', 'improving safety standards', 'improving safety standards', '2018', 'lincoln financial field', 'pamela evette', 'alfred binet', 'latin phrase', 'rangers', 'august 1968', 'clemson tigers', \"dead man's chest\", 'orlando, florida', 'southern italy', 'john bradford', '72,000', 'great britain', 'david krumholtz', '198', 'opilio crab', 'opilio crab', '19', 'ivor novello', 'october 1984', 'john wesley shipp', 'january 28, 1986', 'mark wahlberg', 'mark wahlberg', 'mark wahlberg', 'mark wahlberg', 'mark wahlberg', 'mark wahlberg', 'franklin delano roosevelt', 'franklin delano roosevelt', '21 years', 'authentication mechanism', 'ten years', '2005', 'samson', 'fauvism', 'fauvism', '6,998 feet', 'march 24, 2017', 'mount of beatitudes', '1988', 'ravi shankar prasad', 'john a. macdonald', 'asia', 'asia', 'asia', 'asia', 'july 10, 1963', 'winston marshall', 'audra mcdonald', 'system overheating', 'despacito', 'the pia mater', 'mike schulz', 'october 28, 2018', 'between 1770 and 1848', '2018', 'alaska', 'alaska', 'peter crombie', '3 september 1967', '2,060 nautical miles', 'officer gilbert', 'atal bihari vajpayee', 'conservative', 'fruit', 'march 9, 2018', 'december 15, 2017', 'december 15, 2017', 'december 15, 2017', 'december 15, 2017', 'december 15, 2017', '23.1 points', 'churia hills', '2018', 'alan merrill of the arrows', 'karen lynn gorney', 'three', 'boston celtics', 'six', '29', 'sinn fein', 'hillary clinton', 'british east india company', 'dave bartholomew', '10', 'chicago', 'ramoji rao', '2015', '2018', 'the outsider', 'pluto', 'june 1917', 'paul newman', 'paul newman', 'paul newman', 'paul newman', 'paul newman', 'paul newman', 'june 17, 2016', 'michael crichton', 'michael crichton', 'michael crichton', '1995', 'june 27, 2018', 'dodger stadium', 'africa', 'africa', 'shatt al - arab', 'shatt al - arab', 'march 24, 2018', 'customers', 'death', 'may 5, 2017', 'june 4, 2018', 'lucy mitchell', '308.7 million', 'nares chandra sen - gupta', 'great britain', 'august', 'in the pines', 'physiological needs', '1973', 'ambient air', '1971', 'chandra danette wilson', '26 june 1997', 'frank gasparro', 'frank gasparro', 'mangonel', '3 january 2000', '1993', 'south america', 'south america', 'south america', 'south america', 'mexico', 'mexico', 'elizabeth taylor', '1962', 'columbia university', '2001', 'queen mary 2', 'thallus', 'semiopen', 'convenience stores', 'bryan dattilo', 'season 12', 'morocco', 'morocco', 'morocco', '1984', 'desilu studios', 'demi lovato', 'the mandible', '2008', '1996', 'david farragut', 'myron maclain', '2017 -- 18', '10', 'dan forden', 'german', 'zoe saldana', 'clay', 'ruth ellis', 'looking glass', 'massachusetts', 'massachusetts', 'kenny rogers', 'kenny rogers', 'nik kershaw', 'july 26, 1951', 'italy', 'new york city', 'russia', 'the mummy', 'stephan jenkins', '1816', 'hmhs britannic', 'sundance head', '22', 'judy garland', 'southern italy', 'james bolam', 'ehrenreich', 'snowball', 'richard e. grant', '10', 'the modern english alphabet', 'the epistle to the galatians', '1946', 'laura haddock', 'donald trump', 'leif enger', 'the mirror universe', 'garbage collection', 'o - 3', 'o - 3', 'o - 3', 'o - 3', 'o - 3', 'o - 3', 'o - 3', 'nashville, tennessee', 'christopher plummer', 'april 1950', 'terry crews', 'age 18 or 19', 'rex harrison', 'rex harrison', 'gangwon province', 'john krasinski', 'basel, switzerland', 'theodore roosevelt', 'john amos', 'juhi chawla', 'juhi chawla', 'juhi chawla', 'juhi chawla', 'june 12, 2015', 'mccarthy power plant', 'david lloyd george', 'david lloyd george', 'jeremy irons', '1965', '1970', 'qatar', 'george lucas', 'miles coverdale', 'the famine', 'estimated 364', 'scotland', 'october 1976', 'donald trump', 'sen. bukola saraki', 'march 23, 2010', '597 and 582', '28 may 585 bc', '1869', 'jayalalithaa', 'natalie wood', 'natalie wood', 'natalie wood', 'natalie wood', 'meiosis', '1450', '15 january 2012', 'objectives', 'objectives', 'objectives', 'dusty', '24th', 'akkadian', 'henri tajfel', 'brazil', 'o h - ailin', '1868', 'kendrick lamar', 'kendrick lamar', 'kendrick lamar', 'kendrick lamar', 'kendrick lamar', '2019', 'during world war ii', 'ucla', 'jane hirt', 'september 1983', 'brad rutter', 'fourth place', 'four in nine minutes', '10 december 1948', '8', '1977', 'the concho valley', 'thoracic vertebral column', 'thoracic vertebral column', 'wonga philip harris', 'santino fontana', 'collaborative learning', 'raja todar mal', 'marcellus', 'marcellus', 'david janssen', 'london', 'alan shearer', 'season five', 'tom scholz', 'coconut water', 'maureen denise mccormick', 'kai - shek', 'june 1, 2005', '2018', 'october 23, 2015', '2002', 'the kananaskis', 'great salt lake', 'pauley perrette', '1942', 'wayne cochran', 'endothelial cells', 'ulcerative colitis', 'sunil chhetri', 'sunil chhetri', 'sunil chhetri', 'sunil chhetri', 'juanita hall', 'tru', 'narmer', 'mnemonic devices', 'oxygen', '16', 'sloane stephens', 'pre-dating the archean', 'gisele yashar', 'july 30, 2017', 'november 5, 2014', '35', 'alcatraz island', 'sayama, japan', '19 april 1984', 'the tasman sea', 'russ ballard', 'jerry brown', 'camp crystal lake', 'last day on earth', 'thursday', '326', 'france', 'france', 'tyler florence', 'papua new guinea', 'papua new guinea', 'papua new guinea', 'papua new guinea', '20 january 2017', 'september 10, 1990', 'josh gad', 'amanda travis', 'the marshall plan', 'venezuela', 'jonathan', 'continuation of slavery', 'robert alda', 'bob saget', 'paul potts', '1730', 'june 18, 1971', '3', 'gus kahn', '10 may 1871', 'colorado', 'oh so sharp', 'wisconsin', 'seth macfarlane', 'the president', 'bills for raising revenue', '1980', 'magnetos', '17 june 2018', 'aretha franklin', 'football', 'david ruffin', 'october 11', 'greg edwards', 'jio tv', 'jio tv', 'jio tv', 'rocky', 'teresa palmer', 'sam bradford', 'the trailers', '$59,039', 'sam hunt', 'sam hunt', 'sam hunt', 'traylor howard', 'traylor howard', 'traylor howard', 'traylor howard', 'traylor howard', 'traylor howard', 'traylor howard', 'traylor howard', 'traylor howard', '2 october 2000', 'jack dee', 'oona chaplin', '1942', '115', '12 december 1911', 'ionic bonds', 'september 20, 2016', 'australia', 'arche', 'frequent walking', 'frequent walking', 'frequent walking', 'the anus', 'little mix', 'the hundred acre wood', 'early november', '5', 'amanda walsh', 'amanda walsh', 'amanda walsh', 'amanda walsh', 'amanda walsh', 'althea gibson', 'january 3, 1959', 'schadenfreude', 'prime minister', 'sam elliott', 'lord irwin', '2018', 'all people', 'temuera morrison', 'the sun', '6', 'march 8, 2018', 'southampton', 'labia minora', 'house of representatives', 'joshua', 'edwin v. sumner', 'lauren katz', 'university of michigan', 'anne mcclain', '1967', 'manhunter', '$11.50 per hour', '2017', 'montgomery, alabama', 'july 21, 2018', \"colin arthur o'donoghue\", 'july 2016', 'suspicious minds', 'suspicious minds', 'suspicious minds', 'suspicious minds', 'a legislature', 'german shepherd', 'california', 'california', '1996', 'lillehammer', 'syed anwar', 'south bay', 'emperor george v', 'polar climates', '1980 - 81 season', 'tree', 'cincinnati', 'march 12, 2017', 'the fourth season', 'the hip', 'exodus 21', 'exodus 21', 'exodus 21', '1818', '1930s', 'june 1, 2008', 'june 1, 2008', 'june 1, 2008', 'arthropod', 'ewan mcgregor', 'moscow', 'moscow', 'moscow', 'moscow', 'moscow', 'moscow', 'don davis', 'don davis', 'area code 909', 'sami gayle', 'donner', 'sam smith', 'alain calmat', 'haiku', 'the yankees', 'varnish', 'march 29, 2018', 'over 57 million', '1971', 'tribal autonomy', 'tribal autonomy', 'tribal autonomy', 'simon marius', 'endometrial cancer', 'the first season', 'africa', 'africa', 'africa', 'africa', 'africa', 'africa', 'africa', 'the new york yankees', 'jpmorgan chase', 'october 20, 2017', 'chemical bonding', 'june 22, 2012', '17 october 1920', 'november 2', 'november 2', 'november 2', '2017 -- 18', 'pierpont morgan', 'martin sheen', 'kepner', 'linda ronstadt', '5', 'june 23, 2017', 'dustin hoffman', '2015', 'about 40 weeks', 'september 1, 2008', '18,426', 'robin lee', '1993', 'the stage manager', 'visa not required', 'the summer of 1992', '2018', 'same old lang syne', '22', '1997', 'the north american plate', 'between 367,985 and 560,000', 'confederate', '8', 'male anatomy', 'bill burr', '#', '33,86 battle deaths', '33,86 battle deaths', 'flint lockwood', 'flint lockwood', 'flint lockwood', 'lauren taft', 'alan shearer', 'alan shearer', 'alan shearer', 'alan shearer', 'alan shearer', 'alan shearer', 'alan shearer', 'alan shearer', 'alan shearer', 'alan shearer', '1981', 'jerry chesnut', 'sher shah suri', 'meat loaf', 'meat loaf', 'meat loaf', '2014', 'herb kohl of wisconsin', 'satellite imaging companies', 'satellite imaging companies', '2008', '1945', '2016', 'october 21, 2015', 'us $3.0 billion', 'united states', 'june 20, 2006', '36', 'twins', 'west indies', 'danielle deadwyler', 'etta james', 'etta james', 'republicans', 'april 22', 'april 22', '1917', 'type i', 'october 16, 2017', 'hatshepsut', '1 april 1957', 'becki newton', 'chicago', 'adnan khashoggi', 'over 460', 'sara erikson', 'august 15, 2018', 'germany', '2018', 'august 16, 1999', 'raven baxter', 'march 19, 1918', 'luzhniki stadium', 'frank e', 'frank e', 'brian wilson', 'brian wilson', 'supplemental nutrition assistance program', '1966', 'tom hanks', '20 september 1993', '16', 'candle in the wind', 'sam groth', '2014', '1998', 'seven to ten days', 'trade winds', 'private', 'call of duty', 'september 2013', '108', 'niels bohr', 'niels bohr', 'peace', 'the winter months', '1994', 'amitav ghosh', 'thurl ravenscroft', '1995', 'denver, colorado', '245', 'abraj al bait', 'abraj al bait', 'abraj al bait', 'abraj al bait', 'abraj al bait', 'abraj al bait', 'abraj al bait', 'abraj al bait', 'abraj al bait', 'josh london', 'elephant', 'elephant', 'elephant', 'elephant', 'elephant', 'elephant', 'elephant', 'johnny nash', 'mike wheeler', 'new york yankees', 'france', 'cape cod', 'bill fagerbakke', 'painful swallowing', 'painful swallowing', 'march 28, 2017', 'summer term', 'july 15, 2017', 'yes / no', 'ambedkar', 'juliet mills', '1948', 'johnny macrae', 'johnny macrae', 'dave hope', 'dave hope', 'dave hope', 'dave hope', 'dave hope', 'dave hope', 'dave hope', 'damon', 'state law', '1989', '1871', 'piper laurie', 'brown belt', '33', 'october 28, 1886', 'leigh mccloskey', 'bernie sanders', 'parallel', 'parallel', 'parallel', 'parallel', '9', 'jawaharlal nehru', 'april 9, 2018', '17 february 1864', '17 february 1864', '2017', '975 and 1025', 'dan stevens', '142 pm', '16 august 1961', 'donald trump', 'jeff corey', 'jonna lee', 'george foreman', 'may 6, 2016', 'snowman', 'snowman', 'fernando torres', 'don felder', 'don felder', '1834', '1946', 'donovan', '2006', 'dan fogelman', 'dan fogelman', 'alex medina', 'the prime minister', '2017 -- 18', 'april 10, 1959', 'paul bettany', 'paul bettany', 'paul bettany', 'paul bettany', 'paul bettany', 'paul bettany', 'a property owner', 'wanda ventham', 'gemma merino', '27.3 days', '27.3 days', 'may 5, 1992', 'alejandro valverde', 'decision making', 'november 7, 2007', 'jessie j', 'dwayne johnson', 'march 12, 2017', 'daughter of the demon', 'the avengers', 'war', 'joe cocker', 'october 2017', '37,820', 'vince gill', 'bryant', '1966', 'january 27, 2018', '2018', 'matt lowe', '1978', '12.0. 1', '13', 'venus', 'venus', 'venus', 'venus', 'venus', 'venus', 'venus', '1944', 'riverdale high school', 'hatshepsut', 'andy murray', 'mid-1960s', 'john rawls', '2006', 'lori mckenna', 'laura dunn', 'laura dunn', 'laura dunn', 'laura dunn', 'post-impressionist', 'edwin jackson', '31 may 1910', 'synapsids', 'synapsids', 'bronchiectasis', 'approximately 80 minutes', 'howard ashman', 'overtakers', 'iata : sdf', 'estimated 2.3 million', 'may 10, 2017', 'david frank adjaye', 'david frank adjaye', 'david frank adjaye', 'pablo picasso', 'january 21, 2016', 'wakanda', 'wedge - tailed eagle', 'michael beldoch', 'stills and nash', 'the red skull', 'arjuna', 'arjuna', 'arjuna', 'arjuna', 'satya pal malik', 'new york', 'new york', 'kwame raoul', 'kwame raoul', 'kwame raoul', 'leslie wilson', 'tevye', 'david frizzell', '14th - century europe', 'peter davison', 'retrograde rotation', 'madhubala', 'ronald wilson reagan', 'model rachel hunter', 'james madison', '1933', 'albrecht durer', 'florida georgia line', 'a theme park', 'joseph fiennes', '18', 'every first monday of december', \"paige o'hara\", 'palindrome', 'south africa', '190,884', '21 june', 'flag of saint david', 'october 28, 1886', 'mace coronel', 'gunslinger', 'carl', '1789', 'the dark prophecy', 'bryan dattilo', '22', 'alleviate financial crises', 'king james version', '2008', 'krysten ritter', 'september 6, 2018', 'oracle of delphi', 'luxury', 'pinewood studios', '25 - yard line', 'january 26, 2003', 'last forever', 'margot', 'margot', 'margot', 'margot', 'margot', 'margot', 'battle of berlin', 'battle of berlin', 'the union', 'the miracles', 'ringo starr', 'ringo starr', 'the new colossus', 'janson', 'janson', 'janson', '1910', 'john lyly', 'a custom telescoping trailer', 'boston', '5', '527,479', 'vice president', '10', '$125 million', 'keira knightley', '12th century', '1956', 'roger federer', 'tom cavanagh', 'mississippi', 'pyeongchang county, south korea', 'glenn frey', '386', 'stephen curry', 'josef bican', 'royal cheese', 'january 19, 2018', 'lord of wisdom', 'lord of wisdom', '2018', '1441 km', 'gregory peck', 'nancy birtwhistle', 'nelsan ellis', '18 years old', 'kisan kanya', 'during the 1990s', 'darwinian thinking', 'the buffalo bills', '1954', 'sumitra mahajan', 'revel entertainment group', 'shai', 'philadelphia', '1987', '1994', 'alex rodriguez', '656 -- 1258', 'charles wesley', 'william jack poulter', 'real madrid', 'little creek', 'march to october', 'march to october', 'david grohl', 'david grohl', 'epidermis', 'bob griese', 'bob griese', '30 minutes', 'june 22, 2018', 'kathleen wilhoite', 'april 3, 2018', 'eugene pallette', 'revel entertainment group', 'fibrous joints', 'patrol torpedo boat', 'order of phoenix', 'laurie', 'air commodore', 'epididymis', '1976', 'the newton', '18', 'the general conference', 'impact', 'juan manuel santos', 'soviet union', 'soviet union', '1869', '1954', 'dennis edwards', 'filter paper', 'filter paper', 'filter paper', '1790', 'october 6, 2017', 'over $1 billion', '1991', 'mons', 'the beatles', '13', 'cubata', 'diane warren', 'may 11, 1858', 'greg reeves', '100 minutes', 'roger whittaker', '2001', '18', '2018', 'salaam remi', 'salaam remi', 'salaam remi', 'salaam remi', 'stomach', 'tigress', 'the townshend acts', 'alcohol', '6 pm', 'gaelic surname o ceilechair', '1993', 'chicago transit authority', '13', 'august 13, 1973', 'atal bihari vajpayee', 'atal bihari vajpayee', 'atal bihari vajpayee', 'bruce fisher', 'bruce fisher', 'satya pal malik', 'ucla', 'hydroxide', 'paul ryan', 'peter claver cullen', '1989', '2011 -- 12', 'j. michael finley', 'j. michael finley', 'nhlanhla nene', 'united states', 'simon cowell', 'simon cowell', 'simon cowell', 'simon cowell', 'david w. pravica', 'john millington synge', 'toby', 'between 200 and 400 billion', '1984', '1984', '1984', '1984', '223.20 points', '1', 'australia', '12', 'spain', '10 july 1212', 'feld entertainment', 'arsenal', 'act of the scots parliament', '1733', '1988', '1988', 'may 22, 2007', 'new york yankees', '8', 'english idiom', '1534', 'steve martin', '2008', 'fakhar zaman', 'aurangzeb', 'george gershwin', 'george gershwin', 'steve jobs', 'about 480 million years ago', 'james harden', 'india', 'opioid use disorder', 'august 1987', '1920 to 1933', '2001', 'caribbean sea', 'drought', 'joyjit banerjee', 'march 6, 1836', '2016', '1914', 'alain boublil', 'iran', '2015', 'bob goodlatte', 'benjamin franklin', 'benjamin franklin', 'benjamin franklin', 'benjamin franklin', 'benjamin franklin', 'benjamin franklin', 'benjamin franklin', 'alan menken', '2018', 'general schedule', 'february 2003', 'kylian mbappe', 'john locke', '229', 'colin gibson', \"the b52's\", 'nationals park', 'pain perdu', 'joint resolution', 'jonathan freeman', '361,088,090', 'the broca area', 'lorenzo music', 'lorenzo music', 'lorenzo music', 'lorenzo music', '1787', 'stucco', 'norman mark reedus', 'fifty', 'saharan air layer', '1993', 'december 29, 2009', 'julius maada bio', '18', 'oxfordshire', 'oxfordshire', 'oxfordshire', 'oxfordshire', 'oxfordshire', '10', 'the executive residence', '1997', 'muscle wasting', 'justice h.l. dattu', 'cleveland browns', \"coulomb's law\", 'wilfred bion', '30', 'real madrid', '1993', '2020', 'houston astros', 'nehemiah', '1930 -- 1931', \"auli'i cravalho\", 'a wild boar', 'mahatma gandhi', 'elizabeth juliene mikel', 'china', 'alice nelson', '448', 'deteriorating track conditions', 'claudia', 'april 2017', 'clattering', 'clattering', 'ashraf el - shihy', 'nettie fowler', 'naomi osaka', 'after season 10', 'theodore roosevelt', 'to be the sole provider of power', 'four', 'the people of france', 'rod stewart', 'rod stewart', 'rod stewart', 'rod stewart', 'seth walker band', 'seth walker band', 'seth walker band', 'seth walker band', 'seth walker band', 'retcon', 'calvin coolidge', '2001', '1994', 'john fogerty', 'john fogerty', 'john fogerty', 'the capris', 'may 29, 2018', 'the havana conference', 'little mix', '1993', 'phoebe koyabe', 'the end of time', 'bangalore, india', 'dublin', 'the pittsburgh steelers', 'ramin karimloo', 'eric s. stuart', 'paul mccartney', 'season 12', 'marjorie reynolds', 'early november', 'agnes odhiambo', 'vice president', '11 december 1941', 'alexander hamilton', 'reduced instruction set computer', 'bruce springsteen', 'phyllis', 'james madison', 'sir robert menzies', 'exodus 6 : 3', 'citi field', 'september 1992', 'sam murray', 'congress', 'jillian bell', 'the united states', 'eddie', '6', 'sara paxton', 'republican', 'jimmy matthews', 'tom brady', '2018', 'satire', 'satire', '18', 'reddington', 'don louis agrati', 'june 1, 2009', 'february 20, 2017', 'october 4, 2018', 'horatio spafford', 'horatio spafford', 'woody perennial', 'adam hughes putnam', 'emmitt smith', 'blake shelton', 'october 28, 1886', 'the lion king', 'the lion king', '2002', 'alan shearer', 'n. biren singh', 'tom hanks', 'tom hanks', '17 june 2018', '8', 'rodgers and hammerstein', 'rodgers and hammerstein', 'eastern china', 'frances marion', 'cillian murphy', '15 september 2017', 'drew brees', 'marit bjørgen', 'emma caulfield', 'an alliance', 'western coast of africa', 'channel 611', '106,143 public employees', '18 may 1974', '1986', 'los angeles lakers', 'pine', 'march 1, 2018', 'december 17, 1989', 'hank locklin', 'president madison', 'rail cars', 'rail cars', 'rail cars', 'rail cars', 'wilkerson', '13.0. 1601', '9 september 2016', 'john logie baird', 'john logie baird', '1964', 'chandler massey', 'texas', 'nathalie kelley', 'fremont, california', 'shepperton studios', 'april 3, 2015', 'bob may', 'daniel mckeague', 'ellie goulding', 'large bones', 'new england patriots', 'new england patriots', '12', 'lorraine', 'judith ellen light', 'pasek', 'pasek', '28 days', 'bayern munich', 'bayern munich', 'bayern munich', 'bayern munich', 'solar noon', 'english', 'christine kangaloo', 'alison mulvaney', 'alison mulvaney', 'the hassles', 'data storage', 'data storage', 'data storage', 'problems with swallowing', '1919', 'october 9, 2018', 'jharkhand, india', 'aloe blacc', 'aloe blacc', 'aloe blacc', 'professional competence', 'professional competence', 'a.r. rahman', 'deep roy', '8', 'new delhi', 'new delhi', 'new delhi', 'july 14, 2017', \"joseph `` joe '' brooks\", 'mayor burnside', 'lord macduff', 'gaspard', 'supercharger', 'sandals', 'sandals', 'december 22, 2017', 'hong kong', 'balabac chevrotain', 'provincial assemblies', 'mohamed salah', '1989', 'selena gomez', 'steve bartman', 'annabelle', 'annabelle', 'colossus of rhodes', 'horatio spafford', 'chris', '10', 'miklo', 'reginald koala', 'august 1, 2014', 'houston', 'specialized form of street map', 'joseph haydn', 'mycota', 'francis capra', 'ed gillespie', 'ed gillespie', 'ed gillespie', 'the millennium prayer', 'yuvraj singh', 'world war ii', 'wayne newton', '79', 'pleurisy', '22 october 1764', 'justin timberlake', 'justin timberlake', 'justin timberlake', 'scarlett johansson', 'miley stewart', 'marco island, florida', 'marco island, florida', '2018', 'grand theft auto', '2011', 'orrin hatch', 'new england patriots', 'aaron mccargo', 'july 26, 2015', 'the heavy', 'bolivia', 'lea thompson', 'hemant brijwasi', 'gina philips', 'talion', 'madison', 'voltaire', 'taylor swift', 'jacques anquetil', 'jacques anquetil', 'jacques anquetil', 'jacques anquetil', 'sarabi', '18', 'david lee murphy', 'david lee murphy', 'stalagmites', '6 april 1965', '380 ad', 'brett lee', 'sterling holloway', 'pilot corporation', 'british regency period', 'lote tuqiri', '1842', 'kansas city', 'kansas city', '1974', 'the police', 'nfc', 'embryo', 'april 2013', 'ram nath kovind', 'homer', '20', '15 october 2018', '31st century', 'september 5, 2007', 'tina mcintyre', 'the auditor', 'shin lim', '1962', '2012', 'andy murray', '1830', 'huldrych zwingli', 'cbs', '2018', 'pak pong - ju', 'august 25, 2017', 'uttar pradesh', 'arsène wenger', 'december 1941', 'an angle', 'an angle', 'jessica simpson', 'september 28, 2017', 'article 16 ( 3 )', 'near springfield, missouri', 'section 51', 'acid', 'chest', 'chest', 'chest', 'chest', 'chest', '1960', 'cesare lombroso', 'jonathan harrington', '2018', 'harper lee', 'november 1939', 'august 14, 2018', 'march 19, 1918', 'michel berger', '2006', 'kislev', '13', 'sanitization', 'sanitization', 'sanitization', '2005', 'outkast', '13', 'susan loesser', '39', '39', '2008', 'bill russell', 'december 3, 2009', 'inglewood', 'baudelaire', 'matt vogel', '2018', '195', 'certified public accountant', 'kris allen', 'sterling sandmann knight', 'the british crown', 'france', 'ralph waldo emerson', 'september 14, 2002', 'national museum of the bargello', 'blue magic', 'greek antiquity', '1787', 'frederick douglass', 'michael dulaney', 'sian phillips', 'december 28, 2016', '1897', '1897', '10 years', 'jeremy hunt', 'c. 1000 bce', 'kevin sussman', 'agricultural sector', 'caity lotz', 'mike farrell', 'gold coast hockey centre', 'burj khalifa', 'thaao penghlis', 'thaao penghlis', 'thaao penghlis', 'thaao penghlis', 'thaao penghlis', 'gokujou seitokai', '13', 'march 1, 1781', 'argentina', 'argentina', 'argentina', 'argentina', 'argentina', 'maine', 'don henley', 'don henley', 'don henley', 'tracy lawrence', 'bob seger', 'bob seger', 'alan shearer', 'alan shearer', 'dwight', '113th minute', '1930', 'the series finale', 'paris, france', 'buffalo springfield', 'selena gomez', '8', 'jonah marais', 'jonah marais', 'jonah marais', 'jonah marais', 'jonah marais', 'doug jones', 'dakota fanning', 'drew brees', 'document management software', 'day - lewis', '2017', 'accelerants', '10', 'nine elms', 'jenna fischer', 'fictitious snow hill school', 'selena gomez', 'april 23, 2007', 'rubeus hagrid', 'flash', 'cabazon', 'september 15 to october 15', '2004', 'drake', 'adam west', 'rural valley, pennsylvania', 'torrance coombs', 'oakland raiders', 'marty robbins', '27', 'august 28, 2018', 'nigeria', 'april 15, 2017', 'producers', 'sadi carnot', 'john stafford smith', '1893', 'nicky jam', 'nicky jam', 'nicky jam', 'nicky jam', 'jon huertas', 'justin gatlin', 'united kingdom', 'united kingdom', 'united kingdom', 'united kingdom', '62', 'cesar romero', 'alexander hamilton', '1590 and 1592', 'over 170', 'february 1, 2017', 'a troubling boyfriend', 'william shakespeare', 'ben vereen', 'eight', 'at the hoist side', 'sam bowie', 'sam bowie', 'yip harburg', 'october 30, 2017', '1903', 'retrograde rotation', 'laotian', 'genevieve goings', 'pikachu', 'october 1982', 'april 23, 2018', 'ray belton', 'the season premiere', 'the united states', '12', 'keith rowley', 'siberia', 'norman gimbel', 'denis yost', 'may 18, 1980', 'dangal', '2015', 'christopher judge', 'brooke logan', 'mrna', '1967', '2006', 'manchester united', 'manchester united', 'manchester united', 'manchester united', 'manchester united', 'richard cordray', 'the pittsburgh steelers', '26 august 1989', 'aubrey woods', 'ed bruce', 'ed bruce', \"king's college\", '156', 'cassius marcellus coolidge', 'september 2008', 'joule', 'christa miller', 'sachin tendulkar', 'keturah', 'gizzard', 'gizzard', 'ted cruz', 'ted cruz', 'ted cruz', 'ted cruz', 'ted cruz', 'ted cruz', 'ted cruz', 'eastward', 'six', 'lion', 'between $10,000 and $30,000', 'the seventeenth amendment', 'hollywood property investments', '2015 -- 16', 'early 1964', '2020', 'jessica sanchez', '1990', 'chicago', 'chicago', 'panama', 'incorrectly placing a marked ball on the 17th green', 'incorrectly placing a marked ball on the 17th green', 'richard nixon', 'cutbank', 'jyoti basu', 'stephen curry', 'june 14, 1954', 'rajiv gandhi', 'william shakespeare', '1802', 'joseph stalin', 'facilitator', 'facilitator', 'facilitator', 'facilitator', 'facilitator', 'eight', '3', 'eastern turkey', 'mary j. blige', 'mary j. blige', 'mary j. blige', 'polar bear', 'being faithful', 'william robinson', '1931', 'bill pullman', 'second', 'physiological needs', 'physiological needs', 'physiological needs', 'physiological needs', 'quarterdeck', 'burj khalifa', '$5 billion', '6', 'shiva', 'rockmond dunbar', '35', 'prior to 400 ce', 'june 22, 2018', 'colonel bogey', 'about 40 million', 'new brunswick', 'new brunswick', 'new brunswick', 'new brunswick', 'new brunswick', 'new brunswick', 'the femur', 'violet constance jessop', 'international affairs', 'international affairs', '12 december 1991', 'the small intestine', 'may 22, 2017', 'sarah hope summers', 'sleepy midwestern town', 'u.s. bank stadium', 'benjamin linus', 'amy winehouse', 'december 16, 2016', 'adrianne curry', 'darjeeling', 'hacking through bone', 'hacking through bone', '2559', 'björn borg', 'douglas donald davidson', '15', '2050', 'carlton', 'willie nelson', '2017', 'the final season', 'sister sledge', 'quaternary', 'may 26, 2017', 'the fields medal', 'dick james', 'the loin', '2018', '25', 'ed gillespie', 'ed gillespie', 'september 20, 2016', '2018', 'prasoon joshi', 'doctor of medicine', 'fourth', '1970', 'mass divided by volume', 'kittur chennamma', 'jay baruchel', 'honolulu, hawaii', 'honolulu, hawaii', 'idaho', 'starboard', 'april 18, 2018', 'august 1999', 'jason elam', 'wardell edwin bond', '1910 and 1912', '1910 and 1912', 'the beatles', '200', 'july 8, 2018', 'dalveer bhandari', 'charlie hunnam', 'the prince of tides', 'u2', 'mary martin', 'mary martin', '2000', 'france', 'hand axe', 'west indies', '611', 'september 8, 2015', '5 billion years', 'dorothy fields', 'dorothy fields', '11', '2018', 'develops', '1988', 'gospel music', 'babyface', 'the city of irvine', 'october 9, 2015', 'october 9, 2015', 'whitby hertford', 'france', 'independence hall', '1906', 'jim stafford', 'jim stafford', 'jim stafford', 'ration card', 'detroit', 'september 10, 2018', '1923', 'agricultural centers', 'eva larue', 'september 6, 2018', 'chris jasper', 'hagrid', 'rihanna', '5', '− 273.15 ° c', 'john williams', 'technical sergeant', '8', 'squirtle', '1978', 'fly', 'basal cells', 'jason donovan', 'lady gaga', '1869', 'chris clark', 'the confederates', 'kristin scott thomas', 'elizabeth leefolt', 'natalie cole', 'july 4, 1966', '121', \"paige o'hara\", '23', 'tampa bay devil rays', 'tampa bay devil rays', '18', 'at&t stadium', 'november 12, 1971', 'job production', 'houston astros', 'july 1, 1971', 'fictional aphrodisiac', '1989', 'next to each other', '8', 'endolithic', '6 ft', 'worthington valley, maryland', 'malina weissman', 'daniel radcliffe', 'the president of the island', 'the president of the island', 'the president of the island', 'jon woods', 'thermal convection', 'thermal convection', 'thermal convection', 'oxygen', 'oxygen', 'the beatles', 'december 22, 2017', 'donny osmond', '97,618', 'rabbit', 'august 1, 1916', 'tina marie majorino', 'april 1917', 'january 20, 2018', 'the td garden', 'jennifer garner', 'atlanta falcons', 'atlanta falcons', 'atlanta falcons', '26 april 1999', 'jock girl', 'emperor hirohito', '20', '1 may 1995', '1990', '191 to 225 ad', 'michael jackson', 'kevin costner', 'paul davis', 'paul davis', 'september 2016', 'the 19th century', 'preovulatory stage', 'prasoon joshi', 'sir edward elgar', 'hercules', 'veto power over council votes', 'night of the hurricane', 'traditional nursery rhyme', 'march 20, 1925', 'fictitious snow hill school', 'ray smith', 'italy', 'italy', 'italy', 'italy', 'k2', 'the monroe doctrine', 'catherine', 'toby', 'travis scott', 'sir simon', 'katsopolis', 'evan frankfort', 'c. 521 bce', 'one - quarter', 'times square', 'utopia, texas', 'utopia, texas', 'vanderbilt university', 'the second season', 'july 14, 2004', 'alternating current', 'alternating current', 'duke', 'fred lynn', '15 august 1945', 'buffalo springfield', 'mike slattery', 'denver broncos', 'denver broncos', 'denver broncos', 'cleveland cavaliers', 'cleveland cavaliers', 'financial', 'financial', 'financial', 'financial', 'quiksilver', '1962', 'south carolina', 'south carolina', '1981', 'le đuc tho', '1863', 'kurtwood smith', '13 february', 'michael kelly', '1992', '220,225 inhabitants', 'about 3 %', '3', 'robert frost', 'mark - paul gosselaar', '2018', 'charles dickens', 'pittsburgh', 'pittsburgh', 'pittsburgh', 'patriots', 'washington', 'minnie driver', 'elias janssen', 'angle of attack', 'mid-fifth to early seventh centuries', 'shelley duvall', 'the hollies', '1984', 'lyndon b. johnson', 'two', 'april 1, 2007', 'jannat', 'the panama canal was opened', 'high - end', 'maddikayala omkar', 'max weber', 'varies with location', 'varies with location', '1911', 'chris gayle', 'selena gomez', 'tatyana marisol ali', 'freedom of speech', 'freedom of speech', 'freedom of speech', 'freedom of speech', 'jeffrey tambor', 'vitamin b6', 'vitamin b6', 'vitamin b6', 'jawaharlal nehru', '1966', 'tokio myers', '1992', 'june 22, 2018', 'lori alan', 'liberty island', 'liberty island', 'the chicago bears', 'margaret brainard hamilton', 'soul food tradition', 'soul food tradition', 'october 13, 2017', 'ranjit singh', 'emma lazarus', 'constance wu', 'hans zimmer', 'hans zimmer', 'callimachus of cyrene', '2017', 'seventh', 'divine grace', 'divine grace', 'divine grace', 'divine grace', 'divine grace', 'divine grace', 'on fridays', '1962', 'march 2016', 'george herbert mead', 'james barton', 'neil gorsuch', 'mason vale cotton', 'mostly calm', '5', 'the kingston trio', 'paul newman', 'eros', 'eros', 'eros', 'eros', '18 years', 'mexico city', '1979', 'miami dolphins', 'miami dolphins', 'miami dolphins', 'daniel boone', 'taylor swift', 'ligature', 'ezio pinza', '24,733', 'serbia', 'the axis', 'new england patriots', 'new england patriots', 'two', 'laos', 'laos', 'laos', 'perry', 'hematocrit', 'ferris wheel', '10', 'jersey boys', 'non-hodgkin lymphoma', '1875', 'kevin pickford', '1803', '1803', 'de la hoya', 'joe burke', 'joe burke', 'socrates', '1983', '29', 'dog', 'liam payne', 'liam payne', 'liam payne', 'liam payne', 'liam payne', 'may 29, 2018', 'karen gillan', 'wehrmacht', 'season two', 'assembly language', 'assembly language', 'nicholas lyndhurst', 'casey kelly', 'casey kelly', 'mark - paul gosselaar', 'mark pellis', 'james dornan', 'epsilon', 'epsilon', 'the return of the king', 'eric clapton', 'maureen mccormick', 'mick jagger', '435.56 sq feet', 'battlefield 3', 'cake', 'c. 2200 bc', 'denver, colorado', 'capital formation', 'personhood', '1 november 1955', '1 november 1955', 'benjamin harrison', 'lupe', '18', 'making the connection', '1960', '1875', 'donald phinney gregg', 'rob reiner', '10 may 1926', 'pachomius', 'carrie ann inaba', 'carrie ann inaba', 'carrie ann inaba', 'carrie ann inaba', 'germany', 'invisibility', \"'swollen foot '\", 'the beatles', 'democrat phil murphy', '1952', 'china', 'huntington, west virginia', 'huntington, west virginia', 'in the new future', 'hammond stadium', 'hammond stadium', 'hammond stadium', 'hammond stadium', 'middle mediastinum', 'region 2', 'england', 'joe pantoliano', 'thomas jefferson', 'tom hardy', '13', 'the chancellor', 'charles john canning', 'mississippi', 'biology letters', 'october 28, 1886', 'james keightley', 'california', '256', 'strom thurmond', 'diljit dosanjh', 'peter paul reckell', 'peter paul reckell', 'max ehrmann', 'february 13, 2015', 'sam claflin', 'walter m. cook', '₹ 1.5 billion', 'september 17, 1851', '2008', 'cafeteria', '13', 'david dundas', '5', 'nevermind', 'august 30, 2018', 'outfielder', 'jerry jeff walker', 'peter beardsley', 'magistrate', 'magistrate', 'magistrate', 'steve goodman', 'rachel shelley', 'caroline wozniacki', 'louisiana', 'ken kesey', '18', 'luke tittensor', 'cristiano ronaldo', 'ck nayudu', '$2,000 to $4,000', 'may 17, 2001', 'snowball', 'mount everest', 'neil patrick harris', 'divergent plate boundary', 'april 7, 2018', 'sarah chalke', 'taylor kitsch', 'ryan', '20 -- 40 miles', 'ray bolger', '13', 'galway', 'processed and restaurant foods', 'nova bordelon', 'italy', 'laura ingalls', 'the parliament', 'claude rains', 'samantha briggs', 'mohorović', 'thomas alva edison', 'lafayette', 'lafayette', 'lafayette', '594', 'camp haven', 'india', 'one', 'abu', 'the electric field', '989', 'web browser', '8', '22', 'anne ramsey', 'parker', '859', 'taylor lautner', 'vito corleone', '229', '2006', 'the temporal lobe', 'pewdiepie', 'elizabeth irene banks', 'november 1963', 'james bowie', 'andrew j. west', 'february 2018', '1984', 'ben', 'jessica keegan', 'stan lee', 'stan lee', 'multi-male groups', 'lucio san pedro', 'emily blunt', 'kamil haje', 'wilmer eduardo valderrama', '1990', 'pitch perfect 3', 'pitch perfect 3', 'amish', 'chris gayle', 'debina bonnerjee', '48', 'heath ledger', 'brian connolly', 'jeremy irons', 'drew', 'kunj', 'england', 'dylan neal', '6', 'protein sequencing', 'francis scott key', 'born again', 'united states', 'hall & oates', 'hall & oates', 'hall & oates', 'vogtle', '18 january 2019', 'metafiction', 'metafiction', 'max records', 'andaman and nicobar islands', 'july 16, 2017', 'dove cameron', 'eight', '1935 and 1944', '2000', 'hal david', 'woke up this morning', 'the second century', 'july 16, 2017', 'jacques cassini', 'season two', '49 %', 'dove cameron', '20.95', 'jane hopper', 'andrew scheer', 'sergei prokofiev', '6', 'greg', 'windsor', 'the brothers johnson', 'francis scott key', 'francis scott key', 'gary oldman', 'south korea', 'the czechs', 'the czechs', '1966', 'early 1980s', 'the glottal stop', '1971', '€ 1,000,000', 'marlee matlin', 'bobby flay', 'pinellas county', 'bamboo', 'hayley kiyoko', 'hayley kiyoko', 'may 1, 2007', '81.5 %', 'saint joseph', 'patricia arquette', 'right ventricle', \"richard o'brien\", 'classical antiquity', 'talfryn thomas', 'brittany murphy', '40.0 years', 'sawyer storm sweeten', 'scotland', 'march 24, 2010', 'sally field', 'general surgery', 'jimmy boyd', 'white rat', 'daniel hall', 'home', 'october 10, 2014', 'white pine bay, oregon', 'palaeolithic', 'the federal reserve', 'thurl ravenscroft', 'ann hampton callaway', 'ann hampton callaway', 'seattle supersonics', 'jim steinman', 'thomas jefferson', 'john cena', 'environmentalism', 'environmentalism', 'environmentalism', '1933', \"instagram's own account\", 'chicago white stockings', 'baltimore orioles', 'thomas bracken', 'mariyappan thangavelu', 'mariyappan thangavelu', 'eagle', 'privately owned', 'theodor schwann', 'roseanne barr', 'cheap trick', 'jaideep ahlawat', 'eric steinberg', 'lonavla in maharashtra', 'ferdinand verbiest', '2019', 'july 1967', 'barbara rosenblat', 'make - better', \"olivia o'brien\", 'portuguese neurologist antonio egas moniz', 'maria grever', '1986', 'dolly parton', 'good samaritan', 'april 17, 2011', 'june 14, 2002', 'united states', 'airborne forces', 'brian may', 'brad rutter', 'jason thompson', '2018', 'increasing government funding', 'shri. k. v chowdary', 'william jack poulter', 'don keefer', 'gale', 'george foyet', 'may 14, 1973', 'kod', 'italian', 'italian', 'paul weller', '6', '6', '1 samuel', '1 samuel', 'kevin rahm', 'kevin rahm', 'amanda jo abizaid', 'harry nilsson', 'natarajan chandrasekaran', 'greek sculptor phidias', '2014', 'albert hall', 'bobby flay', '66', '1973', 'ray allen', 'chicago bears', 'chicago bears', '1861 to 1865', 'robin williams', 'robin williams', 'robin williams', 'a disk editor', 'venetian macao', 'gravity alone', 'edmund fitzgibbon', 'edmund fitzgibbon', 'edmund fitzgibbon', 'ellie bamber', 'may 1994', 'joan cusack', 'joan cusack', 'michael rooker', 'heinkel he 178', 'talion', '1968', 'joan ferguson', '1794', 'portugal', 'ray allen', 'cytokinesis', 'bertier', 'century city, los angeles', '22', 'new york city', 'january 1942', 'dylan sprouse', 'naima mora', 'lee grinner pace', 'lee meriwether', 'xuande emperor', 'ksenia solo', 'the 1972 bill withers song', 'haley king', 'water', '1936', \"louis'followers\", \"louis'followers\", 'wrong note', 'wrong note', 'grey delisle', 'elena anaya', '31 march 2018', 'on the thylakoid membranes', 'texas', 'texas', '8', 'jimmy forrest', '1982', '112', 'the hollies', 'august 10, 2010', 'july 4, 1817', 'will.i. am', 'tim allen', 'telepathy', '1907', 'daniel levy', 'seniors', 'the picts', '1994', 'senate judiciary committee', 'angus young', 'angus young', 'angus young', 'kelsey grammer', '1984', 'university of arizona', 'the third sunday in july', 'kaloko', 'will sampson', 'travis warren', '2009', '1925', '1914', 'washington', 'washington', 'washington', 'donny osmond', 'united states military academy', 'united states military academy', 'anabolic steroids', 'frank rosenthal', 'frank rosenthal', 'frank rosenthal', '413', 'general merchandise', 'kam erika heskin', 'max horvath', 'lee greenwood', 'chester gregory ii', 'chester gregory ii', 'chester gregory ii', 'chester gregory ii', 'chester gregory ii', '2019', '2013', 'behind the pisa cathedral', 'james marsden', 'a truss', 'william sayle', '20', 'usc', 'yabucoa municipality', 'alpo martinez', 'alpo martinez', 'alpo martinez', 'queensland', 'mary jo catlett', 'sarah chalke', '2011', 'windows 7', 'the government of india', 'treyarch', 'chyna', 'november 7, 2017', 'nadiya hussain', 'dubuque, iowa', 'dubuque, iowa', 'dubuque, iowa', 'august 21, 2017', '1991', 'bruce campbell', '1982', 'a sting', 'april 4, 2018', 'm. suryanarayan', 'sam snead', 'lorraine bracco', 'james scott', 'dylan thomas', 'amy lee', 'simple minds', 'laura san giacomo', 'laura san giacomo', 'laura san giacomo', 'isaac newton', 'june 2014', 'mark strong', 'jens stoltenberg', 'emma lazarus', 'pyeongchang county', 'light', 'light', 'light', 'light', 'light', 'light', 'may 21, 1987', 'mississippi mud', 'a medical degree', 'april 22, 1915', 'new mexico', 'count basie', 'four', 'elizabeth winfield', 'jamie foxx', 'benjamin hanby', 'harry nilsson', 'andrew clement serkis', 'near tampa', 'near tampa', 'november 2001', 'mid-1820s', 'single point mutations', 'single point mutations', 'single point mutations', 'japanese militarism', 'trade winds', 'postsynaptic dendrite', '10', '1900', 'you made me', 'simon', 'simon', 'simon', 'frontal lobe', 'clay', 'schmit', \"the cell's cytoplasm\", 'johnny depp', '2002', '4 june 2018', '2017', '1 january 1993', '1974', '1933 -- 35', '1933 -- 35', '29 april 1770', 'dr. dre', 'bull terrier', 'england', 'england', 'england', 'england', 'england', 'england', 'england', '6 ft 8', '1984', 'trixie', 'the ankle joint', 'nebraska', 'chicago', 'joe woods', 'jesse mccartney', 'minigame', 'october 1, 2017', '2018', '2', 'cerebellum', 'cerebellum', 'davidson college', '2000 - 2001', 'leonardo da vinci', 'timothy scott', 'thought criminal', 'seventh', '1492', 'gwen verdon', \"auli'i cravalho\", 'atlanta', 'atlanta', 'jefferson davis', 'donald trump', 'rod stewart', 'rod stewart', 'rod stewart', 'rod stewart', 'rod stewart', 'rod stewart', 'vertebrae', 'lyre', 'the third side', '1960s', 'susanna dinnage', 'mjolnir', '137', 'serbia', 'serbia', 'serbia', 'serbia', 'serbia', 'george w. bush', 'the borrower / trustor', 'the bermuda triangle', 'las vegas sands corporation', 'eddie rabbitt', 'scott grimes', 'jo de winter', 'october 3', 'robert browning', 'motorcycle club', 'deandre ayton', '1840 -- 1857', 'the falklands war', 'april 15, 2018', 'april 8, 2018', 'house of representatives', 'june 29, 1980', 'james forde', 'cities', 'franklin d. roosevelt', 'carrie underwood', 'carrie underwood', 'carrie underwood', 'carrie underwood', 'tropical rainforests', 'july 1, 2018', 'december 6, 2018', 'humpty', 'the united states constitution', 'minnesota wild', 'minnesota wild', 'great lakes region', 'great lakes region', 'daron nefcy', '1998', 'daniel', 'john eric winchester', 'palmeiras', 'sixtus iv', 'super high output', 'roger federer', 'halsey', 'september 1, 2007', '16 to 18', 'amit bhargav', 'virtue of holiness', 'brad rutter', 'brad rutter', 'brad rutter', 'brad rutter', 'brad rutter', 'sigma bond', 'over 18 quintillion', 'doug ford', 'july 1, 1967', 'carol ann susi', '1955 to 1959', '27,000 years ago', 'william boyde', 'the hypophysis', 'bandi rajan babu', 'john dimaggio', 'robert taylor', 'every day at 8 am', 'hemant brijwasi', 'the sapperton canal tunnel', 'colorado', 'john james marshall', 'julie payette', 'july 1965', '1871', 'leonard cohen', 'the beach boys', 'the beach boys', '1848', '2011', 'brazil', '1800', 'june 1, 2018', 'february 13, 2015', 'january 19, 2018', 'january 24, 2016', 'ellen shaw', 'subway', 'darshan raval', '1979', 'sheeran', 'july 15, 2017', 'alaska', '1976', 'thea queen', '24 ppqn', 'jace everett', 'huxley', 'april 11, 2018', 'vegas golden knights', 'stacy haiduk', 'george thorogood', 'george thorogood', 'george thorogood', '3000 bce', '3000 bce', 'jeri lynn ryan', 'ford field', 'darin erstad', 'alec baldwin', 'monkey', '1985', 'thomas john mitchell', 'keith thomas', 'heterogeneous', 'barry bonds', 'south africa', 'china', 'nevada', 'nevada', 'nevada', 'nevada', 'rotary converter', 'september 8, 2017', 'justin timberlake', 'justin timberlake', 'justin timberlake', 'ashley jensen', 'braun strowman', '18', '18', '2005', '13.5 %', 'the republican party', 'june 2, 2017', 'august 28, 2018', 'baroque style', '1890s', 'irish', 'irish', 'ancient greek', '249', 'big bear lake', 'big bear lake', '2004', 'kelly mccreary', 'fuel', \"huey'piano'smith\", 'october 8, 2017', 'september 1943', 'tyntesfield, near bristol', 'zelena', 'gareth', 'mary martin', 'the diaphragm', 'stephanie march', 'spring creek park', '256', 'alabama crimson tide', 'fugitive slaves', 'fugitive slaves', 'november 28, 2011', '2.47 acres', 'july 4, 1946', '18', 'charlie daniels band', 'robert duvall', 'annette warren', 'lumieres', 'ad 57 - 58', 'ad 57 - 58', 'ad 57 - 58', 'canada', 'tim roth', 'search results', '16', 'carrie underwood', '2002', 'wikipedia', 'house of commons', 'hemant brijwasi', 'john augustus', '1968', 'clay tablets', 'clay tablets', 'january 12, 1971', 'real madrid', 'august 31, 2018', 'stephen curry', 'simon peter', 'r. kelly', 'ray allen', 'corncob', '776 bc', 'real madrid', 'soon after birth', 'small intestine', 'nebraska', 'fort randall dam', 'fort randall dam', 'fort randall dam', 'fort randall dam', 'edmund muskie', 'enterocytes', '1.7', 'its ability to increase signal', 'gandhi', 'june and july', '15 may 2004', 'no way out 2004', 'tropical', 'tropical', 'tropical', 'otto lilienthal', '1885', '102', 'edward james olmos', 'hana hayes', 'paul mccartney', '6', '12', '1876', 'johnny depp', 'johannes kepler', 'a robot', 'pakistani cinema', 'alatar', 'alatar', 'alatar', 'alatar', 'katherine marie helmond', '90 %', 'march 2018', 'honeysuckle rose', 'historical fiction', '1,811 acres', '30', 'ascii', '1959', 'march 29', 'fifth season', 'craig morgan', 'wakanda', 'qatar', 'russia', 'filtration', 'ice caps', \"rooster's beak\", 'suicidal feelings', 'sven', 'ringo starr', 'the epiphyseal plate', 'empedocles', 'manchester united', 'idina menzel', 'demographic', 'isle of wight', 'jeff sessions', 'peyton manning', 'kris marshall', 'kris marshall', 'kris marshall', '1936', 'gabriel narutowicz', 'istanbul', 'temporal bone', 'dan stevens', 'alexandra breckenridge', '12', 'gone with the wind', 'the fourteenth amendment', 'moreton rolleston', '1521 to 1898', 'laura fraser', 'todd carty', 'los angeles memorial coliseum', 'deerhoof', 'english', 'kansas', 'the alaknanda river', 'paul zerdin', 'scots in origin', 'thomas fireheart', 'motor vehicle exception', 'motor vehicle exception', 'motor vehicle exception', 'motor vehicle exception', 'motor vehicle exception', 'motor vehicle exception', 'motor vehicle exception', '5.7 million litres', '1999', 'majuli or majoli', 'william thomas sadler', 'portugal', 'august 15, 2018', 'richard roundtree', 'july 4, 1776', '4 may 2018', '18', 'september 11, 2001', 'the partridge family', 'george peppard', '24 hours', 'james madison', 'james madison', 'dana davis', '2012 -- 13', 'sleepover', 'season 13', 'january 9', 'dairy products', 'holly flax', 'los angeles dodgers', 'los angeles dodgers', 'margaret court', 'carl smith', 'carl smith', 'athenian citizens', '1,600', 'hinode', 'june 10, 2018', 'the clergy', '1967', 'new zealand dollar', 'furan', 'furan', 'furan', 'shawnee national forest', 'shawnee national forest', 'may 16, 2002', '1978', 'nominated by the president', '15.0', '15.0', 'june 27', '1000', 'a need', 'emmerson mnangagwa', 'mohan singh', 'mohan singh', 'approximately 17 minutes', 'brindle cairn terrier', 'yogi berra', 'helium', '1934', 'etta james', '$99 million', 'the revelator', 'galway', 'bangladesh', 'the pentagon papers', '1958', '10', 'pacquiao', 'december 19, 1958', '470', 'october 20, 2018', 'olivia cooke', 'cerebrum', 'burj khalifa', 'burj khalifa', '2018', 'january 2017', 'afghanistan', 'afghanistan', 'aurangzeb', 'aisha tyler', 'phil kiko', '5th or 6th century', '5th or 6th century', 'the members of parliament', 'west african coast', 'may 11, 2011', '1898', 'dan stevens', 'danai gurira', \"people's republic of china\", 'mandarin', 'france', 'jack haley', 'isolationist', 'gabriel luna', 'james madison', 'james madison', 'james madison', 'james madison', 'james madison', 'james madison', 'james madison', 'lucas lavoie', 'uttar pradesh', 'alex rodriguez', 'around 19 bce', 'dioptre', 'the founding myth of the israelites', '$31 billion', '2014', 'anupam mishra', 'anupam mishra', 'anupam mishra', 'anupam mishra', 'ijn', 'january 1, 1863', '13', '60', 'the provincial government', 'dan stevens', '1945', 'season 6 finale', 'april 23, 1986', '1957', 'georgia allen', 'the apostle paul', 'the apostle paul', 'the apostle paul', 'the apostle paul', 'john muir', 'jiya thakur', '6 february 1840', 'completed in 1469', 'completed in 1469', 'privacy mode', 'kylie minogue', 'four', 'karl benz', '1767 and 1768', 'xi jinping', 'jennifer warnes', 'jennifer warnes', '1931', 'jonathan freeman', 'jordan fisher', 'stephen curry', 'the australian parliament', 'norma crane', 'norma crane', 'norma crane', 'norma crane', 'norma crane', 'franny beecher', '60 years', 'light elements', 'michael schumacher', 'atticus finch', 'iupac nomenclature', '7 january', 'canada', 'canada', 'canada', 'the bronx', 'the bronx', 'the bronx', 'the bronx', 'the bronx', 'james madison', '1974', 'isaac newton', 'kimberly rhodes', '1887', 'president of turkey', 'lana thomas', '1957', 'ivan cleary', 'octagon', 'september 22, 2017', 'independent central bank', 'religious freedom', 'isle of man', '1854', 'missionaries', 'five years', 'tourism', 'marie antoinette', 'the pendleton act', 'october 27, 2017', 'october 27, 2017', 'emily kinney', '2005', '1792', '1 july', 'france', 'france', 'france', 'france', '1986', 'markus flanagan', 'the fifth season', 'peyton', 'ygritte', 'net neutrality', 'anthony de la torre', 'the people of france', 'magnetic particle imaging', 'goal', 'abby cadabby', 'italy', 'seattle', 'andrea roth', 'maronites', 'the beatles', 'the beatles', 'randy newman', 'saltwater fish', 'despacito', 'damon', 'joe diffie', 'lebron james', '2', 'united states military', 'jan. 1969', 'pewdiepie', 'brook benton', '2011', 'president franklin roosevelt', 'claude joseph rouget de lisle', 'jon huertas', 'jon huertas', 'jon huertas', 'jon huertas', 'jon huertas', 'jon huertas', 'jon huertas', 'jon huertas', 'jon huertas', 'eric steinberg', 'rhinolith', 'michael damian', 'online streaming', 'mary jo catlett', 'ivo karlovic', 'weather stations', 'constance shulman', 'serious malnutrition', '1984', 'ed sheeran', '2007', 'bagheera', 'timothy gibson', 'tom hanks', 'marcel proust', 'james madison', 'michael arata', 'pretty little liars', 'london', 'the shadowboxers', 'the shadowboxers', 'the shadowboxers', 'ottoman empire', 'ottoman empire', 'ottoman empire', 'ottoman empire', 'exceedingly slow rate', 'consumer value store', 'forty', 'dubai international airport', 'brian griffin', '1926', 'washington, d.c.', 'eagle jump', 'hydrogenated', 'fred foster', 'john carroll lynch', 'minority leader', 'the mouthpiece', 'esotropia', 'chitra ganesh', 'february 23, a', 'vitamin d', '1928', 'september 7, 2017', 'ray benson', 'chris hemsworth', \"richard o'brien\", 'graham chapman', 'borough of brooklyn', 'channel 5', 'channel 5', 'alabama crimson tide', 'alabama crimson tide', '1995', 'flag of uganda', 'edwards hand', 'indigenous australians', 'the husband', 'mikhail lomonosov', 'greater manchester', '2002', 'september 23, 2016', 'about 60 %', 'to the left', 'haddaway', 'hoyt axton', 'bharat ram', 'los angeles', 'mickey thomas', '1971 rover p6 3500', 'seneca falls, new york', '2', 'foscolo', 'foscolo', 'foscolo', 'foscolo', 'foscolo', 'foscolo', 'the nabonidus chronicle', '120 ° f', '34', 'donald trump', 'russia', 'charles mitchell', 'charles mitchell', 'november 2011', 'maría canals barrera', 'smallpox', 'blood', 'cede the castle', 'demi moore', 'demi moore', 'demi moore', 'the hunger games', '2019', 'india', '1995', '5.88 trillion miles', 'franklin lakes, new jersey', 'elizabeth perkins', 'bruce willis', 'langston hughes', 'mark lowry', 'mark lowry', '2013', 'shivam pathak', 'lower mainland in vancouver', 'munchen central station', 'howard shore', 'united states department of justice', '2017', 'nadiya hussain', 'oprah winfrey network', 'valley of tears', 'drago', 'no rest for the wicked', 'dusty springfield', 'june 6, 2004', 'lager', 'the miracles', 'nishiyama onsen keiunkan', 'queen elizabeth ii', 'part a', 'the umbra', 'hyde', 'danielle campbell', 'veronica cartwright', 'translation', '100 or less', 'june 17, 1935', 'stuart hamblen', 'craig mclachlan', 'jennifer youngs', 'january 15, 1956', 'ford fusion', 'west virginia', 'lisa', 'the federal reserve act', 'burt ward', 'christian peter coulson', 'queretaro', 'queretaro', 'nancy sinatra', 'july 26, 1948', 'william thornton', 'joseph g. mccoy', 'brad william henke', 'the chariot metaphor', 'emily alyn lind', 'iron', 'ditchling beacon', 'september 25, 2017', '2018', 'mia maestro', 'june lockhart', 'espinoza', 'john dimaggio', '1998', 'annie get your gun', 'april 30, 1812', 'lois maxwell', 'convergent boundary', 'aliona savchenko', 'annapurna studios 7 acres', '1971', 'testicles', 'every ten years', 'mount logan', 'abraham maslow', 'the 4th century', 'kevin garnett', 'kevin garnett', 'kevin garnett', 'kevin garnett', 'kevin garnett', 'lauren taft', 'november 1994']\n"
          ],
          "name": "stdout"
        }
      ]
    },
    {
      "cell_type": "code",
      "metadata": {
        "colab": {
          "base_uri": "https://localhost:8080/"
        },
        "id": "8f1l0CAZrh0t",
        "outputId": "1f2268a7-7eb0-4dff-e779-efb69529a96a"
      },
      "source": [
        "print(infer_answers)"
      ],
      "execution_count": null,
      "outputs": [
        {
          "output_type": "stream",
          "text": [
            "['linda davis', '581 ( second edition )', 'the saint lawrence river', 'july 5 , 2018', '31', 'francia raisa', 'roy raymond', '2002', 'charles cornwallis', 'motown', 'sauron', 'close to the poles', 'october 1 , 1926', 'queen hippolyta', 'paul', 'rib cage', 'ear', 'nose', 'bronchial tubes', 'many other body components', 'intervertebral discs', 'meat loaf', 'in the epididymis', 'september 1977', '1966', 'flipper anderson', 'may 8 2018', 'atandwa kani', '3 october 1942', 'a minimum of five', 'november 6 , 2017', '16 february 2018', 'law officers of the crown', 'urchins', 'phil bardsley', 'vertebrates', \"ch\\\\xc3\\\\xa2teau d\\\\'amboise\", 'the loc - dieu abbey', 'ch\\\\xc3\\\\xa2teau de chambord', 'the ingres museum', 'andy griffith', 'brazil', 'walmart', \"mcdonald \\\\'s\", 'cyndi lauper', 'ymir fritz', 'artax', 'alexander graham bell', 'drake', 'cece', 'blair', 'foxborough , massachusetts', 'ari lehman', 'pittsburgh steelers', 'american singer joey scarbury', 'sonny bono', 'england', 'hugo weaving', 'roger federer', 'nine', 'mac hollowell', 'pontus holmberg', 'sean durzi', 'semyon der - arguchintsev', 'rasmus sandin', 'filip kral', 'zachary bouthillier', 'riley stotts', 'semyon kizimov', 'neil gorsuch', 'eoghan mcdermott', 'june 6 , 2017', '2001', 'jane taylor', '2008', 'estelle harris', 'roger miller', 'jennifer saunders', 'spinner', 'drop - down list', 'slider', 'button', 'list box', 'chelsea field', 'official remix', 'magnesium', 'william stromberg', 'linsey godfrey', 'december 22 , 2017', 'josephine tewson', 'jorma taccone', 'boris karloff', 'democrat', 'melanie', 'thomas joseph thibodeau jr.', 'dylan and cole sprouse', 'michael manning', 'epistle to the galatians', '15 march 1950', 'bobby hurley', 'suzanne siegel', 'sulkin', 'in leaves', 'jakob fugger', 'milo\\\\xc5\\\\xa1 forman', 'steven robert weber', 'american southern rock group rehab', 'minnesota vikings', 'phoenix mills limited', '332', 'john shanks', 'keith urban', '2018', 'james dornan', 'late 14th - century', '1941', 'january 1982', '2003', 'rest cure', 'may 28 , 2018', 'in the early 2nd century', '5,100', 'october 2 , 2017', 'tamaki', 'june 5 , 2017', '6', 'faber college', \"sandra day o'connor\", 'tina charles', '2017 -- 18', 'westminster central hall', '1929', 'gene autry', 'a right triangle', 'count karl robert nesselrode', 'animal products', 'melora hardin', 'the evaporation of seawater', 'december 15 , 1791', 'washington', 'yuyutsu', 'river lea', 'river thames', 'us $1.843 billion', 'august 14 , 2017', 'australia', 'kayleigh harris', 'gulf breeze', 'milton', 'petrarch', 'tyler marcel williams', 'constance towers', '(', 'dave johnson', 'the lungs', '1689', '2004', '1660s to 1730s', '12 to 14 days', 'the south lawn', 'mariana trench', 'the northern army', '27 / 05 / 2018', 'jerry seinfeld', 'october 27 , 2018', 'strasbourg', 'an upper semi-circular arch', 'a lower horseshoe arch', 'ray winstone', 'nick frost', 'bob hoskins', 'brian gleeson', 'eddie marsan', 'johnny harris', 'toby jones', 'ian mcshane', '1205 -- 1279', '24 february 2018', 'pete seeger', '2003', 'no regulation', 'richmond', 'hawthorn', 'essendon', 'collingwood', 'north melbourne', 'anthony kennedy', 'article i , section 2', '2018', 'karyn parsons -- rockwell', 'freak the freak out', 'mrs. voorhees', '1845', \"monster \\\\'s legacy\", 'and marine corps', '21 months for army', '23 months for navy', '24 months for air force', '1908', 'christopher columbus', '1934', '1990', '82', 'may 15 , 2017', 'on june 29 , 2018', 'april 30 , 1916', 'electroencephalography ( eeg )', 'schwann cells', 'american', 'joseph peter spano', 'charles , prince of wales', 'prince henry', 'prince george', 'heat energy', 'mechanical waves', 'sound', 'jimmy matthews', 'carbon monoxide', 'traces of methane', 'hydrogen', 'internal energy', 'confederate states of america', 'united states', 'june 23 , 2018', 'venkaiah naidu )', 'cedar falls , iowa', 'martin short', 'six volumes', 'ross geller', 'ed sheeran', 'six', 'germany', '31', 'national football league', 'denver broncos', 'the six grandfathers', '1989', 'kathy steinberg', 'seven', 'wicked witch of the west', 'the five du - tones', 'the new england patriots', 'bill nighy', 'rosaline', 'bridget driscoll', 'jeddah', 'keyword', 'fourth dynasty egyptian pharaoh khufu', '2005', 'hull city', 'sunderland', 'middlesbrough', 'mericarp', 'march 19 , 1918', 'noah jupe', 'john krasinski', 'millicent simmonds', 'emily blunt', '10,000 years ago', 'solomon burke', 'alexander nor\\\\xc3\\\\xa9n', 'european theatre', '8 march 2018', 'tevilah', 'louis riel', '1831 -- 1850', '2004', 'michael jackson', 'formula rossa', 'abelmoschus esculentus', 'samarra', 'raqqa', 'baghdad', 'noomi rapace', 'mary eileen mcdonnell', 'late carboniferous period', 'gregory jack biffle', 'contemporary dancer lex ishimoto', 'march 27 , 2018', 'lori', 'the irish sea', 'one', 'brazil', 'italy', 'igneous', '2006', 'pulsars', 'don diamont', 'the charlotte hornets', '1938', 'jim peterik', 'frankie sullivan', 'new', 'extraordinary', 'unprecedented', 'ranjit singh', 'oklahoma sooners', 'georgia bulldogs', 'vince carter', '2014', 'venom', 'screwed', 'jimmy durante', '20', 'jack hobbs', 'manchester united', 'ananias', 'the eighth season', 'carl dean switzer', '1954', 'sir harry johnston', 'mid-1950s', 'the virginia company of london', 'mariah carey', '1842', '1956', 'emma stone', 'the probation officer', '32 teams', 'charlie daniels band', 'january 8 , 2018', 'europe / london', '31 may 2009', 'june 15 , 2018', 'the journal des d\\\\xc3\\\\xa9bats', 'santa monica', 'eris baker', 'november 25 , 2017', 'january 12 , 2018', 'thomas andrew felton', 'mexico', 'supreme court', 'jacob', 'december 20 , 2017', 'hans zimmer', 'benjamin wallfisch', 'cape gracias a dios', 'oregon ducks', '4,000', 'minnesota vikings', 'philadelphia eagles', 'january 7 , 2018', 'a wreath of ivy', 'season seven', 'shape of you', 'mark lenard', '1995', '1754', 'russia', 'anthony hope', 'william thomas sadler', 'colonel john ewerekumoh yeri', '1754', '1973', 'johnt\\\\xc3\\\\xa1 austin', 'bryan - michael cox', 'teddy bishop', 'toni braxton', 'brendon mccullum', 'joseph kahn', 'collingwood football club', 'gillian jacobs', 'john roberts', 'intermediate courts', 'superior courts', 'apex court', 'inferior courts', 'quasi-judicial tribunals', 'rhomboid major', 'levator scapulae', 'rhomboid minor', 'serratus anterior', 'roman peace', 'muhammad ali jinnah', 'bartlesville and pawhuska , oklahoma', 'los angeles , california', 'majandra delfino', 'anglican', 'gwent', 'powys', 'clwyd', 'mid glamorgan', 'west glamorgan', 'south glamorgan', 'gwynedd', 'dyfed', 'papillae', 'june 28 , 2004', 'july 1 , 2005', '2017 - 11 - 05', '3', 'barry gibb', 'march 3 , 1931', 'hans christian gram', 'first published in 1978', 'may 31 , 2018', 'hebrew', '1973', 'mayuresh kshetramade', 'swapnil joshi', 'katy perry', 'andhra', '16 november 2003', 'within the cytoplasm', 'general electric', 'william a.v. cecil', 'june 1944', 'bindi irwin', 'derek hough', 'sometime in 2018', 'carl august', 'hugo m\\\\xc3\\\\xbcnsterberg', 'victor rivers', 'thomas jefferson', 'finport', 'alamosa', 'piano man', '1040 -- 44', '31 october ad 475', 'december 6 , 1865', 'dulquer salmaan', 'tyler hubbard', 'nicolle galyon', 'brian kelley', 'jordan schmidt', 'kristin kreuk', 'peter cetera', \"`` uma thurman \\\\'\\\\'\", 'lokoja in nigeria', '1972', '1982', 'karate', 'madison cycling', 'skateboarding', 'surfing', '3x3 basketball', 'sport climbing', 'freestyle bmx', 'the lab', 'charity & andres', 's - rank', 'michael dameski', 'henry viii', '14 june', 'gordie lachance', 'randy shannon', 'akshay kumar', 'august 24 , 2017', '32', 'the east india company', '13', 'white', 'walk the moon', 'k. flay', 'welshly arms', 'misterwives', 'joywave', '446', 'nonpartisan blanket primary', 'spin - off sequel', 'constantine', 'tony jay', 'government of british india', 'roger federer', 'in west central colorado', 'may 6 , 1957', 'germany', 'italy', 'japan', 'del the funky homosapien', 'the medulla oblongata', 'saleisha stowers', '2002', 'nathan hale', 'jesse watters', 'kimberly guilfoyle', 'dana perino', 'juan williams', 'greg gutfeld', 'larger states', 'q4 2018', 'durand', 'delavan', 'delafield', 'dodgeville', 'de pere', 'darlington', 'russia', '1960', '1931', 'political appointee', 'foreign service officer', '2012', '1939', '10', 'august , 2016', 'tampa bay buccaneers', 'sowerberry , the undertaker', 'tuberculosis', 'charles , prince of wales', 'dallas carter high school', 'tim roth', 'libertas , a roman goddess', 'the latest research on dietetics', 'make substantial territorial concessions', 'pay reparations', 'disarm', '2 november 1982', 'june 17 , 1885', 'bicycle race', 'beastie boys', 'gemma elizabeth whelan', 'aaron raitiere', 'lady gaga', 'natalie hemby', 'hillary lindsey', 'stealers wheel .', '16th', '1900', 'raheem sterling', 'gateholm island', 'two teams of eleven players', '28', 'bharat petroleum corporation ltd', 'sunday , 2 september', 'wednesday , 5 september 1666', 'danny heater', '21 july 2007', '$2 billion', 'beijing', 'sixteen', 'lord petyr baelish', 'lady olenna tyrell', 'president theodore roosevelt', 'emmitt smith', 'robins', 'fines and jail time', 'sixth - generation', 'walnut grove , minnesota', '1996', 'daylight saving time', 'chicago cubs', 'elle', 'district of columbia', 'rhett butler', '1938', '2029', '70.0', '2', '40', 'colonel reginald dyer', 'february 1 , 2018', 'women', 'december 2017', 'tympanon', 'may 1950', 'october 15 , 2018', 'elaine & melanie silver', 'saliva', 'stillwater', 'sometime in 2019', 'south carolina', 'december 16 , 1974', 'october 12 , 1892', 'france', 'croatia', 'nancy', 'private and non-federal public sources', 'rami', 'max martin', 'andreas carlsson', '4,038', '1607 in jamestown , virginia', 'price / dividend ratio', 'jigsaw', 'ten', 'june 2 , 2017', 'ozarks of missouri', 'steve coogan', 'manchester united', 'chris rock', 'beginning of season 8', 'lara cox', 'middle island', 'collabro', 'ceallach spellman', 'taveuni , fiji', 'australia', 'bob paisley', 'joe fagan', 'rafael ben\\\\xc3\\\\xadtez', 'tupac shakur', 'france', 'charles bickford', 'jack carson', 'james mason', '353 horsepower', '2003', 'anne - marie johnson', 'the three flavours cornetto trilogy', 'the cornetto trilogy', 'dinah washington', 'mar\\\\xc3\\\\xada grever', 'kocw', 'ksas - tv', 'kmtw', 'kaas - tv', '15 september 1916', 'be easier to use', 'use natural language elements', 'at the most $300,000', 'boston celtics', 'barcelona', 'real madrid', 'cathy dennis', 'rob davis', 'judith anderson', 'pewdiepie', 'lori lieberman', 'vee', 'united states national parks', '1911', 'barry bonds', '1975', 'bishop gorman', 'alan merrill', 'russia', '8,569', 'november 1 , 1955', \"king \\\\'s cross st. pancras\", 'seattle mariners', 'chicago cubs', 'pete the pup', 'chevrolet ss', 'chevrolet camaro', 'midway city', 'hawaii', '432 park avenue', 'liberty plains', 'abdul - jabbar , kareem', 'june 12 , 2009', 'crook brothers', '1,356', '1963', 'in 1813', 'justin henry', 'sony pictures networks', 'october 24', 'diego maradona', 'pel\\\\xc3\\\\xa9', 'burl ives', 'joe penny', 'impacts', 'sinoatrial node', 'tracey elizabeth bregman', 'vibranium', 'beijing', 'john derek', '8', 'linwood boomer', 'may 21 , 1984', 'hylton v. united states', 'kuomintang', 'communist party of china', 'the bank', 'penny bae bridges', 'sanath jayasuriya', 'new york giants', 'left hand ring finger', 'a few minutes', 'll cool j.', 'august 28 , 2018', 'silent\\\\xc3\\\\xb3', 'march 7 , 2013', 'nabil elouahabi', \"lin\\\\'an\", '1976', '5', 'arguin', 'south africa', 'dutch gold coast', 'dutch loango - angola', 'dutch cape colony', 's\\\\xc3\\\\xa3o tom\\\\xc3\\\\xa9', 'gor\\\\xc3\\\\xa9e', 'mo\\\\xc3\\\\xa7ambique', '21 june 1976', 'october 9 , 2003', '6', 'oleg salenko', 'victor espinoza', 'j. michael finley', 'john lennon', 'george harrison', 'brazil', 'nine', 'miroslav klose', '2001', 'subcompact crossover suv', 'murphy', 'ari lehman', 'charlie heaton', 'october 2 , 2017', 'meghan trainor', 'kevin kadish', 'thalamus', 'lebron james', 'georges benjamin clemenceau', 'mandalay bay hotel', 'tony orlando and dawn', 'luigi creatore', 'george david weiss', 'hugo peretti', 'guwahati and shillong , india', 'callan mcauliffe', 'the 2013 season', 'county governments', 'town or township governments', 'municipal governments', '1776', 'tommy mccairns', 'june 1 , 2014', 'daisy ridley', '$400,000 annual', 'ck nayudu', 'the stanley hotel', 'ryan reed', '1994', 'east pakistan', 'headey', 'flash thompson', 'dillon francis', 'bengali folk singer hemanga biswas', 'todd michael haberkorn', 'laxative', 'mask', 'an investigator', '1862', 'peter claver cullen', 'september 13 , 2017', 'u.s. state', 'ram nath kovind', 'microsoft', 'sibling rivalry', 'om puri', 'wilt chamberlain', '17 months', 'geothermal heat flux', 'the postcentral gyrus', 'the four voices', 'kim il - sung', 'australian singer kylie minogue', 'bring it on', 'kristoff st. john', 'ian hunter', 'american r&b singer sza', 'leonard nimoy', 'ibrahim kpotun idris', 'manifest destiny', 'charles albertine', 'transitional epithelium', 'fever ray', 'jackie deshannon', 'ios 11.2', '\\\\xe2\\\\x82\\\\xb1 1000', 'spanish - origin', 'north sea', 'daniel radcliffe', 'lacey turner', 'luke bryan', 'march 4 , 2018', 'big & rich', 'ezekiel', '1894', 'michel gill', '1958', 'february 2018', 'bob dylan', 'sledgehammer games', 'truly', 'february , 14 , 1929', '7', 'carol channing', 'bone marrow', 'austin pendleton', '1965', '2.9 % of gdp', \"christopher marlowe \\\\'s\", 'pyeongchang , south korea', 'jonathan melvoin', 'benjamin harrison', 'brittany cherry', 'a son named atreus', 'fungus', 'katherine heigl', 'france', 'gland', 'telemundo', 'fox sports', 'condensation', 'sir alex ferguson', 'kelli marie giddish', 'david keith', 'harold stassen', 'june to september', 'carole king', 'universal orlando', 'walt disney world', 'the london studios', 'stephen curry', 'mercy', 'new england patriots', '1990', 'sally ann howes', '6 %', 'amendment v', 'justin long', 'mamanuca islands , fiji', 'the new world stages complex', 'september 2012', '16 january 1992', 'depositors in us banks', 'roger federer', 'uverworld', 'mohan lal sukhadia', 'helena bonham carter', 'april 11 , 2018', 'rod mckuen', 'terry jacks', '1928', 'september 8 , 2017', 'karnataka', 'cristela alonzo as cruz ramirez', 'lily aldrin', 'tissue heart valves', 'lorraine bracco', 'pitot tube', 'pitot probe', 'wallace michael shawn', 'european', 'randy meisner', 'september 28 , 2017', 'the number 42', '1977', 'saturus , another christian martyred', 'an editor', 'gold', 'green', \"harold `` hal \\\\'\\\\' jordan\", 'april 1917', 'jonathan edwards', 'joseph drake', 'sugar', 'skilled labor', 'tobacco', 'coffee', \"allison `` alley \\\\'\\\\' mills\", '1972', 'eric stonestreet', 'greg maddux', 'leon ames', 'howard hesseman', 'elinor', 'tony arata', '1998', 'randall flagg', 'microsoft office 2016', 'belmont stakes', 'nick robinson', '212 bc', 'is a french expression', \"diana \\\\'s attendant , opis\", 'kenny baker', 'louis armstrong', 'gene kelly', 'ella fitzgerald', '2013', 'five', 'beyonc\\\\xc3\\\\xa9 knowles - carter', '2002', 'everton manager david moyes', 'los angeles dodgers', 'third place', 'fred willard', 'mohan lal sukhadia', 'phil collins', 'melissa etheridge', 'physical medicine and rehabilitation', 'telkom', 'basanto utsav', 'dol jatra', 'natasha kaplinsky', 'brendan cole', '1 -- 2 weeks', 'march 27 , 2018', 'a bloom or a swarm', 'for the transfer of securities', 'district of columbia', 'front - wheel - drive', 'jason marsden', 'kathy bates', 'the virginia plan', 'coal', 'scarlett johansson', 'actual malice', 'annasophia robb', 'michael de santa', 'franklin clinton', 'trevor philips', 'may 1 , 2018', 'texas', 'the 1990s', 'the 180th meridian', 'brazil', '2006', 'himachal pradesh', 'michigan', '199,850', 'november 19 , 2004', 'aunt stephanie in the film', 'aunt rachel', 'jean de dunois', '323 people', 'an electoral college', 'ricotta', 'nearby geothermal power plant svartsengi', '2014', '1966', 'luzhniki stadium , moscow', 'the indian subcontinent', 'aaron dismuke', 'ryder', '\\\\xc4\\\\x8cech , petr', 'black knight sports & entertainment', '1963', 'legs', 'thighs', '22', 'new york city', 'bhisham sahni', \"michael `` mike \\\\'\\\\' henry\", 'cher', 'mercedes', '1980', 'burj khalifa in dubai', 'march 18 , 1766', 'october 2015', 'based on equipment running hours', 'date - based', 'distance travelled by the vehicle', 'union', 'ted simonett', 'bailee madison', '678 - 999 - 8212', 'the opening cover end', 'age of five', 'january 1 , 2013', '1821', 'kenny johnson', 'mohammad hamid ansari', '2013', 'may 30 , 2003', 'xenia deli', 'durable means of transport', 'alice krige', 'technically still at war', '13', 'sophia myles', '15 - jun - 17', 'brother - in - law', 'the port authority', 'the state of new york', '25 -- 26 april 1986', 'megan charpentier', 'ever gabo anderson', \"ave merson - o\\\\'brian\", 'michaela dicker', 'brenda lee', 'gwen mccrae', 'bayern munich', '1996', 'rob cantor', 'william laws calley jr.', 'water ice and rocky material', 'government', 'chevrolet', 'businessman bob stefanowski', 'paracetamol poisoning', '2011', 'an online virtual world', 'kennedy kelley', 'john and t.j. osborne', 'lee thomas miller', 'cayman islands', 'bermuda', 'haiti', '1716', 'selby baqwa', 'college of engineering , pune', 'petty', 'orbison', 'red hood', 'carbapenems', 'polymyxins', 'tigecycline', 'exodus 34 : 28', 'deuteronomy 10 : 4', 'cell cycle', 'signaling', 'cellular energy', 'cell growth', 'cellular differentiation', 'cell death', 'october 18 , 1961', 'seven', '12.5', 'nelson mandela muntz', 'trixie mattel', 'the jordanaires', '60', 'stones', 'wood', 'rammed earth', 'bricks', 'reggie jackson', 'meerkat', 'kyrie irving', 'christina moore', '922', 'bailee madison', 'university of colorado boulder', 'texas a&m university', 'university of nebraska -- lincoln', 'university of missouri', 'surat , india', 'august 21 , 2017', 'in 1887', 'edmund cartwright', 'france and great britain', 'mitzvah', 'september 6 , 2018', 'lesley fera', 'ken curtis', 'josh brolin', 'neil patrick harris', '435', '2003', 'iron man', 'dean winters', 'fran\\\\xc3\\\\xa7ois scarborough clemmons', 'kailyn davis', 'fred rogers in archival recordings', 'mccolm cephas jr .', 'joanne rogers', 'yo - yo ma', 'david newell', 'joe negri', 'ludwig van beethoven', 'gwen mccrae', 'germany', 'italy', 'japan', 'maggie elizabeth jones', 'ring form', 'los angeles', '58', 'jos\\\\xc3\\\\xa9 alejandrino', 'june 30 , 1971', 'ten', 'north charleston', 'nightwing / dick grayson', 'united states', 'paul mccartney', 'linda mccartney', 'susan bennett', 'loosely based', 'john f. kennedy', 'december 22 , 2017', 'nick kroll', 'australia', '2009 -- 10', '2000 -- 01', '2014 -- 15', '1991 -- 92', '1990 -- 91', '$347,400 cad', '6', 'chaka khan', 'philadelphia', 'randy newman', 'eric garcetti', 'republic', '840', '106', 'international date line', '1922', 'novel', '53', 'kelly stables', 'british bacteriologist frederick griffith', 'ed sheeran', 'steve mac', \"kevin `` she\\\\'kspere \\\\'\\\\' briggs\", 'johnny mcdaid', 'kandi burruss', \"tameka `` tiny \\\\'\\\\' cottle\", 'probability of default', 'flag day 1954', 'may 8 , 1994', 'physically removing the hazard', 'france', 'jacob frey', 'jerry leiber and mike stoller', 'seven', 'may 31 , 2009', 'iceland', 'july 30 , 2018', 'joe dimaggio', '1966', 'march 13 , 2018', 'best - of - seven', 'pewdiepie', 'observation and telecommunications', 'the mariana trench', 'paul kaye', '1707 -- 1708', 'an evening with mr. yang', 'barbara eden', 'samaveda', 'yajurveda', 'atharvaveda', 'rigveda', 'baked beans', 'april', '2001 -- 2009', 'sewage', 'indian ocean', 'bob saget', 'older ted mosby', 'brian griese', 'diane ray', 'dallas davidson', 'jay hawkins', '80', 'ariranga pillay', 'thanksgiving', 'patrick stewart', 'thirteen', 'loretta lynn', 'kristin kreuk', 'mongrel', '1995', 'chromolaena odorata', 'vancouver , british columbia', 'charlie puth', '3 july 2007', '$40,000', 'tom brady', 'london eye', 'jeffrey garcia', 'young child', 'young helper', '1971 holden kingswood', 'ben winspear', '37', '66,135', '417 minutes ( extended )', 'over one million students', 'nishiyama onsen keiunkan', '1991', 'august 1966', '1970', 'paul william walker iv', '2014', 'spot', 'constance shulman', 'july 14 , 1983', 'suge knight', 'pushyagupta', 'cadmium', 'greenland', 'antarctica', 'ron wasserman', 'sebastian shaw', 'mackenzie foy', 'sheryl crow ( 2003 )', 'p.p. arnold ( 1967 )', 'rod stewart ( 1977 )', 'keith hampshire ( 1973 )', '10,873', 'union station', 'egypt', 'pope gregory i', 'brianna', 'river wye', 'yuzuru hanyu', 'blasphemy', 'september 28 , 2018', '1933', 'eric carmen', '1987', '14 january 1960', 'elvin bishop', 'london', '2015 -- 16', 'walk the moon', 'patent holding companies', 'february 13 , 2009', 'constituency', 'tokyo', 'beijing', 'ramadan', 'margot kidder', '2020', 'joni mitchell', 'the spanish', 'ganesh vasudev mavlankar', 'germany', \"`` losing my religion \\\\'\\\\'\", 'defendant', 'the cellos', 'january 3 , 1959', 'm. emmet walsh', 'four', 'joey scott', 'milton french - stewart', '1951', 'selena gomez', 'june 21 , 2018', 'sacred fig', 'at least 20', '44', 'india', 'alaska', 'sherwood forest', 'os x el capitan', 'magnus maximus', 'martin okoth ochola', 'dean mahomed', 'single - member districts', 'paul zerdin', 'greater antilles on the north', 'republican governments', 'cb77 super hawk', 'prince', 'amsterdam', '1971', 'martin van buren', 'his eyes healed', 'lou reed', 'germany', 'argentina', 'pete rose', 'eileen brennan', 'ellen burstyn', 'randy quaid', 'ben johnson', 'timothy bottoms', 'cloris leachman', 'jeff bridges', 'cybill shepherd', 'albert einstein', 'typical antarctic tundra', 'mindanao', 'sadashivrao bhau', 'gary oldman', '1972', 'once', 'jerry bock', 'detroit , michigan', 'left side', 'public', '6 sausage rolls', 'banana & chocolate chip loaves', 'wholemeal cheese scones', 'coffee & walnut cake', '675 ad', \"saint ignatius \\\\' college\", 'november 6 , 2018', 'september 29 , 2017', 'taylor', 'president dwight eisenhower', '4,726', 'the fray', '894', '1939', 'theodore templeton', 'laura dern', 'the march hare', 'the stone age', 'clearing habitats for agriculture', 'evvie mckinney', 'wilton felder', 'james jamerson', 'donald bradman', 'stephen a. douglas', 'rarely', 'randy newman', 'david foster', 'carole bayer sager', 'alberto testa', 'tony renis', 'june 19 , 2017', 'sidereal year', 'mid 1960s', 'lara croft : tomb raider', 'the rundown', 'justin tyler berfield', 'october 27 , 2014', 'regis philbin', 'tyra banks', 'jerry springer', 'nick cannon', '1707', 'susan tedeschi', 'sting', 'mid-1988', 'baha men', 'carey mulligan', 'oldman', 'grace avery vanderwaal', 'tenth amendment', 'alonzo alvarez de pineda', 'barry bonds', 'snidely whiplash', 'october 8 , 2017', 'at least $250 million', 'anandiben patel', 'jennifer holliday', 'lacey chabert', 'jay baruchel', 'laika', 'mary shelley', 'wakanda', 'adam lanza', '$1.87 m', 'september 7 , 2005', 'blood', 'florence , italy', 'donna paige helmintoller', 'philip worth', 'peter dinklage', '$2.75', 'todd robert bowles', 'approximately 200,000 years ago', 'china', 'tonsil stones', 'tonsilloliths', '3,890', 'wave packet', '1876', 'fewer than five thousand', 'la', 'jenna ortega', 'djibouti', 'eritrea', 'ethiopia', 'somalia', 'baymax', '. kratika sengar', 'sharad malhotra', '1978', 'roger federer', 'gravity', '24', '6', 'june -- july 1776', 'ben cohen', 'jerry greenfield', 'kimberly weber', 'natasha ryan', 'kristina osterhout', 'kristian alfonso', 'mila kunis', 'tammy taylor', '29 november 2010', '9.5 trillion kilometres', 'ibrahim and ishmael', '13 june 2003', 'spanish', 'toto', 'three or more cards', '10', '2003', 'hills village middle school', '22 %', 'oct', 'queen', 'alexa', 'a red italian wine', '28 january', 'religious school', 'enters the citric acid cycle', 'english', 'sajjan', 'nine', 'wilt chamberlain', 'charles waldegrave', '55 %', 'males', '2003 -- 2004', 'doc brown', 'over us $22 billion', 'september 26 , 2017', 'british dance group faithless', 'tirot sing', 'makardhwaja', 'shah\\\\xc4\\\\x81dah', 'the alps', 'september 25 , 2015', '6 april 1652', 'acrobatic and dance group zurcaroh', 'singer courtney hadwin', 'singer amanda mena', 'singer makayla phillips', 'singer michael ketterer', 'eddie howe', 'ryan seacrest and jenny mccarthy', 'saint peter', 'k\\\\xc3\\\\xa1ra mccullough', 'joan cusack', 'anguillara sabazia', 'sergeant', 'pittsburgh steelers', 'in 1348', 'ayden mayeri', 'joseph barbera', 'hoyt curtin', 'william hanna', 'number one observatory circle', 'hal quits', 'march 7 , 2018', 'indiana evans', '1982', 'pantheon books', 'president', 'vice president', 'cleveland indians', 'freaks and geeks', 'renton , washington', '$400,000 annually', 'colorado river', 'iraq', 'sir alfred lloyd tennyson', '( +', '+ 1', '8,507', 'robert oppenheimer', '1913', 'the 1890s', 'during the civil war', '1992', '1857', 'atlanta falcons', 'new england patriots', 'mohamed salah', 'dakota johnson', 'jamie dornan', 'late 1880s ,', 'may 21 , 2014', 'mobile , alabama', 'country music artist dierks bentley', 'inverse proportionality', 'parson james', 'shashank manohar', 'the animals', 'sony pictures animation', 'barone', '1 october 2008', 'harry statham', 'house of representatives', 'sunshine', 'pink', 'zendaya', '16,000 years ago', 's. fillmore bennett', 'joseph p. webster', '30', 'yury gazinsky', 'rickey henderson', 'december 1972', 'titus welliver', 'we are', 'joe cocker', 'edward raymond cochran', '11 november 1918', 'kristen joy schaal', 'juliette , georgia', \"the hurt locket \\\\'\\\\'\", 'vancouver', 'cumulonimbus', 'melissa reese', 'germany', 'italy', 'japan', 'ella baker', '1992', \"`` balance ''\", 'honor\\\\xc3\\\\xa9 mirabeau', 'lafayette', 'thomas jefferson', 'cleveland indians', 'cameron', \"`` buzz \\\\'\\\\' brainard\", 'thirteen colonies', 'goods and services', 'southeast d.c.', 'mary elizabeth mastrantonio', 'civil liberties', 'human rights', 'political freedom', 'september 5 , 2007', 'october 31 , 2011', 'harvey', 'welding', '1954', 'sir walter raleigh', 'sous chef heather west', 'late 2013 - early 2014', 'southern aitkin county', 'samuel francis smith', 'j. michael finley', 'brody rose', '44', 'p.v. narasimha rao', '1991', 'the enterocyte', 'colony and dominion of virginia', '1934', '1585', '2018', 'wisconsin', 'illinois', 'max weber', 'late 1980s', \"`` departure of summer \\\\'\\\\'\", 'group a streptococcus', 'dwight d. eisenhower', 'constitutional law', 'fossil fuel', '2,700', 'metacarpals', 'rose royce', 'matt prater', 'mary hopkin', 'western bulldogs', 'the communist party of china', 'cawker city , kansas', 'march 13 , 2018', 'eastern conference', 'venice', 'melanie paxson', 'bert richardson', 'kevin patrick yeary', 'scott walker', 'david newell', 'mary lou keel', 'elsa alcala', 'barbara hervey', 'michael keasler', 'sharon keller', 'the house of representatives', '2006', 'brian earl thompson', 'cillian murphy', 'ray allen', 'west', 'pamulaparti venkata narasimha rao', 'jr motorsports', 'andrea riseborough', '29 march 1974', 'bloodhound gang', '1987 -- 88 season', 'tuberculosis', 'hereditary revenues of the crown', 'barry switzer', 'cliff edwards', 'terry kiser', 'june 29 , 2018', 'pakistan', 'india', 'england', 'bangladesh', 'bruno mars', 'coldplay', 'beyonc\\\\xc3\\\\xa9', 'alex borstein', 'podiatrist', 'march 19 , 2018', \"`` 21 guns \\\\'\\\\'\", 'socrates', 'french garden', '1856', 'a game of thrones', 'loving oneself ,', 'lancashire', 'over 90', 'eastern australia', 'aesop', 'cynthia ann lamontagne', 'the candy - counter girl', 'the allied powers', '2010', 'confederate forces', '1995', 'madison nicole ziegler', 'irish origin', 'tim rice', '2011', 'free', '1928', 'policies regulating immigration', 'spread of french culture', 'conservative counter-reaction that defeated napoleon', 'bringing liberalism', 'reversed the new reforms', 'reinstalled the bourbon kings', 'ram subhag singh', 'pert kelton', 'mgso 7h o', '10cc', 'gomez', 'dnce and kings of leon', 'united states', '12', 'territorial courts', 'federal courts', '63', 'janine lindemulder', 'jay ryan', 'amber skye noyes', 'sendhil ramamurthy', 'max brown', 'kristin kreuk', 'nicole gale anderson', 'michael roark', 'nina lisandrello', 'austin basis', 'brian j. white', 'bobby bare', 'johnny darrell', 'jerry lee lewis', 'tom jones', 'porter wagoner', 'pewdiepie', 'andrew clement serkis', 'gary sandy', 'blake berris', 'pink floyd', 'john adams', 'availability of cheap land', 'high birth rate', 'dan humphrey', 'daniel greene', 'jordan ross belfort', 'josh osborne', 'shane mcanally', 'miranda lambert', 'the mid 1500s', '10', 'idina menzel', 'the roman republic', 'september 19 , 2014', 'freddie highmore', 'october 12 , 2017', 'the western bulldogs', 'joe walsh', 'inder kumar gujral', 'the early 20th century', 'cookery writer delia smith', 'nerd', 'canada', 'january 26 , 2018', 'typhidot', 'doug jones', 'philadelphia', 'toronto , ontario , canada', \"the rainbow children \\\\'s choir\", 'insooni', 'lee eun - mi', '1989', 'in the stomach', 'keith richards', 'mick jagger', 'mahatma gandhi', 'july 14 , 1983', 'in the fourth - century', \"florence \\\\'s galleria dell\\\\'accademia\", '6', '15', '1945', 'the dermis', 'meursault', 'macbeth', 'streetband', 'promiscuous', 'ignite me', 'mike rowe', 'west virginia', \"tommy \\\\'s tunes\", 'teppanyaki', '1968', 'gwyneth paltrow', 'kacey musgraves', 'thirty minutes', 'executive residence', 'the genie', 'sarah mclachlan', 'milan', 'guyana', 'leu', 'russia', 'late nineteenth century', '1935', 'to trade with chinese markets', '71,874', 'curtis martin', 'dan marino', 'mike ditka', 'rickey jackson', 'chris doleman', 'russ grimm', 'tony dorsett', 'joe schmidt', 'james arnold taylor', 'in 2009', 'night watch', '1888', 'florence , arizona', 'paye', 'march 8 , 1965', 'arlington county , virginia', 'dylan mcdermott', 'mara wilson', 'elizabeth perkins', 'robert prosky', 'j.t. walsh', 'james remar', 'richard attenborough', 'stage h. production', 'leavesden film studios', 'shepperton studios', '771 -- 476 bc', 'collabro', 'the yellow sea', 'the korea bay', 'ne - yo', 'julie tice - bubolz', '8', 'ron hale', 'intramolecular force', '87.5', 'oakland athletics', 'harry vardon', 'gary cole', 'gilbert gottfried', 'five', 'the samuel goldwyn studio', 'the southeast corner of virginia', 'fusarium venenatum fungus', '16th century', 'september 27 , 2017', '9', 'hilary', 'alexander dzhaparidze', 'two', 'duffy', 'anableps', '12 february 2012', 'brad pitt', 'vice president', 'russ ballard', 'january 2013', '2016', 'the pyloric valve', '1998', 'bank of america stadium', 'hurricane bret ( 1999 )', '1 january 1999', '1859', 'april 1 , 2012', 'united states', 'leigh - ann galloway', '4,230,920', 'the longest yard', 'jesse leach', '1928', 'nine times', '2006', \"`` live it up \\\\'\\\\'\", 'the cubic metre', 'meryl streep', 'henry burton', '25', 'tom holland', 'an egyptian medical textbook', 'sarojini naidu', 'rabindranath tagore', 'quincy jones', 'iran', 'afghanistan', 'pakistan', 'bangladesh', 'nepal', 'india', 'mishael morgan', 'private jacob parrott', '1968', 'a pivot joint', 'andy biggs', 'kyrsten sinema', 'ruben gallego', 'paul gosar', 'ra\\\\xc3\\\\xbal m. grijalva', 'martha mcsally', 'david schweikert', \"tom o\\\\'halleran\", 'tico wells', 'no more than 75', 'eddie redmayne', 'dominance', 'noel harrison', 'taylor michel momsen', '1', 'erik jones', 'the ordinate', 'andrew lloyd webber', 'ashley peacock', 'molly dobbs', '1996', 'west bengal', 'every autumn', 'thigh meat', 'jane frances kaczmarek', 'art walunas', '2016', 'encouraging settlement', 'twelve', 'garland', 'billy burke', 'gabrielle union', '526 miles', 'ren\\\\xc3\\\\xa9e taylor', 'september 27 , 2017', 'richard fairbrass', 'rob manzoli', 'jack antonoff', 'taylor swift', 'fred fairbrass', 'emmet brickowski', 'the marshall tucker band', 'julius caesar', 'neue galerie , new york', 'aerosmith', 'january 14 , 2018', 'indian river county', 'march 30 , 2018', 'michael phelps', 'celtics', 'howard greenfield', 'neil sedaka', '247', 'sh\\\\xc5\\\\x8d', 'september 9 , 1850', 'danny devito', 'sean patrick astin', 'joan collins', 'the seventh disney princess', 'dan perri', 'lucas', 'david nolan', 'america ferrera', 'mikhail gorbachev', '1978', 'christina aguilera', 'cher', 'adolf hitler', 'september 13 , 1996', \"mus\\\\xc3\\\\xa9e d\\\\'orsay in paris\", 'acamas', 'misery', 'jack', 'the states', 'luther strange', 'richard shelby', 'peter paul montgomery buttigieg', 'september 5 , 2018', 'virat kohli', 'courtney thorne - smith', 'rafael nadal', 'genevieve goings', 'john thompson', 'john a. macdonald', 'rickey henderson', 'casino night', 'the alps', '1998', 'congress', 'douglas adams', '1837', 'jordan fisher', 'jesse fuller', 'congress', '1994', 'becca kufrin', 'university of albuquerque', 'internet layer', 'etruscan', 'may 30 , 2017', '1945', 'merle haggard and bonnie owens', 'wings', 'joey king', 'c. rajagopalachari', 'c.v. raman', 'sarvepalli radhakrishnan', 'andy bernard', '1973', \"st john \\\\'s wood\", 'harry chapin', 'christianity', 'james madison', '1741', 'fred willard', 'acronym', 'seth macfarlane', 'christian', '20 june 2011', 'nevada national security site', \"applebee \\\\'s\", 'implied powers', 'enumerated powers', '270', 'onerepublic frontman ryan tedder', 'bay', 'gone with the wind', 'josephine', 'woodrow wilson', 'june 2018', 's\\\\xc3\\\\xa8vres , france', 'july 16 , 2017', '2016', 'cristiano ronaldo', 'goat', 'dan stevens', 'december 11 , 1962', 'sir mian muhammad shafi', 'throughout the body', 'in august 2011', 'mariora goschen', 'taylor michel momsen', '1986', 'mkng', 'neg', 'commercial', 'informative', 'non-governmental organisational', 'governmental', 'entertainment', 'krantivira sangolli rayanna', 'irina', 'aro', 'october 11 , 2011', '1965 .', '2018', 'thomas jefferson', '1624', 'alexandra daddario', 'july 24 , 2018', 'march 31 , 2017', 'marty robbins', 'christianity', 'islam', '27 april 1995', 'east of the rocky mountains', 'february 1952', 'special districts', 'kevin kline', 'alec baldwin', '74 days', 'john lennon', 'andy hill', 'pete sinfield', 'darby slick', 'ambrosia', 'ponyboy curtis', 'vivienne segal', 'percy sledge', 'nicolaus copernicus', 'daniel coulter reynolds', '12', 'gal gadot', 'wilbur', 'plutarch heavensbee', '13', 'september 13 , 1969', 'lyu haotian', 'november 17 , 1984', 'greek - speaking christians', 'gentile audience', '74', 'oscar isaac', '4 april 1861', '1966', 'atlanta falcons', 'malcolm arnold', 'acrostic', 'april 27 , 2010', 'on june 17 , 1885', 'tony curran', 'paris saint - germain', 'darius perkins', 'ren\\\\xc3\\\\xa9e coleman', '1779', 'packers', '233 , andoni zubizarreta', 'ciprofloxacin', 'the ferreira triplets', '1978', 'womesh chunder bonnerjee', '17th century', '1997', 'cartoon network', 'radha mohan singh', 'brooks koepka', '49 cfr 71', 'houston', 'los angeles', 'phoenix', 'new york', 'chicago', \"`` pat \\\\'\\\\' castagne\", 'sinoatrial node', 'og parker', 'deko', 'nuclear transmutation', 'dan stevens', 'the latin arch in europe', 'dr. harsh vardhan', '1964', 'over 390', 'potato', 'a 1959 chevrolet impala lowrider', '2010', 'contract', 'swaziland', 'lesotho', 'new zealand', 'uruguay', 'august 2018', 'rajasthan', 'david lloyd george', 'h.h. asquith', '1969', '1896', 'karen gillan', 'shea whigham', 'south korea', 'july 9 , 1991', 'rob davies', '1990', 'mike henry', '12', 'day of pentecost', 'ie7', 'seven', 'anoop mishra', 'v10 fsi', '1952', '275', '31 december 1687', 'bc jean', 'in the middle ear', 'the american revolutionary war', 'mandarin', 'the fifth season', 'the assemblies', 'mikhail lomonosov', 'december 28 , 1987', 'ancient athens', 'han', '24', 'atoms', '2019', 'the government of british india', 'march 7 , 2018', 'april 24 , 2018', 'king features syndicate', 'work for hire', 'debt ceiling', 'wendy kilbourne', 'ben glover', 'matt maher', 'crowder', 'early defibrillation', 'early access', 'early advanced cardiac life support', 'early cpr', '2', 'five', 'paul reubens', 'tom poston', 'nelly', 'the yardbirds', 'three', 'disneyland park', 'walt disney studios park', 'billy ray cyrus', 'klymaxx', 'hamblen', 'gerald anthony scarfe', '1 march 1973', 'peyton manning', 'bts', 'egypt', 'immanuel wallerstein', 'in the seattle area', 'human fertilization', 'thomas robert malthus', 'sarcolemma', 'slightly less than 50 %', '91', 'adam driver', 'paul simon', 'gemma arterton', 'twelve times', 'full turgor', 'oakland , california', 'steve holland', 'interlingual homographs', 'ancient roman senate', 'megan park', 'the emulsion test', '16', 'approximately 16,000 students', 'northern europe', 'july 9 , 2003', '1990', 'cuba', 'texas', '6,469.66', '12 to 17 years', 'dusty springfield', 'joe', '125,000', 'november 17 , 2017', 'british architect herbert baker', 'jason newsted', 'memoir', 'many authors over many centuries', 'bryan robson', 'english origin', 'halle berry', 'bi-polar disorder', 'black mountain , north carolina', 'sylva , north carolina', 'twenty - five', 'zoe mclellan', 'first democratic system of government', 'confederate forces', 'cappelletti , john john cappelletti', 'april 27 , 2018', '1981 , 2016', 'naveen', 'kevin', 'mel', 'bob', 'stuart', '1874', 'january 31 , 2017', \"maureen o\\\\'hara\", 'brian keith', 'continental', 'oceanic', 'from the east coast', 'v.c. bird international airport', 'nepal', 'beef', '1952', 'lesley gore', 'cyan', 'jason isaacs', 'edmonton , alberta', 'october 1976', 'the clash', 'the bobby fuller four', 'sonny curtis of the crickets', 'edmund gwenn', 'neal dahlen', 'bill belichick', 'ahmad shah durrani', 'margot robbie', 'matt lanter', 'first sunday in november', 'james pankow', 'dalton', 'march 1 , 2018', '$123.8 trillion', \"`` rite of passage \\\\'\\\\'\", 'pleurisy', 'wu zun', 'jordan chan', 'will liu', 'du jiang', 'deng lun', 'india', 'her own father', 'randy toms', 'lanka', 'james edward fleet', 'izzie', 'april kepner', \"lazar wolf \\\\'s dead wife\", 'mathieu orfila', 'bruno tonioli', 'oakland -- alameda county coliseum', 'aerys targaryen', 'dave grohl', '1845', 'various writers', 'william desmond anthony pertwee', 'sheridan smith', 'lucille ball', 'henry fonda', 'the hijra', 'the battle of bunker hill', 'bob hoskins', 'stringer bell', 'midway through season 5', 'september 3 , 2018', 'jughead jones', 'elizabeth cady stanton', 'lucy stone', 'susan b. anthony', 'libertas , a roman goddess', 'mayweather', 'tony hawk', 'confederate', 'federal acquisition regulation', 'december 1 , 1969', 'beginning in august 2006', 'yearly standardized tests', '2010', '1979 -- 80', 'august 15 , 1971', 'richard dormer', 'guide andy harris', 'may 2 , 2018', 'david jacob', 'paul fireman', 'vallejo', 'crockett', 'northern californian towns', 'benicia', 'san rafael', 'sebastopol', 'james andrew eric', 'oliver martyn john phelps', 'front - wheel - drive', 'jaime elizabeth pressly', 'david alexander', '131 countries', '12 april 1961', 'ren\\\\xc3\\\\xa9e taylor', 'kalyan singh', 'april 4 , 2017', 'racial minorities', 'book of genesis', 'july 3 , 2014', 'jem finer', 'shane macgowan', 'katey sagal', '2001', 'december 20 , 2012', 'bede', '13', 'theresa may', 'little crow', 'big eagle', 'shakopee', 'wabasha', 'dan stevens', 'anne ramsey', '2 august 1986', '2 titles', 'e.g. daily', 'over 670', 'ajaz ahmed', 'death', 'ariana grande', '51,634', 'dan stevens', 'dylan thomas sprouse', 'cole mitchell sprouse', 'blood gas test', '1979', '25 september 1915', '1999', '1790', 'united states', 'continental rise', '2008', 'april 22 , 2018', 'pel\\\\xc3\\\\xa9', 'parallel syntax', 'ty montgomery', 'f\\\\xc3\\\\xa9d\\\\xc3\\\\xa9ration internationale de football association', '211', 'mapanna mallikarjun kharge', 'palmdale', 'mojave desert', \"universal \\\\'s sound stages\", 'victorville', '40.46', 'william lyon mackenzie king', '8.2. 56', 'chicago', 'arthur meighen', 'hayley podschun', 'the dynamites', 'sarah jayne jensen', 'brittany snow', 'honeybus', '13', '3', 'auburn', 'albany', 'amsterdam', 'three', 'john f. kennedy', 'tigris', 'pishon', 'gihon', 'euphrates', 'the 1930s', 'the kuiper belt', 'counter clockwise', 'john cullum', 'series comma', 'harvard comma', 'serial comma', 'oxford comma', 'karen sue trent', 'in new mexico', 'prince', 'tyrod taylor', 'ghana', 'february 6 , 2018', '21', 'robert parish', 'kevin willis', 'kevin garnett', 'blackie parrish', 'an official secession convention', 'robert pershing wadlow', 'alina zagitova', 'julian baker', 'rajyavardhan singh rathore', 'neil young', 'fine gael', 'april 5 , 2017', 'james s. coleman', 'george w. bush', 'at least 9000 bc', 'bobby stokes', 'civilians', 'young adult mystery comedy novel', 'biomedical and public health research', '2008', '1980', 'cassie scerbo', '1968', 'sarah josepha hale', 'bart millard', 'the palais garnier opera house', 'charles frederick worth', '2017', 'chris young', 'wab kinew', 'caoife coleman', 'mishay petronelli', 'paul newman', 'darryl sittler', 'the dillards', 'jace everett', 'chris dubois', 'jim duggan', 'juan sebasti\\\\xc3\\\\xa1n elcano', 'wally johnson', 'cumberland river', '1863', 'the house of representatives', 'ram nath kovind', 'isaac newton', 'diffusion', 'the eighth season', '1994', 'jake', '$3.9 billion', 'a multi-purpose arena / facility', 'november 24 , 1998', 'ray singer', 'kurt browning', 'cancelled after its first season', '1934', 'crust', 'chereene allen', 'february 13 , 1996', '221 -- 206 bc', 'wisconsin', 'fourteenth amendment', 'thursdays', 'chicago bears', 'baltimore ravens', 'blue', 'april 20 , 2018', 'june 25 , 2018', 'meiji', '2015', 'the crocodile', 'vegetable oil', 'alexithymia', 'soman chainani', 'vatican city', 'anne hathaway', 'edward bulwer - lytton', '1960', 'near murfreesboro , tennessee', 'mac davis', 'sachin tendulkar', '$37.2 billion', 'season 2 , episode 7', 'suggestive dialogue', 'owen hunt', 'keith veney', \"breed 's hill\", 'an oil embargo', 'tatyana marisol ali', 'chad danforth', 'paul the apostle', 'kingdom of denmark', 'heath ledger', 'five', 'colleen rose dewhurst', 'july 2009', 'july 1998', 'tulsa , oklahoma', 'vancouver , british columbia', 'the new zealand national party', 'about 3 %', '1950', '2019', 'roger federer', 'august 20 , 2018', '1827', 'late september through mid-october', 'paul the apostle', 'tina majorino', 'three', 'august 17 , 2018', 'confederacy', '13 december 1977', 'kameron michaels', 'aquaria', \"asia o\\\\'hara\", 'eureka', 'cuneiform', '1970', '1998', '1994', '2018', '1986', \"i \\\\'m sorry\", '26 november 1949', 'queenstown , new zealand', 'sydney , australia', \"`` ben - semination \\\\'\\\\'\", 'january 25 , 2018', 'july 22 , 2020', 'constance billard', 'population density', 'union', \"pandora \\\\'s box\", 'early 1980s', 'kazuya souma', \"gabriel \\\\'s horn\", 'a predominantly white audience', 'temi orelaja', 'mitribah , kuwait', '2011', 'fiji', 'timon and pumbaa', 'bond gideon ( 1980 )', 'the mcmartin preschool trial', '1930s', 'almost entirely of birch', 'rob riggle', 'coal', 'estelle', '16 march 1815', '1908', 'vishrava', 'phil hartman', 'titus welliver', '1941', 'lieutenant general charles cornwallis', 'southeastern mexico', 'daniel richard goddard', 'mariah carey', 'felicity jones', 'lynn cartwright', 'five', 'new delhi', '1943', \"frederick `` fred \\\\'\\\\' stoller\", 'tyke', 'ghana', 'portugal', 'abdomen', 'joan baxter', 'the modern steam turbine', '30', 'baldwin park , california', 'improve european prosperity', 'rebuild war - torn regions', 'prevent the spread of communism', 'remove trade barriers', 'modernize industry', 'david spade', 'michael faraday', 'sir charles baskerville', 'may 19 , 2016', 'eidetic memory', 'january 6', 'kj apa', 'bryce gheisar', 'november 7 , 2014', 'december 13 , 2016', 'ed smith stadium', 'industrial revolution', 'scrolling', '2015', 'yamuna', '16th to 20th centuries', 't.i.', 'hibiscus sabdariffa', 'george harrison', 'matthias schleiden and theodor schwann', 'marshmello', 'maddie poppe', 'carrie underwood', 'charlie puth', 'kelly clarkson', 'echosmith', 'meghan trainor', 'infected', '1980', 'brian wilson', 'operation market garden', \"jack o\\\\'connell\", 'lower assembly', 'pregnancy', 'the marshall tucker band', 'southern california', 'the angel of christian charity', 'lauren woodland', 'vanessa evigan', 'county galway', 'county mayo', 'logan echolls', '1974', 'arabian stallion', '21 august 2018', \"one \\\\'s environment\", 'golden state warriors', 'walt disney', '5', 'dean andrews', '2010', 'theodore roosevelt', 'country', '1541 vine street', 'lewes , delaware', 'alec baldwin', '1903', 'january 31 , 2011', '6 may 2010', 'deep purple', '13 april 2018', 'fort davis', \"`` dog \\\\'\\\\'\", '25', 'ekiti', '38', 'carbon dioxide', 'march 2018', 'fifth planet from the sun', 'cristiano ronaldo', 'the colonies of british america', 'april 2018', 'obadiah stane', 'greater than 7', 'erwin brothers', 'bart millard', 'abu sufyan ibn harb', 'joseph ( david campbell )', 'eleven', 'october 1 , 2017', 'b.n. rau', '\\\\xc3\\\\x89ponine', 'winston cigarettes', 'system software', 'coldstream guards', 'may 28 , 2008', 'december 15 , 1791', 'february 2002', \"`` walk of punishment \\\\'\\\\'\", 'on stranger tides :', \"at world \\\\'s end :\", \"dead man \\\\'s chest :\", 'nagasaki', 'hiroshima', '6', 'earl hamilton', 'february 5 , 2017', \"instagram \\\\'s own account\", 'kaiser foundation hospitals', 'permanente medical groups', '10 episodes', 'nucleases', 'lipases', 'proteases and peptidases', 'amylases', 'during a stoppage in play', '74.04 percent', '$25,000', 'peter tork', 'micky dolenz', 'michael nesmith', 'march 1 , 2019', 'october 10 , 2017', 'stephen curry', 'chimborazo', 'the united states', 'philadelphia', 'knee joints and ankle joints', 'kristinia debarge', 'tj mizell', 'angela simmons', 'vanessa simmons', 'egypt criss', 'romeo miller', 'boogie dash', 'english glamour model corinne russell', 'october 7 , 2008', 'evanston , il', 'sarah hotchkiss trendell', 'houston astros', 'los angeles dodgers', '1976', 'a restaurateur', 'al harris', 'tika sumpter', 'marty', 'stephen curry', 'the final countdown', 'tom walker', 'bethany joy lenz', 'scorpions', 'jackson timothy brundage', 'candice brown', 'seadew', 'india', 'the adrenal medulla', 'shane black', 'january 21 , 1977', 'amy madigan', 'a basic word processor', 'cape cod hook', 'october 17 , 2017', 'synovial joint', 'cartilaginous joint', 'fibrous joint', '100 microamperes', 'hugh hurwitz', '$11.00 per hour', 'bihar', 'paul mccartney', '208', 'march 23 , 2018', 'mayim chaya bialik', 'the avengers', 'titanic', 'avatar', 'jurassic world', 'daniel isaac mcguffey', 'an annual financial statement', 'july 1980', 'yukio yokozawa', 'december 7 , 1982', 'endoplasmic reticulum', 'mitochondria', 'george teren', 'rivers rutherford', 'secretariat', '1881', 'ch\\\\xc3\\\\xa2teau de chillon', 'billy boyd', 'thucydides', '21', 'jon corzine', '1996 -- 97', '18', 'nick slater', 'the republic of china', 'the empire of japan', 'the united states', 'john barry', '2015', 'september 1939', 'harvard university', 'yale university', 'columbia university', 'dartmouth college', 'brown university', 'cornell university', 'university of pennsylvania', 'princeton university', 'between 1756 and 1763', 'a collective defence treaty', 'christopher robert evans', 'christina aguilera', 'july 20 , 2018', '2011', 'in the sixth season', 'jorge t. almonte', 'elle fanning', 'tiber', 'pieman', 'opium', 'beefsteak', 'david cross', 'region 3 : south', 'september 13 , 1990', 'sucheta kriplani', 'los angeles , california', 'usain bolt', 'fargo', 'seth macfarlane', 'non-essential fatty acids', 'a chorus line', 'andrew houison', 'wiltshire , england', 'the buckwheat boyz', '129', 'first national bank', 'capitec bank limited', 'discovery bank limited', 'african bank limited', 'bidvest bank limited', 'garth brooks', 'michigan state', 'madison nicole ziegler', 'joshua paul dallas', 'helium', 'compact hatchback', '2008', 'alvin lee', '$61,372 in 2017', 'october 27 , 2017', 'november 1935', '1863', 'an unknown recipient', 'bobby moynihan', 'demetri martin', 'eric edelstein', 'l brands', 'major anderson', 'five', '1966 -- 67', 'gemma and clay', 'mark collie', 'the italian city of pisa', '2006', '2014', 'shinsuke j. sugiyama', 'july 13 , 1973', 'danny glover', 'percy bysshe shelley', 'newt gingrich and dick armey', 'thomas doherty', '`` philadelphia', 'june 25 , 2017', 'rev. theodore hesburgh', 'nico cristian mirallegro', 'eight', 'reformers', 'yogi adityanath', 'henry cooper', 'blake gibbons', 'germany', 'october 13 , 2017', 'james earl jones', '1765', 'parliament', 'orlando , florida', 'venous circulation', 'colton haynes', '26 september 1983', 'small intestine', 'jonathan adam saunders baruchel', 'february 13 , 2018', 'may 16 , 1918', 'genie francis', 'the simpsons', '1963', \"j\\\\'son\", 'lego', 'united states', 'niagara river', 'hudson river', 'katharine houghton', 'katharine hepburn', 'roy e. glenn', 'spencer tracy', 'beah richards', 'sidney poitier', '89 minutes', 'qualcomm snapdragon 835 cpu', 'gene raskin', 'october 18 , 1967', '11 february 1929', 'dave foley', 'philomath', 'vicki lawrence', '1970s', 'zakir husain', 'prime minister najib razak', 'prime minister nguy\\\\xe1\\\\xbb\\\\x85n xu\\\\xc3\\\\xa2n ph\\\\xc3\\\\xbac', 'prime minister hun sen', 'prime minister thongloun sisoulith', 'sultan hassanal bolkiah', 'prime minister lee hsien loong', 'president rodrigo roa duterte', 'president joko widodo', 'nora', 'the delorean dmc - 12', 'sid tepper', 'carmella', 'thomas doherty', 'supernovae', '18', 'visa required', 'april 4 , 2006', 'jeff gordon', 'romans 16 : 21', 'roxette', '1,822', 'amanda marsh', 'vibe', 'nashville , tennessee', 'natchez , mississippi', 'in 1980', 'ashok narula', 'annakutty babu', 'd.a. chaturvedi', 'neeraj kapur', 'the soviet union', 'the united states', '125 minutes', 'iris', 'in philadelphia , pennsylvania', 'university of central arkansas', 'big & rich', 'american girl group fifth harmony', 'wakanda', 'september 14 , 2008', 'president abraham lincoln', 'the rembrandts', 'david crane', 'michael skloff', 'danny wilde', 'allee willis', 'marta kauffman', 'phil s\\\\xc5\\\\x8dlem', 'june 7 , 2018', 'american singer kehlani', 'henry johnson', 'benjamin kaufman', 'archie a. peck', 'fifth title', 'bobby scott', 'bob russell', 'michigan', '2017', '1608', 'babafemi ogundipe', 'early september', 'shana', 'manfred mann', 'new england patriots', 'the german band nena', '1814', '6', 'iran', 'jonathan harris', \"the world \\\\'s fair\", 'the rivalry with cincinnati', 'the weather', 'politics', 'gaba receptor positive modulators', 'central depressants', 'euphoriants', 'anxiolytics', 'sedatives', 'subjective', 'aristotle', 'beatles for sale', 'cmt', 'the supreme court', 'selena gomez', 'february 27 , 2018', 'william conrad', 'houston cougars', '10', 'meat', 'a brain haemorrhage', 'senusret i', 'taklamakan desert', 'gobi desert', '1,004', 'march 1941', '63', 'bar room', 'saloon', 'day 34', 'on the east of eden', 'shreyan bhattacharya', 'yumna ajin', 'sonakshi kar', 'dhroon tickoo', 'jayas kumar', 'riya biswas', 'shanmukhapriya', 'anjali gaikwad', 'bianca ryan', 'linus torvalds', 'the celestial sky', 'origins are unknown', 'purple violet', 'scott la rock', 'angelique kerber', 'the flag of chile', 'oscar', 'martin starr', 'dr. lexie grey', 'paul and linda mccartney', 'vancouver', 'paula - mae weekes', 'elizabeth maclennan', 'lloyd reckord', '3780 south las vegas boulevard', '1834', 'octavian', 'antony', 'crystal r. fox', 'the inner mitochondrial membrane', 'christina perri', '18', 'eric allen stonestreet', 'fauvism', 'atp produced by mitochondria', 'over 2.7 million', '1917', '3 september 1953', 'two', 'gandiva', 'stepfather ganelon', 'october 17 , 2017', 'the gap band ,', 'central mexico', 'lauri hendler', 'frank morris', 'john anglin', 'clarence anglin', 'the beasley brothers', 'rose royce', 'none', \"workers \\\\' councils\", 'jada pinkett smith', 'owner / user', 'developers', 'renter', 'facilitators', 'owner', 'renovators', 'september 25 , 2016', 'december 7 , 1917', 'vancouver , british columbia', 'john lennon', 'sunk cost', 'flynn jones', 'inner ear', 'czk 23,859', 'columbia university', 'team usa', 'canadian shield', 'thirty - five', '2', '11 august 1968', 'kamal givens', 'asha bhosle', 'narendra modi', 'prosencephalon', 'cochin international airport', 'himadri station', 'france', 'united kingdom', 'february 22 , 2000', 'james lillywhite', 'humpty alexander dumpty', 'earth - crossers', 'paul dukas', 'uterus', 'october 23 , 2001', 'geoff stults', 'gettysburg', 'donald trump', 'barack obama', 'george h.w. bush', 'bill clinton', 'george w. bush', '1984', 'rome , italy', '2014', 'kyla coleman', 'december 23 , 2017', 'crust', '104', \"his father \\\\'s funeral\", 'the old norse word haugr', '1961', 'chapter 26', 'flag day in 1954', 'multiple means of engagement', 'multiple means of representation', 'multiple means of expression', 'peter greene', 'hans gross', 'matt hales', 'kim oliver', 'oliver stark', 'august 2018', 'de lisle carbine', 'm1917 enfield', 'martini - enfield', '1955', 'sixteen', 'laura benanti', 'vaal river', 'philolaus', '1999', '1991', 'chile', 'the boston area', 'mortgage', 'ryan vogelson', 'darlene zschech', 'meryl streep', 'jeremy irons', '10', '1980s', 'may 20 , 1902', 'acetylcholine', 'gurbir grewal', 'the mid-19th century', 'sebaceous glands', 'grace vanderwaal', 'kyle massey', 'superman', '16', 'rick fox', 'denver pyle', 'will ferrell', 'may 5 , 2017', 'long beach state', 'ifans', 'gregg henry', 'mountbatten - windsor', 'applying makeup and prosthetics', 'may 1946', 'wells fargo center', 'april 13 , 2015', '2007', 'june 4 , 1946', 'mobile', 'ernest tupes and raymond christal', '1966', 'george washington', 'abraham lincoln', 'seth macfarlane', 'giovanni ribisi', 'liam neeson', 'neil patrick harris', 'amanda seyfried', 'charlize theron', 'sarah silverman', 'the cubs', '1962', 'chuck', 'old norse', 'may 27 , 1935', 'cesar romero', 'three', 'june 28 , 2018', 'las vegas sands corporation', 'burbank', 'downey', 'northridge', 'calimesa', 'norco', 'soul singer otis redding', 'guitarist steve cropper', 'selassie', 'muhammad', '42', '2018', 'guapo , a bull', 'country house', 'glycation', '12', 'sigmund freud', '1978', 'elizabeth hamilton', 'n\\\\xc3\\\\xa9e schuyler', 'chicago , illinois', '25', 'visakhapatnam', 'lady of the lake', 'madonna', 'fedex', 'november 26 , 2017', 'flightless bird', 'logan guleff', 'jericho', 'clara blandick', 'duke blue devils', 'greenwich peninsula', 'royal victoria dock', 'nuclear', 'nucleon -- nucleon', 'jack norworth', 'albert von tilzer', 'pharrell williams', 'rupert holmes', 'sebastian vettel', 'evvie mckinney', 'november 9 , 1988', 'july 11 , 2018', 'sher bahadur deuba', 'colonel', 'march 13 , 2018', 'granting basic civil rights', 'cristobal & 2 companions', 'pupeye', 'poopeye', 'pipeye', 'peepeye', '1926', 'brooks koepka', '16 november 2001', 'electron donors', '27 bc', 'october 22 , 2017', 'november 9 , 2018', 'second pharyngeal arch', 'new england patriots', 'nazi germany', 'august 21 , 2017', 'the third sunday in july', 'ex-factor', 'lynyrd skynyrd', 'july 13 , 2018', 'titanic', 'midwestern town', 'in the fourth season', 'october 7 , 2018', 'september 3 , 2018', '18 chapters', 'bruno sammartino', 'william francis kemmler', 'five', 'august 14 , 2017', 'april 10 , 2018 .', 'dumbledore', 'charles ellis schumer', 'houston astros', 'los angeles dodgers', 'willow tree', 'pleasant street', 'the pillory', 'apache junction in arizona', 'electrochemical', 'between two slices of bread', 'the rev', '$35 million', 'september 12 , 2012', 'gautama buddha', 'john lennon', 'paul mccartney', 'november 28 , 2017', 'a little night music', 'elton john', 'tim rice', 'fifth amendment', 'svartalfheim', 'scribe peter sch\\\\xc3\\\\xb6ffer', 'winters', 'la la anthony', 'tom ellis', 'sanjana hiteshi', 'northern inuit dogs', '2018', 'three 6 mafia', 'demetri martin', '1914', 'the fourth century', 'november 17 , 2017', 'united states', 'kim raver', 'nathan and nicolas myers', '4', 'andy garc\\\\xc3\\\\xada', 'ellen burstyn', 'philip seymour hoffman', 'tina majorino', 'meg ryan', 'mae whitman', 'lauren tom', 'scalene triangle', 'isosceles triangle', 'equilateral triangle', 'framlingham castle', 'tubers', 'ben foster', 'chin up', '37', 'luke and laura', 'adagio', 'the german noun edelgas', '1983', 'central europe', 'al - \\\\xe1\\\\xb8\\\\xa5amdu lill\\\\xc4\\\\x81h', 'tech mahindra', 'larsen & toubro infotech', 'hcl technologies', 'oracle financial services software', 'mindtree', 'wipro', 'hexaware technologies', 'tata consultancy services', 'mphasis', 'infosys', 'edward fisher', 'judy garland', 'the united states', 'a bubble - like dome', 'contagious', '2014', 'the vice president', 'may 29 , 2004', \"true o\\\\'brien\", 'richard cromwell', 'september 27 , 2018', 'unnamed west african country', 'asthenosphere', 'donald a. gorske', 'carrie underwood', 'a market system', 'chemotaxis', 'february 5 , 2017', 'kumiko watanabe', 'september 2013', '2000', '1927', 'robbie coltrane', 'april 22 , 2017', 'amado carrillo fuentes', 'colorado river compact', 'spencer drever', '19 june 2018', 'heartland', '1988', 'middle east ,', 'korea', 'six', 'gao zhiting', 'perry mattfeld', 'bindo jibrilla', 'whiskey gap , alberta', '1890s', '18', '1981', 'jim halpert', 'ellis park stadium , johannesburg', '1961 novel catch - 22', 'carolina reaper', 'new york city', '2013 season', 'mobile , alabama', 'hollywood beyond', 'los angeles', 'selene', 'boo radley', 'bernhard langer', 'carl linnaeus', 'ali daei', 'tyler gray', 'real madrid', 'jackie wilson and marvin gaye', 'hazzard county , georgia', 'september 24 , 2015', 'live ! bootleg', 'cal jam ii live album', 'expressionist', 'nick robinson', '1972', 'jefferson davis', 'matt damon', 'richard white', 'philippe gentil', '120 v', 'kehlani', '2024', '8', 'october 4 , 2016', '21', '1972', 'joanne wheatley', '1995', 'la tasha mccutchen', '1963', 'uruguay', '1999', 'lungs', 'joseph galloway', 'near rochester , new york', 'a pixie scout elf', 'mikveh or mikvah', '1952', 'carol ann susi', 'essex county , new york', 'seychelles', 'iwo jima , volcano islands', 'the united kingdom', 'jackson', 'edge', 'joseph and thomas odwell', \"beto o'rourke\", 'ted cruz', 'peter , apostle , saint', 'seth green', 'in the stomach', '1971', 'january 16 , 2018', 'tokyo', 'marconi', '1897', 'acceleration', 'suriname', 'patrick leahy', 'irish surname', 'the reconstruction era', 'randy meisner', 't\\\\xc3\\\\xa2n s\\\\xc6\\\\xa1n nh\\\\xe1\\\\xba\\\\xa5t international airport', 'intestinal trunk', \"`` the deception verification \\\\'\\\\'\", 'benjamin', 'internal emergency', 'john f. kennedy', 'luke bryan', 'milan', '2010 -- 11', 'howard terbell mcnear', 'ewan mcgregor', 'written by helen schucman', 'clark gable', 'nicole', '1987', 'margery mackay', '1913', 'emily swallow', '1994 -- 95', 'a state', 'organs', 'singapore', '11 december 1972', 'pewdiepie', '2006', '1970 dodge charger', '2028', '2019', 'john', 'oceanus hopkins', 'machiavelli', 'kashyyyk', 'ross martin', 'robert conrad', 'mithali raj', 'individuals', 'social organizations', 'social artifacts', 'groups', 'sarah bolger', 'herb alpert', 'september 11', 'promote fair competition', 'eric martsolf', 'august 3 , 2009', 'kennedy', 'every monday', 'president idi amin', 'meteogroup', 'jennifer garner', 'literally about a river', 'common difference', 'numero symbol , no', 'probation officer', 'dragonstone', 'benjamin whitrow', 'sydney penny', 'laura williams', 'moira kelly', 'niketa calame', 'sally dworsky', 'judgment', 'death', 'heaven', 'hell', 'spring of 1950', 'j.p. manoux', 'gal gadot', 'parisa fitz - henley', 'the parliament of great britain', 'forensic mental health professionals', 'herd', 'twice upon a time', 'james pickens jr.', '2017', 'kareem abdul - jabbar', 'antipsychotic', 'the red sox', 'lilliput', '3200', 'summer of 2005', 'lee meriwether', 'eartha kitt', 'julie newmar', 'amateur mathematician edward j. goodwin', 'fr\\\\xc3\\\\xa4ulein', 'maddie ziegler', 'natalie fletcher', 'arkansas', 'the 1988 movie satisfaction', 'california', 'kanab , utah', 'pink', 'harry jon benjamin', '1967', 'trixie mattel', 'in the temple of zeus', 'sunil chhetri', 'stomach', 'm6 junction 11a at wolverhampton', 'ken kesey', 'between zambia and zimbabwe', '18', '1977', 'mekhi phifer', 'monica', 'brandy', 'january 16 , 2008', 'january 7 , 2017', 'daniel morgan', 'december 1984', 'r.k. narayan', '2000', '2018', 'may 29 , 2017', 'elton john', 'kiki dee', 'boise', 'jos\\\\xc3\\\\xa9 valverde', 'detective # 2', 'miami heat', 'cleveland cavaliers', 'golden state warriors', 'san antonio spurs', 'release it in the fall', 'icarus', 'brian acton', 'jan koum', 'dewayne blackwell', 'october 1 , 2017', 'm&t bank stadium', 'max charles', 'a contemporary , domestic setting', 'joint tenants', 'sarah gray rafferty', 'biochemical energy', 'anthony trollope', '43,560 square feet', 'missy francis', 'fossil fuels', 'new jersey', 'july 11 , 2013', 'carole bouquet', 'lake jackson , texas', 'the president', 'september 28 , 2018', 'sangeeta chauhan', 'harry kane', '8,537,673', 'john astin', 'karanvir bohra', 'vikas sethi', 'ramin djawadi', '62', 'arthur fallowfield', 'november 25 , 2002', 'tariff of 1828', 'july 26 , 2007', 'mark ruffalo', 'xpresswest', 'vagabonds and beggars act', '1952', '116', 'west', 'kim boutin', 'in the mesophyll cells', 'september 10 , 2018', 'k2', 'shreyan bhattacharya', 'jennifer elise cox', 'sonny bono', 'loren allred', 'zendaya', 'ziv zaifman', 'cameron seely', 'zac efron', 'keala settle', 'austyn johnson', 'hugh jackman', 'daniel everidge', 'michelle williams', 'the union government', '1966', 'yogi adityanath', 'the chief justice', 'rik simpson', 'jon hopkins', 'brian eno', 'markus dravs', 'mechanized spinning', 'vera farmiga', 'atlantic city , new jersey', '17', 'waylon smithers', 'taichung', '1970', 'more than 24,000', 'delegates', 'warren', 'carrie fisher', '2017', 'beneath the pectoralis major', 'the southern cross', 'larry sellers', 'woodrow wilson', 'june 2003', 'architect', '4,384', 'march 7 , 2018', 'edward rochester', 'lines of constant latitude', '8', 'tom batoy', 'pharrell williams', 'pusha t', 'andreas forberger', 'franco tortora', '24', \"ethel `` edy \\\\'\\\\' proctor\", 'antonie van leeuwenhoek', 'confucianism', 'president roosevelt', 'straits of mackinac', 'beijing', 'sugandha mishra', 'dangal', 'marble mask', 'santosh yadav', 'silicate minerals', 'ronnie lee gardner', 'tom hanks', 'robert goulet', 'lonnie', 'jenny bicks', 'bill condon', 'donald trump', 'the trump organization', 'june 14 , 2017', 'part the microsoft windows', 'an american tail', '1966', '2018', '1990', 'the grinch', 'dog , max', 'whites', 'allan donald', 'ron howard', 'kimbra', '2017 season', 'october 2017', 'hyper - v', 'dug', '1936', 'string concatenation', 'addition', 'unary plus', 'bradley cooper', '1993 -- 94', 'long island', 'the folk rock band america', '500 to 600', 'h. jon benjamin', '$14.265 trillion', 'philip r.j. pope', 'diane lane', '1531', 'september 1', 'sugarcane', 'florida', '1988', \"`` b.o.t. \\\\'\\\\'\", 'the first wednesday of february', '1945', '18', 'rebecca donaldson katsopolis', 'university of alabama', 'b.r. ambedkar', 'the united states', 'jesse', 'mountains', 'an english surname', 'eamonn andrews', 'rice', 'legumes', 'lentils', 'ecclesiastical differences and theological disputes', '13', '2010', 'transcription', '7 october 2018', 'india', 'the tin woodman', 'h = 0', 'jim beck', 'lefty frizzell', 'buffalo city metropolitan municipality', 'city of tshwane metropolitan municipality', 'city of ekurhuleni metropolitan municipality', 'ethekwini metropolitan municipality', 'nelson mandela bay metropolitan municipality', 'mangaung metropolitan municipality', 'city of johannesburg metropolitan municipality', 'stephen marchant', 'nick brimble', 'august 3 , 2018', 'frank john gorshin , jr.', 'five', '96.0', 'ezra miller', 'hayden christensen', 'bafta award', 'academy award for best actor', 'golden globe award', 'jake', 'summer 2015', 'michael henry', '1999', 'may 1 , 1999', 'dario cologna', 'count cavour', 'mexico', 'the ventricles are contracting', '2012', 'spring', '1964', '29', 'five', 'delta', 'yaphank , new york', 'city girls', '1993 -- 94', 'buck moore', 'gary duffy', '50 to 70 percent', 'united states supreme court', '2018', 'the femur', 'belgium', 'dustin johnson', '7 december 1941', \"kevin j. o\\\\'connor\", 'harrods department store in london', 'colossus of rhodes', 'hanging gardens', 'temple of artemis', 'great pyramid of giza', 'statue of zeus', 'lighthouse of alexandria', 'mausoleum at halicarnassus', 'todd frazier', 'france', 'wahyu nayaka', 'zheng siwei', 'kento momota', 'huang yaqiong', 'cai yanyan', 'yu xiaohan', 'ade yusuf', 'directly underneath the state apartments', 'paul overstreet', 'don schlitz', 'october 19 , 2016', 'salzach', 'chris pratt', 'ed quinn', 'one of the first', 'marquis de lafayette', 'catherine louise sagal', '1789', 'october 15 , 1997', 'the united states', 'tipperary', 'the 2007 model year', 'darryl keen', 'crystal gayle', 'randy meisner', 'don henley', 'san francisco giants', 'oakland athletics', 'the chicago blues', '26 %', 'david harbour', '2000', 'richard dunne', '30.5', 'darci lynne farmer', '23,768', 'joe nichols', 'frank stephenson dillane', 'sometime in october 2018', 'the warriors', 'elizabeth garrett anderson', 'equilateral', 'armadillidiidae', 'herkimer county , new york', 'fascist party', 'us $23 billion', 'dyslexia', 'september 15 , 1965', '1543', '1965', 'kiln', 'sumerian texts from abu salabikh', 'great society', 'the speaker', 'titan', 'august 22 , 2017', '1809', 'guiana space centre', 'during inhalation', 'phyllis rose', 'sam cooke', 'eva bourne', 'sona', '1951', 'may 1980', 'hawaiian airlines', 'jetblue airways', 'american eagle', 'delta connection', 'southwest airlines', 'timpani', 'pentheus', 'aidan reynolds', 'desiree henry', 'cameron macritchie', 'adelle tracey', 'jordan duckitt', 'callum airlie', 'katie kirk', 'makeba riddick', 'lashawn daniels', 'tamar braxton', 'darhyl camper , jr .', 'barista', 'featuring ying yang twins', 'southern end', 'january 17 , 2018', 'white plains', 'new york city', 'hastings - on - hudson', 'irvington , new york', 'melodica', 'the disk', 'the spiral arms', '27 september 2003', 'moliagul , victoria , australia', 'us federal reserve system', 'matteo ricci', '260', 'portman', 'jimmy thompson', '8', 'francisco gento', 'john powell', 'september 2016', 'the contours', 'february 6 , 2018', '82.5', 'randy meisner', 'mystery men', 'five hours and four minutes', 'northeastern africa', 'rice , california', 'south africa and namibia', 'south africa and lesotho', 'dane william dehaan', 'boris gelfand', 'robbie pratt', 'august 28 , 2012', 'richard crenna', 'baby', 'elvis presley', 'endothelial cells', 'the patriots', 'ali tamposi', '48', 'banks of the mississippi river', '2001', '1983', '1971', 'five seconds', 'incumbent rick kriseman', 'season 9', 'the north carolina tar heels', 'the gonzaga bulldogs', 'ralph waldo emerson', 'wayne northrop', 'april 29 , 1980', 'olympic athletes from russia', 'richard lee jackson', 'denver broncos', 'patriots', '1778', '1974', 'august 10 , 2018', 'sachchidananda sinha', 'astoria , queens', 'brooklyn , new york city', 'david charvet', 'population bottleneck', 'adam wainwright', '1951', 'luke', 'october 17 , 2017', 'the shoulder of the animal', 'christopher allen lloyd', '32', 'mayasura', 'remains in operation', '1990', 'judge for the second season', 'ajit wadekar', 'odisha', 'west bengal', 'western ghats', 'andaman', 'nicobar islands', 'assam', 'winston churchill', 'radamel falcao', 'july 6 , 2013', '1975', 'emma nelson', 'maia emilia ninel morgenstern', '1948', '2018', 'sarojini naidu', '404 bc', '1962', 'congress', '29 august 1949', 'microsoft windows , version 1.0', 'albert paul mantz', 'alison mulvaney', 'san francisco 49ers', 'baltimore ravens', '550,000', 'taraji p. henson', 'andrew', 'collabro', '1954', 'broken off', '1998', 'sohyang', 'xxii', 'xvii', 'xxvi', 'hillary clinton', 'bernie sanders', '29 september 1829', 'xenia', '1938', 'new jersey', 'new york', 'connecticut', 'delaware', '18', 'stephen curry', 'maddie poppe', 'gabby barrett', 'caleb lee hutchinson', 'francisco rodr\\\\xc3\\\\xadguez', '1949', 'gary oldman', 'melonie daniels', '1803', 'anita ward', 'emma thompson', 'croatia', 'bryan - michael cox', 'teddy bishop', 'toni braxton', 'wall of the uterus', 'four', 'harry vardon', 'ted ray', '793', 'november 5 , 2019', 'ahmedabad', 'switzerland', 'elton john', '4 september 1870', '32 teams', 'reginald pole', 'jerome cavanagh', 'brooks koepka', '26 september 2017', 'arkham asylum', 'bailee madison', 'henri tajfel', 'october 29 , 2017', 'pg - 13', 'bolsheviks', 'a male servant of royalty', 'fez', 'swallowed', 'new york yankees', 'the soviet union', 'china', 'midnight', '10', '/ \\\\xcb\\\\x8cw\\\\xc9\\\\x91\\\\xcb\\\\x90\\\\xc9\\\\xa1\\\\xc9\\\\x99\\\\xcb\\\\x88du\\\\xcb\\\\x90\\\\xc9\\\\xa1u\\\\xcb\\\\x90 /', 'apotropaic', '70 mph', 'december 6 , 1865', 'dinshaw wacha', 'allan octavian hume', 'dadabhai naoroji', 'march 30 , 2018', '1998', '1998', 'pigs', 'mikael persbrandt', 'uti bank', 'deuteronomy 6 : 4', 'shabana azmi', 'ninjago', 'nearly 40 years', 'toby buckland', 'john sullivan', \"`` house \\\\'\\\\'\", 'noah ringer', 'pat hingle', 'chiwetel ejiofor', 'courtney philip', 'season five', '2018', 'the buckwheat boyz', '2003', 'warwick ashley davis', 'shioli kutsuna', 'barry island', 'marsden', 'manchester', 'october 1 , 1981', 'unknown', '1596', 'jimmy matthews', 'captain marvel logo', '655', 'george duffield , jr.', 'george james webb', 'friday', 'laurence olivier', 'michael kay', 'chris kay', 'march 14 , 2018', 'john debney', 'joseph trapanese', '2002', 'september 13 , 2017', 'dakota fanning', '1971 tv special', 'a motor unit', 'he stopped loving her today', 'marie - charms mishael morgan', '1975', 'reverend richard coles', 'mountain', '8', 'july 16 , 2017', 'lin - manuel miranda', '1092', 'foreign heads of state', 'presidents - elect', 'former u.s. presidents', 'adopted 1953 , constitution 2016', 'english', 'popularized by dinah washington', 'clt', 'miroslav klose', 'cornelius brothers & sister rose', 'as it dries', 'phenolic compounds crystallize', 'werc', 'necessary and proper clause', 'bombay', 'christine jane baranski', '29 august 1949', 'sloan wilson', 'massachusetts', 'george m. steinbrenner field', 'mikhail korniyenko', 'scott kelly', 'march 18 , 2016', 'tatyana marisol ali', 'northern virginia', 'barry mccarthy', 'sylvester', 'shepherdstown', 'sutton', 'sand fork', 'smithfield', 'star city', 'sophia', '1969', 'mongolia', 'dove cameron', 'south carolina', 'april 12 , 1971', '4 and 5 seconds', 'illegitimi non carborundum', 'april', \"danny o\\\\'keefe\", 'the computer ethics institute', 'bradley cooper', 'guy moon', 'deric battiste', 'james babson', 'general sam manekshaw', 'platelet plug formation', 'clot formation', 'vascular spasm ( vasoconstriction )', 'margaret hoard', 'variant data type', 'the members of parliament', 'uruguay', 'waxahachie , texas', 'eight', 'jochos', 'dogos', '58', 'dr. lexie grey', 'eight', 'selman waksman', 'elizabeth bugie', 'albert schatz', 'central and eastern europe .', 'dolph lundgren', 'the monkees', 'aspen', 'willow', '1325', 'the beatles', 'nina dobrev', 'september 13 , 1996', 'keala settle', 'jeanne calment of france', 'january 19 , 1983', 'jonathan edwards', 'texas settlers', 'the hillbenders', '10', 'george h.w. bush', 'dwight d. eisenhower', 'mark richard hamill', 'nettie fowler', 'the relevant patent office', 'montell jordan', 'four', '26', '1918', 'general yakubu gowon', 'automobile drivetrains', 'ryan nasci', 'mitch rowland', 'harry styles', 'tyler johnson', 'alex salibian', 'jeff bhasker', 'abhinav bindra', 'october 27 , 2017', \"olivia d\\\\'abo\", 'channel 150', 'the iga stadium', 'original jurisdiction', '1862', 'john quincy adams', 'thomas jefferson', 'hakeem olajuwon', 'a lost love', 'yearning', 'fifteen', 'set in the 1990s', 'the navigation acts', 'introduction', 'derry , maine', 'in columbus , ohio', 'april 1972', 'piyush goyal', 'frederick the great of prussia', 'taylor schilling', '1977', 'mark addy', '2009', \"dick o\\\\'neill\", 'barbara eden', 'judy geeson', 'judith - marie bergan', 'jennifer savidge', \"jenny o\\\\'hara\", 'josh taylor', 'robert costanzo', 'january 1 , 2018', '3 november 2017', 'golden state warriors', '24.63', 'lieutenant governor', 'dan patrick', 'athena', 'aphrodite', 'hera', 'jim steinman', '11.5 km or 7.1 mi', '1995', 'curry grant', 'from march to april', '2022', 'plato', 'kathryn hahn', 'proximity to boise , idaho', 'the buckwheat boyz', 'june 20 , 2016', 'july 17 , 1984', 'intracellular fluid', 'capulet', 'jayne brook', 'jon bon jovi', 'richie sambora', 'max martin', 'the united states and china', 'louis c.k.', 'bertier', 'the browns', 'cardinal donald wuerl', 'louis - joseph de montcalm', 'kilogram', 'paul ryan', 'jivatram bhagwandas kripalani', '1983', '2011', 'supraorbital notch', 'nasal bones', 'anterior ethmoidal foramen', 'superior orbital fissure', 'busan car chase', 'bald eagle', 'moose', 'elk', '1983', 'flor de muerto', 'november 16 , 2012', 'software testing', '2022', 'neal merritt', 'the late 1990s', '108', 'asad qaiser', 'february 9 , 2018', 'milton french - stewart', '527', 'iron river ranch , colorado', 'peter claver cullen', '1071', 'june 29 , 2007', 'bastian baker', 'noah ringer', 'mesopotamia', 'africa', 'salonika', 'china', 'france', 'belgium', 'italy', 'middle east', 'shelob', 'sparta , illinois', 'melbourne', 'vancouver', 'vienna', 'sydney', '223', 'new york city', 'princeton', 'merry clayton', 'pete rose', 'january 13 , 1990', '17 november 2017', 'new york giants', 'the piney woods', 'houston', 'england', 'wales', '1915', '12 -- 13 september 2017', 'venkaiah naidu', '12', 'insulin treatment', 'february 12 , 2015', 'sovereign jurisdiction', 'hatshepsut', 'nine', 'english singer dua lipa', 'jamaican rapper sean paul', '4 may 2018', 'ana\\\\xc3\\\\xafs nin', 'common law', 'may 28 , 2013', 'february 2 , 1848', 'cyril ornadel', 'leslie bricusse', 'celia imrie', 'jessica keenan wynn', 'lily james', 'alexa davies', 'walter afanasieff', 'beyonc\\\\xc3\\\\xa9 knowles', '4,000 years ago', 'charlemagne', 'cohasset , massachusetts', 'kim carnes', 'glen campbell', 'julian raymond', 'john roberts', 'august 1978', 'wendy frazier', 'over 40 million albums', 'kenneth williams', 'nights of cabiria', 'shivraj singh chouhan', 'nicole scherzinger', 'review organizational goal', 'over-water bungalows', 'world war i', 'wellhead blowout', '1977', 'jason lewis', 'judie mccourt', 'danyl johnson', 'jeff brazier', 'matt johnson', 'three', 'edward bulwer - lytton', 'sex - based shoulder angels', 'september 27 , 2017', 'alpine', '2017', 'kazimierz pr\\\\xc3\\\\xb3szy\\\\xc5\\\\x84ski', '607 islands and islets', 'art hindle', 'joshua', 'matthew 7 : 6', 'delta tau chi', '1,317,929', 'zooey deschanel', 'british columbia , canada', 'dev patel', 'jeanne calment', 'palmed', 'may 1928', 'on alternating current', '2,000 baht', 'the summer of 2018', 'joan cusack', '22', 'march 1837', 'a tall communication antenna', 'france and the low countries', 'on 28 july 1923', 'robert howard cobb', 'mercury mystique', 'ford fusion', 'ford contour', 'john lee hooker', 'jim bentley', 'justin bruening', 'iran', 'iraq', 'alan rickman', 'dan stevens', 'germany', 'the austro - hungarian empire', 'laura pierson & tyler adams', 'kevin mckidd', '31', 'louise', 'joss whedon', 'stevie nicks', 'christine mcvie', '2017 -- 18', 'five years', '1894', '565', '1458', 'jacinda barrett', 'bernard cribbins', '1974', '2014', '1954', '1990', 'the hollywood chamber of commerce', 'jason sudeikis', 'violet chachki', '2018', 'andy garc\\\\xc3\\\\xada', 'state of minnesota', 'july 1 , 2010', 'dolly parton', '1926', 'feb 7 , 2010', 'arizona diamondbacks', 'peter jones', 'joseph marion hern\\\\xc3\\\\xa1ndez', 'adam von fulda', 'brad rutter', 'duncan norvelle', 'louis hynes', 'djoser', 'magnus carlsen', 'auburn', 'alaska pollock', 'judicial review', 'three', '2002', 'eduardo jos\\\\xc3\\\\xa9 padr\\\\xc3\\\\xb3n', 'william sheeran', 'anne mulligan', 'norma koch', 'ross aaron malinger', 'johnathan fernandez', 'dante brown', 'seann william scott', 'clayne crawford', 'keesha sharp', 'chandler kinney', 'jordana brewster', 'michelle mitchenor', 'kevin rahm', 'damon wayans', 'nolan north', 'angora goat', 'joe', \"gandhi \\\\'s supporters\", 'glenn martin christopher francis quinn', 'daisy ridley', 'sam neill', 'rose byrne', 'james corden', 'domhnall gleeson', 'margot robbie', 'elizabeth debicki', 'levi miller', 'david j. fielding', 'mick jagger', 'august 7 , 2013', 'patriots', 'herbert clark hoover', 'chandra danette wilson', 'world war ii', 'kaycee', 'eugene levy', 'wanda sykes', \"catherine o\\\\'hara\", 'shane baumel', 'madison davenport', 'sami kirkpatrick', 'steve carell', 'garry shandling', 'bruce willis', 'genome', 'the word is bravery !', 'mcferrin', 'bill irwin', 'robin williams', 'rick marotta', '13.5 %', 'pictish', '2006', 'fingernails', 'zone improvement plan', 'french', 'moussa faki', 'vanderwaal', 'the pittsburgh steelers', 'twigs', 'july 23 , 2018', 'wilt chamberlain', 'pearson', 'gal gadot', 'june 21 , 1851', 'october 31 , 1994', 'australian labor party', 'liberal party of australia', 'national party of australia', 'retta', 'margaret brainard hamilton', '60 -- 70 million', '22', 'emily wilding davison', 'lucas till', 'june 22 , 1999', 'linda davis', 'firearm', '940', '13 december 1977', 'tom sawyer', 'boston celtics', '1867', 'greece', 'june 22 , 2018', 'the third and last step', 'david kelly', 'l lawliet', 'feb 1 , 2009', 'george peppard', 'new jersey', 'los angeles', 'pittsburgh', 'new york city', '1940 -- 1944', 'march 8 , 2018', 'metre', 'broderick crawford', '12 september 2017', 'org', '2015', 'the back', 'love conquers all', 'devon', 'lyndon b. johnson', 'the everly brothers', 'buzz aldrin', 'thomas andrew felton', 'george elmer pataki', '13', '2017', '1995', '2000', 'paul of tarsus', 'truth', 'other religious communities', 'faith', 'chivalry', 'sacrifice', 'courage', 'peace', 'paul penzone', \"her majesty \\\\'s passport office\", 'rib section', 'ozzy osbourne', '342', 'dan castellaneta', 'sir thomas malory', 'ethan winters', 'anthony rapp', 'mexico city', 'boca del rio , veracruz', 'miami', 'michael rooker', 'shrine exposition center', 'qatar', 'rachel mcadams', 'gold specie standard', '1837 - 1838', 'nikola tesla', 'elizabeth tower', 'moolah', 'drake', 'theodore roosevelt', 'december 10 , 2017', '2017 - 18 series', 'black sea', 'august 1949', 'the wall of the uterus', 'bobcat goldthwait', 'alfre woodard', 'john forsythe', 'michael j. pollard', 'bill murray', 'karen allen', 'robert mitchum', 'carol kane', 'august 3 , 2018', 'britt robertson', 'dothraki horselord khal drogo', 'carol ann susi', 'one of the accusers', 'a maid for john proctor', 'harrison', 'the persian style of architecture', 'alexa davalos', 'december 14 , 1814', 'radio', ', domingo', 'santi pagnini', 'the 1850s', 'kailash satyarthi and malala yousafzai', 'melvyn hayes', '1978', 'sticky prices', 'zinc', '22', '1966', 'chicago white sox', 'tisdale , paul', '1868', '911 / mr. lonely', 'khan abdul ghaffar khan', 'june 17 , 2016', 'an unknown origin', 'scarlett johansson', 'mike viola', 'avonlea on prince edward island', '1920', 'laura san giacomo', 'ronnie farer', 'sharon martin', '20', 'samsung', 'post alley', 'lacey chabert', 'midwestern united states', 'daniel handler', '1919', 'stephen curry', 'daryl mosley', 'atticus shaffer', 'bajrang punia', 'park hye - soo', 'manuel rosas', 'february 9 , 2016', 'qatar', 'during blizzcon 2017', 'anna maxwell martin', 'may 1974', 'may 1998', 'the miami dolphins', 'the new england patriots', 'the denver broncos', 'the dallas cowboys', 'the san francisco 49ers', 'the green bay packers', 'the pittsburgh steelers', 'william gilbert', 'babe ruth', 'andrew cedar', 'dj frank e', 'wiz khalifa', 'charlie puth', 'seattle supersonics', 'hermia', 'in the finale episode', 'the gulf of california', 'the pacific ocean', 'misophonia', 'sauron the dark lord', 'the 11th century', 'lagaan', 'most geological processes', 'ravi shankar', 'emory s. bogardus', 'traffic calming', 'aesthetics', 'network address translation', 'wang herun', 'li hongyi', 'zhao wenlong', 'bai jingting', 'ding guansen', 'guo shutong', 'oral mucosa', 'saina nehwal', 'bourbon street', '1998', 'oracle arena in oakland', 'two seasons', '1999', 'cuba', 'germany', 'the austro - hungarian empire', 'january 7 , 2018', 'february 2017', 'january 11 , 1970', 'gayla peevey', 'sonarika bhadoria', 'f\\\\xc3\\\\xa9lix hern\\\\xc3\\\\xa1ndez', 'mrs diana trapes', \"jules o\\\\'dwyer & matisse\", 'colin and kyle schroeder', '16', 'parmenides of elea', '5', 'energy', '1955', '10', 'many commercial sites', 'early 2018', 'asuka', 'shinsuke nakamura', 'mick taylor', '12 april 1957', 'five', 'minoru yamasaki', 'december 1 , 1912', '6 may 1972', 'ruble', 'kopeks', '2017', 'indira gandhi', 'karl landsteiner', 'sbb or sbc', 'eugene hugh beaumont', 'meteorite', '1970', 'symbiosis', 'matt prater', 'chanel cresswell', 'neal bledsoe', 'danica mckellar', 'matthew', \"newspaper editor john o\\\\'sullivan\", 'alan merrill', 'the arrows', 'joan jett & the blackhearts', 'x the owl', \"sonny \\\\'s brother\", 'march 4 , 2018', '18', 'northern railway', 'severe thunderstorm', 'lori lieberman', 'hephaestus', 'dispute with the railroads', 'tori spelling', 'march 4 , 2018', 'taran hourie killam', 'the alan parsons project', 'michelle tribble', 'ali daei', '1954', '1,160', '31', 'john fitch', 'every monday', 'july 17 , 2012', 'caroline kennedy', 'kevin tighe', 'the fourteenth amendment', '16 december 1689', 'late november or early december', '1871', 'andy grammer', 'auli\\\\xca\\\\xbbi cravalho', 'prerna panwar', 'frankie valli', 'hank aaron', 'jeremy zuckerman', 'between atoms', 'a fox', 'republic of texas', 'lisa robin kelly', 'joe davis', 'kane williamson', 'camden county', 'margaret court', 'nidhhi agerwal', '2005', 'april 8 , 2024', 'mendocino , california', 'michael vick', '1859', 'american singer rockwell', 'beni cwiakala', 'waxahachie , texas', 'macos high sierra', 'the tifosi', \"`` exhausted \\\\'\\\\'\", 'bobby russell', '1960s', 'plato', 'march 19 , 2014', 'japan', '22.972 mi', '2008', 'anthony hopkins', 'rita moreno as anita', 'japan', 'germany', 'british empire', 'france', 'united states', 'italy', 'other allied powers', 'underground in louisiana and texas', 'matthew modine', 'karnataka', 'strengths', 'unidentified individual', 'british singer steve rushton', 'isabela moner', 'laura haddock', 'jon bernthal', 'chris gayle', 'chip fields', '17.10 artful aardvark', '256', 'simon & garfunkel', 'february 28 , 1909', 'nancy birtwhistle', 'the pussycat dolls', '3rd', \"carroll o\\\\'connor\", 'jean stapleton', '2005 -- 06', '97', 'margo cathleen harshman', 'milan', 'warner bros. television', 'kiriath - jearim', '1 january 1973', 'toronto', '30 august 2018', 'tyrion lannister', '1996', 'billy barty', 'louis philippe i', 'fantasy', 'serial drama', 'olympic peninsula', 'egypt', 'arabia', 'sicily', 'france', 'german empire', 'british empire', 'austria - hungary', 'belgium', 'dan reynolds', 'kingdom of great britain', 'iran', 'march 2 , 2018', 'june 15 , 2012', 'in return of the jedi', 'maulvi liaquat ali', 'oliver stark', 'green bay packers', '21 april 1526', 'color', 'ephesians 6 : 11', \"lot \\\\'s wife\", 'neptune', 'indian grandmaster vishwanathan anand', '1517', 'ralph', 'germany', 'zachary gordon', 'on 29 july', '13', 'coagulation', 'milo ventimiglia', 'tax', 'aram shah', 'post-apocalyptic united states', 'mitribah , kuwait', 'death valley', 'south dakota', 'wyoming', 'new mexico', 'oklahoma', 'texas', 'kansas', 'nebraska', 'colorado', 'jeff bhasker', 'tyler johnson', 'alex salibian', 'roderick george toombs', 'swansea city', 'west bromwich albion', 'stoke city', '2018', 'a pedestrian', 'judy jetson', 'arts and crafts', 'wilt chamberlain', 'may 10 , 2018', 'henry edward bedford', 'august 1958', 'deficits in cognitive abilities', 'stevie wonder', 'chicago stadium', 'two', 'baelfire / neal cassidy', 'new york yankees', 'yuzuru hanyu', 'adri\\\\xc3\\\\xa1n alonso', 'during the 5th century ad', 'national disaster management authority', '7', 'september 2018', '207', 'equinox', 'video editing software', 'james mcclean', 'aloe blacc', 'linda mcmahon', 'nat wolff', 'partition of india', '2002', 'albert pujols', '1945', 'october 14 , 2007', 'october 17 , 2016', 'june 1947', 'mariyappan thangavelu', 'bruce springsteen', 'dog', 'gross vehicle weight rating', 'mts india', 'corey burton', 'season 20', 'early 1910s', 'cleveland browns', 'richard petty', 'rafael nadal', 'dark room', 'december 1946 (', 'more than 2,500 locations', '1981', 'myles garrett', '6 february 1952', 'treyarch', 'crusader rabbit', 'mean platelet volume', '15 - yard line', '2013', 'ben barnes', '14', 'india', '16', 'rococo - era france', 'chris potter', 'jimmy matthews', 'lysander', 'james franco', 'pel\\\\xc3\\\\xa9', 'from 1854 until the mid-1890s', 'robert edward jager', 'ireland', 'len\\\\xc3\\\\xadn moreno', 'lurking variable', 'robert de niro as noodles', 'scott tiler as young noodles', '2000', 'january 25 , 1994', 'johnny nash', 'waldseem\\\\xc3\\\\xbcller', 'after university', 'vernon george wells', '8 february 1904', 'martin cummins', 'silver halide', '1951', 'the directors', 'wave steepness', 'georges auguste escoffier', 'curling', '1904', '1995', 'hannibal rising ( 2006 )', 'red dragon ( 1981 )', 'hannibal ( 1999 )', 'will keith kellogg', '2026', 'may 8 , 2018', '0', 'hillary clinton', 'lorraine crosby', 'florida', 'two electrons', 'philadelphia', \"chicago -- o\\\\'hare\", 'dallas / fort worth', 'washington , dc -- national', 'phoenix -- sky harbor', 'los angeles', 'new york -- laguardia', 'charlotte', 'new york -- jfk', 'miami', 'lionel messi', 'gina mckee', 'cherry jones', 'april 2024', 'december 14 , 1977', 'ira d. sankey', 'june 28 , 2018', '2017', \"`` nelson \\\\'s sparrow \\\\'\\\\'\", 'placenta', 'epistasis', 'napoleon', 'jacob joseph worton', 'adam robert', 'gretchen mol', 'santa monica pier', 'pilot', 'displayport', 'usb 3.0', 'tba', 'regina spektor', 'tony goldwyn', 'cleopatra coleman', 'hawthorne james', \"`` c\\\\xc3\\\\xa6dmon \\\\'s hymn \\\\'\\\\'\", '13', 'near east', 'ancient greek', 'southwest asia', 'middle east', 'charlie black', 'chater', 'interphase', 'mikhail bakunin', '1972', '1987', '1983', '1991', '1982', 'nancy kovack', 'her childhood sweetheart , raoul', 'hector', 'jerry reed', 'late september', 'september 1 , 2010', 'aquaria', 'tim paterson', 'alice cooper', 'india', 'china', 'miley cyrus', '2002', 'peter kumpalume', 'two', '1938', '2005', 'maurice white', 'higher middle latitudes', '1816', 'october 13 , 2017', '2 : 3', 'brazil', 'italy', '11 miles outside of homer', 'john b. watson', 'emery kelly', 'greece', 'mois\\\\xc3\\\\xa9s arias', 'montana', '0.3048', 'adizia benson', 'the nitrogen cycle', 'interracial marriage', 'charles peckham day', 'august 31 , 1965', 'august 19 , 1964', 'england', 'james augustus hicky', 'between 1895 and 1918', 'tropic of cancer', 'tropic of capricorn', 'arctic circle', 'antarctic circle', 'equator', 'the u.s. team', 'ozzy osbourne', 'responding disproportionately to something', 'aquatic animal', 'prince', 'september 22 , 2017', '2006', 'august 15 , 2012', 'steven yeun', 'layperson', 'walton county', 'jessica falkholt', 'jonah', '2013', 'diatoms', 'one', 'benjamin franklin', 'silas deane', 'matron of honor', '1999 season', 'colony of virginia', '1976', 'author john green', '33', 'may 26 , 2007', 'jacob', 'sykes', 'maria darling ( uk )', 'loretta devine ( us )', '2012', '37,461', 'tim', 'kansas city chiefs', 'new england patriots', 'ryan stiles', 'colin mochrie', 'wayne brady', 'drew carey', '$ 4,600,000,000', 'roald dahl', 'the president', 'the senate', 'bradley cooper', 'edward edgar lowery', '174', 'essendon', 'carlton', 'emmanuel goldstein', 'november 7 , 2017', 'fritz pollard', 'bobby marshall', 'mid-2061', 'james earl jones', 'sachin tendulkar', 'anthony rendon', 'noam kaniel', 'sachin tendulkar', '1516', 'justin long', 'strength', 'civil unrest', 'disaster', 'armed conflict', 'simon napier - bell', 'vito pallavicini', 'pino donaggio', 'vicki wickham', '14 may 1948', 'every year at easter', 'the tennis court oath', 'delaney bramlett', 'bonnie bramlett', 'leon russell', 'in the breast tissue', 'intermuscular ( muscular system )', 'in the tampa bay area', '100', 'kyle chandler', '13', 'john sykes', '1037 -- 1194', 'hillsong worship', 'january 6 , 2018', 'central mexico', 'oceanfront boardwalk and promenade', 'kareem abdul - jabbar', 'jim thome', 'organ system', '( selena gomez )', 'cynthia watros', 'april 12 , 2018', 'paul revere', 'march 27 , 2018', 'gangetic dolphin', 'mark wahlberg', 'over 6 million', 'william christopher handy', 'american singer diana ross', '$122,160', '25 december', 'anal scent glands', 'glacial striations', '50,000', 'april 11 , 2018', 'mid-november', 'on independence day', 'robert hooke', 'cleveland indians', 'jacob collins - levy', 'west', 'gary oldman', 'eleanor oldroyd', 'stealers wheel', 'dilip babasaheb bhosale', 'amy adams', 'jinkx monsoon', 'paul martin newby', 'barbara jackson', 'cheri beasley', 'mark martin', 'robin e. hudson', 'sam j. ervin , iv', 'michael r. morgan', '2017 -- 18', 'bonnie gruesen', 'thomas grant gustin', 'europe', '370', 'nigerian institute of management', 'april 2', '256 bc', '8500', 'nell tiger free', 'chris martin', 'deb', 'stephen adam amell', 'james earl jones', 'patterning the ventral axis', 'rio mantaro', 'atlantic ocean', 'curly putman', 'bobby braddock', 'on october 31 , 2018', 'esther cleveland', 'gardens of stone', 'april 2017', '133 episodes', 'turnberry', 'muirfield', 'old course at st andrews', 'musselburgh links', 'prestwick golf club', 'carnoustie golf links', 'royal troon golf club', '1748', 'cesar estrada chavez', '1 january 1942', '0', 'm.n. roy', 'ross bagdasarian jr .', 'ticket sales', '$40,000', 'castaway on the moon', 'neha kakkar .', 'arijit singh', 'meet bros', '1999 pre-season', 'alycia jasmin debnam - carey', 'incumbent president jimmy carter', '11', 'mondel\\\\xc4\\\\x93z international', 'mildred trotter', 'new zealand', 'ronald reagan washington national airport', 'samira wiley', '1975', 'august 14 , 1935', 'september 20 , 2017', 'bad moon rising', 'magnetic north', 'anupallavi', 'pallavi', 'charana', '5 july 1945', 'documentary crew', 'edward heath', 'jock', 'over 15 million combined subscribers', 'new england patriots', 'rafael nadal', '10 november 1775', 'nick offerman', 'peng chun chang', 'eleanor roosevelt', 'william roy hodgson', 'ren\\\\xc3\\\\xa9 cassin', 'charles dukes / lord dukeston', 'hern\\\\xc3\\\\xa1n santa cruz', 'alexander e. bogomolov', 'john peters humphrey', 'charles habib malik', 'luke danes', 'between june and october', 'improved textures and multiplayer options', 'indra', 'anjelica huston', 'daryl hannah', 'afrikaans', 'confederacy', 'john ross', 'vancouver , washington', 'd minor', '6', 'frankie avalon', 'sophomore', '1975', 'march 2 , 2018', 'tax revenues', 'saline water', 'alan burgess', '1862', 'october 2 , 2017', 'surrey , united kingdom', 'kingdom of atlantica', 'louisiana', 'north dakota', 'utah', 'north carolina', 'ohio', 'oklahoma', 'michigan', 'idaho', 'kansas', 'early 1990', 'angela robinson', '120 v', 'brainard', 'maia mitchell', 'unicode consortium', 'elizabeth boutell', '15 june 2018', 'parliamentary representative democratic constitutional monarchy', 'ss yongala', 'barry bonds', 'april 4 , 2017', 'abu', 'keith urban', 'sixty miles', 'the foot', 'plymouth , massachusetts', 'junrey balawing', 'the army', 'jimmy smith', '1974', 'martin charnin', 'charles strouse', 'regions', 'medieval states', 'people', 'susan thornton', 'solomon linda', 'robert james anderson', 'm\\\\xc3\\\\xadriam col\\\\xc3\\\\xb3n', '5 october 2018', 'rko studios in hollywood', 'joel courtney', '1954 -- 1968', 'thor : ragnarok', '2013', 'welsh', 'irish', 'german', 'english', 'department of justice', 'loren bouchard', 'cole porter', 'lewis hamilton', 'uncuttable', 'october 14 , 2018', '20 july 1969', '1234', '20', 'italian', 'nicholle tom', 'sir ian murray mckellen', 'james garner', 'richard attenborough', 'steve mcqueen', '11 november 1918', '28 july 1914', 'south korea', 'calgary , alberta , canada', 'dancing', 'the wailers', '1993', 'january 25 , 2018', 'joan osborne', 'jessi colter', 'ray noble', 'we', '1969', 'africa', 'southeast asia', 'south and middle america', 'dylan klebold', 'eric harris', 'line of longitude', '( geographical ) meridian', 'may 29 , 1982', 'dr. seuss', 'jonathan crombie', 'washington , d.c.', '2018', 'pennsylvania', 'holly knight', 'nick gilder', 'june 15 , 2018', 'dr. caroline aranha', '402 ,', 'ladies', 'princess winnifred', 'knights', 'sir arthur cotton', 'the ritz - carlton', 'the los angeles lakers', 'sovereignty', 'john sullivan', 'peter capaldi', 'charles dickens', 'subaru impreza wrx sti', 'ford fiesta st', 'sony pictures television', 'jacksons point', 'ontario', 'stouffville , ontario', 'westfield heritage village', 'prince edward island', 'hamilton , ontario', 'barry bonds', 'pisa', 'nuclear', 'judicial', 'the point when trading ceases', '8', 'february 28 , 2018', 'highly energetic solar radiation', 'primary', 'tertiary', 'secondary', 'kenya', 'tim curry', 'candice brown', '19 june', 'middle of delaware river', '15 miles', 'central hall in westminster', 'northern territory and western australia', 'patricians', 'boston', 'xuanzang', 'february 26 , 2016', 'william r. day', '2018', '1858', 'james hargreaves', 'ratify', 'venezuela', 'hampshire', 'sets at hawley common', 'pinewood studios', 'nolan ryan', 'olaf', 'kit', 'the everly brothers', '1896', '27 june 1967', 'traded', 'raided', 'norse seafarers', 'mole', 'h. jon benjamin', 'sadashiv nayak', 'mark - paul harry gosselaar', 'september 5 , 2017', 'howard ellsworth rollins jr .', '1996', '10', '1804', 'january 20 , 2017', 'sidney arodin', 'hoagy carmichael', 'small - world experiment', 'the house of delegates', 'brittany cherry', '2006', 'howie mandel', 'heidi klum', 'mel b', 'simon cowell', 'vancouver , british columbia', 'restoration', 'android 7. 0 lollipop', 'don adams', '1914', 'queen elizabeth ii', 'pom klementieff', 'kevin peter hall', 'hathi jr .', 'penn state nittany lions', 'adult , male citizen', '34', 'convict insurgents', 'british army', 'bert millichip', 'convection', '4,228', 'paul davis', 'f\\\\xc3\\\\xa4ltskog and ulvaeus', 'lyngstad and andersson', 'william dewolf hopper jr .', 'joey dunlop', 'valerie simpson', 'nickolas ashford', 'bob the drag queen', 'rat', 'secretariat', 'barry bonds', 'ludwig g\\\\xc3\\\\xb6ransson', 'the ardennes forest', 'don black', '1884', '1', '1967', 'particle detector', 'cristiano ronaldo', 'the federal government', 'states', 'september 6 , 2018', 'ireland', 'the forum', '50', 'the beatles', 'marvin gaye and tammi terrell', 'the alabama crimson tide', 'june 28 , 2018', 'star trek beyond', '1993', '11', 'shemar moore', 'darius mccrary', 'raf bovingdon', 'united states', '420', 'the trickster', 'los angeles', 'kathy bates', \"annie o\\\\'donnell\", 'mark jackson', '1972', 'idris elba', 'bangla road', 'august 25 , 2006', 'december 28 , 1869', '1949', 'october 10 , 2001', 'december 2015', 'guillermo st\\\\xc3\\\\xa1bile', 'lady antebellum', '1965', 'soviet', 'frank bank', 'super bowl li', 'paul ego', '10 september 1977', 'insects', 'postural hypotension', 'orthostatic hypotension', 'frank loesser', 'may 19 , 2017', 'august 3 , 2018', 'julianna mccarthy', '18', '5', 'june 8 , 2010', 'four', '4', 'during the 1970s', '152 minutes', '2009', '2018', 'sylva , north carolina', 'rockfield studios in wales', 'victory gardens', 'vishakhadatta', 'in the mendip district', 'liv hewson', '2017', '1962', '22', 'granada', 'jackie robinson', 'petr \\\\xc4\\\\x8cech', 'june', 'august', 'july', 'king louie', 'jiroemon kimura', 'chandra bahadur dangi', 'march 2 , 2016', 'fred astaire', 'stefanie powers', 'february 1 , 2018', 'john ratzenberger as the underminer', 'samuel francis smith', 'john shea', 'arun jaitley', 'the league runners - up', '2005', 'nick kroll', 'sam snead', 'lincoln', 'chetan sharma', 'florist', 'carson city , nevada', 'kareem abdul - jabbar', \"jonny \\\\'s imagination\", 'neil gorsuch', '1995 -- 1998', '3,492', 'bust / waist / hip', 'december 15 , 2017', 'magical land of oz', 'glass tiger', '1937', 'annasophia robb', 'madras', 'bombay', 'calcutta', 'barry allen', 'persian sufi poets', 'india', 'october 19 , 1999', 'b.r. ambedkar', 'john cabot', '2019', 'justin timberlake', 'the black eyed peas', 'bonnie hunt', 'billy dee williams', 'neil armstrong', 'june 4 , 2018', 'lizzy greene', 'channel 70', 'jack greene', 'an open - air museum', 'freemium mobile strategy video game', 'jesus , take the wheel', 'new york', 'sri lanka', '7', 'justice navniti prasad singh', 'abraham lincoln', 'lori mckenna', 'liz rose', 'hillary lindsey', 'bart millard', 'season two', 'amanda tapping', 'sagittarius dwarf', 'large magellanic cloud', 'alysia reiner', 'clayne crawford', 'james rodr\\\\xc3\\\\xadguez', '2017 -- 18', '1823', 'in the horn of africa', 'the late 18th century', 'the fifth season finale', '2022', 'oldham general hospital , oldham', 'rosh hashanah ( trumpets )', 'shavuot ; ( pentecost )', 'jellyfish', 'darlene cates', 'james deb', 'barry bonds', 'mexico', 'south africa', '1982', '6 - 12 people', 'hotspot', 'western saloon', '260', 'american swimmer michael phelps', 'february 1973', 'winfield scott', '164', '1921', '2019', 'yamato dynasty', '10', 'piper eressea kerman', 'saint patrick', 'mother abbess', 'sparta , illinois', 'house of representatives', 'season three', 'rachel green', 'ross geller', 'dick van dyke', 'kim kardashian', 'the red vineyards near arles', 'jim cummings', 'thomas alva edison', 'edward viii', 'paco', 'house of representatives', 'team europe', '2001', 'covalent', 'delicata', 'edward jenner', 'jim carrey', 'josh ryan evans', 'phil heath', 'tevin campbell', 'a 30 - day period', 'large', 'jonathan goldstein', \"john lyly \\\\'s\", 'the killers', '23', 'dash', 'tony ( abdul salis )', 'july 2 , 1964', 'gateway arch', 'bruce johnston', '3 june 1787', 'denver , colorado', 'western australia', 'south australia', 'queensland', 'new south wales', 'victoria', 'tasmania', '2011 -- 12', 'roger federer', 'craig fuller', '\\\\xc3\\\\x81lvaro morata', 'fernando torres', 'diego costa', 'santi cazorla', 'jordi g\\\\xc3\\\\xb3mez', 'bertha von suttner', 'november 2018', 'juhu', 'sadie hawkins dance', '1931', 'northern flicker', '1982', 'rex smith', 'alpha epsilon alpha', 'general issue', 'government issue', \"chris `` ludacris \\\\'\\\\' bridges\", 'commerce raiders', 'unrestricted submarine warfare', 'american singer sam hunt', 'august 2 , 1956', 'johnson , calvin', 'charmed', 'los alamos laboratory', '6', 'praful khoda patel', 'john cornyn ( r )', 'dick durbin ( d )', \"colin arthur o\\\\'donoghue\", '101', 'lungs', 'stone', '1994', '545', 'dire straits', 'mighty morphin power rangers', 'middle', 'jinder mahal', 'king crimson', '2014', 'krishna sobti', 'jessie ware', 'north dakota', 'frankie laine', 'mike stewart', 'february 10 , 2017', 'martini cocktails', '1879', 'april 22 , 2018', '2017', 'angus turner jones', 'tobacco', 'cardi b', 'charlie ward jr.', 'twin', 'john jameson', 'the moat', 'ohio state buckeyes', 'ireland', 'superblue', 'elected by direct popular vote', 'laverne cox', 'sunday', 'mcdonald', '18', 'paris , france', 'james parkinson', 'hailee steinfeld', 'seabrook island , south carolina', '7,349', 'qatar', '2007', 'john roberts', 'saturn', 'lavell maurice crawford', 'brent jay spiner', '1998', 'bruce willis', 'jimmie johnson', 'ensigns', '2014', 'lady gaga', 'seth macfarlane', '1982', 'david mcintyre', 'bobby cannavale', 'this is why we fight', '1893', '24', 'december 2 , 1854', 'busch memorial stadium', \"sportsman 's park\", 'robison field', 'the tank', '5 june 2012', 'northern inuit dogs', 'narcissus', 'tom grennan', 'chase & status', 'december 8 , 1886', 'tokyo', 'scotty wiseman', 'mark lawson', 'general david l. goldfein', '26 june 1997', 'pyramid head', '24 october 1945', 'clint dempsey', 'gary cole', 'the allman brothers', '1967', 'turkey', 'brad rutter', 'ann peebles', 'stoneman douglas high school shooting', 'jamey johnson', 'american rock band reo speedwagon', '24 march 1603', 'robert parish', 'corrosives', 'm. usha', 'monument valley', 'sonora , california', 'jamestown , california', 'colm feore', 'los angeles', 'czech', 'cell growth', 'luzhniki stadium in moscow', 'during world war ii', 'kansas city , missouri', 'blood', 'loose connective tissue', 'bone tissue', 'april 25 , 2018', 'larry miller as walter stratford', 'education', 'june 28 , 1870', 'gulf of mexico', '18', 'ray allen', '2001', 'june 13 , 1789', 'gonads', 'monsignor farrell high school', 'between oceanic plates', 'metabolites', 'ryan white', 'islington , london , england', 'india', '1792', 'dr. harsh vardhan', 'toby keith', 'august 6 , 1965', 'emperor cuauhtemoc', 'salma hayek', 'john lennon', 'brussels', 'deema', '4,627', '1969', 'the stomach', '1935', 'julie dawn cole', 'angela margaret cartwright', 'jasper', 'yellow', 'green', 'red', 'black', 'blue', 'walter gotell', 'lotte lenya', 'eric pohlmann', 'anthony dawson', 'vladek sheybal', 'robert shaw', 'qatar', 'kevin mccarthy', 'lisa diane whelchel', '1958', 'minnesota timberwolves', '1982', 'phyllis diller in later appearances', 'april 1 , 2017', 'july 30 , 2017', 'new york', 'green', 'red', 'voting for federal office', 'rachael macfarlane', 'pathak', 'yes', 'shamrock', 'street & racing technology', 'kunwar singh', '2002', 'the offspring', 'may 9 , 2016', 'kevin skinner', 'tuticorin ( thoothukudi )', 'st peter', 'boston celtics', 'ncc - 1701', '1994', 'washington , d.c.', 'nike merlin', 'avatar 2', 'the pursuit of happiness', 'life', 'liberty', 'george michael', 'in 2005', \"`` april in paris \\\\'\\\\'\", 'angela gots', '2008', 'irina shayk', \"`` the foundling \\\\'\\\\'\", 'february 9 , 2018', 'lannister', 'pacific', 'in 1968', '2013', 'president', '1950', 'light blue', 'pink', 'in 132', 'taffy danoff', 'bill danoff', 'a continental transform fault', 'congressman louis c. rabaut', 'may 30 , 2017', 'rock around the clock', 'letizia ortiz rocasolano', 'miami heat', \"seven years \\\\' war\", 'harrison ford', 'a great big world', '29 july 1954', 'often synonymous', '558 minutes', 'alex bain', 'june 22 , 2013', 'brett young', 'joseph brackett', 'william henry harrison sr.', 'passerine birds', \"breed 's hill\", 'circle', 'mary elizabeth ellis', 'the sixth season', 'the minister of railways', 'isabella alexander', 'a whale', 'the irritating folk singer', 'hernando de soto', 'real madrid', 'atl\\\\xc3\\\\xa9tico de kolkata', 'harvey keitel', 'peptidoglycan', '1969', 'ambrose', 'sylva , north carolina', 'ellie goulding', 'the time stone', '18 - 20', 'britain', 'mark lenard', 'the eisenhower tunnel', 'sorrell booke', 'the louisiana purchase', 'carl linnaeus', 'the kiki dee band', 'hawaii', 'australia', 'to express grief', 'the story of nat turner', '1928', 'mahabharata', 'the british government in 1939', 'germany', '1 august 2018', 'ross aaron malinger', \"tenrou tree \\\\'\\\\'\", 'species', 'billy graham', 'john gibson', 'jacob chestnut', 'rosa parks', 'type o rh d negative', '19', 'princeton', '1836', 'la poudre pass', 'lin - manuel miranda', 'christine michelle metz', 'noam kaniel', 'gma dove awards', 'broncos', 'baikal', '1859', 'terry v. ohio', 'cragside , england', '1968', 'missouri', 'vagina', '13', 'b.j. thomas', 'fantasia barrino', 'berlin conference of 1884', '1988', 'summersville lake', 'junko tabei', 'men at work', 'the cytoplasm', 'jason sudeikis', 'taran killam', 'darrell hammond', 'phil hartman', 'alec baldwin', '1', 'elizabeth ii', 'fishing', 'minerals and energy extraction', 'forestry', 'agricultural', 'dusty springfield', 'ed carpenter', 'north carolina tar heels', 'joni mitchell', 'serotonin', 'serena williams', '1988', 'kary mullis', 'glen mcmahon', '3355 las vegas boulevard south', '1937', 'january 25 , 2018', 'surgical intern dennis gant', 'anthony hopkins', 'july 15 , 1998', 'montana', 'delaware', 'oregon', 'nevada', 'lana maria parrilla', 'november 17 , 2017', 'fayyaz hashmi', '6', '1812', 'liberty island', 'superficial layers of the epidermis', 'upper parts of hair follicles', 'to reduce weight', 'october 28 , 1948', '18', 'lee greenwood', 'cherokee , north carolina', 'bansi lal', '1954', 'american singer joey scarbury', 'in 1917', '1998 ( xxxiii )', '1997 ( xxxii )', 'abraj al bait', \"`` uma thurman \\\\'\\\\'\", 'dehra', 'john barry', 'mississippi state', 'kat dennings', 'christopher', 'november 2 , 2017', 'a great big world', 'maseru', 'a dwarf warrior', 'yogi berra', 'paul simon', 'the late 1980s', 'carrie kei heim', 'cloud gate', 'in december 2010', 'the destroyer', 'olivia rose keegan', 'louis mountbatten', '1931', 'janna bossier', 'world tomorrow', 'mike campbell', 'er chief kevin moretti', 'from a registered breeder', 'rollover', 'ananda samarakoon', '1961', 'irina', 'st james', '1930', \"jessica `` jessy \\\\'\\\\' schram\", 'gene lockhart', 'alex band of the calling', 'the late 1980s', 'virus', '2018', 'nov. 24 , 2016', 'imran khan', 'jon bernthal', 'max von sydow', 'november 4 , 2010', 's\\\\xc3\\\\xa9bastien toutant', 'the sri lankan military', 'january 7 , 1947', 'bill nighy', 'william bentinck', 'luke fickell', 'john lennon', 'paul mccartney', 'community programs', 'education of pregnant women', 'medical research', 'government advocacy', 'december 27 , 1971', '9', 'dominic hoffman', 'george', 'a state in the south', 'stanley tucci', 'white ferns', 'pantalaimon', '1951', \"gaet\\\\'ale pond\", 'light energy', '2018', 'dr. harsh vardhan', 'aristotle', 'arthurian legend', 'abdulaziz nyako', 'tony nwulu', 'april 17 , 1982', 'judges', 'july 26 , 2000', 'matthew lillard', '1977 pontiac trans am', 'colonial massachusetts', '5', 'african rock art', '1997', 'millie bobby brown', 'michael wray', 'candace and michael', 'multi-party system', 'paula hawkins', 'pom klementieff', '145 / 191', '150 mph', 'australia', '38', 'cat', 'galadriel', 'oklahoma city', 'february 16 , 2018', 'big & rich', 'james brown', 'william patrick corgan jr.', 'excrement', 'four year successive term limits', 'ralph coppola', 'harry kane', '1966', '1998', 'daphne maxwell reid', 'january 11 , 2004', 'sam roland heughan', 'mo farah', 'tim hardin', 'october 1917', 'michael jackson', 'jack elam', 'martha hyer', 'keenan wynn', 'nancy kulp', 'clint walker', 'reputation', 'nipper', 'spanish', 'redness', 'swelling', 'buckingham house', 'september 2015', 'harold abrahams', 'eric liddell', 'snowball and napoleon', '139', 'indefinitely', 'cam newton', 'tony', 'in 1970', '565', 'flight dispatcher', 'pilot', 'siedah garrett', 'glen ballard', 'the beatles', 'india', 'china', 'taraji p. henson', 'greater expectations', 'curtis baldwin', 'june 30 , 2017', 'four years', 'sir chris hoy', 'muezzin', 'in key west , florida', 'janet hubert - whitten', 'daphne maxwell reid', 'pentateuch', 'the torah', 'began in 2002', 'houston astros', 'gold for mineral wealth', 'red for zeal and dynamism', 'white for rivers and water', 'green for agriculture and forests', 'black for endurance', 'hunter haley king', '2006', 'cristin milioti', 'joshamee gibbs', 'deanna russo', 'alejandro in canada', 'saul', 'parasitism', 'mutualism', 'commensalism', 'june', 'panther', 'james montgomery flagg', 'thyroglobulin ( tg )', '500 +', 'april 26', 'singer - songwriter jim croce', 'litigants', 'russia', 'kushida', 'sal stowers', 'charles matthew hunnam', '1948', 'intangible assets', 'andy serkis', 'jarasandha', 'finding her strength', \"conceived following perry \\\\'s divorce\", 'standing up for herself', 'nate ruess', 'staying alive', 'reel big fish', 'john michael montgomery', 'march 11 , 2017', 'morocco', 'new york city', 'amanjena', 'sidi kaouki', 'tomoya kawakita', 'ultraviolet radiation', 'visible radiation', 'radio waves', 'terahertz radiation', 'x-ray radiation', 'microwave radiation', 'gamma radiation', 'infrared radiation', '1802', 'april 16 , 2018', 'seven', 'art parkinson', 'daniel lissing', '2017 -- 18', '1971', 'minneapolis , minnesota', 'portuguese', 'gareth keenan', 'conservation biology', \"the earth \\\\'s lithosphere\", 'paraventricular nucleus', 'social bonding', 'sexual reproduction', 'september 25 , 2017', '1900', '1951', 'united states declaration of independence', 'glacier', 'the functions are linearly dependent', 'about 90 mi', 'roger cook', 'john prine', 'steve carlton', '1607', '2008', 'harry chapin', 'sandra chapin', '19', 'chicago', 'jane aceng', 'heather hemmens', '7', 'you are not alone', 'continental volcanic arcs', 'about 60', 'leonardo', 'donatello', 'raphael', 'michelangelo', '1979 -- 80 season', 'madness', 'one', 'general taxation system', '2019', 'lock martin', 'robert smigel', 'four', 'ozone molecule', 'i / o port 0x2f8', 'three', 'carl william raisch', 'envy', 'gluttony', 'pride', 'sloth', 'lust', 'greed', 'wrath', 'indira gandhi', 'britton hill', '1807', '1989', 'more than 60 tonnes', '1964', '500 - 600', 'ralph fiennes', '1863', 'january 15 , 2009', '5 -- 7', 'monroe , georgia', 'ormond beach , florida', 'joaquin phoenix', 'carrie underwood', 'the simpsons', '19 july 2017', 'herbert paul brooks jr .', 'gary oldman', '1841', 'chinese medicine', 'august 18 , 2017', 'election commission of india', 'sacramento kings', 'depression', 'borrelia burgdorferi s.s.', 'borrelia garinii', 'borrelia afzelii', 'november 6 , 1986', '24', 'lawrence timmons', 'eukaryotic', 'peter macnicol', '1980s', 'community shield', 'uefa europa league', 'efl cup', 'the early 20th century', 'freddie prinze jr.', 'april 2005', 'in six weeks', 'may 24 , 2017', \"instagram \\\\'s own account\", '1934', 'schnetzer', 'wari', 'tiwanaku', 'victor rivers', '200,000 miles', 'queen elizabeth ii', '25', '64,405', 'mountain ranges on every continent', 'polar regions', 'yazoo', 'november 1 , 1955', 'candice bergen', '1984', 'january 3 , 2018', 'amitav ghosh', 'rivers', 'the swedish pop duo roxette', 'beggars banquet', 'becky albertalli', 'october 7 , 2014', 'rajiv mehrishi', '33067', '33076', '33073', 'unilever', 'muhammad iqbal', 'make peace', 'oakland', 'zootopia', 'vegetation structure', 'characteristics of their animal communities', 'physiognomy', 'features of the environment', 'ed carpenter racing', 'christopher daniel barnes', 'july 18 , 2000', 'between february and july', 'neurons , or nerve cells', 'cheryl ruth hines', 'super bowl li', \"reese \\\\'s peanut butter cups\", 'michael jackson', 'florence , south carolina', 'canton , mississippi', '14', 'category 5', 'helmut haller', 'little jimmy dickens', 'barbara rosenblat', 'steatoda nobilis', 'daniel alexander mintz', 'wilt chamberlain', '19 -- 25 march 2018', 'august 2018', 'in the sixth season', 'battle of the blackwater', 'barry bonds', 'new england patriots', 'august 2016 (', 'federal', 'robert recorde', 'peter claver cullen', 'captain celaeno', 'john james', 'debbie stabenow', 'marcia squier', 'octono , wisconsin', 'om prakash rawat', 'august 18 , 2017', '400 to 600 species', 'calvary cemetery', 'toby stephens', 'parker posey', 'molly parker', 'brian steele', 'maxwell jenkins', 'taylor russell', 'mina sundwall', 'ignacio serricchio', 'malcolm - jamal warner', 'mabel elizabeth king', 'merle haggard', 'nursing and midwifery accreditation council', 'the bee gees', 'tracy lawrence', 'hasbro', \"`` she who lives \\\\'\\\\'\", \"`` womanly \\\\'\\\\'\", 'bobby darin', 'caroline blakiston', 'robert serber', 'season 8', '17 february 2018', 'jaeden lieberher', 'ilaiyaraaja', 'genetics', 'percussion', 'bass', 'synthesizers', 'electronic effects', 'finger snaps', 'louis calhern', 'keenan wynn', 'howard keel', 'j. carrol naish', 'edward arnold', 'clinton sundberg', 'benay venuta', 'chief yowlachie', 'john war eagle', 'betty hutton', 'evelyn beresford', 'syed akbaruddin', 'robert pine', '18 april 1949', \"`` shape of you \\\\'\\\\'\", 'david thewlis', \"robert `` bob \\\\'\\\\' russell\", 'john hoynes', 'sooraj r. barjatya', 'sub-saharan africa', 'frank silver', 'irving cohn', 'thomas dolby', '1988', '1858', '2001', 'ashanti', 'mel tillis', 'higher institute of villainous education', 'april 10 , 1997', 'jeff atkins', 'shayla mackarvich', 'soviet union', 'danica mae mckellar', 'office of management and budget', 'montreal canadiens', '2016', 'putnam adult', 'bruno sammartino', 'monte dei paschi di siena', 'barrett strong', 'roger penzabene', 'norman whitfield', 'january 17 , 2006', 'hypolimnion', 'go west', 'spain', 'pink floyd', 'empire of japan', 'ritchie valens', 'buddy holly', '31', \"venkatraman `` venki \\\\'\\\\' ramakrishnan\", '1973', 'rory mccann', 'palais de danse', 'ray allen', 'linda perry', '920', 'rajasthan', 'james madison', 'ed begley , jr.', 'atheism', 'kenneth branagh', 'martha cratchit', '2000', 'the west indies', 'december 1 , 2016', '1949', 'july 1 , 2008', 'epsilon', 'june 29 , 2007', 'sometime in 2019', 'nachetanya', 'angela lansbury', '24th', 'june 7 , 2018', 'john anthony aniston', 'the united states of america', 'the republic of texas', 'france', 'mexico', 'the confederate states of america', 'spain', 'srinivas', 'executive', '1971', 'steffie', 'james avery', 'joseph marcell', 'will smith', 'karyn parsons', 'janet hubert - whitten', 'alfonso ribeiro', 'tatyana m. ali', 'daphne maxwell reid', 'ross bagley', 'march 23 , 2013', '15', 'nicolas flamel', 'sacramento kings', '2010', 'royal birkdale', 'college station , texas', 'aubrey frances anderson - emmons', '1798', '2nd century bc', '19 september 1912', '7 may 1908', 'k\\\\xc3\\\\xa1ra mccullough', 'may 15 , 2015', 'a hookah', 'abraham lincoln', 'bridgit mendler', 'roger federer', '2019', 'ambrogio lorenzetti', 'last vegas', 'jamestown', 'rick erwin iii', '128', 'landau eugene murphy , jr.', '1971', '1990', 'manushi chhillar', 'august 1 , 2018', '78 - 79', 'general assembly', 'gulf of mexico', 'thermonuclear weapon', 'frankie ballard', 'plutonium', 'carlos david valdes', 'miguel cabrera', 'chinese', 'vietnamese', 'spanish', 'tagalog', 'english', 'a winchester rifle', 'six or seven', '79', 'endothelial cells', 'evaporation', 'across the mitochondrial inner membrane', 'around 17,000 bc', 'elis', 'olympia', 'in the finale episode', 'lenore', 'rene gagnon', 'michael strank', 'ira hayes', 'harlon block', 'franklin sousley', 'harold schultz', 'burt ward', 'alexis', 'anthony', \"`` pres b \\\\'\\\\'\", 'elizabeth campbell ,', '2 december 2010', 'eight', '2016', 'sting', 'gerald anthony', 'serous membrane', 'film', 'frank pacheco', 'december 1972', 'john gluck jr .', 'walter gold', 'herb weiner', 'seymour gottlieb', 'first qin emperor', 'one square', 'the cherry bombs', 'yousef abdelky', 'island nation in east asia', 'attached to ribose', 'miltos yerolemou', 'four', 'syama prasad mookerjee', 'former teammate mark clayton', 'nigel and jo hemming', '2006', 'air force armament museum', '1970', 'elvis presley', 'mid-1922', 'sam huntington', 'june 30 , 2008', 'china', 'president l\\\\xc3\\\\xa1zaro c\\\\xc3\\\\xa1rdenas', 'justice a.k mathur', 'carmen', 'mark edmondson', 'central london', 'indianapolis', '1908', 'a match made by god', 'sara', '12', '31 may 2009', 'metre', 'barry bonds', 'dylan sprouse', '11 july 2018', 'blowout', 'march 1 , 1781', 'ellen louise demorest', 'william jennings demorest', 'west indies', 'cupid and psyche', 'the pig king', 'joe', 'pittsburgh', 'joanna going', 'hulu', 'sacred texts or scriptures', 'ryan seacrest', 'brian dunkleman', 'on - base plus slugging', 'alicia keys', 'tulum , mexico', 'season five', 'several composers including mozart', '1966', 'foreign intelligence surveillance act', 'sandbar', 'loss leader', 'over the kok river', 'barcelona', 'tommy quickly', 'george l. kelling', 'james q. wilson', 'donald leroy lafontaine', 'brown belt', 'mckinley', 'russell crowe', 'president theodore roosevelt', 'armageddon', 'jos\\\\xc3\\\\xa9 palma', 'juli\\\\xc3\\\\xa1n felipe', 'the refractory period', 'peter shilton', 'porter and preston', 'national or regional patent offices', 'connecticut colony', 'massachusetts bay colony', 'province of new hampshire', '2017', 'linda evangelista', 'christy turlington', 'naomi campbell', 'cindy crawford', 'tatjana patitz', 'dirk benedict ,', 'tim dunigan', '2011', 'siberia', 'russia', 'an unarmed black man', 'st pancras international', 'surface sterilisation of explants', '18', 'may 2000', 'david robinson', 'hakeem olajuwon', 'nate thurmond', 'alvin robertson', 'lovers', 'carole king', 'suspensions', 'dustin hoffman', 'ben caplan', 'third day', '10base5', 'the ark of the covenant', 'november 16 , 2017', 'douglas fisher', 'february 2 , 2018', 'april 2 , 2009', 'michael raymond - james', '1789', 'wilt chamberlain', 'arthur schlesinger', 'pope francis', 'vatican city', 'pamela baird', 'andy serkis', '1990', 'harvey korman', 'in the larynx', 'trachea', 'bronchi', 'cedric', 'sanjay mitra', 'leelee sobieski', '27 june 1967', '1970s', 'ben driebergen', 'shaun mark bean', 'july 8 , 2016', 'maureen wroblewitz', 'brad dourif', 'david prowse', 'milwaukee brewers', '7', 'queen elizabeth i', 'fikile mbalula', 'bongani michael mkongi', '10 one - hour episodes', 'rowan', 'joint committee on reconstruction', 'california', '1937', 'action - reaction law', 'frances quinn', '25 %', '1992', '7', '2018', 'pewdiepie', '13', '5 march 1862', '394', 'battledore and shuttlecock', 'annie golden', '9 january 1909', 'september 26 , 1983', 'chicago bears', 'baltimore ravens', 'october 1 , 1949', 'duet', 'ted neeley', 'about 53,000', '2020', 'special ed', 'rafael nadal', 'alan shearer', 'the early 20th century', 'red blood cell distribution width', 'bob dylan', 'warner brothers', 'charlie chaplin', 'china', \"ben & jerry \\\\'s\", 'found in eukaryotic cells', 'dutty boukman', 'edward ellis', '171.000 - 94,000', 'eliza patricia dushku', '1899', 'john williams', 'billy drago', '1979', 'republican', 'jack haley', '169', 'west sands , st andrews', 'plan phase', 'connecticut in the 1840s', 'kareem abdul - jabbar', '2011', 'night crossing', \"film \\\\'s cast\", 'charles korvin', 'sailing yachts', '18', 'video games', 'jamarion and jordan scott', 'beijing', 'treaty of versailles', 'istanbul', 'brian potter', 'dennis lambert', 'neville chamberlain', 'samuel alito', 'elena kagan', 'stephen breyer', 'neil gorsuch', 'clarence thomas', 'sonia sotomayor', 'john roberts', 'anthony kennedy', 'ruth bader ginsburg', 'toronto , canada', '21', 'february 15 , 1965', 'state', 'federal', 'the 1920s', 'marie louise coleiro preca', 'crane currency', 'mike wallace', 'nettie fowler', 'louise', 'alex', 'justin', 'miami', 'april 4 , 2014', 'treasure island', 'peter pan', 'prof c. ravindranath', 'maribeth monroe', '18', 'samantha barks', 'stone circle', 'the green bay packers', 'chamberlain , wilt', 'jackie robinson', 'klaus badelt', 'nearly one hundred', '1987', 'bud mcnulty', 'gregor mendel', 'gwynne owen evans', 'peter anthony allen', 'william hart', 'thom bell', 'november 11 , 2008', 'torah', 'british amusement - park ride', 'white', 'midnight green', 'black', 'silver', 'mary jane croft', 'marcia cross', 'december 1 , 2017', 'strom thurmond', 'dormammu', 'june 22 , 2001', 'anna kendrick', 'iris dohrn', 'the chambers brothers', 'atlanta , georgia', 'august 16 , 1967', '1 : 1', 'four - year', 'between 1916 and 1970', 'georgia state panthers', 'western kentucky hilltoppers', 'south sudan', 'r2 - d2', 'march 19 , 1918', '82', 'isaac watts', 'garth jennings', 'dawn bellwether', '2013', 'chamoli', 'western caribbean sea', 'elizabeth mitchell', 'santa fe', 'harper moore', '2000', 'gordon reid', 'alfie hewett', 'roger federer', 'untitled avengers film', 'kaushal manda', '12 nautical miles', 'jeremy shada', 'four - seam fastball', '13', 'alec baldwin', 'constitution hall', '2011', '1951 -- 52', 'may 25 , 2018', 'the thin blue line', 'june 6 , 2000', 'hank williams , jr.', 'belgrade', 'john carpenter', 'isle of man', 'november 5 , 2004', 'february 20 , 2017', 'expressed', 'implied', 'carter burwell', 'don davis', 'gig harbor , washington', 'blue naomi', 'kansas', 'september 15 , 2017', 'a united states citizen', 'herbert spencer', 'shortly after birth', 'jonathan sadowski', 'admiral sunil lanba', 'white', 'mihrab', 'december 20 2017', 'affirmed', 'april 22 , 2017', 'marseille', 'pisa', 'sicily', 'ten', '1999', 'barbara mandrell', 'table of contents', 'whoopi goldberg', 'stanley wayne mathis', 'john vickery', 'jeremy irons', 'kevin cahoon', 'cheech marin', 'tracy nicole chapman', 'jim cummings', 'yuki kawauchi', 'susan kennedy', 'karl kennedy', 'july 16 , 2017', 'euclid', 'may 2003', 'keala settle', '8 november 2017', 'may 2006', 'downtown haverhill , massachusetts', 'tonsilloliths', 'the newlywed game', 'october 3 , 2017', 'october 19 , 1781', 'christopher clavius', '10', 'sint maarten', 'suriname', 'cura\\\\xc3\\\\xa7ao', 'belgium', 'aruba', 'netherlands', 'rick scott', 'fractional second', 'the early 1950s', 'necessary and proper clause', '1967', 'saint jude the apostle', '314', 'algarrobo , chile', '2000', 'ravi shankar', 'bhanu athaiya', 'koine', 'february 1937', 'thylakoid membrane', 'inner mitochondrial membrane', '18', 'lois smith', 'pancreas', 'spleen', 'gastrointestinal tract', 'gallbladder', 'paul nicholas', 'the house of representatives', 'the senate', 'great leader', 'rory mcilroy', 'uterine contraction', 'september 7 , 2018', '2017', 'aconcagua', 'vinayak damodar savarkar', '9.7 kj / mol', 'sophie isaacs', 'amy lennox', 'annaleigh ashford', 'rhiannon hansen', 'bay lake , florida', 'kate bosworth', 'august 19 , 2017', 'the united nations general assembly', 'pictograms', 'jonas salk', '2017', 'margate', 'roberts scott blossom', 'jill vogel', 'justin fairfax', 'sting', 'self - employed', 'mark lowry', 'much less stable', 'sons of adam and eve', 'sonny rollins', '1835 -- 1836', '1862', '1964', 'ernest howard shepard', 'a decline in food availability', 'september 27 , 2016', 'the legend of sleepy halliwell', 'the eighth season', \"vancouver island \\\\'s qualicum beach\", 'haploid gametophytes', 'saint william of perth', 'three', '28', 'cersei', 'iain armitage', 'august 21 , 2015', 'ballistic', 'animals', 'water', 'gravity', 'wind', 'environmental stimulus', 'september 28 , 2017', 'irna phillips', 'ericsson mobile communications', 'matt mattox', '1803 ( 10.0. 17134.112 )', '1903', 'metabolism', 'the beatles', 'fade', '2017 -- 18', 'san mam\\\\xc3\\\\xa9s stadium , bilbao', 'august 15 , 2014', 'pink', 'ted neeley', '8 ( + 1 )', '1852', 'the lab', 'tom drake', '2015', 'gusau', 'washington capitals', 'falling in love', 'geoffrey lumsden', 'closed', 'april 18 , 2017', 'sam cooke', 'iselin solheim', 'aristarchus of samos', '1987', 'isaac', 'daniel hall', 'blair redford', 'university', 'goblet of fire', 'rome', 'toto', 'laura gonz\\\\xc3\\\\xa1lez', 'miami heat', 'dan payne', 'colonel harland david sanders', 'john paul scott', 'degrassi : the next generation', 'medieval architecture', 'the golden ham', 'its white wine', 'saffron', 'gary morris', 'colleen hewett', 'lou rawls', 'gladys knight & the pips', 'bette midler', 'sheena easton', 'roger whittaker', 'lee greenwood', 'rufus frederik sewell', 'freedoms of speech and expression', 'bob saget', 'june 5 , 2017', 'likely premiere in 2018', 'the books of samuel', 'october 1 , 1993', 'may 8 2018', 'the physical layer', '99.650', 'fred', 'robert romanus', 'bing crosby', 'dakota fanning', 'franklin d. roosevelt', 'audrey ii', 'canada', 'morocco', 'poland', 'germany', 'united kingdom', 'france', 'belgium', 'british india', 'netherlands', 'detroit lions', 'us $2.1 billion', 'peter grosz', 'garbi\\\\xc3\\\\xb1e muguruza', 'central city', 'thoracic diaphragm', 'donald trump', 'wii sports', 'march 9 , 2018', 'european union ( eu )', 'august 12 , 2018', 'elijah', '5,372', 'troy gentile', '9', 'steve', 'mark lester', 'purple & white', 'power', 'st. john of the cross', 'alexander hamilton', '1795 -- 1797', 'oliver wolcott jr .', '1789 -- 1795', 'overwork', 'march 27 , 2018', 'josef bican', 'for twin cities', 'bradley cooper', '1969', 'the grizzly', 'floyd lawton / deadshot', '150,697,361', 'yani gellman', 'veni , vidi , vici', 'september 1 , 1986', 'natascha mcelhone', 'the anglo - french armies', 'darwin', 'february 18 , 1996', 'gonadotropes', 'regis philbin', 'the new 52', 'the manhattans', 'british india', 'individuals with disabilities', 'ty burrell', 'rainbow', 'jos\\\\xc3\\\\xa9 daniel ortega saavedra', '22 march 1963', 'june 21 , 2017', 'immanuel kant', 'douche', 'germany', 'romi van renterghem .', 'american media inc', 'nicole kidman', 'patrick henry', 'gwen mccrae', 'the government of india act', 'demi lovato', '1629', 'amino acids', 'shia', 'sunni', 'eminem', 'margaret brainard hamilton', 'august 27 , 2017', 'march', 'september', 'in the distant future', 'beat poet', 'keegan connor tracy', 'patricia annette olson', 'compound', 'justin long', '9 july 1943', 'menander i soter', '40', '19th century', 'james weldon johnson', 'six', 'bobby sherman', 'hal david and archie jordan', 'natascha mcelhone', 'howie mandel', 'heidi klum', 'mel b', 'simon cowell', 'august 15 , 2017', 'in 1958', 'deandre ayton', 'september 20 , 2013', 'hassan whiteside', '20 percent', 'stevie wonder', 'the california state assembly', 'hawai \\\\xca\\\\xbbi', 'texas', 'october 2008', 'in the nucleus', '2015', 'september 23 , 2008', 'al jarreau', 'daryl hall', 'billy joel', 'kim carnes', 'kenny loggins ,', 'steve perry', 'cyndi lauper', 'ray charles', 'michael jackson', 'bob dylan', 'dionne warwick ,', 'willie nelson', 'kenny rogers', 'diana ross', 'bruce springsteen ,', 'tina turner', 'paul simon ,', 'stevie wonder', 'james ingram ,', 'lionel richie', 'huey lewis ,', 'real', '\\\\xc2\\\\xa3 18 million', 'yorkshire', 'meiosis', 'bbc', 'titanic', 'dick durbin', 'mike ness', 'lou johnson', 'dionne warwick', 'the animals', 'allison janney', 'justin timberlake', 'james mattis , secretary', 'dire straits', 'barry dennen', 'once', 'kim zolciak', 'bad bunny', 'j balvin', \"that \\\\'s what i like\", '1965', 'ringo starr', '1998', 'kentucky', '14 june', 'hayley atwell', 'james arthur', '3,796,742 sq mi', 'the bon voyage reaction', 'barry nelson', 'dred scott', 'season 11', 'sunil dutt', 'deniz akdeniz', 'sneha pandit', 'taher shabbir', 'twenty - three', '1967 model year', 'detected by the human eye', 'polyploidy', 'patrick denham', 'bread', 'toronto raptors', '156th', 'lester fuller', 'george eliot', 'edwin rolfe', '1,800', 'the observer', '2 - 4 family', 'gladys knight', 'august 8 , 1911', 'skyvolt - a-rooney', 'noel fielding', '1967', '1997', 'jonathan breck', 'tilman joseph fertitta', 'robin williams', 'eight oscars', '1994', 'tim duncan', 'george washington to preside', '1983', 'february 19 , 1880', 'giuseppe mazzini', 'agricultural', 'mechanical', 'ben berger', 'walk the moon', 'ryan mcmahon', 'the stono rebellion in 1739', 'the hair - brained scheme', 'croatia', 'serbia', 'montenegro', 'bosnia and herzegovina', 'macedonia', 'slovenia', 'mariana trench', 'bill peters', '7.4 days', 'billy paul', 'world war ii', \"the munsters \\\\'s theme\", 'february 23 , 2018', 'sydney , australia', 'president john hancock', 's\\\\xc3\\\\xbcddeutsche zeitung', 'eric d. hill jr.', 'american civil war', 'mary ainsworth', 'urbanization', '1939', 'seth green', 'glorification of the chosen one', 'milk', 'salmon', 'fish', 'sheep', 'vegetables', 'potatoes', 'gastrointestinal tract', 'september 27 , 2017', 'the friends of distinction', 'zach galifianakis', 'raymond wallace bolger', 'asian artiodactyl ungulates', '10', '1973', 'infantry training centre', 'royal military academy sandhurst', 'army training regiment', 'army foundation college', 'beta decay', 'the sun', 'western province', 'in simla', 'jesse shatkin', 'priscilla renea', 'mozella', 'midnight green', 'brittany beattie', 'january 26 , 2018', '2017 -- 18', '576', 'romans', 'greeks', 'india', '18', 'warden', 'ewan mcgregor', 'nova', 'abraham lincoln', 'theodore roosevelt', 'george washington', 'thomas jefferson', '1994', 'steve burton', 'february 7 , 2018', 'june 25 , 2018', 'uganda', 'attaining better wages', 'retirement', 'benefits', 'health care', 'improving safety standards', 'vacation', 'working conditions', '2013', 'philadelphia -- reading -- camden', 'kevin l. bryant', 'lewis madison terman', 'pro bono publico', 'rangers', '26 august 1968', 'alabama crimson tide', \"dead man \\\\'s chest\", 'baton rouge , louisiana', 'italia', 'john milton', '72,008', 'great britain', 'david krumholtz', 'two', 'opilio crab', 'king crab', '20', 'shel silverstein', 'october 1984', 'john wesley shipp', 'on january 28 , 1986', 'mark wahlberg', 'will ferrell', 'bobby cannavale', 'hannibal buress', 'linda cardellini', 'thomas haden church', 'harry s. truman', 'president franklin delano roosevelt', 'at least 21', 'two - factor authentication', 'ten', 'september 10', 'samson', 'expressionism', 'surrealism', '6,750 ft', 'march 21 , 2017', 'the mountain', '1988', 'ravi shankar prasad', 'william lyon mackenzie king', 'lihue', 'kahului', 'kailua - kona', 'honolulu', 'july 10 , 1963', 'carey mulligan', 'gugu mbatha - raw', 'internal problem that requires service', 'despacito', 'pia mater', 'toni atkins', 'january 6 , 2017', '1800 to 1850', '2018', 'new zealand', 'alaska', 'alexander siddig', '3 september 1967', '5,240 to 8,555 nautical miles', 'jillian russell', 'dr. abdul kalam', 'conservative', 'fruit', 'march 9 , 2018', '1997', '1981', '1982', '1978', '1979', '22.9 points', 'bhabar', 'in fall 2018', 'alan merrill of the arrows', 'karen gorney', 'two', 'the boston celtics', '10', '29', 'sinn f\\\\xc3\\\\xa9in', 'hillary clinton', 'the british east india company', 'dave bartholomew', 'season 10', 'chicago', 'ramoji rao', '2016 -- 17', '2018', 'the outsider', 'hoth', 'july 5 , 1917', 'katharine ross', 'jeff corey', 'henry jones', 'paul newman', 'robert redford', 'strother martin', 'october 3 , 2017', 'lawrence kasdan', 'michael arndt', 'j.j. abrams', '1995', '2018', 'dodger stadium', 'sub-saharan africa', 'western india', 'shatt al - arab', 'eastern turkey', 'march 24 , 2018', 'a panda', 'death', 'may 5 , 2017', \"`` wizards unleashed \\\\'\\\\'\", \"constantine `` dc \\\\'\\\\' abramson\", '308 million', 'tagore', 'kingdom of great britain', 'august 2 -- 5', 'in the pines', 'physiological needs', '1973', 'capsaicin', '1971', 'chandra danette wilson', '26 june 1997', 'victor david brenner', 'lyndall bass', 'counterweight trebuchets', '16 december', '1993', 'africa', 'americas', 'asia', 'oceania', 'mexico', 'los angeles , california', 'elizabeth taylor', '1963', 'columbia university', '2001', 'ovation of the seas', 'mycelium', 'qiana', 'convenience store', 'bryan ronald dattilo', 'season 12', 'egypt', 'morocco', 'south africa', '2013 -- 14', 'desilu studios', 'demi lovato', 'the cranium and the mandible', 'october 3 , 2008', 'june 30 , 1996', 'david glasgow farragut', 'wakanda', '2004 -- 05', '32', \"dan `` toasty \\\\'\\\\' forden\", 'les habitants', 'yvonne joyce craig', 'a wax or clay base', 'ruth ellis', 'looking glass', 'california', 'massachusetts', 'kim carnes', 'kenny rogers', 'elton john', '1903', 'italy', 'new york city', 'russia', 'planet of the apes', 'stephan douglas jenkins', '1816', 'hmhs britannic', 'sundance head', '22', 'dorothy dwan', 'new york city', 'alan browning', 'adam driver', 'snowball', 'jack sanders', '35', '1524', 'the epistle to the galatians', 'december 20 , 1946', 'laura jane haddock', 'hillary clinton', 'horatio spafford', '2256', 'pop', 'general', 'lieutenant colonel', 'brigadier general', 'lieutenant general', 'colonel', 'major', 'major general', 'hoboken , new jersey', 'christopher plummer', '1946', 'jeremy clarkson', 'age 15 -- 17', 'rex harrison', 'audrey hepburn', 'pyeongchang', 'john krasinski ,', 'basel , switzerland', 'theodore roosevelt jr.', 'john amos', 'sadhana sargam', 'udit narayan', 'anuradha paudwal', 'anupama deshpande', 'june 12 , 2015', 'the national park service', 'neville chamberlain', 'winston churchill', 'jeremy irons', '1965', 'began in 1966', 'qatar', 'steven spielberg', 'miles coverdale', 'the great irish famine', 'approximately 70,800 juveniles were incarcerated', 'the london company', 'august 15 , 1971', 'donald trump', 'bukola saraki', '1975', '586 bce', 'the eclipse of thales', 'started in 1869', 'edappadi palanisamy', 'marlys watters', 'josefina scaglione', 'josie de guzman', 'carol lawrence', 'chromosomal crossover', 'around 1440', 'on 15 january 2012', 'scope', 'objectives', 'participants', 'gus', '29th', 'sumerian', 'henri tajfel', 'rio de janeiro', 'scotland', 'february 15 , 1965', 'young m.a', 'nicki minaj', 'cardi b', 'remy ma', 'missy elliott', '2019', 'east pittsburgh , pennsylvania', 'ucla', 'bruce dold', 'september 1983', 'kenneth wayne jennings iii', 'brazil', 'nine minutes', '10 december 1948', '12', '1977', 'in the concho valley', 'thorax', 'abdomen', 'wonga philip harris', 'santino fontana', 'development', 'raja todar mal', 'guildenstern', 'rosencrantz', 'david janssen', 'london', 'josef bican', 'entrada', 'brad delp', 'coconut water', 'maureen denise mccormick', 'sun yat - sen', 'june 1 , 2005', '1944', 'october 23 , 2015', '2002', 'vancouver', 'lake oahe', 'pauley perrette', 'june 5 , 1942', 'wayne cochran', 'endothelial cells', 'inflammatory bowel disease', \"samuel eto'o\", 'david bentley', 'romelu lukaku', 'dirk kuyt', 'juanita hall', 'rockwell', 'canaanites', 'mnemonic', 'oxygen', 'twelve', 'sloane stephens', 'hades', 'gisele yashar', 'october 1 , 2017', 'november 4 , 2014', '45', 'alcatraz island', 'swindon , england', '1984', 'tasman sea', 'russ ballard', 'patrick s. khaemba', 'camp crystal lake', 'sixth season finale', 'tu', '326', 'france', 'croatia', 'perez hilton', 'solomon islands', 'indian ocean', 'australia', 'gulf of thailand', 'january and october 2017', 'september 10 , 1990', 'josh gad', 'joely fisher', 'reparation and rehabilitation', 'venezuela', 'solomon', 'march 2 , 1861', 'robert alda', 'bob saget', 'opera singer paul potts', 'late 1720s', 'june 18 , 1971', 'five', 'isham jones', '10 may 1871', 'near telluride , colorado', 'oh so sharp', 'uss indiana', 'seth macfarlane', 'president', 'bills for raising revenue', '1910', 'magnetos', '17 june 2018', 'aretha franklin', \"women 's ice hockey\", 'eddie kendricks', 'in season 1', 'greg edwards', 'sony pictures networks', 'airtel tv', 'jio tv', 'creed', 'teresa palmer', 'case keenum', 'brenton wood', '$31,099', 'sam hunt', 'zach crowell', 'shane mcanally', 'suzanne cryer', 'nathan fillion', 'traylor howard', 'julius carry', 'richard ruccolo', 'jennifer westfeldt', 'ryan reynolds', 'david ogden stiers', 'jillian bach', '2 october 2000', 'jack dee', 'britt robertson', 'june 5 , 1942', '115', '12 december 1911', 'triple bonds', 'september 20 , 2016', 'australia', 'affectionately yours', 'repeated friction', 'pressure', 'other irritation', 'the large bowel', 'joe mcelderry', 'pooh the swan', 'november 6 , 2017', '5', 'jim parsons as sheldon cooper', 'johnny galecki as leonard hofstadter', 'simon helberg as howard wolowitz', 'kaley cuoco as penny', 'kunal nayyar as rajesh koothrappali', 'martina navratilova', '1959', 'schadenfreude', 'the prime minister', 'sam elliott', 'viceroy lord irwin', '12 october 2018', 'all the visitors', 'temuera morrison', 'the sun', '6', 'march 8 , 2018', 'southampton', 'vagina', 'the house of representatives', 'joshua', 'isaac cooper', 'jennifer barney', 'michigan', 'wendie jo sperber', '1967', 'hannibal', '$15.00', '2017', 'montgomery , alabama', 'july 2017', \"colin arthur o\\\\'donoghue\", '2016', 'hound dog', 'heartbreak hotel', 'stuck on you', 'suspicious minds', 'legislature', 'german shepherd', 'coupeville , washington', 'artificial set in california', '1996', 'lillehammer', 'vishwanathan', 'south bay', 'the british government', 'polar', 'the 1990 - 91 season', 'tree', 'cincinnati , ohio', 'june 17 , 2018', 'the fourth season premiere', 'the retrocecal or pelvic region', 'deuteronomy', 'exodus', 'leviticus', '1818', 'at least to the 1930s', 'november 12 , 2008', 'november 14 , 2008', 'november 11 , 2008', 'fruit fly', 'robin williams', 'florida', 'indiana', 'milwaukee', 'moscow', 'chicago', 'washington , d.c.', 'roger cook', 'sam hogin', 'california', 'sami gayle', 'blitzen', 'sam smith', 'muhammad ali', 'acrostic', 'new york yankees', 'impasto', 'march 29 , 2018', '57,725,600', 'july 21 , 2007', 'a written truce', 'redistribution of land', 'release of prisoners', 'galileo galilei', 'diffuse intrinsic pontine glioma', 'season two', 'europe', 'africa', 'asia', 'south america', 'australia', 'north america', 'antarctica', 'new york yankees', 'jpmorgan chase', 'october 20 , 2017', 'named after their oxides', '22 june 2012', 'kanpur', 'november 1', 'october 31', 'november 2', '2017 -- 18', 'carnegie steel company', 'geoff stults', 'tara knowles', 'the everly brothers', '5', 'june 23 , 2017', 'james hong', 'near the end of 2015', 'about 40 weeks', 'september 1 , 2008', 'rohit sharma , 264', 'robin lee', 'in 1993', 'stage manager', 'visa not required', 'april 22 , 1993', 'november 3 , 2014', 'same old lang syne', '22', '1997', 'north american plate', 'between 353,593 and 498,593', 'confederate', '25', 'penis', 'mo collins', '#', '33,686 battle deaths', '2,830 non-battle deaths', 'mayor shelbourne', 'old rick', 'flint lockwood , an inventor', 'lauren taft', 'thierry henry', 'jermain defoe', 'frank lampard', 'michael owen', 'andy cole', 'robbie fowler', 'teddy sheringham', 'les ferdinand', 'alan shearer', 'wayne rooney', '1981', 'jerry chesnut', 'emperor sher shah suri', 'meat loaf', 'patti russo', 'lorraine crosby', '1998 winter olympics', 'joseph r. biden jr', 'satellites', 'aircraft', '2008', '1945', '2018', 'october 26 , 1985', 'well over $1.4 trillion', 'many countries', 'june 20 , 2006', '36', 'quintuplets', 'west indies', 'danielle deadwyler', 'etta james', 'beyonc\\\\xc3\\\\xa9 knowles', 'speaker of the house', 'april 22', '2017', '1917', 'rigid', 'november 29 , 2017', 'david ben - gurion', '1 april 1957', 'rebecca sara newton', 'chicago', 'oliver north', '461', 'april michelle bowlby', '2018', 'germany', '2013', 'august 16 , 1999', \"raven \\\\'s home\", '1918', 'the luzhniki stadium in moscow', 'american rapper wiz khalifa', 'featuring american singer charlie puth', 'mike love', 'brian wilson', 'supplemental nutrition assistance program', 'phoenix', 'tom hanks', '20 september 1993', '16', 'candle in the wind', 'john isner', 'december 22 , 2006', '2005', 'seven to ten days', 'easterly surface winds', 'state - owned insurance group', 'call of duty', '3 september 2013', '110', 'niels bohr', 'ernest rutherford', 'peace', 'november through march', 'november 1 , 1994', 'amitav ghosh', 'thurl arthur ravenscroft', '1995', 'denver , colorado', '31', 'china zun', 'lotte world tower', 'tianjin ctf finance centre', 'burj khalifa', 'taipei 101', 'one world trade center', 'ping an finance centre', 'guangzhou ctf finance centre', 'shanghai tower', 'eddie schwartz', 'mouse', 'bear', 'ape', 'yak', 'vulture', 'elephant', 'kangaroo', 'johnny nash', 'mike wheeler', 'yogi berra', 'france', 'present - day cape cod', 'william mark fagerbakke', 'difficulty', 'painful', 'march 28 , 2017', 'march or april', 'november 5 , 2017', 'yes / no', 'dr. ambedkar', 'juliet mills', '10 december 1948', 'steve clark', 'johnny macrae', 'ronnie platt', 'phil ehart', 'rich williams', 'david manion', 'david ragsdale', 'zak rizvi', 'billy greer', 'clay', 'state legislatures', 'november 26 , 1989', '1871', 'piper laurie', 'red', '26', '1886', 'doug davidson', 'marco rubio', 'large', 'perfect fourths and fifths', 'major and minor thirds', 'melodic', 'nine', 'jawaharlal nehru', 'june 25 , 2018', 'during the american revolutionary war', '1776', '2017', '975 -- 1010 ad', 'dan stevens', '139 pm', '1951', 'johnny arthur', 'robert duvall', 'mo collins', 'george foreman', 'may 6 , 2016', 'needham', 'reynolds', 'andr\\\\xc3\\\\xa9s iniesta', 'don felder', 'joe walsh', 'in the 1840s', '1947', 'donovan', '2006', 'kay oyegun', 'jas waters', 'victor webster', 'prime minister', '2009 -- 10', 'april 10 , 1959', 'white tiger', 'power man', 'hulkling', 'songbird', 'wiccan', 'squirrel girl', 'hester v. united states', 'sarah duncan', 'sebastian barry', '27.321', '29.530', 'may 5 , 1992', 'rigoberto ur\\\\xc3\\\\xa1n', 'metacognition', 'november 7 , 2013', 'jessie j', 'dwayne johnson', 'october 1 , 2017', 'liam neeson', 'avatar', 'war and peace', 'joe cocker', 'october 2017', '44,155', 'vince gill', 'kobe bryant', 'february 1981', 'january', '2018', 'matt lowe', '1978', 'safari 11', '10', 'venus ( aphrodite )', 'jupiter ( zeus )', 'moon', 'mercury ( hermes )', 'saturn ( cronos )', 'sun', 'mars ( ares )', '1944', 'riverdale high school', 'hatshepsut', 'andy murray', 'the mid-1950s', 'john rawls', '2015', 'lori mckenna', 'cindy williams', 'twice to jane collins', 'laura dunn', 'mel healy', 'post-impressionist', 'octavio eduardo dotel diaz', '31 may 1961', 'sauropsids', 'synapsids', 'erosion', '80 minutes', 'stephen chbosky and evan spiliotopoulos', '1995', 'sdf', 'estimated 2.3 million', 'april 18 , 2018', 'adjaye associates', 'freelon group', 'davis brody bond', 'pablo picasso', 'september 20 , 2016', 'wakanda', 'wedge - tailed eagle', 'michael beldoch', 'crosby , stills and nash', 'donald pierce', 'arjuna', 'pradyumna', 'abhimanyu', 'krishna', 'satya pal malik', 'wrightsville beach , nc', 'new york', 'erika harold', 'kwame raoul', 'bubba harsy', 'leslie wilson', 'tevye', 'david frizzell', '14th - century', 'leslie samuel phillips', 'axial precession', 'madhubala', 'ronald reagan', 'model rachel hunter', 'president james madison', '1939', 'albrecht d\\\\xc3\\\\xbcrer', 'hank williams , jr.', 'a theme park', 'max minghella', '18', 'third sunday in june', \"paige o\\\\'hara\", 'palindrome', 'south africa', '190,884', 'on 21 june', \"saint piran \\\\'s flag\", 'october 28 , 1886', 'kyla - drew simmons', 'gunslinger', 'carl', '1787', 'four', 'bryan ronald dattilo', '18', 'alleviate financial crises', 'new international version', 'after september 15 , 2009', 'krysten ritter', 'september 7 , 2017', 'oracle at delphi', \"to identify canon \\\\'s lenses\", 'london', '25 yard - line', '3', 'the leap', 'paula', 'mrs. callaghan', 'michael', 'william', 'margot', 'lisa', 'battle of manchuria', 'battle of od\\\\xc5\\\\xbeak', 'the union', 'the coasters', 'starr', 'mccartney', \"`` the new colossus \\\\'\\\\'\", 'ava', 'janson', 'teresa', 'new york city', \"john lyly \\\\'s euphues\", 'danville , pa', 'toronto , ontario', '2', '527,438', 'vice president', '10', '$125 -- 129 million', 'keira knightley', 'august 14 , 1173', '1956', 'roger federer', 'thomas patrick cavanagh', 'california', 'pyeongchang county , south korea', 'glenn frey', '3,103', 'stephen curry', 'josef bican', 'royal cheese', 'january 19 , 2018', 'the remover of obstacles', 'the god of new beginnings', '2018', '45 \\\\xe2\\\\x81\\\\x84 hours', 'gregory peck', 'nancy birtwhistle', 'nelsan ellis', '18 years old', 'kisan kanya', '1990s', 'william james', 'st. louis rams', 'flag day 1954', 'sumitra mahajan', 'ac ocean walk', 'shai', 'philadelphia ,', 'march 31 , 1987', '13 october 1983', 'fern\\\\xc3\\\\xa1ndez', '750 -- 1258', 'charles wesley', 'mark l. young', 'real madrid', 'spirit', 'thors military academy', 'erebonian empire', 'pete stahl', 'chip donaldson', 'node', 'bob griese', 'earl morrall', '30 - minute', '2015', 'mary lynn rajskub', 'on april 2 , 2018', 'andy devine', 'ac ocean walk', 'synarthroses', 'patrol torpedo', 'half - blood prince', 'laurie forman', 'major', 'in the epididymis', '1976', 'newton', '18', 'general conference', 'life as we knew it', 'the norwegian nobel committee', 'the soviet union', 'china', '1883', 'june 14 , 1954', 'erik michael tristan', 'filter paper', 'occasionally of silk', 'food - grade plastic', '1800', 'october 6 , 2017', '$43.10 billion', '1991', 'dieppe , france', 'michael jackson', '13', 'cuba libre', 'diane warren', 'may 11 , 1858', 'greg reeves', '15 hours 42 minutes', 'roger whittaker', '2001', '18', 'fall 2018', 'billy squier', 'jeff bhasker', 'salaam remi', 'alicia keys', 'stomach', 'yak', 'the intolerable acts', 'absinthe', '6 : 00 pm', 'german origin', '1993', 'chicago', '6', '1973', 'p.v. narasimha rao', 'manmohan singh', 'atal bihari vajpayee', 'billy preston', 'bruce fisher', 'satya pal malik', 'ucla', 'bicarbonate', 'congressman paul ryan from wisconsin', 'peter claver cullen', '1989', '2007 -- 08', 'j. michael finley', 'brody rose', 'nhlanhla nene', 'eastern siberia', 'ayda field', 'robbie williams', 'louis tomlinson', 'simon cowell', 'worth', 'john millington synge', 'toby', '100 -- 400 billion', '1979 -- 80', '1982 -- 83', '1981 -- 82', '1980 -- 81', '330.43', 'eight times', 'australia', '12', 'basque', 'sunday , 2 september', 'feld entertainment', 'arsenal', 'beware before', '1733', '1988', '1981', 'february 1 , 2017', 'the new york yankees', '50', 'english idiom', '1534', 'martin short', '2008', 'fakhar zaman', 'dr apj abdul kalam road', 'ira gershwin', 'george gershwin', 'timothy donald cook', 'about 480 million years ago', 'james harden', 'india', 'opioid addiction', 'april 15 , 1964', 'from 1920 to 1933', 'january 26 , 2003', 'caribbean sea', 'drought', 'arav', 'march 6 , 1836', '1972', '1861', 'claude - michel sch\\\\xc3\\\\xb6nberg', 'iran', '1964', 'susan brooks', 'james madison', 'george washington', 'john jay', 'alexander hamilton', 'benjamin franklin', 'john adams', 'thomas jefferson', 'alan menken', '2018', 'global positioning system', 'february 23 , 2007', 'northern ireland', 'francis galton', '229', 'colin gibson', 'r.e.m.', 'at nationals park', 'pain perdu', 'acts of parliament', 'jonathan freeman', '361,088,090', \"broca 's area\", 'scott beach', 'lorenzo music', 'bill murray', 'frank welker', '1787', 'homophonic', 'brian hilliard', '50', 'sandstorm', '1998', 'december 29 , 2009', 'julius maada bio', '18', 'oxfordshire', 'barbados', 'nether wallop , hampshire', 'devon', 'norfolk', 'ten', \"the president \\\\'s guest house\", 'at the age of six', 'converted to individual amino acids', 'justice h.l. dattu', 'baltimore ravens', \"coulomb \\\\'s law\", 'robert d. hare', '28', 'real madrid', '1993', '2020', 'houston astros', 'nehemiah', '1931', 'auli\\\\xca\\\\xbbi cravalho', 'animalism', 'mahatma gandhi', 'liz mikel', 'closer to major cities', 'ann bradford davis', '448', 'too competitive', 'shimi', '20 , 2017 ( 2017', \"`` clattering \\\\'\\\\'\", \"`` train \\\\'\\\\'\", 'khaled abdel ghaffar', 'nettie fowler', 'naomi osaka', 'after season 10', 'theodore roosevelt', 'more economical', 'four', 'the people of france', 'rod stewart', 'keith hampshire', 'p.p. arnold', 'sheryl crow', 'grey', 'zedd', 'the monsters and the strangerz', 'jordan k. johnson', 'sarah aarons', 'proofreading', 'president calvin coolidge', 'november 2001', '1992', 'drummer doug clifford', 'rhythm guitarist tom fogerty', 'bassist stu cook', 'the capris', 'may 29 , 2018', 'the bay of pigs invasion', 'olly murs', 'in 1993', 'kristolyn lloyd', \"`` journey \\\\'s end \\\\'\\\\'\", 'bangalore city', 'kerry', 'the pittsburgh steelers', 'ramin karimloo', 'eric stuart', 'ringo starr', \"`` smoked \\\\'\\\\'\", 'the ken darby singers', 'october and november', 'agnes nangira odhiambo', 'secretary of state', 'december 1941', 'alexander hamilton', 'microprocessor without interlocked pipeline stages', 'bruce springsteen', 'maggie', 'james madison jr .', 'sir robert menzies', '6th century bce', 'citi field', 'the batman adventures # 12', 'john carpenter', 'congress', 'amber stevens west', 'russia', 'eddie orlofsky', '7', 'allen', 'republicans', 'jimmy matthews', 'tom brady', 'november 2 , 2018', 'samuel butler', 'a satire on victorian society', '18', 'graeme malcolm', 'don grady', 'july 18 , 1999', 'february 20 , 2017', 'may 29 , 2017', 'philip bliss', 'horatio spafford', 'a hybrid rose cultivar', 'matt caldwell', 'jerry rice', 'chris blue', 'october 28 , 1886', 'peter pan', 'fantasia', '2002', 'josef bican', 'nongthombam biren singh', 'meryl streep', 'tom hanks', '17 june 2018', '31', 'richard rodgers', 'oscar hammerstein ii', 'eastern asia', 'frances marion', 'cillian murphy', '15 september 2017', 'drew brees', 'norway ( nor )', 'hinton battle', 'orders from the virginia company', 'in central africa', '634 ( hd )', '106,143', '18 may 1974', '1986', 'new orleans pelicans', 'pine', 'march 18 , 2018', 'december 17 , 1989', 'hank locklin', 'james madison', 'trucks', 'rail cars', 'tanker vessels', 'pipelines', 'wilkerson', '17.3', '9 september 2016', 'philo taylor farnsworth', '1927', '1964', 'joshua regnall stewart', 'the u.s.', 'nathalie kelley', 'fremont', 'shepperton studios', 'april 1 , 2015', 'brian steele', 'gilbert gottfried', 'bobby hatfield', 'bone marrow', 'philadelphia eagles', 'new england patriots', 'two', 'lea thompson', 'judith light', 'benj pasek', 'justin paul', '0', 'borussia dortmund', 'vfl wolfsburg', 'bayern munich', 'vfb stuttgart', 'solar noon', 'england and ireland', 'mike pence', 'belinda giblin', 'alison mulvaney', 'tka', 'storage', 'transfer of computer files', 'data back - up', 'hypersalivation', '1933', 'january 8 , 2015', 'mumbai , maharashtra , india', 'mike einziger', 'avicii', 'aloe blacc', 'the constitution sets no qualifications', 'a president may nominate anyone', 'mohanlal', 'deep roy', '30', 'gandhinagar', 'trivandrum', 'bhopal', 'july 14 , 2017', 'joseph brooks', 'mayor burnside', \"macduff \\\\'s\", 'sydney carton', 'supercharged', 'iron hobnails', 'leather', 'december 9 , 2016', 'united states', 'pilandok', 'king william iii', 'harry kane', '1983 -- 84', 'instagram', 'steve bartman', 'annabelle', 'annabelle : creation', 'the corbelled arch', 'horatio spafford', 'chris traeger', 'ten', 'paco', 'heavyset man / norman', 'august 1 , 2014', 'houston', 'navigational map', 'joseph haydn', 'eumycota', 'lillo brancato jr.', 'ed gillespie', 'cliff hyra', 'ralph northam', 'smooth', \"india 's yuvraj singh\", 'world war ii', 'wayne newton', 'sixty', 'defining symptom of pleurisy', '22 october 1764', 'justin timberlake', 'university of minnesota marching band', 'the tennessee kids', 'tori kelly', 'susan stewart', 'marco island', 'cudjoe key', '2018', 'tetris', 'february 6 , 2011', 'mike pence', 'new england', 'aaron mccargo , jr .', 'july 26 , 2015', 'romeo void', 'arg', 'michael j. fox', 'hemant brijwasi', 'jonathan breck', 'talion', 'bailee madison', 'napoleon', 'taylor swift', 'miguel indurain', 'eddy merckx', 'bernard hinault', 'jacques anquetil', 'sarabi', '18 years', 'kenny chesney', 'david lee murphy', 'volcanic rocks', '1965', '380', 'd. train', 'natalya sats', 'pilot corporation', 'c. 1812', 'jonny wilkinson', 'rambo', 'independence , missouri', 'the willamette valley in oregon', '1974', 'the police', 'nfc', 'zygote', '2013', 'pranab mukherjee', 'homer', '10', '15 october 2018', 'the 31st century', 'june 17 , 2009', 'tina mcintyre', 'the auditor', 'shin lim', '1925', '2012', 'andy murray', '1957', 'huldrych zwingli', 'cbs', '2018', 'pak pong - ju', 'february 5 , 2018', 'orissa province', 'eddie howe', '11 december 1941', 'two parallel lines', 'two distinct but intersecting lines', 'jessica simpson', 'september 28 , 2017', 'article 16', 'near springfield , missouri', 'section 51', 'solid', 'neck', 'chest', 'groin', 'underarms', 'abdomen', '1960', 'alphonse bertillon', 'jonathan harrington', '26 september 2015', 'harper lee', '1939', 'august 14 , 2018', '1967', 'eddie delange and louis alter', '2018', 'kislev', '13', 'in some cases restoration', 'sanitization', 'presentation preservation', '2005', \"destiny \\\\'s child\", 'a1466', 'martina mcbride', '31 towns', '8 cities', 'the 2012 summer olympics', 'bill russell', 'december 3 , 2009', 'inglewood , california , u.s.', 'quagmire', 'caroll edwin spinney', 'june 12 , 2017', '195', 'chronic obstructive pulmonary disease', 'kris allen', 'sterling knight', 'great britain', 'france', \"ralph waldo emerson \\\\'s\", 'september 14 , 2002', \"galleria dell\\\\'accademia , florence ,\", 'blue magic', 'ancient greek literature', 'september 17 , 1787', 'shirley chisholm', 'brantley gilbert', 'may', 'december 28 , 2016', '1858', '31 july', '20.15', 'boris johnson', 'c. 1000 bce', 'kevin sussman', 'textile industry', 'caity lotz', 'michael joseph farrell jr.', 'gold coast , australia', 'boeing everett factory', 'jonathan and jacob velarde', 'ranger and wiley murphee', 'aaron and griffin kunitz', 'ethan and morgan darling', 'gabriel and gideon lala', 'wild adapter', '10', 'march 1 , 1781', 'colombia', 'brazil', 'argentina', 'peru', 'uruguay', 'connecticut', 'timothy b. schmit', 'joe walsh', 'don henley', 'tracy lawrence', 'martina mcbride', 'bob seger', 'alan shearer', 'andy cole', 'dwight', 'the 113th minute', '1930', 'in the series finale', 'paris , france', 'buffalo springfield', 'instagram', '8', 'zachary dean herron', 'daniel james seavey', 'jonah marais roth frantyich', 'jack robert avery', 'corbyn matthew besson', 'doug jones', 'dakota fanning', 'peyton manning', 'business process', 'united states president abraham lincoln', '2017', 'catalyst', '10', 'nine elms', 'swoosie kurtz', 'snow hill school in connecticut', 'selena gomez', 'april 23 , 2007', 'rubeus hagrid', \"clare \\\\'s brother\", 'a london studio', 'september 15 to october 15', '2004', 'drake', 'adam west', 'in rural valley', 'john partridge', 'oakland raiders', 'marty robbins', '13', 'august 28 , 2018', 'nigeria', 'april 15 , 2017', 'producers of a good', 'sadi carnot', 'john stafford smith', '1886', 'will smith', 'nicky jam', 'opera singer aida garifullina', 'era istrefi', 'gerald mcraney', 'usain bolt', 'djibouti', 'denmark', 'dominican republic', 'dominica', 'one', 'cesar romero', 'james madison', 'between 1590 and 1592', 'about 170 species', 'february 1 , 2017', 'emerging from a failed relationship', 'gertrude stein', 'eric ladin', 'eight', 'fern green', 'sam bowie', 'akeem olajuwon', 'yip harburg', 'january 1 , 2018', '1903', 'apparent retrograde motion', 'thai', 'genevieve goings', 'a wild pikachu', 'october 1982', 'april 8 , 2018', 'dr. ray belton', '28', 'the united states', '12', 'keith rowley', 'the west siberian plain', 'norman gimbel', 'classics iv', 'may 18 , 1980', 'village rockstars', '21 april 1983', 'christopher judge', 'ridge', 'rna', '1967', '2006', 'dallas cowboys', 'real madrid', 'barcelona', 'new york yankees', 'manchester united', 'richard cordray', 'the pittsburgh steelers', '26 august 1989', 'aubrey harold woods', 'patsy bruce', 'ed bruce', \"king 's college\", '55', 'cassius marcellus coolidge', 'september 2008', 'joule ( j )', 'christa beatrice miller', 'australian donald bradman', 'hagar', 'anus', 'periproct', 'dean heller', 'deb fischer', 'john barrasso', 'roger wicker', 'ted cruz', 'orrin hatch', 'jeff flake', 'eastward', 'six grand slams in 1987', 'tiger', 'between $10,000 and $30,000', 'seventeenth amendment', 'jack michel', '2018', '1890', 'may 22 , 2020', 'jennifer holliday', '1975', 'robert lamm', 'peter cetera', 'panama', 'illegal clubs', 'illegal balls', 'richard nixon', 'downcutting', 'pawan chamling', 'jacob evans', '1954', 'jagan nath kaul', 'william shakespeare', 'as early as 1802', 'stalin', 'develops multidisciplinary curriculum', 'involves active participation of learners', 'focuses on education', 'supports and encourages learning', 'facilitator', '64 teams', 'five times', 'lake hazar', 'big daddy kane', 'sandra reaves - phillips', 'the winans', 'polar bear', 'being faithful', 'william', '1872', 'jessica biel', 'the second amendment', 'physical needs', 'security', 'esteem', 'friendship and love', 'the bridge', 'tokyo skytree', 'us $5.2 billion', \"`` mr. first impression \\\\'\\\\'\", 'shiva', 'rockmond dunbar', '35', 'prior to 400 ce', 'june 22 , 2018', 'the river kwai march', '116,516', 'the lordship of frisia', 'the lordship of utrecht', 'the county of holland', 'the county of zeeland', 'the duchy of guelders', 'the lordship of overijssel', 'thigh', 'edward smith', 'foreign policy issues', 'international affairs', '12 december 1991', 'small intestine', 'july 9 , 2017', 'frances elizabeth bavier', 'sleepy midwestern town', 'minneapolis , minnesota', 'benjamin linus', 'amy winehouse', 'february 3 , 2017', 'adrianne curry', 'xining - golmud - lhasa', 'crushing in food preparation', 'hacking through bone', 'in 2559', 'bj\\\\xc3\\\\xb6rn borg', 'doug davidson', '6', '2024', 'richmond', 'steve goodman', '2017', 'season 5', 'american vocal group sister sledge', 'pliocene', 'december 15 , 2017', 'the fields medal', 'dick james', 'psoas major muscle', 'january 22 , 2016', '25', 'jill vogel', 'justin fairfax', 'september 20 , 2016', '2018', 'prasoon joshi', 'mogen david', 'fourth', 'december 31 , 1970', 'mass per unit volume', 'kittur chennamma', 'jonathan adam saunders baruchel', 'honolulu , hawaii', 'atlanta , georgia', 'preston , idaho', 'the right wingtip leading edge', 'august 28 , 2018', 'august 21 , 2017', 'blair walsh', 'ward bond', '1921', '1906', 'the beatles', '100', 'july 23 , 2018', 'sir benegal narsing rau', 'charlie hunnam', 'yentl', 'jim weatherly', 'julie andrews', 'christopher plummer', '2000', 'france ,', '2.6 million years ago', 'west indies', '4,384', '10 : 35 central', 'nuclear', 'lyrics by dorothy fields', 'music composed by jimmy mchugh', '12', 'july 25 , 2017', 'releases hyaluronidase and acrosin', '1986', 'ragtime', 'the beatles', 'irvine , california', '2013', 'november 29', 'whit hertford', 'france', 'independence hall', '1945', 'john davidson', 'cathy lee crosby', 'fran tarkenton', 'biometric id system', 'detroit , mi', 'september 10 , 2018', '1925', 'long - distance running', 'elizabeth berkley', 'september 7 , 2017', 'ernie', 'a young rubeus hagrid', 'rihanna', '16', '\\\\xe2\\\\x88\\\\x92 273.15 \\\\xc2\\\\xb0', 'steven spielberg', 'master sergeant', '12', 'percent sign ( % )', '1978', 'he could be the one', 'leukocyte extravasation', 'jason donovan', 'lady gaga', '1839', 'chris clark', 'confederate victory', 'sreekumaran thampi', 'elizabeth leefolt', 'natalie cole', 'july 4 , 1966', '73', \"paige o\\\\'hara\", '23', 'seattle mariners', 'washington nationals', '18 years or older', 'at&t stadium in arlington', 'april 12 , 1929', 'implement', 'the cubs', 'july 1 , 1971', 'a fictional aphrodisiac', '1989', 'next to each other', '8', 'coralline algae', 'large', 'worthington valley , maryland', 'cobie smulders', 'daniel jacob radcliffe', 'governor general', 'british colonial officers', 'minister of justice', 'brungart', 'parallel flow', 'counter flow', 'cross flow', 'electrons from nadh and fadh2', 'produce atp', 'beatles', 'december 22 , 2017', 'american singer donny osmond', '101,643', 'arctic shrew', 'august 1 , 1916', 'tina marie majorino', 'april 6 , 1917', 'december 1 , 2017', 'the td garden', 'christa b. allen', 'dallas cowboys', 'kansas city chiefs', 'seattle seahawks', '26 april 1999', 'anonymous character', 'hideki tojo', 'ten', '1995', '1990', '30 -- 375', 'the peasall sisters', 'dwier brown', 'dave dudley', 'paul davis', 'punggye - ri test site', '1840', 'preovulatory stage', 'prasoon joshi', 'sir edward elgar', 'jupiter', 'veto power over council votes', \"`` hurricane ! \\\\'\\\\'\", 'traditional image', 'the fourth - century', 'fictitious snow hill school', 'aaron lewis', 'welsh', 'dutch', 'french', 'english', 'anamudi', 'the roosevelt corollary', 'catherine', 'isabel', 'nav', 'sir simon', 'cochran', 'se\\\\xc3\\\\xb1or happy', '516 bce', 'land', 'manhattan', 'utopia , texas', 'fredericksburg , texas', 'university of pittsburgh', '1992', '1996', 'alternating current', 'direct current', 'usc', 'fernando valenzuela', '14 and 15 august 1945', 'english band james', 'mike slattery', 'denver broncos', 'pittsburgh steelers', 'new england patriots', 'miami heat', 'chicago bulls', 'legal', 'historical', 'business', 'fiscal', 'quiksilver', 'in 1870', 'south carolina', 'india', '1981', 'unhcr', '1830', 'cynthia ann lamontagne', '13 february', 'michael joseph kelly jr.', '1949', '93,983', '3 %', 'three', 'john keats', 'mark - paul harry gosselaar', '2018', 'charles dickens', 'croatia', 'austria', 'hungary', 'patriots', 'washington , d.c.', 'madame giry', 'elias janssen', 'force', 'fifth - century', 'billie gibson', 'the hollies', '1980s', 'lyndon b. johnson space center', 'a single - runway airport', '2004', 'heaven', 'military leader manuel noriega deposed', 'mint state', 'alluri sitarama raju', 'max weber', 'cosmic year', 'galactic year', '1911', 'chris gayle', 'selena gomez', 'tatyana marisol ali', 'free exercise of religion', 'right to peaceably assemble', 'freedom of speech', 'freedom of the press', 'jason isaacs', 'pyridoxal', 'pyridoxamine', 'pyridoxine', 'jawaharlal nehru', '1966', 'collabro', '1965', 'june 22 , 2018', 'lori alan', 'liberty state park', 'battery park', 'chicago bears', 'margaret brainard hamilton', 'american dish', 'pennsylvania dutch cuisine', 'october 13 , 2017', 'maharaja ranjit singh', 'emma lazarus', 'susan park', 'hans zimmer', 'benjamin wallfisch', 'diodorus siculus', '14 september 2017', 'seventh in the country', 'final judgment', 'baptism', 'laying on of hands', 'repentance', 'resurrection of the dead', 'faith', 'march 2 , 2018', '1962', '2014', 'gottfried wilhelm leibniz', 'pardner', 'elena kagan', 'mason vale cotton', 'no wind', '7th', 'whitesnake', 'paul newman', 'storg\\\\xc4\\\\x93', '\\\\xc3\\\\xa9ros', 'ag\\\\xc3\\\\xa1pe', 'phil\\\\xc3\\\\xada', 'over 17', 'puebla', '1979', 'kansas city chiefs', 'miami dolphins', 'new england patriots', 'daniel boone', 'kanye west', 'glyph', 'giorgio tozzi', '24,733', 'largest', 'posterior arch', 'new england', 'kansas city', 'two', 'cambodia', 'sri lanka', 'thailand', 'emperor k\\\\xc5\\\\x8dmei', 'hematocrit', 'ferris wheel', '10', 'jersey boys', \"non-hodgkin\\\\'s lymphoma\", '1875', \"fred o\\\\'bannion\", '1803', '1796', 'de la hoya', 'joe burke', 'al dubin', 'socrates', '1983', '29 states', 'frank harper', 'daniel bryer', 'jamie scott', 'liam payne', 'louis tomlinson', 'mike needle', 'may 29 , 2018', 'glenne headly', 'the imperial german army', 'brave new world', 'coffeescript', 'haskell', 'nicholas simon lyndhurst', 'sonny throckmorton', 'casey kelly', 'mark - paul harry gosselaar', 'gene steratore', 'james dornan', 'epsilon , \\\\xce\\\\xad\\\\xcf\\\\x88\\\\xce\\\\xb9\\\\xce\\\\xbb\\\\xce\\\\xbf\\\\xce\\\\xbd', '\\\\xce\\\\x95 \\\\xce\\\\xb5', 'the return of the king', 'eric clapton', 'maureen denise mccormick', 'mick jagger', '1,089 sq ft', '11', 'biscuit - sized cakes', '2001', 'denver , colorado', 'investment or capital accumulation', 'act utilitarianism and rule utilitarianism', '1 november 1955', '30 april 1975', 'benjamin harrison', 'lupe', '18', 'the first - season finale', 'the 1950s', '1875', 'donald trump', 'robert reiner', 'june 1925 </td> <td> 10', '344', 'carrie ann inaba', 'len goodman', 'julianne hough', 'bruno tonioli', 'germany', 'invisibility', \"`` swollen foot \\\\'\\\\'\", 'bob marley and the wailers', 'phil murphy', '1952', 'china', 'huntington , west virginia', 'atlanta , georgia', '15', 'chattanooga', 'cedar rapids', 'fort myers', 'rochester', 'between the lungs', 'north central region', 'heathland surrounding locks farm', 'esai morales', 'thomas jefferson', 'tom hardy', '7', 'sebastian kurz', 'the viscount canning', 'mississippi', 'proc. royal soc . b', 'october 28 , 1886', 'united spirits limited - diageo', 'meriwether lewis and william clark', '448', 'strom thurmond', \"genelia d\\\\'souza\", 'robert kelker - kelly', 'peter reckell', 'ehrmann', 'february 13 , 2015', 'kristen stewart', 'yankee doodle', '\\\\xe2\\\\x82\\\\xb9 100 crore', 'april 29 , 1868', '2008', 'teppanyaki grills', '13', 'david dundas', 'two', 'the beatles', 'october 5 , 2018', 'outfielder', 'jerry jeff walker', 'peter andrew beardsley mbe', 'magistrate', 'judge', 'supreme court official', 'steve goodman', 'rachel shelley', 'serena williams', 'mississippi', 'ken kesey', '42 minutes', 'darin brooks', 'cristiano ronaldo', 'ck nayudu', '$3,995', 'may 17 , 2001', 'sweet pea', 'mount everest', 'neil patrick harris', 'divergent plate boundary', 'april 14 , 2018', 'sarah chalke', 'taylor kitsch', 'ethan', '20 -- 40 miles', 'ray bolger', '25', 'kerry', 'seawater', 'nova bordelon', 'croatia', 'cassandra cooper ingalls', 'independent parliamentary standards authority', 'jean arthur', 'mathew fraser', 'andrija mohorovi\\\\xc4\\\\x8di\\\\xc4\\\\x87', 'thomas alva edison', 'thomas jefferson', 'marquis de lafayette', 'abb\\\\xc3\\\\xa9 siey\\\\xc3\\\\xa8s', '728', 'dayton , ohio', 'india', 'one point', 'abu', 'resistance', '432', 'address bar', '6', '6', 'anne ramsey', 'general nathanael greene', '1088', 'taylor lautner', 'vito corleone', 'aaron finch ( 84 )', '2006', 'the temporal lobe', 'pewdiepie', 'banks', '29 november 1963', 'colonel william travis', 'andrew j. west', '23 february 2018', '1984', 'collie', 'olivia rose keegan', 'jack kirby', 'stan lee', 'troop', 'lucio san pedro', 'emily blunt', 'khrystyne kamil haje', 'wilmer eduardo valderrama', '1990', 'bad moms', 'pitch perfect 3', 'the amish', 'shane watson', 'abigail pande and sanam johar', '58', 'ledger', 'brian francis connolly', 'jeremy irons', 'sarah drew', 'kunj', 'england', 'dylan neal', '12', 'mass spectrometry', 'francis scott key', 'born again', 'united states', 'daryl hall', 'john oates', 'sara allen', \"`` the cooler king \\\\'\\\\'\", 'either october or november 2017', 'is violated', 'performance convention', 'max records', 'the andaman and nicobar islands', 'july 16 , 2017', 'dove cameron', 'eight', '1935 -- 44', 'april 21 , 2000', 'hal david', 'woke up this morning', 'by the 2nd century ad', 'july 16 , 2017', 'the babylonians', \"`` the drunk slut \\\\'\\\\'\", '8.6 %', 'benjamin king', '20.95 % oxygen', 'millie bobby brown', 'andrew scheer', 'sergei prokofiev', 'six', 'rowley', 'windsor', 'the brothers johnson', 'francis scott key', 'john stafford smith', 'daniel day - lewis', 'south korea', 'the czechs', 'the czech people', '1966', 'mid-1990s', 'strong or steadfast', 'january 26 , 2003', '\\\\xe2\\\\x82\\\\xac 15,500,000', 'marlee matlin', 'kelli powers', 'pinellas county', 'rags and other plant fibers', 'two feet', 'betty who', 'may 1 , 2007', '4.8675 \\\\xc3\\\\x97 10 kg', 'saint joseph', 'sally', 'right ventricle', \"richard o\\\\'brien\", 'classical antiquity', 'john talfryn thomas', 'brittany murphy', '81.2', 'durning', 'annandale , dumfriesshire , scotland', 'april 10 , 2009', 'alexandra kyle', 'general surgery', 'jimmy boyd', 'loud noises', 'blair redford', \"`` disturbing behavior \\\\'\\\\'\", 'april 2011', 'white pine bay , oregon', 'the stone age', 'the federal reserve', 'jim carrey', 'ann hampton callaway', 'liz callaway', 'cleveland cavaliers', 'jim steinman', 'secretary of state', 'john cena', 'prohibition of alcoholic beverages', \"women \\\\'s suffrage was promoted\", 'building an efficiency movement', 'july 8 , 1933', \"instagram \\\\'s own account\", 'chicago white stockings', 'westbury american little league', 'thomas bracken', 'mariyappan thangavelu', 'devendra jhajharia', 'eagle', 'preferred hotels & resorts', 'henri dutrochet', 'roseanne barr', 'the mavericks', 'jaideep ahlawat', 'eric d. steinberg', 'lonavala', 'nicolas - joseph cugnot', 'late 2018 or early 2019', '1963', 'barbara rosenblat', 'american reality television series', \"olivia o\\\\'brien\", 'ant\\\\xc3\\\\xb3nio egas moniz', 'dinah washington', '1986', 'dolly parton', 'ploughman', 'april 17 , 2011', '1969', 'san marino', 'airborne ( parachute ) organizations', 'brian may', 'kenneth wayne jennings iii', 'brooklyn rae silzer', '107 bc', 'enforcing racially separated educational facilities', 'mr. k.v. chowdary', 'samuel george claflin', 'justin cooper', 'gale', 'george foyet', '1925', 'kod', 'spanish', 'basque', 'paul young', 'numerous unmanned landings', 'six manned u.s. landings', '1 samuel', '2 samuel', 'billy crystal', 'robin williams', 'amanda jo abizaid', 'harry nilsson', 'natarajan chandrasekaran', 'the greek sculptor phidias', '1994', 'bombay', 'amber brauner', '66', 'november 1973', 'ray allen', 'chicago bears', 'baltimore ravens', 'from 1861 to 1865', 'mcferrin', 'bill irwin', 'robin williams', 'loader', 'winstar world casino and resort', 'gravity', 'alexius obabu makozi', 'godfrey okoye , c.s. sp.', 'camillus archibong etokudoh', 'ellie bamber', 'april 2015', 'mary kay bergman', 'joan cusack', 'michael rooker', 'heinkel', 'the ranger talion', '1968', 'joan ferguson', '1964', 'spain national team .', 'ray allen', 'the cleavage process', 'gerry bertier', 'century city , los angeles', '25', 'new york city', 'october 1941', 'aaron musicant', 'naima mora', 'liam neeson', 'lee meriwether', 'yongle emperor', 'alexandra daddario', 'strong community ethic', 'hunter haley king', 'the cytoplasm', '1936', '15 june 1215', 'the protection of church rights', 'the shepherd boy', 'aeolian harp', 'grey delisle', 'gal gadot', '31 march 2018', 'on the thylakoid membranes', 'austin , texas', 'pflugerville , texas', '6', 'ars\\\\xc3\\\\xa8ne wenger', '1982', 'orleans', 'the hollies', '2010', 'rome , new york', 'rufus wainwright', 'tim allen', 'transference', '1907', 'stevie budd', '14 -- 15', 'indigenous peoples', '1994', 'senate judiciary committee', 'angus young', 'bon scott', 'malcolm young', 'katie crown', '1985', 'syracuse university', 'the third sunday in july', 'the ruf', 'will sampson', 'richard shannon hoon', '2009', '1925', 'around 1860', 'pennsylvania', 'new york', 'west virginia', 'donny osmond', 'united states military academy', 'west point , new york', 'anabolic steroids', 'anthony spilotro', 'geri mcgee', 'frank rosenthal', '377', 'big - box stores', 'julia stiles', 'flight attendant max horvath', 'lee greenwood', 'nikki bentley', 'aymee garcia', 'kristine yde eriksen', 'haven burton', 'alice fearn', 'january 2019', '2011', 'pisa', 'james marsden', 'bales', 'william sayle', '20', 'west virginia mountaineers', 'just south of yabucoa', 'rich porter', 'alpo martinez', \"azie `` az \\\\'\\\\' faison\", 'cameron smith', 'mary jo catlett', 'sarah chalke', '2011', 'windows xp', 'the government of india', 'treyarch', 'the miz', 'november 7 , 2017', 'nadiya hussain', 'dubuque , iowa', 'minneapolis , minnesota', 'dubuque star brewery', 'august 21 , 2017', '1991', 'bruce campbell', '1982', 'sting', 'january 18 , 2018', 'm. suryanarayan', 'sam snead', 'lorraine bracco', 'wesley', 'welsh poet dylan thomas', 'paul mccoy', 'simple minds', 'laura san giacomo', 'alan rickman', 'tom selleck', 'isaac newton', 'december 23 , 2008', 'roger miller', 'jens stoltenberg', 'emma lazarus', 'pyeongchang , south korea', 'truth and prophecy', 'healing', 'poetry', 'music', 'the sun and light', 'plague', 'august 21 , 1987', \"`` let \\\\'s groove \\\\'\\\\'\", 'a doctor of medicine', 'before 2 january 1915', 'new mexico', 'memory', 'four', 'elizabeth winfield sanford', 'corey glover', 'benjamin hanby', 'fred neil', 'sm\\\\xc3\\\\xa9agol', 'tybee island , georgia', 'savannah , georgia', '16 november 2001', 'circa 1550', 'tandem duplication', 'retrotransposition', 'chromosomal translocation', 'italian fascism in the 1920s', 'trade winds', 'membrane', '10', '1905', 'too young', 'alvin', 'theodore', 'simon', 'frontal lobe', 'marble', 'timothy b. schmit', 'protrudes from the cell body', 'johnny depp', '2003', 'after it airs', 'c. 1000 ad', '1 january 1993', 'in 1974', 'maycomb , alabama', '1933 -- 35', '29 april 1770', 'parliament - funkadelic', 'bull terrier', 'brazil', 'germany', 'argentina', 'france', 'west germany', 'italy', 'spain', '5 ft 10 in', '1984', 'joyce randolph', 'fibula', 'almost every state', 'chicago', 'joe woods', 'michael j. fox', 'scribblenauts', 'october 4 , 2015', '2008', '1', 'cerebral cortex', 'cerebellum', 'davidson college', '2000 - 2001', 'leonardo da vinci', 'stan shaw', 'monster', '8', 'venezuela', 'gwen verdon', 'auli\\\\xca\\\\xbbi cravalho', 'atlanta', 'the dominican republic', 'jefferson davis', 'ronald reagan', 'p.p. arnold', 'rod stewart', 'papa dee', 'keith hampshire', 'sheryl crow', 'dawn penn', 'radial symmetry', 'the tibia', 'the third side', '1960s', 'by the 20 member clubs', 'myolnir', '137', 'croatia', 'republic of bosnia and herzegovina', 'republic of serbian krajina', 'sfr yugoslavia', 'republika srpska', 'george h.w. bush', 'the borrower / trustor', 'southern california high school', 'the las vegas sands corporation', 'eddie rabbitt', 'scott grimes', 'nicole ari parker', 'october 3', 'robert browning', 'motorcycle club', 'deandre ayton', 'december 1984', 'the mexican revolution of 1910', 'april 15 , 2018', 'april 8 , 2018', 'the house of representatives', 'february 2 , 1999', 'christian isaiah', 'cities', 'president franklin d. roosevelt', 'carrie underwood', 'lori mckenna', 'liz rose', 'hillary lindsey', 'africa', '1981', 'january 16 , 2013', 'humpty alexander dumpty', 'the virginia plan', 'columbus blue jackets', 'minnesota wild', 'hudson river', 'great lakes', 'daron nefcy', '1974', 'daniel', 'john eric winchester', 'palmeiras', 'pope julius ii', 'super high output', 'roger federer', 'halsey', 'may 19 , 2008', '5', 'kamal haasan', 'the virtue of holiness', 'lena headey', 'peter dinklage', 'emilia clarke', 'nikolaj coster - waldau', 'kit harington', 'carbon - carbon', 'over 18 quintillion', 'doug ford', '1967', 'carol ann susi', 'from 1955 to 1958', 'may 22 , 1915', 'william boyde', 'sella turcica', 'bandi rajan babu', 'john william dimaggio', 'robert taylor', '6 -- 14 july', 'andmesh kamaleng', 'huddersfield narrow', 'atlanta , georgia , usa', 'william howard taft', 'julie payette', '8 march 1965', '1769', 'canadian singer leonard cohen', 'the beach boys', 'jan and dean', '1848', '2008', 'brazil', '1686', 'march 4 , 2018', 'february 13 , 2015', '2017', 'january 24 , 2016', 'cyndi lauper', \"mcdonald \\\\'s corporation\", 'rituraj mohanty', 'december 7 , 1979', 'brittany cherry', 'november 6 , 2017', 'alaska', '1976', 'thea', '24 ppqn', 'jace everett', 'zenon pylyshyn', 'june 23 , 2017', 'canada', 'stacy haiduk', 'prince', 'the j geils band', 'george thorogood', 'yellow river in china', 'fertile crescent', 'jeri lynn ryan', 'tiger stadium', 'geoff blum', 'alec baldwin', 'anthropomorphic monkey', '1985', 'thomas mitchell', 'keith thomas', 'heterogeneous', '37', 'south africa', 'china', 'texas', 'utah', 'nebraska', 'wyoming', 'rectifier', 'february 24 , 2017', 'justin timberlake', 'pusha t', 'the neptunes', 'ashley jensen', 'braun strowman', '23', '20', '2005', '13.5 %', 'abraham lincoln', 'june 2 , 2017', 'january 9 , 2018', 'english baroque', '1980s', 'anglo - saxon', 'old norse', 'ancient greece', '249', 'cleveland , ohio', 'los angeles', 'march 2004', 'chyler leigh', 'melanie fontana', \"huey \\\\' piano \\\\' smith\", 'march 18 , 2018', '1943', 'tyntesfield , near bristol', 'witch', 'gareth', 'b.w. stevenson', 'lower belly', 'permanent ada', 'tunnels beach , kauai', '32 gb', 'alabama', 'northern free - soilers', 'southern slave - holding interests', '2011', '100', 'july 4 , 1946', '18 years or older', 'the charlie daniels band', 'robert duvall', 'annette warren', 'age of enlightenment', 'early 55', 'late 56 / early 57', 'early 58', 'netherlands', 'robert gulaczyk', 'query', '16 episodes', 'dolly parton', '2002', 'cern', 'house of commons', 'hemant brijwasi', 'john augustus', 'late 1990s', 'clay tablet', 'styluses with sharp triangular tips', 'january 12 , 1971', 'real madrid', 'august 31 2018', 'stephen curry', 'simon peter', 'r. kelly', 'stephen curry', 'culinary contexts', '776 bc', 'real madrid', 'soon after birth', 'artery', 'university of nebraska', 'oahe dam', 'big bend dam', 'gavins point dam', 'fort randall dam', 'edmund muskie', 'endoplasmic reticulum', '389', 'low cost', 'maharishi dayanand saraswati', 'june and july 2017', '15 may 2004', '2004', 'desert like', 'subtropical', 'tropical', 'thomas babington macaulay', 'october 28 , 1886', '102', 'kevin kline', 'troy edward baker', 'john lennon and paul mccartney', '5', '34', '1876', 'sebastian stan', 'johannes kepler', 'a robot', 'lollywood', 'brown', 'white', 'sea - blue', 'grey', 'ashley crow', '90 % and higher', '20 march 2018', 'honeysuckle rose', 'novel', '2,190 acres', 'thirty - four', 'ascii', '1980', 'thursday , march 29', 'fifth season', 'craig morgan', 'wakanda', 'qatar', 'russia', 'decantation', 'precipitation', 'beak of rooster', 'suicidal feelings', 'e.g. daily', 'ringo starr', 'endochondral ossification', 'charles darwin', 'alan shearer', 'idina menzel', 'target market', 'isle of man', 'orrin hatch', 'peyton manning', \"ardal o\\\\'hanlon\", 'kris marshall', 'ben miller', '1936', 'gabriel narutowicz', '\\\\xc4\\\\xb0stanbul', 'tympani bone', 'dan stevens', 'tali', '12', 'the sound of music', 'probable cause', 'u.s. congress', '1521 to 1898', 'laura fraser', 'david timothy scarboro', 'anaheim stadium in anaheim', 'kidcutup', 'in london , england', 'kansas', 'alaknanda river', 'paul zerdin', 'epistle to ramsay', \"paul `` puma \\\\'\\\\' robinson\", 'plain view', 'search incident to arrest', 'consent', 'imminent destruction of evidence', 'emergency searches', 'hot pursuit', 'public safety', '1,506,000 us gal', '16 december 1995', 'm\\\\xc4\\\\x81juli or majoli', 'william thomas sadler', 'spain', 'august 8 , 2018', 'jones', 'july 4 , 1776', '4 may 2018', 'none', '8 : 46 : 40', 'the partridge family pop group', 'george peppard', '365.256 days', 'james madison', 'thomas jefferson', 'gabrielle union', '2013', 'ben - semination', 'july 3 , 2018', '1857 - 01 - 09', 'milk or cream , sugar', 'receptionist pam beesly', 'los angeles dodgers', 'chicago cubs', 'margaret court', 'shirly lyn', 'carl smith', 'adult , male citizen', '1,600', 'himadri station', 'june 16 , 2018', 'christians', '1967', 'new zealand dollar', 'cycloalkanes', 'alkanes', 'alkyne - based compounds', 'within the shawnee national forest', 'shawnee', '2002', '1978', 'the president', 'professional plus', 'professional', 'june 27', '1,000', 'necessity', 'emmerson mnangagwa', 'mohan singh', 'subhas chandra bose', '8 -- 15 seconds', 'cairn terrier', 'yogi berra', 'helium', 'between 1652 and 1674', 'flo rida', '$94.14 million', \"papa \\\\'s goods\", 'galway', 'bangladesh', 'the pentagon papers', '2018', '8', 'pacquiao', '1959', '370', 'june 2017', 'olivia cooke', 'cerebrum', 'burj khalifa', 'shanghai tower', 'july 2 , 2013', 'weekly', 'philippines', 'singapore', 'dr apj abdul kalam', 'wendy crewson', 'phil kiko', '6th century', '10th century ce', 'the legislature', 'sub-saharan nation in west africa', 'may 11 , 2011', 'april 11 , 1899', 'dan stevens', 'stefon washington', 'the ccp', 'english', 'french victory', 'john joseph haley jr', 'isolationist', 'gabriel luna', 'james madison', 'george washington', 'john jay', 'alexander hamilton', 'benjamin franklin', 'john adams', 'thomas jefferson', 'miko john hughes', 'pakistan', 'alex rodriguez', '19 bce', 'dioptre', \"`` going out \\\\'\\\\'\", 'us $26.4 billion', '2014', 'jennifer strange', 'andy warhol', 'anna wood', 'leah betts', 'the u.s.', '1865', '13', '30', 'queen victoria', 'dan stevens', '1945', 'season 6 finale', '1986', '1957', 'georgia allen', 'mark the evangelist', 'john the apostle', 'apostle matthew', 'luke the evangelist', 'john muir', 'sanket gaonkar', 'waitangi', 'completed by 1436', 'begun in 1296', \"`` incognito mode ''\", 'kylie minogue', 'four', 'karl benz', 'beginning in 1767', 'xi jinping', 'jennifer warnes', 'bill medley', '1913', 'jonathan freeman', 'jesse taylor', 'lebron james', 'enrolled voters', 'topol', 'norma crane', 'leonard frey', 'molly picon', 'paul mann', \"`` danny \\\\'\\\\' cedrone\", 'fifteen', 'an iron -- nickel alloy', 'michael schumacher', 'atticus finch', 'f - block', 'the evening of december 24', 'canada', 'mexico', 'united states', 'brooklyn', 'queens', 'manhattan', 'staten island', 'the bronx', 'alexander hamilton', '1974', 'isaac newton', 'kimberly rhodes', '1887', 'prime minister', 'lana thomas', '1957', 'ivan cleary', 'circular', 'september 22 , 2017', 'central banking system', 'religious freedom', 'uk', '1854', 'gregorian mission', 'five years (', 'swiss banking industry', 'jean - jacques rousseau', 'the pendleton act', 'july 15 , 2016', 'october 27 , 2017', 'emily kinney', '2005', '1828', 'august 9', 'france', 'great britain', 'wabanaki confederacy', 'iroquois confederacy', '1986', 'michael david rapaport', '2009', 'peyton', 'qhorin', 'broadcasting and telecommunications', 'anthony de la torre', 'the people of france', 'master patient index', \"`` goal ! \\\\'\\\\'\", 'deena', 'brazil', 'seattle', 'mark linn - baker', 'lebanese', 'elvis presley', 'the beatles', 'randy newman', 'euryhaline', 'despacito', 'damon', 'joe diffie', 'wilt chamberlain', '0', 'the marines', 'jan. 1969', 'pewdiepie', 'brook benton', '2011', 'president grover cleveland', 'claude joseph rouget de lisle', 'john requa', 'ken olin', 'jess rosenthal', 'donald todd', 'elizabeth berger', 'charlie gogolak', 'isaac aptaker', 'glenn ficarra', 'dan fogelman', 'eric d. steinberg', 'rhinoliths', 'michael damian', 'streaming media', 'mary jo catlett', 'ivo karlovi\\\\xc4\\\\x87', 'radar', 'constance shulman', 'obesity', '1984', 'james taylor', '2007', 'bagheera', 'rev. philip rahming', 'daryl sabara', 'narrator', 'george washington', 'cress williams', 'pretty little liars', 'london , england', 'tba', 'francesco yates', 'the shadowboxers', 'germany', 'the ottoman empire', 'austria - hungary', 'bulgaria', 'over 6,000 years', 'consumer value store', 'forty years old', 'bangalore', 'brian griffin', '1926', '1936', 'eagle jump', 'full hydrogenation', 'kris kristofferson', 'john carroll lynch', 'majority leaders', 'the mouthpieces', 'autostereogram', 'presidency university , kolkata', 'early on december 15', 'vitamin d', 'the 1928 summer olympics', 'september 7 , 2017', 'jodi marie marzorati benson', 'chris hemsworth', 'richard hartley', 'graham chapman', 'brooklyn', '1241 vod', '241 sd / hd', 'alabama', 'georgia', '2006', 'its shoulder patch', 'robert goulet', 'united kingdom', \"miguel \\\\'s brother hector\", 'antoine lavoisier', 'avon', '12 january 2008', '1960', '60 %', 'to the left', 'haddaway', 'hoyt axton', 'bharat ram', 'los angeles', 'elvin bishop', '1953 sunbeam alpine mk i', 'the seneca falls convention', '2', 'composer rossini', 'michelangelo', 'philosopher gentile', 'poet foscolo', 'machiavelli', 'galileo', 'herodotus', '134.1 \\\\xc2\\\\xb0 f', '38', 'donald trump', 'russia', 'paul rice', 'mitchell', 'november 15 , 2011', 'canals - barrera', 'battle of cajamarca', 'blood', 'rebuilding and enhancing', 'scout larue willis', 'jodhi may', 'tallulah belle willis', 'the hunger games', '2020', 'pakistan', '1995', '5.9', 'franklin lakes , new jersey', 'elizabeth perkins', 'gary oldman', 'langston hughes', 'buddy greene', 'mark lowry', '2013', 'ansh bagri', 'lower mainland in vancouver', 'm\\\\xc3\\\\xbcnchen hauptbahnhof', 'adam schlesinger', 'department of justice', 'december 30 , 1995', 'nadiya hussain', 'oprah winfrey network', 'farewell', 'stoick', 'pollo loco', 'dusty springfield', 'november 2 , 2003', 'lager', 'the miracles', 'h\\\\xc5\\\\x8dshi', 'charles , prince of wales', 'medicare part a', 'between the sun and earth', 'elmer j. fudd', 'mrs. carter', 'cartwright', 'polyribosome or polysome', '855,000 -- 2,480,000', '1920', 'stuart hamblen', 'joel tobeck', 'jennifer youngs', '15 january 1956', 'chevrolet', 'boston , massachusetts', 'alicia sanderson edwards', 'the u.s. congress', 'burt ward', 'christian peter coulson', 'san miguel de allende', 'guanajuato , mexico', 'lee hazlewood', 'july 26 , 1948', 'william thornton', 'joseph g. mccoy', 'brad william henke', 'honey', 'laura bell bundy', 'oxygen', 'ditchling beacon', 'september 25 , 2017', 'may 18 , 2018', 'rhona mitra', 'molly parker', 'bravery', 'john dimaggio', '1998', 'annie get your gun', '20 december 1803', 'kissy suzuki', 'convergent boundary', 'aliona savchenko and bruno massot', 'annapurna studios , hyderabad', '1971', 'testicles', 'every ten years', 'mount logan', 'abraham harold maslow', '1988', 'michael jordan', 'kareem abdul - jabbar', 'karl malone', 'kobe bryant', 'wilt chamberlain', 'lauren taft', '2010']\n"
          ],
          "name": "stdout"
        }
      ]
    },
    {
      "cell_type": "code",
      "metadata": {
        "id": "s9bwCXb7rmLL"
      },
      "source": [
        "not_in_dpr_idx = []\n",
        "for i in range(len(infer_answers)):\n",
        "  if not infer_answers[i] in infer_contexts[i]:\n",
        "    not_in_dpr_idx.append(i)"
      ],
      "execution_count": null,
      "outputs": []
    },
    {
      "cell_type": "code",
      "metadata": {
        "colab": {
          "base_uri": "https://localhost:8080/"
        },
        "id": "aK87XX0UrroQ",
        "outputId": "d9a4bd76-7b50-4882-a9f9-4e5cefa9842f"
      },
      "source": [
        "print(len(infer_answers), len(pred))"
      ],
      "execution_count": null,
      "outputs": [
        {
          "output_type": "stream",
          "text": [
            "10693 10693\n"
          ],
          "name": "stdout"
        }
      ]
    },
    {
      "cell_type": "code",
      "metadata": {
        "colab": {
          "base_uri": "https://localhost:8080/"
        },
        "id": "sKctBsR7rtPK",
        "outputId": "5f367a23-723d-494d-a3d1-d7fd7adadf75"
      },
      "source": [
        "print(len(not_in_dpr_idx))\n",
        "print(not_in_dpr_idx)"
      ],
      "execution_count": null,
      "outputs": [
        {
          "output_type": "stream",
          "text": [
            "3387\n",
            "[1, 5, 9, 12, 25, 26, 29, 31, 32, 36, 37, 38, 39, 43, 45, 60, 61, 62, 63, 65, 66, 67, 68, 78, 79, 80, 82, 83, 86, 90, 94, 103, 104, 106, 107, 110, 121, 122, 127, 129, 130, 131, 134, 135, 140, 141, 143, 146, 155, 156, 157, 161, 162, 164, 166, 167, 168, 170, 171, 172, 173, 174, 175, 176, 177, 180, 185, 189, 190, 191, 193, 194, 195, 196, 197, 209, 211, 216, 221, 223, 229, 232, 248, 250, 258, 260, 261, 263, 265, 269, 270, 271, 276, 277, 292, 293, 294, 300, 301, 302, 309, 311, 324, 327, 337, 338, 341, 342, 346, 351, 354, 355, 359, 363, 365, 366, 367, 368, 370, 381, 382, 383, 385, 389, 398, 399, 400, 401, 403, 404, 405, 409, 410, 411, 412, 414, 417, 418, 425, 427, 432, 433, 434, 435, 436, 437, 445, 446, 453, 471, 473, 474, 475, 476, 477, 478, 480, 481, 482, 483, 484, 485, 486, 490, 491, 501, 502, 503, 504, 511, 517, 519, 522, 523, 525, 528, 531, 532, 536, 539, 542, 546, 547, 550, 551, 553, 554, 557, 562, 567, 568, 569, 570, 571, 576, 584, 590, 591, 593, 594, 596, 598, 599, 600, 602, 603, 604, 605, 606, 609, 610, 623, 624, 627, 628, 629, 633, 638, 639, 642, 649, 660, 661, 665, 666, 669, 670, 672, 674, 675, 678, 679, 680, 681, 682, 683, 684, 685, 686, 691, 707, 717, 718, 723, 726, 730, 735, 736, 740, 747, 751, 753, 755, 763, 764, 765, 770, 780, 784, 786, 787, 790, 792, 800, 801, 803, 804, 812, 814, 815, 817, 821, 832, 834, 835, 836, 837, 844, 845, 848, 849, 851, 853, 856, 865, 869, 871, 878, 880, 883, 887, 889, 893, 895, 897, 910, 917, 919, 920, 921, 928, 930, 932, 935, 936, 940, 944, 946, 954, 957, 965, 968, 971, 972, 975, 976, 982, 983, 989, 991, 993, 994, 1002, 1003, 1004, 1007, 1009, 1010, 1011, 1012, 1015, 1016, 1019, 1030, 1031, 1032, 1033, 1037, 1041, 1043, 1046, 1049, 1050, 1051, 1052, 1053, 1054, 1055, 1056, 1057, 1066, 1070, 1072, 1076, 1080, 1081, 1082, 1083, 1084, 1085, 1092, 1099, 1102, 1105, 1106, 1107, 1109, 1114, 1124, 1125, 1126, 1134, 1138, 1144, 1156, 1163, 1164, 1165, 1166, 1167, 1179, 1184, 1186, 1189, 1193, 1204, 1206, 1207, 1208, 1216, 1218, 1220, 1222, 1224, 1225, 1228, 1231, 1239, 1242, 1243, 1247, 1262, 1272, 1273, 1274, 1275, 1276, 1277, 1280, 1282, 1284, 1286, 1292, 1295, 1302, 1303, 1304, 1305, 1308, 1309, 1311, 1312, 1314, 1316, 1320, 1322, 1325, 1326, 1328, 1335, 1341, 1342, 1343, 1344, 1345, 1348, 1349, 1350, 1351, 1366, 1369, 1370, 1373, 1374, 1376, 1382, 1386, 1387, 1388, 1392, 1394, 1400, 1401, 1402, 1404, 1405, 1407, 1416, 1417, 1419, 1425, 1430, 1431, 1434, 1440, 1443, 1444, 1445, 1446, 1458, 1459, 1462, 1468, 1469, 1474, 1475, 1476, 1477, 1478, 1482, 1484, 1488, 1497, 1498, 1501, 1502, 1503, 1504, 1506, 1509, 1510, 1518, 1519, 1521, 1524, 1526, 1535, 1537, 1538, 1540, 1550, 1552, 1553, 1554, 1555, 1556, 1557, 1558, 1559, 1560, 1563, 1567, 1570, 1572, 1574, 1583, 1584, 1585, 1586, 1589, 1591, 1599, 1603, 1606, 1610, 1611, 1612, 1613, 1614, 1615, 1616, 1617, 1619, 1625, 1627, 1628, 1630, 1632, 1635, 1638, 1650, 1651, 1652, 1653, 1659, 1667, 1677, 1678, 1679, 1685, 1686, 1687, 1692, 1694, 1697, 1699, 1700, 1715, 1730, 1732, 1733, 1735, 1736, 1737, 1739, 1742, 1747, 1749, 1751, 1752, 1753, 1759, 1764, 1772, 1774, 1775, 1777, 1783, 1787, 1789, 1792, 1793, 1795, 1799, 1802, 1803, 1806, 1807, 1809, 1811, 1812, 1813, 1814, 1815, 1816, 1818, 1820, 1825, 1830, 1836, 1839, 1841, 1842, 1852, 1854, 1861, 1862, 1864, 1866, 1876, 1878, 1879, 1880, 1883, 1884, 1888, 1891, 1892, 1896, 1905, 1913, 1914, 1918, 1921, 1922, 1923, 1924, 1927, 1929, 1939, 1940, 1946, 1948, 1952, 1954, 1955, 1956, 1957, 1958, 1973, 1976, 1982, 1984, 1993, 1996, 1997, 2000, 2002, 2006, 2007, 2012, 2013, 2015, 2017, 2019, 2020, 2028, 2031, 2033, 2034, 2037, 2038, 2042, 2045, 2046, 2048, 2049, 2052, 2060, 2067, 2074, 2088, 2089, 2091, 2092, 2101, 2102, 2103, 2113, 2117, 2121, 2125, 2126, 2130, 2131, 2132, 2134, 2136, 2140, 2144, 2149, 2151, 2152, 2153, 2156, 2158, 2160, 2162, 2170, 2175, 2179, 2188, 2197, 2198, 2200, 2201, 2202, 2203, 2204, 2206, 2207, 2211, 2212, 2214, 2215, 2216, 2224, 2228, 2230, 2233, 2234, 2238, 2240, 2241, 2243, 2244, 2247, 2249, 2263, 2268, 2274, 2277, 2278, 2279, 2280, 2283, 2284, 2285, 2286, 2287, 2290, 2292, 2293, 2302, 2303, 2304, 2305, 2306, 2308, 2311, 2313, 2315, 2318, 2319, 2320, 2321, 2325, 2326, 2327, 2329, 2337, 2338, 2339, 2341, 2345, 2347, 2353, 2356, 2361, 2362, 2363, 2364, 2374, 2377, 2379, 2380, 2382, 2386, 2387, 2390, 2398, 2399, 2400, 2403, 2404, 2408, 2409, 2411, 2419, 2420, 2421, 2427, 2429, 2430, 2431, 2432, 2434, 2435, 2439, 2444, 2445, 2451, 2453, 2454, 2455, 2458, 2460, 2464, 2467, 2469, 2472, 2474, 2476, 2479, 2482, 2483, 2485, 2487, 2492, 2493, 2495, 2496, 2499, 2503, 2512, 2514, 2516, 2520, 2529, 2535, 2543, 2544, 2545, 2548, 2549, 2550, 2551, 2553, 2554, 2556, 2558, 2559, 2560, 2562, 2564, 2566, 2571, 2573, 2581, 2584, 2586, 2589, 2590, 2591, 2593, 2599, 2608, 2609, 2612, 2616, 2617, 2618, 2619, 2623, 2624, 2625, 2628, 2629, 2630, 2631, 2632, 2634, 2635, 2646, 2647, 2648, 2649, 2650, 2651, 2652, 2656, 2659, 2660, 2661, 2662, 2664, 2667, 2671, 2675, 2683, 2685, 2689, 2691, 2694, 2699, 2705, 2706, 2711, 2713, 2735, 2738, 2742, 2745, 2748, 2749, 2754, 2756, 2757, 2758, 2759, 2767, 2768, 2779, 2780, 2785, 2786, 2791, 2793, 2796, 2799, 2804, 2807, 2808, 2811, 2812, 2813, 2814, 2816, 2823, 2825, 2827, 2837, 2838, 2839, 2840, 2841, 2842, 2843, 2844, 2852, 2853, 2855, 2857, 2863, 2864, 2865, 2866, 2869, 2877, 2884, 2887, 2888, 2889, 2890, 2896, 2898, 2899, 2906, 2907, 2908, 2909, 2910, 2911, 2912, 2913, 2914, 2915, 2921, 2925, 2928, 2930, 2935, 2938, 2939, 2940, 2941, 2942, 2943, 2949, 2950, 2953, 2954, 2955, 2961, 2965, 2969, 2971, 2972, 2985, 2987, 2988, 2990, 2992, 2993, 2995, 2997, 3003, 3004, 3005, 3007, 3012, 3013, 3019, 3021, 3024, 3025, 3028, 3029, 3030, 3031, 3033, 3036, 3038, 3039, 3040, 3044, 3045, 3046, 3048, 3049, 3050, 3051, 3053, 3055, 3057, 3058, 3060, 3066, 3071, 3075, 3081, 3086, 3088, 3090, 3092, 3107, 3110, 3114, 3123, 3127, 3129, 3134, 3141, 3150, 3158, 3160, 3162, 3163, 3174, 3180, 3183, 3185, 3186, 3187, 3193, 3200, 3203, 3204, 3205, 3210, 3215, 3216, 3218, 3220, 3232, 3244, 3245, 3247, 3249, 3252, 3254, 3256, 3257, 3259, 3263, 3265, 3266, 3267, 3268, 3271, 3272, 3274, 3275, 3276, 3278, 3280, 3281, 3286, 3288, 3289, 3293, 3296, 3297, 3298, 3304, 3305, 3308, 3310, 3314, 3316, 3317, 3319, 3323, 3326, 3329, 3333, 3335, 3343, 3346, 3347, 3351, 3352, 3353, 3355, 3357, 3358, 3360, 3370, 3371, 3374, 3376, 3377, 3378, 3379, 3382, 3385, 3388, 3390, 3392, 3394, 3396, 3401, 3402, 3404, 3413, 3415, 3416, 3418, 3424, 3426, 3428, 3439, 3440, 3442, 3447, 3450, 3453, 3455, 3458, 3459, 3463, 3468, 3483, 3484, 3485, 3488, 3492, 3493, 3494, 3497, 3503, 3504, 3506, 3511, 3512, 3514, 3521, 3522, 3525, 3528, 3534, 3535, 3541, 3545, 3546, 3547, 3548, 3549, 3551, 3552, 3553, 3554, 3570, 3571, 3572, 3573, 3577, 3581, 3582, 3584, 3592, 3594, 3597, 3612, 3619, 3623, 3627, 3628, 3629, 3630, 3632, 3636, 3637, 3638, 3640, 3642, 3645, 3647, 3648, 3649, 3651, 3654, 3655, 3667, 3671, 3672, 3673, 3674, 3676, 3680, 3682, 3686, 3689, 3690, 3694, 3696, 3697, 3703, 3705, 3715, 3716, 3717, 3723, 3726, 3727, 3728, 3729, 3730, 3731, 3732, 3733, 3736, 3738, 3739, 3742, 3754, 3755, 3758, 3759, 3761, 3764, 3766, 3768, 3771, 3772, 3773, 3777, 3781, 3782, 3784, 3787, 3805, 3806, 3808, 3809, 3812, 3818, 3823, 3826, 3828, 3833, 3839, 3840, 3843, 3845, 3856, 3858, 3859, 3860, 3861, 3863, 3865, 3874, 3883, 3887, 3888, 3889, 3893, 3894, 3902, 3903, 3907, 3908, 3909, 3912, 3913, 3917, 3919, 3920, 3924, 3925, 3926, 3928, 3931, 3935, 3936, 3937, 3940, 3952, 3953, 3954, 3957, 3966, 3971, 3977, 3980, 3981, 3988, 3990, 3996, 4000, 4004, 4005, 4011, 4012, 4014, 4015, 4016, 4020, 4021, 4022, 4023, 4024, 4027, 4028, 4033, 4040, 4041, 4042, 4043, 4045, 4050, 4051, 4057, 4063, 4064, 4065, 4066, 4067, 4068, 4069, 4070, 4071, 4076, 4079, 4083, 4084, 4087, 4088, 4090, 4098, 4106, 4107, 4119, 4120, 4121, 4123, 4127, 4128, 4138, 4139, 4140, 4151, 4158, 4161, 4164, 4165, 4166, 4168, 4171, 4172, 4179, 4188, 4189, 4192, 4197, 4200, 4207, 4208, 4209, 4211, 4218, 4222, 4225, 4226, 4227, 4229, 4236, 4247, 4252, 4260, 4262, 4263, 4265, 4268, 4269, 4271, 4281, 4282, 4283, 4292, 4294, 4295, 4297, 4298, 4300, 4311, 4313, 4314, 4315, 4316, 4318, 4319, 4327, 4328, 4331, 4332, 4333, 4334, 4340, 4341, 4350, 4355, 4358, 4370, 4375, 4378, 4379, 4385, 4390, 4393, 4396, 4399, 4402, 4405, 4408, 4418, 4424, 4426, 4428, 4429, 4430, 4431, 4436, 4441, 4442, 4448, 4458, 4459, 4462, 4465, 4469, 4479, 4480, 4485, 4494, 4495, 4513, 4515, 4518, 4523, 4525, 4529, 4535, 4536, 4543, 4555, 4556, 4560, 4570, 4571, 4572, 4575, 4593, 4595, 4609, 4617, 4619, 4622, 4623, 4624, 4626, 4646, 4647, 4648, 4651, 4652, 4653, 4654, 4656, 4661, 4662, 4663, 4665, 4666, 4677, 4682, 4686, 4691, 4692, 4698, 4699, 4701, 4704, 4706, 4707, 4708, 4712, 4714, 4719, 4720, 4733, 4741, 4742, 4748, 4750, 4751, 4754, 4758, 4762, 4765, 4766, 4768, 4770, 4775, 4777, 4779, 4783, 4784, 4787, 4793, 4799, 4801, 4808, 4815, 4823, 4826, 4827, 4828, 4842, 4847, 4848, 4849, 4854, 4858, 4861, 4865, 4866, 4867, 4874, 4875, 4879, 4884, 4886, 4887, 4892, 4893, 4894, 4906, 4907, 4908, 4911, 4912, 4913, 4914, 4915, 4916, 4917, 4918, 4922, 4923, 4924, 4925, 4926, 4930, 4932, 4934, 4935, 4936, 4937, 4945, 4947, 4949, 4950, 4952, 4953, 4954, 4957, 4960, 4961, 4962, 4964, 4966, 4967, 4970, 4971, 4972, 4974, 4975, 4977, 4979, 4980, 4982, 4983, 4984, 4985, 4986, 4987, 4990, 4991, 4995, 4996, 4999, 5002, 5006, 5008, 5010, 5013, 5015, 5016, 5020, 5022, 5023, 5025, 5026, 5027, 5030, 5031, 5035, 5036, 5040, 5045, 5049, 5060, 5061, 5066, 5067, 5068, 5070, 5072, 5073, 5076, 5078, 5083, 5091, 5093, 5095, 5100, 5101, 5102, 5118, 5120, 5122, 5124, 5126, 5130, 5135, 5138, 5142, 5143, 5144, 5153, 5156, 5157, 5158, 5159, 5160, 5161, 5162, 5163, 5167, 5171, 5174, 5177, 5183, 5184, 5186, 5187, 5189, 5190, 5192, 5193, 5195, 5198, 5200, 5201, 5202, 5206, 5209, 5210, 5211, 5218, 5220, 5221, 5222, 5223, 5231, 5232, 5234, 5235, 5236, 5237, 5238, 5240, 5241, 5247, 5252, 5256, 5257, 5259, 5262, 5273, 5278, 5279, 5282, 5287, 5290, 5291, 5296, 5297, 5302, 5303, 5306, 5320, 5322, 5324, 5328, 5329, 5332, 5335, 5342, 5343, 5348, 5349, 5351, 5357, 5359, 5360, 5361, 5365, 5367, 5369, 5370, 5382, 5384, 5385, 5387, 5388, 5393, 5394, 5395, 5401, 5405, 5412, 5414, 5415, 5419, 5420, 5421, 5428, 5431, 5440, 5441, 5444, 5447, 5450, 5451, 5452, 5453, 5455, 5457, 5458, 5467, 5469, 5484, 5487, 5491, 5495, 5496, 5497, 5499, 5502, 5504, 5506, 5519, 5527, 5535, 5541, 5552, 5554, 5556, 5561, 5565, 5567, 5568, 5571, 5573, 5580, 5582, 5590, 5596, 5600, 5608, 5612, 5613, 5616, 5617, 5619, 5620, 5621, 5624, 5627, 5629, 5633, 5634, 5635, 5641, 5647, 5648, 5650, 5663, 5666, 5669, 5673, 5685, 5688, 5689, 5690, 5691, 5692, 5698, 5699, 5701, 5704, 5709, 5713, 5716, 5727, 5728, 5729, 5734, 5736, 5741, 5743, 5748, 5757, 5758, 5762, 5772, 5774, 5779, 5781, 5782, 5791, 5797, 5802, 5803, 5805, 5806, 5808, 5815, 5822, 5823, 5829, 5830, 5831, 5836, 5839, 5847, 5860, 5861, 5862, 5863, 5864, 5870, 5871, 5877, 5878, 5880, 5881, 5888, 5891, 5893, 5894, 5899, 5901, 5902, 5905, 5913, 5914, 5915, 5916, 5917, 5919, 5922, 5926, 5929, 5934, 5936, 5939, 5941, 5943, 5944, 5946, 5949, 5952, 5964, 5972, 5974, 5975, 5977, 5978, 5983, 5990, 5991, 5996, 6001, 6010, 6024, 6025, 6027, 6029, 6048, 6051, 6052, 6054, 6057, 6058, 6064, 6066, 6067, 6070, 6075, 6081, 6085, 6088, 6090, 6091, 6096, 6104, 6105, 6106, 6107, 6110, 6117, 6120, 6122, 6132, 6137, 6140, 6149, 6150, 6152, 6153, 6160, 6163, 6170, 6174, 6178, 6179, 6182, 6184, 6192, 6193, 6194, 6200, 6201, 6204, 6214, 6215, 6216, 6222, 6225, 6228, 6230, 6238, 6242, 6249, 6250, 6251, 6254, 6255, 6256, 6257, 6258, 6259, 6263, 6265, 6266, 6269, 6277, 6279, 6282, 6286, 6287, 6291, 6299, 6300, 6301, 6307, 6308, 6322, 6328, 6337, 6338, 6343, 6344, 6345, 6347, 6348, 6350, 6354, 6356, 6357, 6358, 6360, 6365, 6366, 6369, 6373, 6383, 6384, 6385, 6386, 6392, 6393, 6394, 6395, 6399, 6400, 6403, 6412, 6415, 6416, 6417, 6421, 6425, 6429, 6432, 6433, 6434, 6436, 6437, 6438, 6439, 6440, 6441, 6442, 6443, 6444, 6449, 6450, 6453, 6461, 6465, 6467, 6468, 6469, 6471, 6472, 6474, 6475, 6476, 6477, 6478, 6480, 6482, 6483, 6492, 6493, 6494, 6501, 6503, 6507, 6516, 6522, 6525, 6528, 6536, 6537, 6539, 6544, 6546, 6548, 6549, 6553, 6556, 6558, 6560, 6561, 6563, 6570, 6573, 6581, 6583, 6585, 6589, 6590, 6594, 6595, 6598, 6599, 6601, 6603, 6608, 6609, 6612, 6615, 6617, 6618, 6619, 6620, 6621, 6622, 6623, 6624, 6632, 6634, 6635, 6636, 6637, 6638, 6639, 6640, 6642, 6646, 6653, 6654, 6655, 6657, 6658, 6660, 6663, 6665, 6666, 6672, 6674, 6675, 6678, 6681, 6683, 6689, 6691, 6694, 6695, 6697, 6698, 6699, 6706, 6707, 6708, 6710, 6711, 6726, 6728, 6731, 6734, 6743, 6744, 6745, 6747, 6751, 6761, 6764, 6772, 6774, 6775, 6781, 6790, 6793, 6798, 6799, 6800, 6802, 6811, 6812, 6815, 6819, 6820, 6823, 6825, 6826, 6829, 6830, 6831, 6834, 6835, 6839, 6840, 6846, 6847, 6850, 6857, 6866, 6867, 6868, 6874, 6877, 6885, 6887, 6890, 6896, 6899, 6902, 6916, 6920, 6922, 6923, 6925, 6932, 6934, 6936, 6938, 6944, 6945, 6949, 6952, 6959, 6961, 6962, 6963, 6964, 6965, 6966, 6978, 6980, 6982, 6985, 6991, 6995, 7000, 7004, 7008, 7009, 7011, 7015, 7024, 7030, 7031, 7032, 7033, 7034, 7039, 7042, 7044, 7052, 7055, 7056, 7058, 7060, 7061, 7062, 7066, 7067, 7068, 7070, 7071, 7073, 7076, 7078, 7083, 7084, 7086, 7088, 7089, 7098, 7110, 7112, 7113, 7115, 7117, 7118, 7128, 7129, 7131, 7132, 7135, 7137, 7142, 7144, 7145, 7146, 7150, 7151, 7154, 7156, 7161, 7162, 7165, 7166, 7170, 7171, 7172, 7174, 7175, 7176, 7179, 7184, 7185, 7189, 7190, 7198, 7199, 7201, 7202, 7207, 7216, 7229, 7230, 7246, 7250, 7256, 7257, 7259, 7260, 7261, 7262, 7266, 7267, 7270, 7276, 7278, 7283, 7284, 7290, 7291, 7293, 7297, 7305, 7312, 7313, 7314, 7317, 7322, 7323, 7324, 7325, 7330, 7337, 7339, 7340, 7350, 7358, 7359, 7362, 7365, 7366, 7367, 7370, 7373, 7381, 7387, 7388, 7389, 7390, 7391, 7402, 7403, 7405, 7410, 7428, 7429, 7430, 7435, 7437, 7438, 7439, 7446, 7452, 7453, 7455, 7456, 7465, 7473, 7482, 7489, 7490, 7491, 7497, 7499, 7500, 7501, 7504, 7509, 7516, 7523, 7526, 7528, 7529, 7530, 7534, 7535, 7539, 7542, 7543, 7544, 7547, 7551, 7556, 7557, 7558, 7570, 7572, 7579, 7587, 7588, 7589, 7590, 7591, 7600, 7607, 7610, 7612, 7615, 7616, 7617, 7622, 7623, 7626, 7627, 7628, 7631, 7636, 7638, 7642, 7644, 7645, 7646, 7647, 7649, 7658, 7659, 7660, 7661, 7667, 7668, 7670, 7671, 7674, 7680, 7686, 7690, 7696, 7713, 7714, 7720, 7724, 7726, 7730, 7731, 7732, 7733, 7739, 7744, 7745, 7751, 7753, 7758, 7759, 7760, 7762, 7763, 7766, 7767, 7770, 7774, 7781, 7785, 7789, 7791, 7794, 7795, 7800, 7804, 7807, 7809, 7811, 7812, 7816, 7819, 7822, 7829, 7831, 7832, 7833, 7834, 7835, 7853, 7855, 7858, 7862, 7864, 7865, 7874, 7876, 7878, 7881, 7889, 7899, 7907, 7909, 7911, 7912, 7913, 7914, 7915, 7917, 7929, 7930, 7935, 7937, 7938, 7943, 7946, 7950, 7952, 7957, 7959, 7961, 7963, 7964, 7965, 7966, 7967, 7971, 7972, 7973, 7974, 7975, 7976, 7978, 7983, 7986, 7988, 7992, 7993, 7994, 7997, 8001, 8002, 8008, 8013, 8019, 8022, 8023, 8027, 8033, 8040, 8050, 8051, 8053, 8058, 8061, 8062, 8063, 8064, 8070, 8077, 8080, 8085, 8087, 8088, 8089, 8090, 8091, 8092, 8093, 8100, 8101, 8112, 8115, 8116, 8118, 8123, 8126, 8130, 8131, 8132, 8134, 8136, 8137, 8138, 8139, 8140, 8141, 8142, 8143, 8144, 8145, 8146, 8148, 8149, 8153, 8159, 8162, 8169, 8170, 8172, 8173, 8175, 8180, 8188, 8193, 8196, 8198, 8209, 8219, 8225, 8231, 8232, 8236, 8237, 8240, 8242, 8247, 8253, 8256, 8257, 8259, 8261, 8262, 8263, 8264, 8267, 8268, 8269, 8271, 8274, 8279, 8280, 8281, 8283, 8286, 8288, 8291, 8295, 8297, 8300, 8301, 8303, 8311, 8312, 8314, 8317, 8319, 8320, 8322, 8326, 8327, 8328, 8329, 8336, 8337, 8348, 8352, 8354, 8360, 8369, 8379, 8381, 8382, 8383, 8388, 8395, 8399, 8400, 8403, 8408, 8411, 8412, 8413, 8414, 8415, 8416, 8417, 8424, 8430, 8443, 8451, 8453, 8455, 8456, 8466, 8468, 8472, 8475, 8477, 8478, 8479, 8481, 8484, 8485, 8487, 8498, 8499, 8500, 8501, 8503, 8504, 8505, 8516, 8519, 8520, 8521, 8522, 8523, 8529, 8534, 8536, 8537, 8538, 8539, 8540, 8541, 8554, 8561, 8562, 8570, 8573, 8575, 8579, 8582, 8590, 8592, 8594, 8597, 8599, 8600, 8602, 8603, 8605, 8611, 8618, 8619, 8620, 8622, 8623, 8628, 8631, 8637, 8639, 8640, 8643, 8650, 8665, 8667, 8669, 8671, 8672, 8673, 8675, 8680, 8681, 8682, 8685, 8686, 8687, 8689, 8691, 8694, 8696, 8697, 8699, 8700, 8701, 8706, 8711, 8716, 8717, 8719, 8721, 8722, 8726, 8729, 8730, 8732, 8742, 8743, 8744, 8749, 8759, 8762, 8763, 8765, 8767, 8769, 8784, 8787, 8792, 8793, 8794, 8796, 8797, 8805, 8807, 8808, 8811, 8812, 8817, 8821, 8823, 8825, 8826, 8828, 8829, 8833, 8836, 8838, 8843, 8845, 8849, 8851, 8854, 8855, 8857, 8859, 8861, 8864, 8865, 8866, 8867, 8868, 8869, 8875, 8876, 8878, 8879, 8885, 8894, 8895, 8896, 8897, 8898, 8902, 8903, 8908, 8913, 8935, 8937, 8939, 8940, 8947, 8949, 8951, 8957, 8960, 8962, 8963, 8964, 8968, 8972, 8982, 8990, 8991, 8995, 9000, 9001, 9002, 9003, 9006, 9008, 9010, 9014, 9019, 9021, 9022, 9024, 9026, 9038, 9039, 9040, 9041, 9042, 9055, 9056, 9063, 9064, 9065, 9066, 9067, 9068, 9069, 9071, 9076, 9084, 9088, 9102, 9104, 9105, 9109, 9111, 9112, 9119, 9120, 9121, 9123, 9127, 9128, 9131, 9135, 9136, 9138, 9139, 9142, 9145, 9148, 9152, 9159, 9163, 9164, 9167, 9170, 9174, 9176, 9177, 9182, 9183, 9188, 9193, 9202, 9205, 9207, 9208, 9210, 9211, 9212, 9213, 9219, 9220, 9224, 9226, 9227, 9228, 9229, 9236, 9237, 9241, 9242, 9248, 9250, 9253, 9254, 9255, 9257, 9258, 9260, 9263, 9264, 9270, 9272, 9275, 9277, 9278, 9290, 9294, 9295, 9296, 9298, 9299, 9300, 9303, 9311, 9312, 9315, 9316, 9319, 9323, 9324, 9327, 9338, 9339, 9340, 9343, 9344, 9356, 9360, 9362, 9363, 9364, 9365, 9366, 9368, 9372, 9376, 9379, 9380, 9381, 9382, 9383, 9390, 9391, 9393, 9394, 9395, 9397, 9402, 9407, 9409, 9418, 9427, 9428, 9429, 9434, 9436, 9437, 9442, 9445, 9448, 9455, 9457, 9459, 9460, 9467, 9473, 9474, 9475, 9478, 9489, 9491, 9493, 9495, 9501, 9502, 9503, 9505, 9516, 9520, 9522, 9523, 9526, 9532, 9535, 9536, 9544, 9546, 9547, 9551, 9552, 9553, 9557, 9558, 9563, 9567, 9573, 9574, 9577, 9590, 9591, 9594, 9605, 9606, 9607, 9608, 9609, 9617, 9623, 9624, 9625, 9627, 9642, 9643, 9644, 9645, 9649, 9650, 9651, 9653, 9657, 9661, 9662, 9665, 9670, 9678, 9682, 9683, 9684, 9686, 9688, 9691, 9694, 9698, 9701, 9705, 9706, 9713, 9716, 9717, 9720, 9722, 9725, 9728, 9730, 9731, 9734, 9735, 9742, 9744, 9753, 9755, 9756, 9757, 9768, 9770, 9775, 9776, 9778, 9781, 9786, 9795, 9797, 9803, 9807, 9808, 9816, 9817, 9824, 9825, 9826, 9827, 9835, 9836, 9840, 9841, 9842, 9843, 9844, 9846, 9853, 9856, 9875, 9876, 9879, 9888, 9891, 9899, 9903, 9905, 9906, 9909, 9910, 9913, 9914, 9915, 9916, 9928, 9931, 9932, 9933, 9937, 9945, 9948, 9952, 9955, 9956, 9957, 9965, 9966, 9968, 9975, 9981, 9982, 9985, 9986, 9989, 9990, 9991, 9992, 9993, 9999, 10004, 10005, 10009, 10010, 10012, 10018, 10021, 10024, 10031, 10039, 10040, 10041, 10042, 10043, 10049, 10054, 10056, 10057, 10060, 10062, 10063, 10071, 10076, 10087, 10093, 10099, 10104, 10112, 10114, 10118, 10121, 10127, 10135, 10137, 10140, 10142, 10144, 10145, 10146, 10148, 10149, 10162, 10165, 10167, 10171, 10176, 10179, 10181, 10186, 10193, 10202, 10205, 10207, 10209, 10214, 10219, 10220, 10224, 10227, 10228, 10234, 10236, 10238, 10244, 10245, 10246, 10248, 10253, 10254, 10256, 10260, 10265, 10266, 10271, 10272, 10273, 10275, 10276, 10277, 10278, 10279, 10280, 10281, 10284, 10285, 10288, 10289, 10292, 10297, 10298, 10299, 10300, 10301, 10307, 10308, 10325, 10330, 10336, 10337, 10340, 10346, 10351, 10353, 10354, 10360, 10361, 10365, 10366, 10379, 10384, 10385, 10387, 10388, 10389, 10390, 10391, 10394, 10404, 10407, 10409, 10410, 10411, 10415, 10421, 10423, 10429, 10430, 10431, 10434, 10435, 10453, 10457, 10460, 10472, 10473, 10475, 10476, 10479, 10482, 10483, 10484, 10487, 10492, 10499, 10503, 10505, 10506, 10507, 10508, 10509, 10510, 10511, 10512, 10514, 10517, 10519, 10527, 10531, 10533, 10534, 10535, 10541, 10547, 10549, 10555, 10556, 10558, 10562, 10565, 10566, 10570, 10571, 10572, 10573, 10575, 10576, 10585, 10595, 10596, 10602, 10603, 10605, 10606, 10607, 10608, 10613, 10621, 10623, 10626, 10631, 10636, 10639, 10640, 10641, 10643, 10644, 10645, 10647, 10653, 10661, 10664, 10669, 10670, 10671, 10675, 10676, 10684, 10692]\n"
          ],
          "name": "stdout"
        }
      ]
    },
    {
      "cell_type": "code",
      "metadata": {
        "colab": {
          "base_uri": "https://localhost:8080/"
        },
        "id": "w5EpxyLgrumj",
        "outputId": "eb8e96f7-eff6-46b0-fcce-2a798d26ae90"
      },
      "source": [
        "cd /content/unifiedqa/bart"
      ],
      "execution_count": null,
      "outputs": [
        {
          "output_type": "stream",
          "text": [
            "/content/unifiedqa/bart\n"
          ],
          "name": "stdout"
        }
      ]
    },
    {
      "cell_type": "code",
      "metadata": {
        "id": "_3qx-bGfrwgV"
      },
      "source": [
        "def store_file(out_dir, arr):\n",
        "  with open(out_dir, 'w') as f:\n",
        "    f.write(\"\\n\".join(str(arr[i]) for i in range(len(arr))))"
      ],
      "execution_count": null,
      "outputs": []
    },
    {
      "cell_type": "code",
      "metadata": {
        "id": "fu5woBYDrx4q"
      },
      "source": [
        "store_file(\"pred.txt\", pred)"
      ],
      "execution_count": null,
      "outputs": []
    },
    {
      "cell_type": "code",
      "metadata": {
        "colab": {
          "base_uri": "https://localhost:8080/"
        },
        "id": "gA-0WNNerzIH",
        "outputId": "5820e511-a46e-4bed-b3fb-1d3bf0a4f4a6"
      },
      "source": [
        "cnt_special_char = 0\n",
        "for i in range(len(infer_answers)):\n",
        "  infer_answers[i] = infer_answers[i].replace(' \\\\\\'\\\\\\'', ' \\'\\'')   # double quotation\n",
        "  infer_answers[i] = infer_answers[i].replace('\\\\\\'', '\\'')\n",
        "  infer_answers[i] = infer_answers[i].replace(' \\'s', '\\'s')    # 's\n",
        "  infer_answers[i] = infer_answers[i].replace(' ,', ',')        # comma\n",
        "  if '\\\\' in infer_answers[i]:\n",
        "    cnt_special_char += 1\n",
        "    #print(f\"{i}  {infer_answers[i]}      {pred[i]}\")\n",
        "print(cnt_special_char)"
      ],
      "execution_count": null,
      "outputs": [
        {
          "output_type": "stream",
          "text": [
            "120\n"
          ],
          "name": "stdout"
        }
      ]
    },
    {
      "cell_type": "code",
      "metadata": {
        "id": "G_9ii_Pkr1xg"
      },
      "source": [
        "store_file(\"infer_ans.txt\", infer_answers)"
      ],
      "execution_count": null,
      "outputs": []
    },
    {
      "cell_type": "code",
      "metadata": {
        "id": "8Fpe_Rpir3t8"
      },
      "source": [
        "cp infer_ans.txt /content/drive/MyDrive"
      ],
      "execution_count": null,
      "outputs": []
    },
    {
      "cell_type": "code",
      "metadata": {
        "colab": {
          "base_uri": "https://localhost:8080/"
        },
        "id": "0cAcYrtSr48D",
        "outputId": "b0f35ecd-e983-4fc2-bdba-f777632172b2"
      },
      "source": [
        "is_correct = 0.0\n",
        "for i in range(len(infer_answers)):\n",
        "  if infer_answers[i] == pred[i]:\n",
        "    #print(pred[i], i)\n",
        "    is_correct += 1\n",
        "\n",
        "print(is_correct / len(infer_answers))"
      ],
      "execution_count": null,
      "outputs": [
        {
          "output_type": "stream",
          "text": [
            "0.31684279435144486\n"
          ],
          "name": "stdout"
        }
      ]
    },
    {
      "cell_type": "code",
      "metadata": {
        "colab": {
          "base_uri": "https://localhost:8080/"
        },
        "id": "i1UFBZCZr6PO",
        "outputId": "dd8c3e8c-8680-4ed7-8730-8cee3615fae0"
      },
      "source": [
        "print(is_correct / (len(infer_answers) - cnt_special_char))"
      ],
      "execution_count": null,
      "outputs": [
        {
          "output_type": "stream",
          "text": [
            "0.32043885368391184\n"
          ],
          "name": "stdout"
        }
      ]
    },
    {
      "cell_type": "code",
      "metadata": {
        "id": "AhHLJfdDr7hQ"
      },
      "source": [
        "with open(\"error.txt\", \"w\") as f:\n",
        "  for i in range(len(infer_answers)):\n",
        "    if infer_answers[i] != pred[i]:\n",
        "      f.write(f\"{i}: {infer_answers[i]:30s}{pred[i]}\\n\")"
      ],
      "execution_count": null,
      "outputs": []
    },
    {
      "cell_type": "code",
      "metadata": {
        "id": "1S_uV_mmr9Cf"
      },
      "source": [
        "cp error.txt /content/drive/MyDrive"
      ],
      "execution_count": null,
      "outputs": []
    },
    {
      "cell_type": "code",
      "metadata": {
        "id": "CJT1r1obr9_F"
      },
      "source": [
        ""
      ],
      "execution_count": null,
      "outputs": []
    }
  ]
}